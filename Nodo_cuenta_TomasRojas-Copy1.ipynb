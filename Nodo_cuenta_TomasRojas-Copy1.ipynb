{
 "cells": [
  {
   "cell_type": "markdown",
   "id": "e91bcc78",
   "metadata": {},
   "source": [
    "# PREDICCIÓN CHURN POR NODO"
   ]
  },
  {
   "cell_type": "markdown",
   "id": "89f3700b",
   "metadata": {},
   "source": [
    "## CONTENIDO\n",
    "\n",
    "* Carga de librerías\n",
    " * Configuraciones ambiente de trabajo\n",
    "* "
   ]
  },
  {
   "cell_type": "markdown",
   "id": "a8a599dd",
   "metadata": {},
   "source": [
    "## Carga de librerías"
   ]
  },
  {
   "cell_type": "code",
   "execution_count": 2,
   "id": "75643d93",
   "metadata": {},
   "outputs": [
    {
     "name": "stdout",
     "output_type": "stream",
     "text": [
      "1.0.1\n"
     ]
    }
   ],
   "source": [
    "import sklearn as sk\n",
    "print(sk.__version__)"
   ]
  },
  {
   "cell_type": "code",
   "execution_count": 3,
   "id": "effc6d15",
   "metadata": {},
   "outputs": [],
   "source": [
    "import pandas as pd\n",
    "import numpy as np\n",
    "import seaborn as sns\n",
    "from pmdarima.arima import auto_arima\n",
    "from dateutil.relativedelta import relativedelta\n",
    "import matplotlib.pyplot as plt\n",
    "from sklearn.metrics import mean_absolute_percentage_error,  mean_squared_error\n",
    "from statsmodels.tsa.holtwinters import SimpleExpSmoothing, Holt,ExponentialSmoothing\n",
    "from statsmodels.tsa.exponential_smoothing.ets import ETSModel\n",
    "import statsmodels.api as sm\n"
   ]
  },
  {
   "cell_type": "code",
   "execution_count": 4,
   "id": "bb84e316",
   "metadata": {},
   "outputs": [
    {
     "name": "stdout",
     "output_type": "stream",
     "text": [
      "3.9.0 (default, Nov 15 2020, 08:30:55) [MSC v.1916 64 bit (AMD64)]\n"
     ]
    }
   ],
   "source": [
    "import sys\n",
    "print(sys.version)"
   ]
  },
  {
   "cell_type": "markdown",
   "id": "0dfec037",
   "metadata": {},
   "source": [
    "### Configuraciones ambiente de trabajo"
   ]
  },
  {
   "cell_type": "code",
   "execution_count": 5,
   "id": "a7670fe4",
   "metadata": {},
   "outputs": [
    {
     "data": {
      "text/html": [
       "<style>.container { width:99% !important; }</style>"
      ],
      "text/plain": [
       "<IPython.core.display.HTML object>"
      ]
     },
     "metadata": {},
     "output_type": "display_data"
    }
   ],
   "source": [
    "import warnings\n",
    "warnings.filterwarnings('ignore')\n",
    "pd.set_option(\"display.max_columns\", None)\n",
    "#pd.set_option('display.max_rows', 100)\n",
    "pd.set_option('display.float_format', lambda x: '%.3f' % x)\n",
    "np.set_printoptions(suppress=True)\n",
    "from IPython.core.display import display, HTML\n",
    "display(HTML(\"<style>.container { width:99% !important; }</style>\"))"
   ]
  },
  {
   "cell_type": "code",
   "execution_count": 152,
   "id": "f592a67b",
   "metadata": {},
   "outputs": [],
   "source": [
    "TablaMarClient= pd.read_csv(f'Contact_Cuenta.csv',sep=';')"
   ]
  },
  {
   "cell_type": "code",
   "execution_count": 153,
   "id": "e7584d24",
   "metadata": {},
   "outputs": [
    {
     "data": {
      "text/html": [
       "<div>\n",
       "<style scoped>\n",
       "    .dataframe tbody tr th:only-of-type {\n",
       "        vertical-align: middle;\n",
       "    }\n",
       "\n",
       "    .dataframe tbody tr th {\n",
       "        vertical-align: top;\n",
       "    }\n",
       "\n",
       "    .dataframe thead th {\n",
       "        text-align: right;\n",
       "    }\n",
       "</style>\n",
       "<table border=\"1\" class=\"dataframe\">\n",
       "  <thead>\n",
       "    <tr style=\"text-align: right;\">\n",
       "      <th></th>\n",
       "      <th>REGIONAL</th>\n",
       "      <th>Distrito</th>\n",
       "      <th>NODO</th>\n",
       "      <th>MARCACIONES</th>\n",
       "      <th>CLIENTES</th>\n",
       "      <th>CONTACT</th>\n",
       "      <th>MES</th>\n",
       "      <th>ANIO</th>\n",
       "      <th>DIA</th>\n",
       "      <th>FECHA1</th>\n",
       "      <th>FECHA</th>\n",
       "    </tr>\n",
       "  </thead>\n",
       "  <tbody>\n",
       "    <tr>\n",
       "      <th>0</th>\n",
       "      <td>REGION CENTRO</td>\n",
       "      <td>SUBAZAR</td>\n",
       "      <td>10</td>\n",
       "      <td>4.000</td>\n",
       "      <td>86</td>\n",
       "      <td>4.651</td>\n",
       "      <td>1</td>\n",
       "      <td>2020</td>\n",
       "      <td>1</td>\n",
       "      <td>1/01/2020</td>\n",
       "      <td>2020-01-01</td>\n",
       "    </tr>\n",
       "    <tr>\n",
       "      <th>1</th>\n",
       "      <td>REGION CENTRO</td>\n",
       "      <td>BOLIVIA</td>\n",
       "      <td>11</td>\n",
       "      <td>3.000</td>\n",
       "      <td>75</td>\n",
       "      <td>4.000</td>\n",
       "      <td>1</td>\n",
       "      <td>2020</td>\n",
       "      <td>1</td>\n",
       "      <td>1/01/2020</td>\n",
       "      <td>2020-01-01</td>\n",
       "    </tr>\n",
       "  </tbody>\n",
       "</table>\n",
       "</div>"
      ],
      "text/plain": [
       "        REGIONAL Distrito NODO  MARCACIONES  CLIENTES   CONTACT  MES  ANIO  \\\n",
       "0  REGION CENTRO  SUBAZAR   10        4.000         86    4.651    1  2020   \n",
       "1  REGION CENTRO  BOLIVIA   11        3.000         75    4.000    1  2020   \n",
       "\n",
       "   DIA     FECHA1       FECHA  \n",
       "0    1  1/01/2020  2020-01-01  \n",
       "1    1  1/01/2020  2020-01-01  "
      ]
     },
     "execution_count": 153,
     "metadata": {},
     "output_type": "execute_result"
    }
   ],
   "source": [
    "TablaMarClient.head(2)"
   ]
  },
  {
   "cell_type": "code",
   "execution_count": 154,
   "id": "31e0c39c",
   "metadata": {},
   "outputs": [
    {
     "data": {
      "text/plain": [
       "321874"
      ]
     },
     "execution_count": 154,
     "metadata": {},
     "output_type": "execute_result"
    }
   ],
   "source": [
    "len(TablaMarClient)"
   ]
  },
  {
   "cell_type": "code",
   "execution_count": 155,
   "id": "df362e65",
   "metadata": {},
   "outputs": [],
   "source": [
    "#carga de los datos\n",
    "#encoding='ISO-8859-1'\n",
    "TablaChurn=pd.read_csv(f'Churn_Cuenta.csv',sep=';',decimal='.')"
   ]
  },
  {
   "cell_type": "code",
   "execution_count": 156,
   "id": "f2b4d5f1",
   "metadata": {},
   "outputs": [
    {
     "data": {
      "text/plain": [
       "321874"
      ]
     },
     "execution_count": 156,
     "metadata": {},
     "output_type": "execute_result"
    }
   ],
   "source": [
    "len(TablaChurn)"
   ]
  },
  {
   "cell_type": "code",
   "execution_count": 157,
   "id": "ae9bf8d8",
   "metadata": {},
   "outputs": [
    {
     "data": {
      "text/html": [
       "<div>\n",
       "<style scoped>\n",
       "    .dataframe tbody tr th:only-of-type {\n",
       "        vertical-align: middle;\n",
       "    }\n",
       "\n",
       "    .dataframe tbody tr th {\n",
       "        vertical-align: top;\n",
       "    }\n",
       "\n",
       "    .dataframe thead th {\n",
       "        text-align: right;\n",
       "    }\n",
       "</style>\n",
       "<table border=\"1\" class=\"dataframe\">\n",
       "  <thead>\n",
       "    <tr style=\"text-align: right;\">\n",
       "      <th></th>\n",
       "      <th>Regional</th>\n",
       "      <th>E_distrito</th>\n",
       "      <th>Nodo</th>\n",
       "      <th>Fecha</th>\n",
       "      <th>Value</th>\n",
       "      <th>fecha2</th>\n",
       "    </tr>\n",
       "  </thead>\n",
       "  <tbody>\n",
       "    <tr>\n",
       "      <th>0</th>\n",
       "      <td>REGION CENTRO</td>\n",
       "      <td>SUBAZAR</td>\n",
       "      <td>10</td>\n",
       "      <td>1/01/2020</td>\n",
       "      <td>0.000</td>\n",
       "      <td>2020-01-01</td>\n",
       "    </tr>\n",
       "    <tr>\n",
       "      <th>1</th>\n",
       "      <td>REGION CENTRO</td>\n",
       "      <td>BOLIVIA</td>\n",
       "      <td>11</td>\n",
       "      <td>1/01/2020</td>\n",
       "      <td>0.000</td>\n",
       "      <td>2020-01-01</td>\n",
       "    </tr>\n",
       "    <tr>\n",
       "      <th>2</th>\n",
       "      <td>REGION CENTRO</td>\n",
       "      <td>BOLIVIA</td>\n",
       "      <td>12</td>\n",
       "      <td>1/01/2020</td>\n",
       "      <td>0.000</td>\n",
       "      <td>2020-01-01</td>\n",
       "    </tr>\n",
       "  </tbody>\n",
       "</table>\n",
       "</div>"
      ],
      "text/plain": [
       "        Regional E_distrito Nodo      Fecha  Value      fecha2\n",
       "0  REGION CENTRO    SUBAZAR   10  1/01/2020  0.000  2020-01-01\n",
       "1  REGION CENTRO    BOLIVIA   11  1/01/2020  0.000  2020-01-01\n",
       "2  REGION CENTRO    BOLIVIA   12  1/01/2020  0.000  2020-01-01"
      ]
     },
     "execution_count": 157,
     "metadata": {},
     "output_type": "execute_result"
    }
   ],
   "source": [
    "TablaChurn.head(3)"
   ]
  },
  {
   "cell_type": "code",
   "execution_count": 158,
   "id": "476b2598",
   "metadata": {},
   "outputs": [],
   "source": [
    "TablaFinal=TablaChurn.merge(TablaMarClient,left_on=['Nodo','fecha2'],right_on=['NODO','FECHA'], how='left')"
   ]
  },
  {
   "cell_type": "code",
   "execution_count": 159,
   "id": "a5d09f80",
   "metadata": {},
   "outputs": [
    {
     "data": {
      "text/html": [
       "<div>\n",
       "<style scoped>\n",
       "    .dataframe tbody tr th:only-of-type {\n",
       "        vertical-align: middle;\n",
       "    }\n",
       "\n",
       "    .dataframe tbody tr th {\n",
       "        vertical-align: top;\n",
       "    }\n",
       "\n",
       "    .dataframe thead th {\n",
       "        text-align: right;\n",
       "    }\n",
       "</style>\n",
       "<table border=\"1\" class=\"dataframe\">\n",
       "  <thead>\n",
       "    <tr style=\"text-align: right;\">\n",
       "      <th></th>\n",
       "      <th>Regional</th>\n",
       "      <th>E_distrito</th>\n",
       "      <th>Nodo</th>\n",
       "      <th>Fecha</th>\n",
       "      <th>Value</th>\n",
       "      <th>fecha2</th>\n",
       "      <th>REGIONAL</th>\n",
       "      <th>Distrito</th>\n",
       "      <th>NODO</th>\n",
       "      <th>MARCACIONES</th>\n",
       "      <th>CLIENTES</th>\n",
       "      <th>CONTACT</th>\n",
       "      <th>MES</th>\n",
       "      <th>ANIO</th>\n",
       "      <th>DIA</th>\n",
       "      <th>FECHA1</th>\n",
       "      <th>FECHA</th>\n",
       "    </tr>\n",
       "  </thead>\n",
       "  <tbody>\n",
       "  </tbody>\n",
       "</table>\n",
       "</div>"
      ],
      "text/plain": [
       "Empty DataFrame\n",
       "Columns: [Regional, E_distrito, Nodo, Fecha, Value, fecha2, REGIONAL, Distrito, NODO, MARCACIONES, CLIENTES , CONTACT, MES, ANIO, DIA, FECHA1, FECHA]\n",
       "Index: []"
      ]
     },
     "execution_count": 159,
     "metadata": {},
     "output_type": "execute_result"
    }
   ],
   "source": [
    "TablaFinal[TablaFinal['NODO'].isnull()].head(10)"
   ]
  },
  {
   "cell_type": "code",
   "execution_count": 160,
   "id": "76f6bac3",
   "metadata": {},
   "outputs": [],
   "source": [
    "Reg_Churn_NoenContact=TablaFinal[TablaFinal['NODO'].isnull()]\n",
    "Reg_Churn_NoenContact.to_csv('Reg_Churn_NoenContact.csv')"
   ]
  },
  {
   "cell_type": "code",
   "execution_count": 161,
   "id": "cdc3c11f",
   "metadata": {},
   "outputs": [
    {
     "data": {
      "text/plain": [
       "321874"
      ]
     },
     "execution_count": 161,
     "metadata": {},
     "output_type": "execute_result"
    }
   ],
   "source": [
    "len(TablaFinal)"
   ]
  },
  {
   "cell_type": "code",
   "execution_count": 162,
   "id": "5917f708",
   "metadata": {},
   "outputs": [],
   "source": [
    "TablaFinal.drop(columns=['Fecha','ANIO','MES','DIA','FECHA1','FECHA','NODO','REGIONAL','Distrito',], inplace=True)"
   ]
  },
  {
   "cell_type": "code",
   "execution_count": 163,
   "id": "5e14b415",
   "metadata": {},
   "outputs": [
    {
     "data": {
      "text/html": [
       "<div>\n",
       "<style scoped>\n",
       "    .dataframe tbody tr th:only-of-type {\n",
       "        vertical-align: middle;\n",
       "    }\n",
       "\n",
       "    .dataframe tbody tr th {\n",
       "        vertical-align: top;\n",
       "    }\n",
       "\n",
       "    .dataframe thead th {\n",
       "        text-align: right;\n",
       "    }\n",
       "</style>\n",
       "<table border=\"1\" class=\"dataframe\">\n",
       "  <thead>\n",
       "    <tr style=\"text-align: right;\">\n",
       "      <th></th>\n",
       "      <th>Regional</th>\n",
       "      <th>E_distrito</th>\n",
       "      <th>Nodo</th>\n",
       "      <th>Value</th>\n",
       "      <th>fecha2</th>\n",
       "      <th>MARCACIONES</th>\n",
       "      <th>CLIENTES</th>\n",
       "      <th>CONTACT</th>\n",
       "    </tr>\n",
       "  </thead>\n",
       "  <tbody>\n",
       "    <tr>\n",
       "      <th>17175</th>\n",
       "      <td>REGION NOROCCIDENTE</td>\n",
       "      <td>METROPOLITANA ENVIGADO</td>\n",
       "      <td>AY4</td>\n",
       "      <td>0.000</td>\n",
       "      <td>2020-02-01</td>\n",
       "      <td>1.000</td>\n",
       "      <td>31</td>\n",
       "      <td>3.226</td>\n",
       "    </tr>\n",
       "    <tr>\n",
       "      <th>154108</th>\n",
       "      <td>REGION COSTA</td>\n",
       "      <td>BARRANQUILLA 2 DISTRITO 2</td>\n",
       "      <td>OAS</td>\n",
       "      <td>-0.699</td>\n",
       "      <td>2020-12-01</td>\n",
       "      <td>7.000</td>\n",
       "      <td>143</td>\n",
       "      <td>4.895</td>\n",
       "    </tr>\n",
       "    <tr>\n",
       "      <th>19492</th>\n",
       "      <td>REGION CENTRO</td>\n",
       "      <td>FACATATIVA</td>\n",
       "      <td>F3A</td>\n",
       "      <td>0.000</td>\n",
       "      <td>2020-02-01</td>\n",
       "      <td>27.000</td>\n",
       "      <td>387</td>\n",
       "      <td>6.977</td>\n",
       "    </tr>\n",
       "    <tr>\n",
       "      <th>184623</th>\n",
       "      <td>REGION OCCIDENTE</td>\n",
       "      <td>NARINO 4</td>\n",
       "      <td>VTZ</td>\n",
       "      <td>-0.593</td>\n",
       "      <td>2021-02-01</td>\n",
       "      <td>10.000</td>\n",
       "      <td>337</td>\n",
       "      <td>2.967</td>\n",
       "    </tr>\n",
       "    <tr>\n",
       "      <th>43605</th>\n",
       "      <td>REGION ORIENTE</td>\n",
       "      <td>PIEDECUESTA</td>\n",
       "      <td>BGG</td>\n",
       "      <td>0.000</td>\n",
       "      <td>2020-04-01</td>\n",
       "      <td>5.000</td>\n",
       "      <td>84</td>\n",
       "      <td>5.952</td>\n",
       "    </tr>\n",
       "    <tr>\n",
       "      <th>91432</th>\n",
       "      <td>REGION ORIENTE</td>\n",
       "      <td>ACACIAS NORTE</td>\n",
       "      <td>YAC</td>\n",
       "      <td>0.000</td>\n",
       "      <td>2020-07-01</td>\n",
       "      <td>12.000</td>\n",
       "      <td>121</td>\n",
       "      <td>9.917</td>\n",
       "    </tr>\n",
       "    <tr>\n",
       "      <th>295264</th>\n",
       "      <td>REGION CENTRO</td>\n",
       "      <td>JAVERIANA</td>\n",
       "      <td>2CA11M</td>\n",
       "      <td>0.000</td>\n",
       "      <td>2021-11-01</td>\n",
       "      <td>2.000</td>\n",
       "      <td>22</td>\n",
       "      <td>9.091</td>\n",
       "    </tr>\n",
       "    <tr>\n",
       "      <th>118903</th>\n",
       "      <td>REGION CENTRO</td>\n",
       "      <td>LAGO</td>\n",
       "      <td>2C2031</td>\n",
       "      <td>-2.362</td>\n",
       "      <td>2020-10-01</td>\n",
       "      <td>7.000</td>\n",
       "      <td>127</td>\n",
       "      <td>5.512</td>\n",
       "    </tr>\n",
       "    <tr>\n",
       "      <th>125701</th>\n",
       "      <td>REGION CENTRO</td>\n",
       "      <td>FERROCARRIL</td>\n",
       "      <td>JAC</td>\n",
       "      <td>-1.754</td>\n",
       "      <td>2020-10-01</td>\n",
       "      <td>28.000</td>\n",
       "      <td>342</td>\n",
       "      <td>8.187</td>\n",
       "    </tr>\n",
       "    <tr>\n",
       "      <th>2687</th>\n",
       "      <td>REGION CENTRO</td>\n",
       "      <td>CEDRITOS</td>\n",
       "      <td>5AE024</td>\n",
       "      <td>0.000</td>\n",
       "      <td>2020-01-01</td>\n",
       "      <td>8.000</td>\n",
       "      <td>116</td>\n",
       "      <td>6.897</td>\n",
       "    </tr>\n",
       "  </tbody>\n",
       "</table>\n",
       "</div>"
      ],
      "text/plain": [
       "                   Regional                 E_distrito    Nodo  Value  \\\n",
       "17175   REGION NOROCCIDENTE     METROPOLITANA ENVIGADO     AY4  0.000   \n",
       "154108         REGION COSTA  BARRANQUILLA 2 DISTRITO 2     OAS -0.699   \n",
       "19492         REGION CENTRO                 FACATATIVA     F3A  0.000   \n",
       "184623     REGION OCCIDENTE                   NARINO 4     VTZ -0.593   \n",
       "43605        REGION ORIENTE                PIEDECUESTA     BGG  0.000   \n",
       "91432        REGION ORIENTE              ACACIAS NORTE     YAC  0.000   \n",
       "295264        REGION CENTRO                  JAVERIANA  2CA11M  0.000   \n",
       "118903        REGION CENTRO                       LAGO  2C2031 -2.362   \n",
       "125701        REGION CENTRO                FERROCARRIL     JAC -1.754   \n",
       "2687          REGION CENTRO                   CEDRITOS  5AE024  0.000   \n",
       "\n",
       "            fecha2  MARCACIONES  CLIENTES   CONTACT  \n",
       "17175   2020-02-01        1.000         31    3.226  \n",
       "154108  2020-12-01        7.000        143    4.895  \n",
       "19492   2020-02-01       27.000        387    6.977  \n",
       "184623  2021-02-01       10.000        337    2.967  \n",
       "43605   2020-04-01        5.000         84    5.952  \n",
       "91432   2020-07-01       12.000        121    9.917  \n",
       "295264  2021-11-01        2.000         22    9.091  \n",
       "118903  2020-10-01        7.000        127    5.512  \n",
       "125701  2020-10-01       28.000        342    8.187  \n",
       "2687    2020-01-01        8.000        116    6.897  "
      ]
     },
     "execution_count": 163,
     "metadata": {},
     "output_type": "execute_result"
    }
   ],
   "source": [
    "TablaFinal.sample(10)"
   ]
  },
  {
   "cell_type": "code",
   "execution_count": 164,
   "id": "ff3a93a9",
   "metadata": {},
   "outputs": [],
   "source": [
    "# colocar la fecha como index\n",
    "TablaFinal.set_index('fecha2',inplace=True)"
   ]
  },
  {
   "cell_type": "code",
   "execution_count": 165,
   "id": "29934aa0",
   "metadata": {},
   "outputs": [],
   "source": [
    "TablaFinal.index=pd.to_datetime(TablaFinal.index)"
   ]
  },
  {
   "cell_type": "code",
   "execution_count": 166,
   "id": "0133068f",
   "metadata": {},
   "outputs": [],
   "source": [
    "TablaFinal['MARCACIONES'].fillna(0,inplace=True)"
   ]
  },
  {
   "cell_type": "code",
   "execution_count": 21,
   "id": "6f713563",
   "metadata": {},
   "outputs": [],
   "source": [
    "#TablaFinal['Value'].fillna(0,inplace=True)"
   ]
  },
  {
   "cell_type": "code",
   "execution_count": 22,
   "id": "dd84a0fc",
   "metadata": {},
   "outputs": [],
   "source": [
    "#Inicio de validación "
   ]
  },
  {
   "cell_type": "markdown",
   "id": "94d7376e",
   "metadata": {},
   "source": [
    "#### Identificación y corrección de positivos"
   ]
  },
  {
   "cell_type": "code",
   "execution_count": 167,
   "id": "a18ef1bc",
   "metadata": {},
   "outputs": [],
   "source": [
    "TablaFinal['pos']=np.where(TablaFinal['Value']>0,1,0)"
   ]
  },
  {
   "cell_type": "code",
   "execution_count": 168,
   "id": "b5758518",
   "metadata": {},
   "outputs": [
    {
     "data": {
      "text/plain": [
       "count   321874.000\n",
       "mean        -1.045\n",
       "std          2.152\n",
       "min       -600.000\n",
       "25%         -1.596\n",
       "50%         -0.676\n",
       "75%          0.000\n",
       "max          0.000\n",
       "Name: Value, dtype: float64"
      ]
     },
     "execution_count": 168,
     "metadata": {},
     "output_type": "execute_result"
    }
   ],
   "source": [
    "TablaFinal['Value'].describe()"
   ]
  },
  {
   "cell_type": "code",
   "execution_count": 25,
   "id": "fe5f377b",
   "metadata": {},
   "outputs": [],
   "source": [
    "#TablaFinalC['CONTACT'].describe()"
   ]
  },
  {
   "cell_type": "code",
   "execution_count": 26,
   "id": "bd83df64",
   "metadata": {},
   "outputs": [],
   "source": [
    "#TablaFinal[TablaFinal['pos']==1].sample(5)"
   ]
  },
  {
   "cell_type": "code",
   "execution_count": 169,
   "id": "6db4a788",
   "metadata": {},
   "outputs": [
    {
     "data": {
      "text/plain": [
       "0   1.000\n",
       "Name: pos, dtype: float64"
      ]
     },
     "execution_count": 169,
     "metadata": {},
     "output_type": "execute_result"
    }
   ],
   "source": [
    "#num reg con positivos\n",
    "TablaFinal['pos'].value_counts()/len(TablaFinal)"
   ]
  },
  {
   "cell_type": "code",
   "execution_count": 28,
   "id": "003c663c",
   "metadata": {},
   "outputs": [],
   "source": [
    "#TablaFinal[TablaFinal['pos']==1]['Nodo'].nunique()"
   ]
  },
  {
   "cell_type": "code",
   "execution_count": 29,
   "id": "ebe71b0c",
   "metadata": {},
   "outputs": [],
   "source": [
    "#Reemplazar positivos por cero\n",
    "#TablaFinal['Value']=np.where(TablaFinal['Value']>0,0,TablaFinal['Value'])"
   ]
  },
  {
   "cell_type": "markdown",
   "id": "574fce93",
   "metadata": {},
   "source": [
    "## Construcción de Maestro Nodos"
   ]
  },
  {
   "cell_type": "code",
   "execution_count": 170,
   "id": "04d88704",
   "metadata": {},
   "outputs": [],
   "source": [
    "maestroNodo=TablaFinal[['Nodo','E_distrito','Regional']]"
   ]
  },
  {
   "cell_type": "code",
   "execution_count": 171,
   "id": "504870ef",
   "metadata": {},
   "outputs": [],
   "source": [
    "# sorting by first name\n",
    "maestroNodo.sort_index(ascending=True, inplace = True)\n",
    " \n",
    "# dropping ALL duplicate values\n",
    "maestroNodo.drop_duplicates(subset =[\"Nodo\"], keep = 'last', inplace = True)"
   ]
  },
  {
   "cell_type": "code",
   "execution_count": 172,
   "id": "a4efd404",
   "metadata": {},
   "outputs": [
    {
     "data": {
      "text/html": [
       "<div>\n",
       "<style scoped>\n",
       "    .dataframe tbody tr th:only-of-type {\n",
       "        vertical-align: middle;\n",
       "    }\n",
       "\n",
       "    .dataframe tbody tr th {\n",
       "        vertical-align: top;\n",
       "    }\n",
       "\n",
       "    .dataframe thead th {\n",
       "        text-align: right;\n",
       "    }\n",
       "</style>\n",
       "<table border=\"1\" class=\"dataframe\">\n",
       "  <thead>\n",
       "    <tr style=\"text-align: right;\">\n",
       "      <th></th>\n",
       "      <th>Nodo</th>\n",
       "      <th>E_distrito</th>\n",
       "      <th>Regional</th>\n",
       "    </tr>\n",
       "    <tr>\n",
       "      <th>fecha2</th>\n",
       "      <th></th>\n",
       "      <th></th>\n",
       "      <th></th>\n",
       "    </tr>\n",
       "  </thead>\n",
       "  <tbody>\n",
       "    <tr>\n",
       "      <th>2020-01-01</th>\n",
       "      <td>PDV</td>\n",
       "      <td>PEREIRA5</td>\n",
       "      <td>REGION NOROCCIDENTE</td>\n",
       "    </tr>\n",
       "    <tr>\n",
       "      <th>2020-02-01</th>\n",
       "      <td>AS34A</td>\n",
       "      <td>NaN</td>\n",
       "      <td>NaN</td>\n",
       "    </tr>\n",
       "    <tr>\n",
       "      <th>2020-03-01</th>\n",
       "      <td>IAB</td>\n",
       "      <td>NaN</td>\n",
       "      <td>NaN</td>\n",
       "    </tr>\n",
       "  </tbody>\n",
       "</table>\n",
       "</div>"
      ],
      "text/plain": [
       "             Nodo E_distrito             Regional\n",
       "fecha2                                           \n",
       "2020-01-01    PDV   PEREIRA5  REGION NOROCCIDENTE\n",
       "2020-02-01  AS34A        NaN                  NaN\n",
       "2020-03-01    IAB        NaN                  NaN"
      ]
     },
     "execution_count": 172,
     "metadata": {},
     "output_type": "execute_result"
    }
   ],
   "source": [
    "maestroNodo.head(3)"
   ]
  },
  {
   "cell_type": "code",
   "execution_count": 33,
   "id": "12c8477d",
   "metadata": {},
   "outputs": [
    {
     "data": {
      "text/html": [
       "<div>\n",
       "<style scoped>\n",
       "    .dataframe tbody tr th:only-of-type {\n",
       "        vertical-align: middle;\n",
       "    }\n",
       "\n",
       "    .dataframe tbody tr th {\n",
       "        vertical-align: top;\n",
       "    }\n",
       "\n",
       "    .dataframe thead th {\n",
       "        text-align: right;\n",
       "    }\n",
       "</style>\n",
       "<table border=\"1\" class=\"dataframe\">\n",
       "  <thead>\n",
       "    <tr style=\"text-align: right;\">\n",
       "      <th></th>\n",
       "      <th>Nodo</th>\n",
       "      <th>E_distrito</th>\n",
       "      <th>Regional</th>\n",
       "    </tr>\n",
       "    <tr>\n",
       "      <th>fecha2</th>\n",
       "      <th></th>\n",
       "      <th></th>\n",
       "      <th></th>\n",
       "    </tr>\n",
       "  </thead>\n",
       "  <tbody>\n",
       "    <tr>\n",
       "      <th>2021-12-01</th>\n",
       "      <td>0C1</td>\n",
       "      <td>CALI NORTE DISTRITO 4</td>\n",
       "      <td>REGION OCCIDENTE</td>\n",
       "    </tr>\n",
       "  </tbody>\n",
       "</table>\n",
       "</div>"
      ],
      "text/plain": [
       "           Nodo             E_distrito          Regional\n",
       "fecha2                                                  \n",
       "2021-12-01  0C1  CALI NORTE DISTRITO 4  REGION OCCIDENTE"
      ]
     },
     "execution_count": 33,
     "metadata": {},
     "output_type": "execute_result"
    }
   ],
   "source": [
    "maestroNodo[maestroNodo['Nodo']=='0C1']"
   ]
  },
  {
   "cell_type": "markdown",
   "id": "393b8d1f",
   "metadata": {},
   "source": [
    "##  Separación Entrenamiento y testing"
   ]
  },
  {
   "cell_type": "code",
   "execution_count": 173,
   "id": "9cee4bcf",
   "metadata": {},
   "outputs": [
    {
     "data": {
      "text/plain": [
       "Timestamp('2021-12-01 00:00:00')"
      ]
     },
     "execution_count": 173,
     "metadata": {},
     "output_type": "execute_result"
    }
   ],
   "source": [
    "fechaMaxima=max(TablaFinal.index)\n",
    "fechaMaxima"
   ]
  },
  {
   "cell_type": "code",
   "execution_count": 174,
   "id": "ee2414c7",
   "metadata": {},
   "outputs": [
    {
     "data": {
      "text/plain": [
       "Timestamp('2021-09-01 00:00:00')"
      ]
     },
     "execution_count": 174,
     "metadata": {},
     "output_type": "execute_result"
    }
   ],
   "source": [
    "TablaFinal.index.unique()[-4]"
   ]
  },
  {
   "cell_type": "code",
   "execution_count": 175,
   "id": "ab610439",
   "metadata": {},
   "outputs": [],
   "source": [
    "fechaTrain=TablaFinal.index.unique()[-4]\n",
    "fechaTest=TablaFinal.index.unique()[-3]"
   ]
  },
  {
   "cell_type": "code",
   "execution_count": 176,
   "id": "94e2c647",
   "metadata": {},
   "outputs": [
    {
     "name": "stdout",
     "output_type": "stream",
     "text": [
      "2021-09-01 00:00:00 2021-10-01 00:00:00\n"
     ]
    }
   ],
   "source": [
    "print (fechaTrain,fechaTest)"
   ]
  },
  {
   "cell_type": "markdown",
   "id": "d4987e63",
   "metadata": {},
   "source": [
    "## Seleccion de Nodos\n",
    "* Nodos con información en los últimos 3 meses\n",
    "* Nodos con más de 7 registros (por entrenamiento y pruebas)"
   ]
  },
  {
   "cell_type": "code",
   "execution_count": 177,
   "id": "b98d0f35",
   "metadata": {},
   "outputs": [
    {
     "data": {
      "text/plain": [
       "163881"
      ]
     },
     "execution_count": 177,
     "metadata": {},
     "output_type": "execute_result"
    }
   ],
   "source": [
    "len(TablaFinal[TablaFinal.index>='2021-01-01'])"
   ]
  },
  {
   "cell_type": "code",
   "execution_count": 178,
   "id": "07096219",
   "metadata": {},
   "outputs": [],
   "source": [
    "# Nodos con información en los últimos 3 meses\n",
    "Resumen=TablaFinal[TablaFinal.index>='2021-01-01'].reset_index()[['fecha2','Nodo']].groupby('Nodo').agg(['max','count'])"
   ]
  },
  {
   "cell_type": "code",
   "execution_count": 179,
   "id": "b4872b05",
   "metadata": {
    "scrolled": true
   },
   "outputs": [
    {
     "data": {
      "text/html": [
       "<div>\n",
       "<style scoped>\n",
       "    .dataframe tbody tr th:only-of-type {\n",
       "        vertical-align: middle;\n",
       "    }\n",
       "\n",
       "    .dataframe tbody tr th {\n",
       "        vertical-align: top;\n",
       "    }\n",
       "\n",
       "    .dataframe thead tr th {\n",
       "        text-align: left;\n",
       "    }\n",
       "\n",
       "    .dataframe thead tr:last-of-type th {\n",
       "        text-align: right;\n",
       "    }\n",
       "</style>\n",
       "<table border=\"1\" class=\"dataframe\">\n",
       "  <thead>\n",
       "    <tr>\n",
       "      <th></th>\n",
       "      <th colspan=\"2\" halign=\"left\">fecha2</th>\n",
       "    </tr>\n",
       "    <tr>\n",
       "      <th></th>\n",
       "      <th>max</th>\n",
       "      <th>count</th>\n",
       "    </tr>\n",
       "    <tr>\n",
       "      <th>Nodo</th>\n",
       "      <th></th>\n",
       "      <th></th>\n",
       "    </tr>\n",
       "  </thead>\n",
       "  <tbody>\n",
       "    <tr>\n",
       "      <th>01J</th>\n",
       "      <td>2021-12-01</td>\n",
       "      <td>12</td>\n",
       "    </tr>\n",
       "    <tr>\n",
       "      <th>01S</th>\n",
       "      <td>2021-12-01</td>\n",
       "      <td>12</td>\n",
       "    </tr>\n",
       "  </tbody>\n",
       "</table>\n",
       "</div>"
      ],
      "text/plain": [
       "         fecha2      \n",
       "            max count\n",
       "Nodo                 \n",
       "01J  2021-12-01    12\n",
       "01S  2021-12-01    12"
      ]
     },
     "execution_count": 179,
     "metadata": {},
     "output_type": "execute_result"
    }
   ],
   "source": [
    "Resumen.head(2)"
   ]
  },
  {
   "cell_type": "code",
   "execution_count": 180,
   "id": "59ce42ce",
   "metadata": {},
   "outputs": [],
   "source": [
    "Resumen.columns = Resumen.columns.droplevel(0)"
   ]
  },
  {
   "cell_type": "code",
   "execution_count": 181,
   "id": "28b9f410",
   "metadata": {},
   "outputs": [
    {
     "data": {
      "text/plain": [
       "2021-12-01    13812\n",
       "2021-11-01       20\n",
       "2021-01-01       19\n",
       "2021-09-01       12\n",
       "2021-08-01        5\n",
       "2021-04-01        5\n",
       "2021-07-01        3\n",
       "2021-06-01        3\n",
       "2021-02-01        3\n",
       "2021-05-01        2\n",
       "2021-10-01        1\n",
       "Name: max, dtype: int64"
      ]
     },
     "execution_count": 181,
     "metadata": {},
     "output_type": "execute_result"
    }
   ],
   "source": [
    "Resumen['max'].value_counts()"
   ]
  },
  {
   "cell_type": "code",
   "execution_count": 182,
   "id": "69eb58e0",
   "metadata": {},
   "outputs": [],
   "source": [
    "Resumen['sel']=np.where(Resumen['max']<=fechaTest,'sinInfoReciente','nodoValido')"
   ]
  },
  {
   "cell_type": "code",
   "execution_count": 183,
   "id": "ab20e870",
   "metadata": {},
   "outputs": [
    {
     "data": {
      "text/plain": [
       "nodoValido         13832\n",
       "sinInfoReciente       53\n",
       "Name: sel, dtype: int64"
      ]
     },
     "execution_count": 183,
     "metadata": {},
     "output_type": "execute_result"
    }
   ],
   "source": [
    "Resumen['sel'].value_counts()"
   ]
  },
  {
   "cell_type": "code",
   "execution_count": 45,
   "id": "db52781c",
   "metadata": {},
   "outputs": [],
   "source": [
    "# Nodos con más de 7 registros (por entrenamiento y pruebas)"
   ]
  },
  {
   "cell_type": "code",
   "execution_count": 184,
   "id": "91404463",
   "metadata": {},
   "outputs": [
    {
     "data": {
      "text/plain": [
       "12    13402\n",
       "8       145\n",
       "1        60\n",
       "2        49\n",
       "9        48\n",
       "7        48\n",
       "10       35\n",
       "11       29\n",
       "5        25\n",
       "4        18\n",
       "3        17\n",
       "6         9\n",
       "Name: count, dtype: int64"
      ]
     },
     "execution_count": 184,
     "metadata": {},
     "output_type": "execute_result"
    }
   ],
   "source": [
    "Resumen['count'].value_counts()"
   ]
  },
  {
   "cell_type": "code",
   "execution_count": 185,
   "id": "383cd818",
   "metadata": {},
   "outputs": [],
   "source": [
    "Resumen['sel']=np.where(Resumen['sel']=='nodoValido', np.where(Resumen['count']<7,'sinRegSuf','nodoValido'),Resumen['sel'])"
   ]
  },
  {
   "cell_type": "code",
   "execution_count": 186,
   "id": "c8f14d52",
   "metadata": {},
   "outputs": [
    {
     "data": {
      "text/plain": [
       "nodoValido         13695\n",
       "sinRegSuf            137\n",
       "sinInfoReciente       53\n",
       "Name: sel, dtype: int64"
      ]
     },
     "execution_count": 186,
     "metadata": {},
     "output_type": "execute_result"
    }
   ],
   "source": [
    "Resumen['sel'].value_counts()"
   ]
  },
  {
   "cell_type": "code",
   "execution_count": 187,
   "id": "49917ae1",
   "metadata": {},
   "outputs": [],
   "source": [
    "def pieChart(col):\n",
    "    A = col.value_counts()\n",
    "    indices = A.index\n",
    "    plt.pie(A, labels=indices, autopct=\"%0.1f %%\")\n",
    "    plt.axis(\"equal\")\n",
    "    plt.show()    "
   ]
  },
  {
   "cell_type": "code",
   "execution_count": 188,
   "id": "6d6f8e1d",
   "metadata": {},
   "outputs": [
    {
     "data": {
      "image/png": "[encoded data removed]",
      "text/plain": [
       "<Figure size 432x288 with 1 Axes>"
      ]
     },
     "metadata": {},
     "output_type": "display_data"
    }
   ],
   "source": [
    "pieChart(Resumen['sel'])"
   ]
  },
  {
   "cell_type": "code",
   "execution_count": 189,
   "id": "f5ea2dca",
   "metadata": {},
   "outputs": [
    {
     "data": {
      "text/html": [
       "<div>\n",
       "<style scoped>\n",
       "    .dataframe tbody tr th:only-of-type {\n",
       "        vertical-align: middle;\n",
       "    }\n",
       "\n",
       "    .dataframe tbody tr th {\n",
       "        vertical-align: top;\n",
       "    }\n",
       "\n",
       "    .dataframe thead th {\n",
       "        text-align: right;\n",
       "    }\n",
       "</style>\n",
       "<table border=\"1\" class=\"dataframe\">\n",
       "  <thead>\n",
       "    <tr style=\"text-align: right;\">\n",
       "      <th></th>\n",
       "      <th>max</th>\n",
       "      <th>count</th>\n",
       "      <th>sel</th>\n",
       "    </tr>\n",
       "    <tr>\n",
       "      <th>Nodo</th>\n",
       "      <th></th>\n",
       "      <th></th>\n",
       "      <th></th>\n",
       "    </tr>\n",
       "  </thead>\n",
       "  <tbody>\n",
       "    <tr>\n",
       "      <th>01J</th>\n",
       "      <td>2021-12-01</td>\n",
       "      <td>12</td>\n",
       "      <td>nodoValido</td>\n",
       "    </tr>\n",
       "    <tr>\n",
       "      <th>01S</th>\n",
       "      <td>2021-12-01</td>\n",
       "      <td>12</td>\n",
       "      <td>nodoValido</td>\n",
       "    </tr>\n",
       "    <tr>\n",
       "      <th>02J</th>\n",
       "      <td>2021-12-01</td>\n",
       "      <td>12</td>\n",
       "      <td>nodoValido</td>\n",
       "    </tr>\n",
       "    <tr>\n",
       "      <th>02S</th>\n",
       "      <td>2021-12-01</td>\n",
       "      <td>12</td>\n",
       "      <td>nodoValido</td>\n",
       "    </tr>\n",
       "    <tr>\n",
       "      <th>03J</th>\n",
       "      <td>2021-12-01</td>\n",
       "      <td>12</td>\n",
       "      <td>nodoValido</td>\n",
       "    </tr>\n",
       "  </tbody>\n",
       "</table>\n",
       "</div>"
      ],
      "text/plain": [
       "            max  count         sel\n",
       "Nodo                              \n",
       "01J  2021-12-01     12  nodoValido\n",
       "01S  2021-12-01     12  nodoValido\n",
       "02J  2021-12-01     12  nodoValido\n",
       "02S  2021-12-01     12  nodoValido\n",
       "03J  2021-12-01     12  nodoValido"
      ]
     },
     "execution_count": 189,
     "metadata": {},
     "output_type": "execute_result"
    }
   ],
   "source": [
    "Resumen.head()"
   ]
  },
  {
   "cell_type": "code",
   "execution_count": 190,
   "id": "4449eef3",
   "metadata": {},
   "outputs": [],
   "source": [
    "TablaFinal=TablaFinal.merge(Resumen['sel'], left_on='Nodo', right_index=True,how='left')"
   ]
  },
  {
   "cell_type": "code",
   "execution_count": 191,
   "id": "9ffb8a02",
   "metadata": {},
   "outputs": [
    {
     "data": {
      "text/html": [
       "<div>\n",
       "<style scoped>\n",
       "    .dataframe tbody tr th:only-of-type {\n",
       "        vertical-align: middle;\n",
       "    }\n",
       "\n",
       "    .dataframe tbody tr th {\n",
       "        vertical-align: top;\n",
       "    }\n",
       "\n",
       "    .dataframe thead th {\n",
       "        text-align: right;\n",
       "    }\n",
       "</style>\n",
       "<table border=\"1\" class=\"dataframe\">\n",
       "  <thead>\n",
       "    <tr style=\"text-align: right;\">\n",
       "      <th></th>\n",
       "      <th>Regional</th>\n",
       "      <th>E_distrito</th>\n",
       "      <th>Nodo</th>\n",
       "      <th>Value</th>\n",
       "      <th>MARCACIONES</th>\n",
       "      <th>CLIENTES</th>\n",
       "      <th>CONTACT</th>\n",
       "      <th>pos</th>\n",
       "      <th>sel</th>\n",
       "    </tr>\n",
       "    <tr>\n",
       "      <th>fecha2</th>\n",
       "      <th></th>\n",
       "      <th></th>\n",
       "      <th></th>\n",
       "      <th></th>\n",
       "      <th></th>\n",
       "      <th></th>\n",
       "      <th></th>\n",
       "      <th></th>\n",
       "      <th></th>\n",
       "    </tr>\n",
       "  </thead>\n",
       "  <tbody>\n",
       "    <tr>\n",
       "      <th>2020-01-01</th>\n",
       "      <td>REGION CENTRO</td>\n",
       "      <td>SUBAZAR</td>\n",
       "      <td>10</td>\n",
       "      <td>0.000</td>\n",
       "      <td>4.000</td>\n",
       "      <td>86</td>\n",
       "      <td>4.651</td>\n",
       "      <td>0</td>\n",
       "      <td>nodoValido</td>\n",
       "    </tr>\n",
       "    <tr>\n",
       "      <th>2020-01-01</th>\n",
       "      <td>REGION CENTRO</td>\n",
       "      <td>BOLIVIA</td>\n",
       "      <td>11</td>\n",
       "      <td>0.000</td>\n",
       "      <td>3.000</td>\n",
       "      <td>75</td>\n",
       "      <td>4.000</td>\n",
       "      <td>0</td>\n",
       "      <td>nodoValido</td>\n",
       "    </tr>\n",
       "    <tr>\n",
       "      <th>2020-01-01</th>\n",
       "      <td>REGION CENTRO</td>\n",
       "      <td>BOLIVIA</td>\n",
       "      <td>12</td>\n",
       "      <td>0.000</td>\n",
       "      <td>16.000</td>\n",
       "      <td>310</td>\n",
       "      <td>5.161</td>\n",
       "      <td>0</td>\n",
       "      <td>nodoValido</td>\n",
       "    </tr>\n",
       "    <tr>\n",
       "      <th>2020-01-01</th>\n",
       "      <td>REGION CENTRO</td>\n",
       "      <td>IMPERIAL</td>\n",
       "      <td>13</td>\n",
       "      <td>0.000</td>\n",
       "      <td>15.000</td>\n",
       "      <td>269</td>\n",
       "      <td>5.576</td>\n",
       "      <td>0</td>\n",
       "      <td>nodoValido</td>\n",
       "    </tr>\n",
       "    <tr>\n",
       "      <th>2020-01-01</th>\n",
       "      <td>REGION CENTRO</td>\n",
       "      <td>CASTILLA</td>\n",
       "      <td>14</td>\n",
       "      <td>0.000</td>\n",
       "      <td>37.000</td>\n",
       "      <td>523</td>\n",
       "      <td>7.075</td>\n",
       "      <td>0</td>\n",
       "      <td>nodoValido</td>\n",
       "    </tr>\n",
       "  </tbody>\n",
       "</table>\n",
       "</div>"
      ],
      "text/plain": [
       "                 Regional E_distrito Nodo  Value  MARCACIONES  CLIENTES   \\\n",
       "fecha2                                                                     \n",
       "2020-01-01  REGION CENTRO    SUBAZAR   10  0.000        4.000         86   \n",
       "2020-01-01  REGION CENTRO    BOLIVIA   11  0.000        3.000         75   \n",
       "2020-01-01  REGION CENTRO    BOLIVIA   12  0.000       16.000        310   \n",
       "2020-01-01  REGION CENTRO   IMPERIAL   13  0.000       15.000        269   \n",
       "2020-01-01  REGION CENTRO   CASTILLA   14  0.000       37.000        523   \n",
       "\n",
       "            CONTACT  pos         sel  \n",
       "fecha2                                \n",
       "2020-01-01    4.651    0  nodoValido  \n",
       "2020-01-01    4.000    0  nodoValido  \n",
       "2020-01-01    5.161    0  nodoValido  \n",
       "2020-01-01    5.576    0  nodoValido  \n",
       "2020-01-01    7.075    0  nodoValido  "
      ]
     },
     "execution_count": 191,
     "metadata": {},
     "output_type": "execute_result"
    }
   ],
   "source": [
    "TablaFinal.head()"
   ]
  },
  {
   "cell_type": "code",
   "execution_count": 192,
   "id": "6079b80d",
   "metadata": {},
   "outputs": [
    {
     "data": {
      "text/plain": [
       "94"
      ]
     },
     "execution_count": 192,
     "metadata": {},
     "output_type": "execute_result"
    }
   ],
   "source": [
    "TablaFinal['sel'].isnull().sum()"
   ]
  },
  {
   "cell_type": "code",
   "execution_count": 193,
   "id": "2f93ba5f",
   "metadata": {},
   "outputs": [],
   "source": [
    "TablaFinal['sel'].fillna('SinInfo2021',inplace=True)"
   ]
  },
  {
   "cell_type": "code",
   "execution_count": 194,
   "id": "0038d12b",
   "metadata": {},
   "outputs": [],
   "source": [
    "# guardar registros de nodos no considerados\n",
    "TablaFinal[TablaFinal['sel']!='nodoValido'].to_csv('NodosNoConsiderados.csv',sep=';')"
   ]
  },
  {
   "cell_type": "code",
   "execution_count": 195,
   "id": "ac3e95f4",
   "metadata": {},
   "outputs": [
    {
     "data": {
      "image/png": "[encoded data removed]",
      "text/plain": [
       "<Figure size 432x288 with 1 Axes>"
      ]
     },
     "metadata": {},
     "output_type": "display_data"
    }
   ],
   "source": [
    "pieChart(TablaFinal['sel'])"
   ]
  },
  {
   "cell_type": "code",
   "execution_count": 196,
   "id": "a95bea6c",
   "metadata": {},
   "outputs": [],
   "source": [
    "TablaFinal=TablaFinal[TablaFinal['sel']=='nodoValido']"
   ]
  },
  {
   "cell_type": "code",
   "execution_count": 197,
   "id": "6b42d156",
   "metadata": {},
   "outputs": [
    {
     "data": {
      "text/plain": [
       "0.4234670189793941"
      ]
     },
     "execution_count": 197,
     "metadata": {},
     "output_type": "execute_result"
    }
   ],
   "source": [
    "len(TablaFinal[TablaFinal['Value']==0])/len(TablaFinal)"
   ]
  },
  {
   "cell_type": "code",
   "execution_count": 198,
   "id": "9a4e6b63",
   "metadata": {},
   "outputs": [],
   "source": [
    "TablaTrain=TablaFinal[TablaFinal.index <= fechaTrain]\n",
    "TablaTest=TablaFinal[TablaFinal.index >= fechaTest]"
   ]
  },
  {
   "cell_type": "markdown",
   "id": "b76ad1a4",
   "metadata": {},
   "source": [
    "### Indices Entrenamiento"
   ]
  },
  {
   "cell_type": "code",
   "execution_count": 199,
   "id": "e3cc89de",
   "metadata": {},
   "outputs": [
    {
     "data": {
      "text/plain": [
       "<bound method Index.unique of DatetimeIndex(['2020-01-01', '2020-01-01', '2020-01-01', '2020-01-01',\n",
       "               '2020-01-01', '2020-01-01', '2020-01-01', '2020-01-01',\n",
       "               '2020-01-01', '2020-01-01',\n",
       "               ...\n",
       "               '2021-09-01', '2021-09-01', '2021-09-01', '2021-09-01',\n",
       "               '2021-09-01', '2021-09-01', '2021-09-01', '2021-09-01',\n",
       "               '2021-09-01', '2021-09-01'],\n",
       "              dtype='datetime64[ns]', name='fecha2', length=279863, freq=None)>"
      ]
     },
     "execution_count": 199,
     "metadata": {},
     "output_type": "execute_result"
    }
   ],
   "source": [
    "TablaTrain.index.unique"
   ]
  },
  {
   "cell_type": "code",
   "execution_count": 200,
   "id": "d2c8c837",
   "metadata": {},
   "outputs": [
    {
     "data": {
      "text/plain": [
       "Timestamp('2021-09-01 00:00:00')"
      ]
     },
     "execution_count": 200,
     "metadata": {},
     "output_type": "execute_result"
    }
   ],
   "source": [
    "TablaTrain.index.max()"
   ]
  },
  {
   "cell_type": "code",
   "execution_count": 201,
   "id": "514606f6",
   "metadata": {},
   "outputs": [
    {
     "data": {
      "text/plain": [
       "DatetimeIndex(['2021-10-01', '2021-11-01', '2021-12-01'], dtype='datetime64[ns]', name='FECHA', freq='MS')"
      ]
     },
     "execution_count": 201,
     "metadata": {},
     "output_type": "execute_result"
    }
   ],
   "source": [
    "ind = pd.date_range(TablaTrain.index.max(), periods = 4, freq ='MS', name='FECHA')[1:]\n",
    "ind"
   ]
  },
  {
   "cell_type": "code",
   "execution_count": 202,
   "id": "f274ebf3",
   "metadata": {},
   "outputs": [
    {
     "data": {
      "text/plain": [
       "Timestamp('2021-12-01 00:00:00')"
      ]
     },
     "execution_count": 202,
     "metadata": {},
     "output_type": "execute_result"
    }
   ],
   "source": [
    "TablaFinal.index.max()"
   ]
  },
  {
   "cell_type": "code",
   "execution_count": 209,
   "id": "430df87f",
   "metadata": {},
   "outputs": [
    {
     "data": {
      "text/plain": [
       "13695"
      ]
     },
     "execution_count": 209,
     "metadata": {},
     "output_type": "execute_result"
    }
   ],
   "source": [
    "numeroTotalNodos=TablaFinal['Nodo'].nunique()\n",
    "numeroTotalNodos\n"
   ]
  },
  {
   "cell_type": "code",
   "execution_count": 244,
   "id": "405c3901",
   "metadata": {},
   "outputs": [
    {
     "data": {
      "text/html": [
       "<div>\n",
       "<style scoped>\n",
       "    .dataframe tbody tr th:only-of-type {\n",
       "        vertical-align: middle;\n",
       "    }\n",
       "\n",
       "    .dataframe tbody tr th {\n",
       "        vertical-align: top;\n",
       "    }\n",
       "\n",
       "    .dataframe thead th {\n",
       "        text-align: right;\n",
       "    }\n",
       "</style>\n",
       "<table border=\"1\" class=\"dataframe\">\n",
       "  <thead>\n",
       "    <tr style=\"text-align: right;\">\n",
       "      <th></th>\n",
       "      <th>Regional</th>\n",
       "      <th>E_distrito</th>\n",
       "      <th>Nodo</th>\n",
       "      <th>Value</th>\n",
       "      <th>MARCACIONES</th>\n",
       "      <th>CLIENTES</th>\n",
       "      <th>CONTACT</th>\n",
       "      <th>pos</th>\n",
       "      <th>sel</th>\n",
       "    </tr>\n",
       "    <tr>\n",
       "      <th>fecha2</th>\n",
       "      <th></th>\n",
       "      <th></th>\n",
       "      <th></th>\n",
       "      <th></th>\n",
       "      <th></th>\n",
       "      <th></th>\n",
       "      <th></th>\n",
       "      <th></th>\n",
       "      <th></th>\n",
       "    </tr>\n",
       "  </thead>\n",
       "  <tbody>\n",
       "    <tr>\n",
       "      <th>2021-04-01</th>\n",
       "      <td>REGION OCCIDENTE</td>\n",
       "      <td>CAQUETA DISTRITO 1</td>\n",
       "      <td>SJF</td>\n",
       "      <td>-0.763</td>\n",
       "      <td>8.000</td>\n",
       "      <td>131</td>\n",
       "      <td>6.107</td>\n",
       "      <td>0</td>\n",
       "      <td>nodoValido</td>\n",
       "    </tr>\n",
       "    <tr>\n",
       "      <th>2021-08-01</th>\n",
       "      <td>REGION OCCIDENTE</td>\n",
       "      <td>TOLIMA DISTRITO 1</td>\n",
       "      <td>RL2</td>\n",
       "      <td>-1.158</td>\n",
       "      <td>9.000</td>\n",
       "      <td>259</td>\n",
       "      <td>3.475</td>\n",
       "      <td>0</td>\n",
       "      <td>nodoValido</td>\n",
       "    </tr>\n",
       "    <tr>\n",
       "      <th>2021-01-01</th>\n",
       "      <td>REGION CENTRO</td>\n",
       "      <td>CANDELARIA</td>\n",
       "      <td>37C</td>\n",
       "      <td>-0.662</td>\n",
       "      <td>29.000</td>\n",
       "      <td>302</td>\n",
       "      <td>9.603</td>\n",
       "      <td>0</td>\n",
       "      <td>nodoValido</td>\n",
       "    </tr>\n",
       "    <tr>\n",
       "      <th>2021-11-01</th>\n",
       "      <td>REGION OCCIDENTE</td>\n",
       "      <td>TOLIMA DISTRITO 2</td>\n",
       "      <td>CTM</td>\n",
       "      <td>-2.564</td>\n",
       "      <td>13.000</td>\n",
       "      <td>195</td>\n",
       "      <td>6.667</td>\n",
       "      <td>0</td>\n",
       "      <td>nodoValido</td>\n",
       "    </tr>\n",
       "    <tr>\n",
       "      <th>2020-01-01</th>\n",
       "      <td>REGION ORIENTE</td>\n",
       "      <td>VILLAVICENCIO FUNDADORES</td>\n",
       "      <td>CLG</td>\n",
       "      <td>0.000</td>\n",
       "      <td>5.000</td>\n",
       "      <td>66</td>\n",
       "      <td>7.576</td>\n",
       "      <td>0</td>\n",
       "      <td>nodoValido</td>\n",
       "    </tr>\n",
       "    <tr>\n",
       "      <th>2020-05-01</th>\n",
       "      <td>REGION COSTA</td>\n",
       "      <td>BOLIVAR DISTRITO 5</td>\n",
       "      <td>SLG</td>\n",
       "      <td>0.000</td>\n",
       "      <td>13.000</td>\n",
       "      <td>172</td>\n",
       "      <td>7.558</td>\n",
       "      <td>0</td>\n",
       "      <td>nodoValido</td>\n",
       "    </tr>\n",
       "  </tbody>\n",
       "</table>\n",
       "</div>"
      ],
      "text/plain": [
       "                    Regional                E_distrito Nodo  Value  \\\n",
       "fecha2                                                               \n",
       "2021-04-01  REGION OCCIDENTE        CAQUETA DISTRITO 1  SJF -0.763   \n",
       "2021-08-01  REGION OCCIDENTE         TOLIMA DISTRITO 1  RL2 -1.158   \n",
       "2021-01-01     REGION CENTRO                CANDELARIA  37C -0.662   \n",
       "2021-11-01  REGION OCCIDENTE         TOLIMA DISTRITO 2  CTM -2.564   \n",
       "2020-01-01    REGION ORIENTE  VILLAVICENCIO FUNDADORES  CLG  0.000   \n",
       "2020-05-01      REGION COSTA        BOLIVAR DISTRITO 5  SLG  0.000   \n",
       "\n",
       "            MARCACIONES  CLIENTES   CONTACT  pos         sel  \n",
       "fecha2                                                        \n",
       "2021-04-01        8.000        131    6.107    0  nodoValido  \n",
       "2021-08-01        9.000        259    3.475    0  nodoValido  \n",
       "2021-01-01       29.000        302    9.603    0  nodoValido  \n",
       "2021-11-01       13.000        195    6.667    0  nodoValido  \n",
       "2020-01-01        5.000         66    7.576    0  nodoValido  \n",
       "2020-05-01       13.000        172    7.558    0  nodoValido  "
      ]
     },
     "execution_count": 244,
     "metadata": {},
     "output_type": "execute_result"
    }
   ],
   "source": [
    "TablaFinal.sample(6)"
   ]
  },
  {
   "cell_type": "code",
   "execution_count": 247,
   "id": "e4c3fcfe",
   "metadata": {},
   "outputs": [],
   "source": [
    "NuevaTablaFinal = TablaFinal.to_csv('tablafinal.csv',sep=';', decimal='.')"
   ]
  },
  {
   "cell_type": "markdown",
   "id": "4200f1e3",
   "metadata": {},
   "source": [
    "## Predicciones "
   ]
  },
  {
   "cell_type": "code",
   "execution_count": 210,
   "id": "2f96bd26",
   "metadata": {},
   "outputs": [],
   "source": [
    "#numeroNodos=300\n",
    "numeroNodos=numeroTotalNodos"
   ]
  },
  {
   "cell_type": "code",
   "execution_count": 211,
   "id": "259bacae",
   "metadata": {},
   "outputs": [],
   "source": [
    "final = pd.DataFrame()\n",
    "finalErrores = {}\n",
    "grouped =TablaTrain[['Nodo','Value','MARCACIONES']].groupby('Nodo')\n",
    "groupedTest =TablaTest[['Nodo','Value','MARCACIONES']].groupby('Nodo')\n",
    "groupedFinal=TablaFinal[['Nodo','Value','MARCACIONES']].groupby('Nodo')"
   ]
  },
  {
   "cell_type": "code",
   "execution_count": 212,
   "id": "5a3b7cbd",
   "metadata": {},
   "outputs": [],
   "source": [
    "metodos=['ES','ARIMA','HOLT','ES_ajTend','ARIMAX','ARIMAX2']"
   ]
  },
  {
   "cell_type": "code",
   "execution_count": 527,
   "id": "2921f7ee",
   "metadata": {},
   "outputs": [],
   "source": [
    "#Inicio de validación"
   ]
  },
  {
   "cell_type": "code",
   "execution_count": 128,
   "id": "0723ee63",
   "metadata": {},
   "outputs": [],
   "source": [
    "#g='ES0'\n",
    "g='E01BI'"
   ]
  },
  {
   "cell_type": "code",
   "execution_count": 129,
   "id": "e4c3710b",
   "metadata": {},
   "outputs": [
    {
     "data": {
      "text/html": [
       "<div>\n",
       "<style scoped>\n",
       "    .dataframe tbody tr th:only-of-type {\n",
       "        vertical-align: middle;\n",
       "    }\n",
       "\n",
       "    .dataframe tbody tr th {\n",
       "        vertical-align: top;\n",
       "    }\n",
       "\n",
       "    .dataframe thead th {\n",
       "        text-align: right;\n",
       "    }\n",
       "</style>\n",
       "<table border=\"1\" class=\"dataframe\">\n",
       "  <thead>\n",
       "    <tr style=\"text-align: right;\">\n",
       "      <th></th>\n",
       "      <th>Nodo</th>\n",
       "      <th>Value</th>\n",
       "      <th>MARCACIONES</th>\n",
       "    </tr>\n",
       "    <tr>\n",
       "      <th>fecha2</th>\n",
       "      <th></th>\n",
       "      <th></th>\n",
       "      <th></th>\n",
       "    </tr>\n",
       "  </thead>\n",
       "  <tbody>\n",
       "    <tr>\n",
       "      <th>2020-01-01</th>\n",
       "      <td>E01BI</td>\n",
       "      <td>0.000</td>\n",
       "      <td>0.000</td>\n",
       "    </tr>\n",
       "    <tr>\n",
       "      <th>2020-02-01</th>\n",
       "      <td>E01BI</td>\n",
       "      <td>0.000</td>\n",
       "      <td>0.000</td>\n",
       "    </tr>\n",
       "    <tr>\n",
       "      <th>2020-08-01</th>\n",
       "      <td>E01BI</td>\n",
       "      <td>0.000</td>\n",
       "      <td>2.000</td>\n",
       "    </tr>\n",
       "    <tr>\n",
       "      <th>2020-09-01</th>\n",
       "      <td>E01BI</td>\n",
       "      <td>0.000</td>\n",
       "      <td>1.000</td>\n",
       "    </tr>\n",
       "    <tr>\n",
       "      <th>2020-10-01</th>\n",
       "      <td>E01BI</td>\n",
       "      <td>0.000</td>\n",
       "      <td>8.000</td>\n",
       "    </tr>\n",
       "    <tr>\n",
       "      <th>2020-11-01</th>\n",
       "      <td>E01BI</td>\n",
       "      <td>-600.000</td>\n",
       "      <td>2.000</td>\n",
       "    </tr>\n",
       "    <tr>\n",
       "      <th>2020-12-01</th>\n",
       "      <td>E01BI</td>\n",
       "      <td>-200.000</td>\n",
       "      <td>0.000</td>\n",
       "    </tr>\n",
       "    <tr>\n",
       "      <th>2021-01-01</th>\n",
       "      <td>E01BI</td>\n",
       "      <td>-200.000</td>\n",
       "      <td>0.000</td>\n",
       "    </tr>\n",
       "    <tr>\n",
       "      <th>2021-02-01</th>\n",
       "      <td>E01BI</td>\n",
       "      <td>-100.000</td>\n",
       "      <td>0.000</td>\n",
       "    </tr>\n",
       "    <tr>\n",
       "      <th>2021-03-01</th>\n",
       "      <td>E01BI</td>\n",
       "      <td>0.000</td>\n",
       "      <td>0.000</td>\n",
       "    </tr>\n",
       "    <tr>\n",
       "      <th>2021-04-01</th>\n",
       "      <td>E01BI</td>\n",
       "      <td>0.000</td>\n",
       "      <td>0.000</td>\n",
       "    </tr>\n",
       "    <tr>\n",
       "      <th>2021-05-01</th>\n",
       "      <td>E01BI</td>\n",
       "      <td>0.000</td>\n",
       "      <td>0.000</td>\n",
       "    </tr>\n",
       "    <tr>\n",
       "      <th>2021-06-01</th>\n",
       "      <td>E01BI</td>\n",
       "      <td>0.000</td>\n",
       "      <td>0.000</td>\n",
       "    </tr>\n",
       "    <tr>\n",
       "      <th>2021-07-01</th>\n",
       "      <td>E01BI</td>\n",
       "      <td>0.000</td>\n",
       "      <td>0.000</td>\n",
       "    </tr>\n",
       "    <tr>\n",
       "      <th>2021-08-01</th>\n",
       "      <td>E01BI</td>\n",
       "      <td>0.000</td>\n",
       "      <td>0.000</td>\n",
       "    </tr>\n",
       "    <tr>\n",
       "      <th>2021-09-01</th>\n",
       "      <td>E01BI</td>\n",
       "      <td>0.000</td>\n",
       "      <td>0.000</td>\n",
       "    </tr>\n",
       "  </tbody>\n",
       "</table>\n",
       "</div>"
      ],
      "text/plain": [
       "             Nodo    Value  MARCACIONES\n",
       "fecha2                                 \n",
       "2020-01-01  E01BI    0.000        0.000\n",
       "2020-02-01  E01BI    0.000        0.000\n",
       "2020-08-01  E01BI    0.000        2.000\n",
       "2020-09-01  E01BI    0.000        1.000\n",
       "2020-10-01  E01BI    0.000        8.000\n",
       "2020-11-01  E01BI -600.000        2.000\n",
       "2020-12-01  E01BI -200.000        0.000\n",
       "2021-01-01  E01BI -200.000        0.000\n",
       "2021-02-01  E01BI -100.000        0.000\n",
       "2021-03-01  E01BI    0.000        0.000\n",
       "2021-04-01  E01BI    0.000        0.000\n",
       "2021-05-01  E01BI    0.000        0.000\n",
       "2021-06-01  E01BI    0.000        0.000\n",
       "2021-07-01  E01BI    0.000        0.000\n",
       "2021-08-01  E01BI    0.000        0.000\n",
       "2021-09-01  E01BI    0.000        0.000"
      ]
     },
     "execution_count": 129,
     "metadata": {},
     "output_type": "execute_result"
    }
   ],
   "source": [
    "#serie de tiempo\n",
    "group = grouped.get_group(g)\n",
    "group"
   ]
  },
  {
   "cell_type": "code",
   "execution_count": 92,
   "id": "4f37f118",
   "metadata": {},
   "outputs": [
    {
     "data": {
      "text/plain": [
       "Nodo            object\n",
       "Value          float64\n",
       "MARCACIONES    float64\n",
       "dtype: object"
      ]
     },
     "execution_count": 92,
     "metadata": {},
     "output_type": "execute_result"
    }
   ],
   "source": [
    "group.dtypes"
   ]
  },
  {
   "cell_type": "code",
   "execution_count": 130,
   "id": "70912d7d",
   "metadata": {},
   "outputs": [
    {
     "data": {
      "text/html": [
       "<div>\n",
       "<style scoped>\n",
       "    .dataframe tbody tr th:only-of-type {\n",
       "        vertical-align: middle;\n",
       "    }\n",
       "\n",
       "    .dataframe tbody tr th {\n",
       "        vertical-align: top;\n",
       "    }\n",
       "\n",
       "    .dataframe thead th {\n",
       "        text-align: right;\n",
       "    }\n",
       "</style>\n",
       "<table border=\"1\" class=\"dataframe\">\n",
       "  <thead>\n",
       "    <tr style=\"text-align: right;\">\n",
       "      <th></th>\n",
       "      <th>Nodo</th>\n",
       "      <th>Value</th>\n",
       "      <th>MARCACIONES</th>\n",
       "    </tr>\n",
       "    <tr>\n",
       "      <th>fecha2</th>\n",
       "      <th></th>\n",
       "      <th></th>\n",
       "      <th></th>\n",
       "    </tr>\n",
       "  </thead>\n",
       "  <tbody>\n",
       "    <tr>\n",
       "      <th>2021-10-01</th>\n",
       "      <td>E01BI</td>\n",
       "      <td>0.000</td>\n",
       "      <td>0.000</td>\n",
       "    </tr>\n",
       "    <tr>\n",
       "      <th>2021-11-01</th>\n",
       "      <td>E01BI</td>\n",
       "      <td>0.000</td>\n",
       "      <td>0.000</td>\n",
       "    </tr>\n",
       "    <tr>\n",
       "      <th>2021-12-01</th>\n",
       "      <td>E01BI</td>\n",
       "      <td>0.000</td>\n",
       "      <td>0.000</td>\n",
       "    </tr>\n",
       "  </tbody>\n",
       "</table>\n",
       "</div>"
      ],
      "text/plain": [
       "             Nodo  Value  MARCACIONES\n",
       "fecha2                               \n",
       "2021-10-01  E01BI  0.000        0.000\n",
       "2021-11-01  E01BI  0.000        0.000\n",
       "2021-12-01  E01BI  0.000        0.000"
      ]
     },
     "execution_count": 130,
     "metadata": {},
     "output_type": "execute_result"
    }
   ],
   "source": [
    "groupTest = groupedTest.get_group(g)\n",
    "groupTest"
   ]
  },
  {
   "cell_type": "code",
   "execution_count": 94,
   "id": "d7ba767d",
   "metadata": {},
   "outputs": [],
   "source": [
    "num_start=len(group['Value'])\n",
    "perPred=len(groupTest['MARCACIONES'])\n",
    "periodos = 12 if int(num_start/2)>12 else (6 if int(num_start/2)>6 else int(num_start/2))         \n",
    "\n"
   ]
  },
  {
   "cell_type": "code",
   "execution_count": 111,
   "id": "0878b92d",
   "metadata": {},
   "outputs": [],
   "source": [
    "periodos=4"
   ]
  },
  {
   "cell_type": "code",
   "execution_count": 109,
   "id": "18cec6c1",
   "metadata": {},
   "outputs": [
    {
     "data": {
      "text/plain": [
       "fecha2\n",
       "2020-11-01   -1.471\n",
       "2020-12-01   -0.942\n",
       "2021-01-01   -1.198\n",
       "2021-02-01   -1.346\n",
       "2021-04-01    0.000\n",
       "2021-05-01   -0.909\n",
       "2021-06-01   -1.852\n",
       "2021-07-01    0.000\n",
       "2021-08-01   -1.887\n",
       "Name: Value, dtype: float64"
      ]
     },
     "execution_count": 109,
     "metadata": {},
     "output_type": "execute_result"
    }
   ],
   "source": [
    "group['Value'].astype(float)[10:-1]"
   ]
  },
  {
   "cell_type": "code",
   "execution_count": 118,
   "id": "17257dcc",
   "metadata": {},
   "outputs": [],
   "source": [
    "model = ETSModel(group['Value'].astype(float),seasonal_periods=periodos ,error=\"add\",trend=\"add\",seasonal=\"add\", damped_trend=True,)\n",
    "model = model.fit()                \n",
    "forecast = pd.DataFrame(model.get_prediction(start=num_start, end=num_start+perPred-1).summary_frame(alpha=0.05)['mean'],index=groupTest.index)\n"
   ]
  },
  {
   "cell_type": "code",
   "execution_count": 114,
   "id": "e63ae170",
   "metadata": {},
   "outputs": [
    {
     "data": {
      "text/html": [
       "<div>\n",
       "<style scoped>\n",
       "    .dataframe tbody tr th:only-of-type {\n",
       "        vertical-align: middle;\n",
       "    }\n",
       "\n",
       "    .dataframe tbody tr th {\n",
       "        vertical-align: top;\n",
       "    }\n",
       "\n",
       "    .dataframe thead th {\n",
       "        text-align: right;\n",
       "    }\n",
       "</style>\n",
       "<table border=\"1\" class=\"dataframe\">\n",
       "  <thead>\n",
       "    <tr style=\"text-align: right;\">\n",
       "      <th></th>\n",
       "      <th>mean</th>\n",
       "    </tr>\n",
       "    <tr>\n",
       "      <th>fecha2</th>\n",
       "      <th></th>\n",
       "    </tr>\n",
       "  </thead>\n",
       "  <tbody>\n",
       "    <tr>\n",
       "      <th>2021-10-01</th>\n",
       "      <td>NaN</td>\n",
       "    </tr>\n",
       "    <tr>\n",
       "      <th>2021-11-01</th>\n",
       "      <td>NaN</td>\n",
       "    </tr>\n",
       "    <tr>\n",
       "      <th>2021-12-01</th>\n",
       "      <td>NaN</td>\n",
       "    </tr>\n",
       "  </tbody>\n",
       "</table>\n",
       "</div>"
      ],
      "text/plain": [
       "            mean\n",
       "fecha2          \n",
       "2021-10-01   NaN\n",
       "2021-11-01   NaN\n",
       "2021-12-01   NaN"
      ]
     },
     "execution_count": 114,
     "metadata": {},
     "output_type": "execute_result"
    }
   ],
   "source": [
    "forecast"
   ]
  },
  {
   "cell_type": "code",
   "execution_count": 531,
   "id": "c61a08b2",
   "metadata": {},
   "outputs": [
    {
     "data": {
      "text/plain": [
       "Nodo            object\n",
       "Value          float64\n",
       "MARCACIONES    float64\n",
       "dtype: object"
      ]
     },
     "execution_count": 531,
     "metadata": {},
     "output_type": "execute_result"
    }
   ],
   "source": [
    "group.dtypes"
   ]
  },
  {
   "cell_type": "code",
   "execution_count": 465,
   "id": "58be06eb",
   "metadata": {},
   "outputs": [],
   "source": [
    "#group['Value']=group['Value'].astype(int)\n",
    "#group['Value']=group['Value'].astype(float)"
   ]
  },
  {
   "cell_type": "code",
   "execution_count": 466,
   "id": "45c0c738",
   "metadata": {},
   "outputs": [],
   "source": [
    "#group.dtypes"
   ]
  },
  {
   "cell_type": "code",
   "execution_count": 565,
   "id": "540eb728",
   "metadata": {},
   "outputs": [
    {
     "data": {
      "text/plain": [
       "array([ -62.83333333,  -42.33333333, -192.5       ,  -48.75      ,\n",
       "       -125.6666667 ,  -94.        ,  -95.5       ,  -48.625     ])"
      ]
     },
     "execution_count": 565,
     "metadata": {},
     "output_type": "execute_result"
    }
   ],
   "source": [
    "group['Value'].values"
   ]
  },
  {
   "cell_type": "code",
   "execution_count": 561,
   "id": "98704fea",
   "metadata": {},
   "outputs": [],
   "source": [
    "#listap=[ -62.83333333,  -42.33333333, -192.5 ,  -48.75 ,-125.6666667 ,  -94.0 ,  -95.5 ,  -48.625  ]"
   ]
  },
  {
   "cell_type": "code",
   "execution_count": 700,
   "id": "ee3c83f4",
   "metadata": {},
   "outputs": [],
   "source": [
    "#model=auto_arima(group['Value'].values,trace=False)\n",
    "#model=auto_arima(listap,trace=False)\n",
    "#model.fit(group['Value'])  \n",
    "#model.predict(n_periods = 3)\n",
    "#forecast=pd.DataFrame(model.predict(n_periods = 3),index=ind)"
   ]
  },
  {
   "cell_type": "code",
   "execution_count": 573,
   "id": "37884220",
   "metadata": {},
   "outputs": [
    {
     "data": {
      "text/plain": [
       "numpy.datetime64('2021-02-01T00:00:00.000000000')"
      ]
     },
     "execution_count": 573,
     "metadata": {},
     "output_type": "execute_result"
    }
   ],
   "source": [
    "\n",
    "group.head(1).index.values[0]\n"
   ]
  },
  {
   "cell_type": "code",
   "execution_count": 577,
   "id": "c9a45ef9",
   "metadata": {},
   "outputs": [
    {
     "data": {
      "text/plain": [
       "Timestamp('2021-02-01 00:00:00')"
      ]
     },
     "execution_count": 577,
     "metadata": {},
     "output_type": "execute_result"
    }
   ],
   "source": [
    "group.first_valid_index()"
   ]
  },
  {
   "cell_type": "code",
   "execution_count": null,
   "id": "7d384e4f",
   "metadata": {},
   "outputs": [],
   "source": [
    "#Fin de validación"
   ]
  },
  {
   "cell_type": "code",
   "execution_count": 213,
   "id": "2f8420ad",
   "metadata": {
    "scrolled": true,
    "tags": []
   },
   "outputs": [
    {
     "name": "stdout",
     "output_type": "stream",
     "text": [
      "0 01J\n",
      "1000 2IS2D\n",
      "2000 46B014\n",
      "3000 61013D\n",
      "4000 ALE4D\n",
      "5000 C1213D\n",
      "6000 DC6\n",
      "7000 FZ2\n",
      "8000 JLO\n",
      "9000 MM0\n",
      "10000 P2H\n",
      "11000 RG5\n",
      "12000 SSB1\n",
      "13000 VB4\n"
     ]
    }
   ],
   "source": [
    "i=0\n",
    "iNodo=0\n",
    "for g in grouped.groups:\n",
    "    #print(g)\n",
    "    if iNodo<numeroNodos:\n",
    "    #if  iNodo>=6000: \n",
    "        if iNodo>numeroNodos:\n",
    "            continue\n",
    "        if iNodo%1000==0:\n",
    "            print(iNodo,g) \n",
    "        dicNodo={} \n",
    "        dicAuxMetodo={}\n",
    "        group = grouped.get_group(g) \n",
    "        groupTest = groupedTest.get_group(g)\n",
    "            \n",
    "        for metodo in metodos:\n",
    "            #print(g,metodo)\n",
    "            if metodo== 'ARIMA':\n",
    "                try: \n",
    "                    model=auto_arima(group['Value'].values,trace=False)\n",
    "                    model.fit(group['Value'])  \n",
    "                    forecast=pd.DataFrame(model.predict(n_periods = 3),index=ind)#Cambio de la cantidad de meses a predecir \"3\"\n",
    "                except:\n",
    "                    group.at[group.first_valid_index(),'Value']=group.at[group.first_valid_index(),'Value']+0.1\n",
    "                    model=auto_arima(group['Value'].values,trace=False)\n",
    "                    model.fit(group['Value'])  \n",
    "                    forecast=pd.DataFrame(model.predict(n_periods = 3),index=ind)#Cambio de la cantidad de meses a predecir \"3\"\n",
    "            elif metodo== 'ES':\n",
    "                model = SimpleExpSmoothing(group['Value'].values)\n",
    "                model=model.fit(smoothing_level=.5)\n",
    "                forecast=pd.DataFrame(model.forecast(3),index=ind)\n",
    "            elif metodo== 'HOLT':\n",
    "                model = Holt(group['Value'].values) \n",
    "                model = model.fit(optimized=True)\n",
    "                forecast=pd.DataFrame(model.forecast(3),index=ind)\n",
    "            elif metodo== 'ES_ajTend':\n",
    "                model = ExponentialSmoothing(group['Value'].values,trend='add', seasonal=None, damped=True)\n",
    "                model= model.fit()\n",
    "                forecast=pd.DataFrame(model.forecast(3),index=ind)\n",
    "            elif metodo=='ARIMAX':            \n",
    "                model=sm.tsa.statespace.SARIMAX(group['Value'].values,order=(1, 1, 1),exog=group['MARCACIONES'].values)\n",
    "                model=model.fit()\n",
    "                num_start=len(group['Value'])\n",
    "                perPred=len(groupTest['MARCACIONES'])\n",
    "                forecast=pd.DataFrame(model.predict(start=num_start,end=num_start+perPred-1,exog=groupTest['MARCACIONES'].values,dynamic=True),index=groupTest.index)\n",
    "\n",
    "            elif metodo=='ARIMAX2':\n",
    "                model=auto_arima(group['Value'].values,trace=False,exogenous=group['MARCACIONES'].values.reshape(-1,1))\n",
    "                perPred=len(groupTest['MARCACIONES'])\n",
    "                forecast= pd.DataFrame(model.predict(n_periods=perPred,exogenous=groupTest['MARCACIONES'].values.reshape(-1,1)),index=groupTest.index)\n",
    "                \n",
    "                \n",
    "            #elif metodo== 'ETS': \n",
    "                #num_start=len(group['Value'])\n",
    "                #perPred=len(groupTest['MARCACIONES'])\n",
    "                #periodos = 12 if int(num_start/2)>12 else (6 if int(num_start/2)>6 else int(num_start/2))         \n",
    "                               \n",
    "                #model = ETSModel(group['Value'].astype(float),seasonal_periods=periodos ,error=\"add\",trend=\"add\",seasonal=\"add\", damped_trend=True,)\n",
    "                #model = model.fit()                \n",
    "                #forecast = pd.DataFrame(model.get_prediction(start=num_start, end=num_start+perPred-1).summary_frame(alpha=0.05)['mean'],index=groupTest.index)\n",
    "            forecast.columns = ['pred']  \n",
    "            forecast['Nodo']=g\n",
    "            forecast['Metodo']=metodo\n",
    "            if i==0:\n",
    "                final=forecast\n",
    "            else:\n",
    "                final=final.append(forecast)     \n",
    "\n",
    "            if len(groupTest['Value'])==3:\n",
    "                #print(1)\n",
    "                try:\n",
    "                    RMSE=mean_squared_error(groupTest['Value'].values,forecast['pred'], squared=False)\n",
    "                    MAPE=mean_absolute_percentage_error(groupTest['Value'].values,forecast['pred'])\n",
    "                except:\n",
    "                    RMSE=1000\n",
    "                    MAPE=1000\n",
    "            else :\n",
    "                #print(2)\n",
    "                tempTest=groupTest.copy()\n",
    "                tempTest['pred2']=forecast['pred']   \n",
    "                RMSE=mean_squared_error(tempTest['Value'].values,tempTest['pred2'].values, squared=False)\n",
    "                MAPE=mean_absolute_percentage_error(tempTest['Value'].values,tempTest['pred2'].values)\n",
    "            # Errores\n",
    "            ## Medicion varios errores, seleccionar el que mejor se ajuste\n",
    "            #RMSE=mean_squared_error(groupTest['Value'],forecast['pred'], squared=False)\n",
    "            #MAPE=mean_absolute_percentage_error(groupTest['Value'],forecast['pred'])    \n",
    "            dicNodo[metodo]=RMSE \n",
    "            i=i+1\n",
    "        finalErrores[g]=dicNodo\n",
    "\n",
    "    iNodo=iNodo+1"
   ]
  },
  {
   "cell_type": "code",
   "execution_count": 215,
   "id": "dc5da185",
   "metadata": {},
   "outputs": [],
   "source": [
    "\n",
    "dfFinalErrores=pd.DataFrame.from_dict(finalErrores,orient='index')\n",
    "dfFinalErrores.to_csv('resultado_Finalerrores_CHURN.csv',sep=';', decimal='.')\n",
    "final.to_csv('Resultados_entren_test_CHURN.csv',sep=';', decimal='.')\n"
   ]
  },
  {
   "cell_type": "code",
   "execution_count": null,
   "id": "c9e0a869",
   "metadata": {},
   "outputs": [],
   "source": [
    "#len(dfFinalErrores0)"
   ]
  },
  {
   "cell_type": "code",
   "execution_count": 216,
   "id": "fae2e655",
   "metadata": {},
   "outputs": [
    {
     "data": {
      "text/plain": [
       "13695"
      ]
     },
     "execution_count": 216,
     "metadata": {},
     "output_type": "execute_result"
    }
   ],
   "source": [
    "len(dfFinalErrores)"
   ]
  },
  {
   "cell_type": "code",
   "execution_count": 217,
   "id": "75677e3f",
   "metadata": {},
   "outputs": [
    {
     "data": {
      "text/plain": [
       "0"
      ]
     },
     "execution_count": 217,
     "metadata": {},
     "output_type": "execute_result"
    }
   ],
   "source": [
    "df_dup_rows = dfFinalErrores.index.duplicated(keep = False)\n",
    "df_dup_rows.sum()"
   ]
  },
  {
   "cell_type": "code",
   "execution_count": 218,
   "id": "2c80390b",
   "metadata": {},
   "outputs": [
    {
     "data": {
      "text/plain": [
       "13695"
      ]
     },
     "execution_count": 218,
     "metadata": {},
     "output_type": "execute_result"
    }
   ],
   "source": [
    "len(df_dup_rows)"
   ]
  },
  {
   "cell_type": "code",
   "execution_count": 219,
   "id": "79bb5783",
   "metadata": {},
   "outputs": [],
   "source": [
    "#len(nodoDuplicados)"
   ]
  },
  {
   "cell_type": "code",
   "execution_count": 220,
   "id": "9db7d441",
   "metadata": {
    "scrolled": true
   },
   "outputs": [
    {
     "data": {
      "text/html": [
       "<div>\n",
       "<style scoped>\n",
       "    .dataframe tbody tr th:only-of-type {\n",
       "        vertical-align: middle;\n",
       "    }\n",
       "\n",
       "    .dataframe tbody tr th {\n",
       "        vertical-align: top;\n",
       "    }\n",
       "\n",
       "    .dataframe thead th {\n",
       "        text-align: right;\n",
       "    }\n",
       "</style>\n",
       "<table border=\"1\" class=\"dataframe\">\n",
       "  <thead>\n",
       "    <tr style=\"text-align: right;\">\n",
       "      <th></th>\n",
       "      <th>ES</th>\n",
       "      <th>ARIMA</th>\n",
       "      <th>HOLT</th>\n",
       "      <th>ES_ajTend</th>\n",
       "      <th>ARIMAX</th>\n",
       "      <th>ARIMAX2</th>\n",
       "    </tr>\n",
       "  </thead>\n",
       "  <tbody>\n",
       "    <tr>\n",
       "      <th>01J</th>\n",
       "      <td>3.547</td>\n",
       "      <td>1.487</td>\n",
       "      <td>3.365</td>\n",
       "      <td>3.314</td>\n",
       "      <td>3.167</td>\n",
       "      <td>2.117</td>\n",
       "    </tr>\n",
       "    <tr>\n",
       "      <th>01S</th>\n",
       "      <td>1.457</td>\n",
       "      <td>1.375</td>\n",
       "      <td>1.172</td>\n",
       "      <td>1.181</td>\n",
       "      <td>1.249</td>\n",
       "      <td>1.419</td>\n",
       "    </tr>\n",
       "    <tr>\n",
       "      <th>02J</th>\n",
       "      <td>1.924</td>\n",
       "      <td>1.183</td>\n",
       "      <td>1.393</td>\n",
       "      <td>1.428</td>\n",
       "      <td>1.701</td>\n",
       "      <td>1.735</td>\n",
       "    </tr>\n",
       "    <tr>\n",
       "      <th>02S</th>\n",
       "      <td>1.164</td>\n",
       "      <td>1.796</td>\n",
       "      <td>1.562</td>\n",
       "      <td>1.532</td>\n",
       "      <td>1.462</td>\n",
       "      <td>1.850</td>\n",
       "    </tr>\n",
       "    <tr>\n",
       "      <th>03J</th>\n",
       "      <td>3.417</td>\n",
       "      <td>2.098</td>\n",
       "      <td>3.690</td>\n",
       "      <td>3.665</td>\n",
       "      <td>3.404</td>\n",
       "      <td>3.806</td>\n",
       "    </tr>\n",
       "  </tbody>\n",
       "</table>\n",
       "</div>"
      ],
      "text/plain": [
       "       ES  ARIMA  HOLT  ES_ajTend  ARIMAX  ARIMAX2\n",
       "01J 3.547  1.487 3.365      3.314   3.167    2.117\n",
       "01S 1.457  1.375 1.172      1.181   1.249    1.419\n",
       "02J 1.924  1.183 1.393      1.428   1.701    1.735\n",
       "02S 1.164  1.796 1.562      1.532   1.462    1.850\n",
       "03J 3.417  2.098 3.690      3.665   3.404    3.806"
      ]
     },
     "execution_count": 220,
     "metadata": {},
     "output_type": "execute_result"
    }
   ],
   "source": [
    "dfFinalErrores.head()"
   ]
  },
  {
   "cell_type": "markdown",
   "id": "d7c17428",
   "metadata": {},
   "source": [
    "* Velocidad de procesamiento:  200 Nodos x Minuto"
   ]
  },
  {
   "cell_type": "code",
   "execution_count": 221,
   "id": "c1a2c8bb",
   "metadata": {
    "scrolled": true
   },
   "outputs": [
    {
     "data": {
      "text/html": [
       "<div>\n",
       "<style scoped>\n",
       "    .dataframe tbody tr th:only-of-type {\n",
       "        vertical-align: middle;\n",
       "    }\n",
       "\n",
       "    .dataframe tbody tr th {\n",
       "        vertical-align: top;\n",
       "    }\n",
       "\n",
       "    .dataframe thead th {\n",
       "        text-align: right;\n",
       "    }\n",
       "</style>\n",
       "<table border=\"1\" class=\"dataframe\">\n",
       "  <thead>\n",
       "    <tr style=\"text-align: right;\">\n",
       "      <th></th>\n",
       "      <th>pred</th>\n",
       "      <th>Nodo</th>\n",
       "      <th>Metodo</th>\n",
       "    </tr>\n",
       "  </thead>\n",
       "  <tbody>\n",
       "    <tr>\n",
       "      <th>2021-10-01</th>\n",
       "      <td>-1.785</td>\n",
       "      <td>01J</td>\n",
       "      <td>ARIMAX2</td>\n",
       "    </tr>\n",
       "    <tr>\n",
       "      <th>2021-11-01</th>\n",
       "      <td>-2.634</td>\n",
       "      <td>01J</td>\n",
       "      <td>ARIMAX2</td>\n",
       "    </tr>\n",
       "    <tr>\n",
       "      <th>2021-12-01</th>\n",
       "      <td>-1.824</td>\n",
       "      <td>01J</td>\n",
       "      <td>ARIMAX2</td>\n",
       "    </tr>\n",
       "    <tr>\n",
       "      <th>2021-10-01</th>\n",
       "      <td>-0.641</td>\n",
       "      <td>01S</td>\n",
       "      <td>ARIMAX2</td>\n",
       "    </tr>\n",
       "    <tr>\n",
       "      <th>2021-11-01</th>\n",
       "      <td>-0.466</td>\n",
       "      <td>01S</td>\n",
       "      <td>ARIMAX2</td>\n",
       "    </tr>\n",
       "    <tr>\n",
       "      <th>2021-12-01</th>\n",
       "      <td>-0.466</td>\n",
       "      <td>01S</td>\n",
       "      <td>ARIMAX2</td>\n",
       "    </tr>\n",
       "    <tr>\n",
       "      <th>2021-10-01</th>\n",
       "      <td>-1.227</td>\n",
       "      <td>02J</td>\n",
       "      <td>ARIMAX2</td>\n",
       "    </tr>\n",
       "    <tr>\n",
       "      <th>2021-11-01</th>\n",
       "      <td>-2.453</td>\n",
       "      <td>02J</td>\n",
       "      <td>ARIMAX2</td>\n",
       "    </tr>\n",
       "    <tr>\n",
       "      <th>2021-12-01</th>\n",
       "      <td>-1.227</td>\n",
       "      <td>02J</td>\n",
       "      <td>ARIMAX2</td>\n",
       "    </tr>\n",
       "    <tr>\n",
       "      <th>2021-10-01</th>\n",
       "      <td>-2.635</td>\n",
       "      <td>02S</td>\n",
       "      <td>ARIMAX2</td>\n",
       "    </tr>\n",
       "  </tbody>\n",
       "</table>\n",
       "</div>"
      ],
      "text/plain": [
       "             pred Nodo   Metodo\n",
       "2021-10-01 -1.785  01J  ARIMAX2\n",
       "2021-11-01 -2.634  01J  ARIMAX2\n",
       "2021-12-01 -1.824  01J  ARIMAX2\n",
       "2021-10-01 -0.641  01S  ARIMAX2\n",
       "2021-11-01 -0.466  01S  ARIMAX2\n",
       "2021-12-01 -0.466  01S  ARIMAX2\n",
       "2021-10-01 -1.227  02J  ARIMAX2\n",
       "2021-11-01 -2.453  02J  ARIMAX2\n",
       "2021-12-01 -1.227  02J  ARIMAX2\n",
       "2021-10-01 -2.635  02S  ARIMAX2"
      ]
     },
     "execution_count": 221,
     "metadata": {},
     "output_type": "execute_result"
    }
   ],
   "source": [
    "final[final['Metodo']=='ARIMAX2'].head(10)"
   ]
  },
  {
   "cell_type": "code",
   "execution_count": 223,
   "id": "3fadcc23",
   "metadata": {},
   "outputs": [
    {
     "data": {
      "text/plain": [
       "pred      0\n",
       "Nodo      0\n",
       "Metodo    0\n",
       "dtype: int64"
      ]
     },
     "execution_count": 223,
     "metadata": {},
     "output_type": "execute_result"
    }
   ],
   "source": [
    "final.isnull().sum()"
   ]
  },
  {
   "cell_type": "markdown",
   "id": "f3ac9d5b",
   "metadata": {},
   "source": [
    "* No tiene nullos"
   ]
  },
  {
   "cell_type": "markdown",
   "id": "a8e45584",
   "metadata": {},
   "source": [
    "## Selección mejor método por Nodo"
   ]
  },
  {
   "cell_type": "code",
   "execution_count": 224,
   "id": "e8dd6dcb",
   "metadata": {},
   "outputs": [
    {
     "data": {
      "text/plain": [
       "['ES', 'ARIMA', 'HOLT', 'ES_ajTend', 'ARIMAX', 'ARIMAX2']"
      ]
     },
     "execution_count": 224,
     "metadata": {},
     "output_type": "execute_result"
    }
   ],
   "source": [
    "metodos"
   ]
  },
  {
   "cell_type": "code",
   "execution_count": 225,
   "id": "3abb8d7e",
   "metadata": {},
   "outputs": [
    {
     "data": {
      "text/html": [
       "<div>\n",
       "<style scoped>\n",
       "    .dataframe tbody tr th:only-of-type {\n",
       "        vertical-align: middle;\n",
       "    }\n",
       "\n",
       "    .dataframe tbody tr th {\n",
       "        vertical-align: top;\n",
       "    }\n",
       "\n",
       "    .dataframe thead th {\n",
       "        text-align: right;\n",
       "    }\n",
       "</style>\n",
       "<table border=\"1\" class=\"dataframe\">\n",
       "  <thead>\n",
       "    <tr style=\"text-align: right;\">\n",
       "      <th></th>\n",
       "      <th>ES</th>\n",
       "      <th>ARIMA</th>\n",
       "      <th>HOLT</th>\n",
       "      <th>ES_ajTend</th>\n",
       "      <th>ARIMAX</th>\n",
       "      <th>ARIMAX2</th>\n",
       "    </tr>\n",
       "  </thead>\n",
       "  <tbody>\n",
       "    <tr>\n",
       "      <th>01J</th>\n",
       "      <td>3.547</td>\n",
       "      <td>1.487</td>\n",
       "      <td>3.365</td>\n",
       "      <td>3.314</td>\n",
       "      <td>3.167</td>\n",
       "      <td>2.117</td>\n",
       "    </tr>\n",
       "    <tr>\n",
       "      <th>01S</th>\n",
       "      <td>1.457</td>\n",
       "      <td>1.375</td>\n",
       "      <td>1.172</td>\n",
       "      <td>1.181</td>\n",
       "      <td>1.249</td>\n",
       "      <td>1.419</td>\n",
       "    </tr>\n",
       "    <tr>\n",
       "      <th>02J</th>\n",
       "      <td>1.924</td>\n",
       "      <td>1.183</td>\n",
       "      <td>1.393</td>\n",
       "      <td>1.428</td>\n",
       "      <td>1.701</td>\n",
       "      <td>1.735</td>\n",
       "    </tr>\n",
       "    <tr>\n",
       "      <th>02S</th>\n",
       "      <td>1.164</td>\n",
       "      <td>1.796</td>\n",
       "      <td>1.562</td>\n",
       "      <td>1.532</td>\n",
       "      <td>1.462</td>\n",
       "      <td>1.850</td>\n",
       "    </tr>\n",
       "    <tr>\n",
       "      <th>03J</th>\n",
       "      <td>3.417</td>\n",
       "      <td>2.098</td>\n",
       "      <td>3.690</td>\n",
       "      <td>3.665</td>\n",
       "      <td>3.404</td>\n",
       "      <td>3.806</td>\n",
       "    </tr>\n",
       "    <tr>\n",
       "      <th>04J</th>\n",
       "      <td>2.789</td>\n",
       "      <td>2.641</td>\n",
       "      <td>2.765</td>\n",
       "      <td>2.634</td>\n",
       "      <td>3.035</td>\n",
       "      <td>2.895</td>\n",
       "    </tr>\n",
       "    <tr>\n",
       "      <th>05J</th>\n",
       "      <td>1.930</td>\n",
       "      <td>1.274</td>\n",
       "      <td>2.059</td>\n",
       "      <td>1.609</td>\n",
       "      <td>1.373</td>\n",
       "      <td>1.323</td>\n",
       "    </tr>\n",
       "    <tr>\n",
       "      <th>06J</th>\n",
       "      <td>1.274</td>\n",
       "      <td>1.584</td>\n",
       "      <td>1.927</td>\n",
       "      <td>1.625</td>\n",
       "      <td>1.434</td>\n",
       "      <td>1.435</td>\n",
       "    </tr>\n",
       "    <tr>\n",
       "      <th>07J</th>\n",
       "      <td>0.588</td>\n",
       "      <td>1.269</td>\n",
       "      <td>1.458</td>\n",
       "      <td>1.340</td>\n",
       "      <td>1.260</td>\n",
       "      <td>1.347</td>\n",
       "    </tr>\n",
       "    <tr>\n",
       "      <th>09J</th>\n",
       "      <td>1.048</td>\n",
       "      <td>1.118</td>\n",
       "      <td>1.041</td>\n",
       "      <td>1.358</td>\n",
       "      <td>1.130</td>\n",
       "      <td>1.125</td>\n",
       "    </tr>\n",
       "  </tbody>\n",
       "</table>\n",
       "</div>"
      ],
      "text/plain": [
       "       ES  ARIMA  HOLT  ES_ajTend  ARIMAX  ARIMAX2\n",
       "01J 3.547  1.487 3.365      3.314   3.167    2.117\n",
       "01S 1.457  1.375 1.172      1.181   1.249    1.419\n",
       "02J 1.924  1.183 1.393      1.428   1.701    1.735\n",
       "02S 1.164  1.796 1.562      1.532   1.462    1.850\n",
       "03J 3.417  2.098 3.690      3.665   3.404    3.806\n",
       "04J 2.789  2.641 2.765      2.634   3.035    2.895\n",
       "05J 1.930  1.274 2.059      1.609   1.373    1.323\n",
       "06J 1.274  1.584 1.927      1.625   1.434    1.435\n",
       "07J 0.588  1.269 1.458      1.340   1.260    1.347\n",
       "09J 1.048  1.118 1.041      1.358   1.130    1.125"
      ]
     },
     "execution_count": 225,
     "metadata": {},
     "output_type": "execute_result"
    }
   ],
   "source": [
    "dfFinalErrores=pd.DataFrame.from_dict(finalErrores,orient='index')\n",
    "dfFinalErrores.head(10)"
   ]
  },
  {
   "cell_type": "code",
   "execution_count": 226,
   "id": "0f09a802",
   "metadata": {},
   "outputs": [
    {
     "data": {
      "text/plain": [
       "[1.4867901479483892,\n",
       " 1.171665477715151,\n",
       " 1.1826268969047615,\n",
       " 1.1636343842704322,\n",
       " 2.0979601605653433,\n",
       " 2.6340376156161347,\n",
       " 1.2744522553646385,\n",
       " 1.2743098943780993,\n",
       " 0.5878318157322217,\n",
       " 1.0407251172869219]"
      ]
     },
     "execution_count": 226,
     "metadata": {},
     "output_type": "execute_result"
    }
   ],
   "source": [
    "minError=list(dfFinalErrores.min(axis=1).values)\n",
    "minError[:10]"
   ]
  },
  {
   "cell_type": "code",
   "execution_count": 227,
   "id": "f746d373",
   "metadata": {},
   "outputs": [],
   "source": [
    "modeloSeleccionado=[np.nan]*len(dfFinalErrores)\n",
    "i=0\n",
    "for indx,row in dfFinalErrores.iterrows():\n",
    "    auxRow=list(row.values)\n",
    "    auxInd=auxRow.index(minError[i])\n",
    "    modeloSeleccionado[i]=metodos[auxInd]\n",
    "    #print(auxRow)\n",
    "    i=i+1"
   ]
  },
  {
   "cell_type": "code",
   "execution_count": 228,
   "id": "bbab93ed",
   "metadata": {},
   "outputs": [
    {
     "data": {
      "text/plain": [
       "['ARIMA',\n",
       " 'HOLT',\n",
       " 'ARIMA',\n",
       " 'ES',\n",
       " 'ARIMA',\n",
       " 'ES_ajTend',\n",
       " 'ARIMA',\n",
       " 'ES',\n",
       " 'ES',\n",
       " 'HOLT']"
      ]
     },
     "execution_count": 228,
     "metadata": {},
     "output_type": "execute_result"
    }
   ],
   "source": [
    "modeloSeleccionado[:10]"
   ]
  },
  {
   "cell_type": "code",
   "execution_count": 229,
   "id": "73966973",
   "metadata": {},
   "outputs": [],
   "source": [
    "dfFinalErrores['seleccion']=modeloSeleccionado"
   ]
  },
  {
   "cell_type": "code",
   "execution_count": 230,
   "id": "38acecfd",
   "metadata": {},
   "outputs": [],
   "source": [
    "dfFinalErrores['errorMin']=minError"
   ]
  },
  {
   "cell_type": "code",
   "execution_count": 231,
   "id": "d845a12f",
   "metadata": {},
   "outputs": [
    {
     "data": {
      "text/html": [
       "<div>\n",
       "<style scoped>\n",
       "    .dataframe tbody tr th:only-of-type {\n",
       "        vertical-align: middle;\n",
       "    }\n",
       "\n",
       "    .dataframe tbody tr th {\n",
       "        vertical-align: top;\n",
       "    }\n",
       "\n",
       "    .dataframe thead th {\n",
       "        text-align: right;\n",
       "    }\n",
       "</style>\n",
       "<table border=\"1\" class=\"dataframe\">\n",
       "  <thead>\n",
       "    <tr style=\"text-align: right;\">\n",
       "      <th></th>\n",
       "      <th>ES</th>\n",
       "      <th>ARIMA</th>\n",
       "      <th>HOLT</th>\n",
       "      <th>ES_ajTend</th>\n",
       "      <th>ARIMAX</th>\n",
       "      <th>ARIMAX2</th>\n",
       "      <th>seleccion</th>\n",
       "      <th>errorMin</th>\n",
       "    </tr>\n",
       "  </thead>\n",
       "  <tbody>\n",
       "    <tr>\n",
       "      <th>01J</th>\n",
       "      <td>3.547</td>\n",
       "      <td>1.487</td>\n",
       "      <td>3.365</td>\n",
       "      <td>3.314</td>\n",
       "      <td>3.167</td>\n",
       "      <td>2.117</td>\n",
       "      <td>ARIMA</td>\n",
       "      <td>1.487</td>\n",
       "    </tr>\n",
       "    <tr>\n",
       "      <th>01S</th>\n",
       "      <td>1.457</td>\n",
       "      <td>1.375</td>\n",
       "      <td>1.172</td>\n",
       "      <td>1.181</td>\n",
       "      <td>1.249</td>\n",
       "      <td>1.419</td>\n",
       "      <td>HOLT</td>\n",
       "      <td>1.172</td>\n",
       "    </tr>\n",
       "    <tr>\n",
       "      <th>02J</th>\n",
       "      <td>1.924</td>\n",
       "      <td>1.183</td>\n",
       "      <td>1.393</td>\n",
       "      <td>1.428</td>\n",
       "      <td>1.701</td>\n",
       "      <td>1.735</td>\n",
       "      <td>ARIMA</td>\n",
       "      <td>1.183</td>\n",
       "    </tr>\n",
       "    <tr>\n",
       "      <th>02S</th>\n",
       "      <td>1.164</td>\n",
       "      <td>1.796</td>\n",
       "      <td>1.562</td>\n",
       "      <td>1.532</td>\n",
       "      <td>1.462</td>\n",
       "      <td>1.850</td>\n",
       "      <td>ES</td>\n",
       "      <td>1.164</td>\n",
       "    </tr>\n",
       "    <tr>\n",
       "      <th>03J</th>\n",
       "      <td>3.417</td>\n",
       "      <td>2.098</td>\n",
       "      <td>3.690</td>\n",
       "      <td>3.665</td>\n",
       "      <td>3.404</td>\n",
       "      <td>3.806</td>\n",
       "      <td>ARIMA</td>\n",
       "      <td>2.098</td>\n",
       "    </tr>\n",
       "    <tr>\n",
       "      <th>04J</th>\n",
       "      <td>2.789</td>\n",
       "      <td>2.641</td>\n",
       "      <td>2.765</td>\n",
       "      <td>2.634</td>\n",
       "      <td>3.035</td>\n",
       "      <td>2.895</td>\n",
       "      <td>ES_ajTend</td>\n",
       "      <td>2.634</td>\n",
       "    </tr>\n",
       "    <tr>\n",
       "      <th>05J</th>\n",
       "      <td>1.930</td>\n",
       "      <td>1.274</td>\n",
       "      <td>2.059</td>\n",
       "      <td>1.609</td>\n",
       "      <td>1.373</td>\n",
       "      <td>1.323</td>\n",
       "      <td>ARIMA</td>\n",
       "      <td>1.274</td>\n",
       "    </tr>\n",
       "    <tr>\n",
       "      <th>06J</th>\n",
       "      <td>1.274</td>\n",
       "      <td>1.584</td>\n",
       "      <td>1.927</td>\n",
       "      <td>1.625</td>\n",
       "      <td>1.434</td>\n",
       "      <td>1.435</td>\n",
       "      <td>ES</td>\n",
       "      <td>1.274</td>\n",
       "    </tr>\n",
       "    <tr>\n",
       "      <th>07J</th>\n",
       "      <td>0.588</td>\n",
       "      <td>1.269</td>\n",
       "      <td>1.458</td>\n",
       "      <td>1.340</td>\n",
       "      <td>1.260</td>\n",
       "      <td>1.347</td>\n",
       "      <td>ES</td>\n",
       "      <td>0.588</td>\n",
       "    </tr>\n",
       "    <tr>\n",
       "      <th>09J</th>\n",
       "      <td>1.048</td>\n",
       "      <td>1.118</td>\n",
       "      <td>1.041</td>\n",
       "      <td>1.358</td>\n",
       "      <td>1.130</td>\n",
       "      <td>1.125</td>\n",
       "      <td>HOLT</td>\n",
       "      <td>1.041</td>\n",
       "    </tr>\n",
       "  </tbody>\n",
       "</table>\n",
       "</div>"
      ],
      "text/plain": [
       "       ES  ARIMA  HOLT  ES_ajTend  ARIMAX  ARIMAX2  seleccion  errorMin\n",
       "01J 3.547  1.487 3.365      3.314   3.167    2.117      ARIMA     1.487\n",
       "01S 1.457  1.375 1.172      1.181   1.249    1.419       HOLT     1.172\n",
       "02J 1.924  1.183 1.393      1.428   1.701    1.735      ARIMA     1.183\n",
       "02S 1.164  1.796 1.562      1.532   1.462    1.850         ES     1.164\n",
       "03J 3.417  2.098 3.690      3.665   3.404    3.806      ARIMA     2.098\n",
       "04J 2.789  2.641 2.765      2.634   3.035    2.895  ES_ajTend     2.634\n",
       "05J 1.930  1.274 2.059      1.609   1.373    1.323      ARIMA     1.274\n",
       "06J 1.274  1.584 1.927      1.625   1.434    1.435         ES     1.274\n",
       "07J 0.588  1.269 1.458      1.340   1.260    1.347         ES     0.588\n",
       "09J 1.048  1.118 1.041      1.358   1.130    1.125       HOLT     1.041"
      ]
     },
     "execution_count": 231,
     "metadata": {},
     "output_type": "execute_result"
    }
   ],
   "source": [
    "dfFinalErrores.head(10)"
   ]
  },
  {
   "cell_type": "code",
   "execution_count": 232,
   "id": "65581f6c",
   "metadata": {},
   "outputs": [
    {
     "data": {
      "text/plain": [
       "ARIMA        3749\n",
       "ARIMAX2      3345\n",
       "ES           2595\n",
       "ARIMAX       2046\n",
       "ES_ajTend    1369\n",
       "HOLT          591\n",
       "Name: seleccion, dtype: int64"
      ]
     },
     "execution_count": 232,
     "metadata": {},
     "output_type": "execute_result"
    }
   ],
   "source": [
    "dfFinalErrores['seleccion'].value_counts()"
   ]
  },
  {
   "cell_type": "markdown",
   "id": "358fccab",
   "metadata": {},
   "source": [
    "## Predicción Final"
   ]
  },
  {
   "cell_type": "code",
   "execution_count": 233,
   "id": "df298ad3",
   "metadata": {},
   "outputs": [
    {
     "data": {
      "text/plain": [
       "DatetimeIndex(['2022-01-01', '2022-02-01', '2022-03-01'], dtype='datetime64[ns]', name='FECHA', freq='MS')"
      ]
     },
     "execution_count": 233,
     "metadata": {},
     "output_type": "execute_result"
    }
   ],
   "source": [
    "ind_P = pd.date_range(fechaMaxima, periods = 4, freq ='MS', name='FECHA')[1:]#cantidad de meses a predecir \n",
    "ind_P"
   ]
  },
  {
   "cell_type": "code",
   "execution_count": 234,
   "id": "214ee54c",
   "metadata": {},
   "outputs": [],
   "source": [
    "finalPrediccionesFuturas = pd.DataFrame()\n",
    "groupedPred =TablaFinal[['Nodo','Value','MARCACIONES']].groupby('Nodo')"
   ]
  },
  {
   "cell_type": "code",
   "execution_count": 235,
   "id": "0e87bd57",
   "metadata": {},
   "outputs": [
    {
     "data": {
      "text/plain": [
       "ES           3.547\n",
       "ARIMA        1.487\n",
       "HOLT         3.365\n",
       "ES_ajTend    3.314\n",
       "ARIMAX       3.167\n",
       "ARIMAX2      2.117\n",
       "seleccion    ARIMA\n",
       "errorMin     1.487\n",
       "Name: 01J, dtype: object"
      ]
     },
     "execution_count": 235,
     "metadata": {},
     "output_type": "execute_result"
    }
   ],
   "source": [
    "dfFinalErrores.loc['01J']"
   ]
  },
  {
   "cell_type": "code",
   "execution_count": 236,
   "id": "825e5317",
   "metadata": {
    "scrolled": false,
    "tags": []
   },
   "outputs": [
    {
     "name": "stdout",
     "output_type": "stream",
     "text": [
      "0 01J\n",
      "1000 2IS2D\n",
      "2000 46B014\n",
      "3000 61013D\n",
      "4000 ALE4D\n",
      "5000 C1213D\n",
      "6000 DC6\n",
      "7000 FZ2\n",
      "8000 JLO\n",
      "9000 MM0\n",
      "10000 P2H\n",
      "11000 RG5\n",
      "12000 SSB1\n",
      "13000 VB4\n"
     ]
    }
   ],
   "source": [
    "i=0\n",
    "for g in groupedPred.groups:\n",
    "    if i>=numeroNodos:\n",
    "        continue\n",
    "    if i%1000==0:\n",
    "        print(i,g)    \n",
    "    group = groupedPred.get_group(g)        \n",
    "    mejorMetodo=dfFinalErrores.loc[g,'seleccion']\n",
    "    #print(mejorMetodo)\n",
    "    #metodo=dicMetodos[g][mejorMetodo]\n",
    "    #forecast=model.predict(group['Value'])\n",
    "    if mejorMetodo== 'ARIMA':\n",
    "        model=auto_arima(group['Value'].values,trace=False)\n",
    "        model.fit(group['Value'])  \n",
    "        forecast=pd.DataFrame(model.predict(n_periods = 3),index=ind_P)\n",
    "    elif mejorMetodo== 'ES':\n",
    "        model = SimpleExpSmoothing(group['Value'].values)\n",
    "        model=model.fit(smoothing_level=.5)\n",
    "        forecast=pd.DataFrame(model.forecast(3),index=ind_P)\n",
    "    elif mejorMetodo== 'HOLT':\n",
    "        model = Holt(group['Value'].values) \n",
    "        model = model.fit(optimized=True)\n",
    "        forecast=pd.DataFrame(model.forecast(3),index=ind_P)\n",
    "    elif mejorMetodo== 'ES_ajTend':\n",
    "        model = ExponentialSmoothing(group['Value'].values,trend='add', seasonal=None, damped=True)\n",
    "        model= model.fit()\n",
    "        forecast=pd.DataFrame(model.forecast(3),index=ind_P)\n",
    "    elif mejorMetodo=='ARIMAX':        \n",
    "        model=sm.tsa.statespace.SARIMAX(group['Value'].values,order=(1, 1, 1),exog=group['MARCACIONES'].values)\n",
    "        model=model.fit()            \n",
    "        num_start=len(group['Value'])\n",
    "        forecast=pd.DataFrame(model.predict(start=num_start,end=num_start+2,exog=group['MARCACIONES'].values[-3:],dynamic=True),index=ind_P)\n",
    "        #forecast=pd.DataFrame(results.predict(n_periods = 3,dynamic=True),index=ind_P)\n",
    "    elif metodo=='ARIMAX2':\n",
    "        model=auto_arima(group['Value'].values,trace=False,exogenous=group['MARCACIONES'].values.reshape(-1,1))\n",
    "        forecast= pd.DataFrame(model.predict(n_periods=3,exogenous=group['MARCACIONES'].values[-3:].reshape(-1,1)),index=ind_P)\n",
    "            \n",
    "    #elif metodo== 'ETS': \n",
    "        #num_start=len(group['Value'])\n",
    "        #perPred= 3\n",
    "        #periodos = 12 if int(num_start/2)>12 else (6 if int(num_start/2)>6 else int(num_start/2))         \n",
    "\n",
    "        #model = ETSModel(group['Value'].astype(float),seasonal_periods=periodos ,error=\"add\",trend=\"add\",seasonal=\"add\", damped_trend=True,)\n",
    "        #model = model.fit()                \n",
    "        #forecast = pd.DataFrame(model.get_prediction(start=num_start, end=num_start+perPred-1).summary_frame(alpha=0.05)['mean'],index=ind_P)       \n",
    "\n",
    "    \n",
    "    forecast.columns = ['pred']\n",
    "    forecast['Nodo']=g\n",
    "    forecast['Metodo']=mejorMetodo\n",
    "\n",
    "    if i==0:\n",
    "        finalPrediccionesFuturas=forecast\n",
    "    else:\n",
    "        finalPrediccionesFuturas=finalPrediccionesFuturas.append(forecast) \n",
    "    i=i+1\n",
    "        "
   ]
  },
  {
   "cell_type": "code",
   "execution_count": 237,
   "id": "05d97be0",
   "metadata": {},
   "outputs": [],
   "source": [
    "#Reemplazar positivos por cero\n",
    "finalPrediccionesFuturas['pred']=np.where(finalPrediccionesFuturas['pred']>0,0,finalPrediccionesFuturas['pred'])"
   ]
  },
  {
   "cell_type": "code",
   "execution_count": 238,
   "id": "1d76594a",
   "metadata": {},
   "outputs": [
    {
     "data": {
      "text/html": [
       "<div>\n",
       "<style scoped>\n",
       "    .dataframe tbody tr th:only-of-type {\n",
       "        vertical-align: middle;\n",
       "    }\n",
       "\n",
       "    .dataframe tbody tr th {\n",
       "        vertical-align: top;\n",
       "    }\n",
       "\n",
       "    .dataframe thead th {\n",
       "        text-align: right;\n",
       "    }\n",
       "</style>\n",
       "<table border=\"1\" class=\"dataframe\">\n",
       "  <thead>\n",
       "    <tr style=\"text-align: right;\">\n",
       "      <th></th>\n",
       "      <th>pred</th>\n",
       "      <th>Nodo</th>\n",
       "      <th>Metodo</th>\n",
       "    </tr>\n",
       "    <tr>\n",
       "      <th>FECHA</th>\n",
       "      <th></th>\n",
       "      <th></th>\n",
       "      <th></th>\n",
       "    </tr>\n",
       "  </thead>\n",
       "  <tbody>\n",
       "    <tr>\n",
       "      <th>2022-01-01</th>\n",
       "      <td>-1.042</td>\n",
       "      <td>CCQ</td>\n",
       "      <td>ARIMAX2</td>\n",
       "    </tr>\n",
       "    <tr>\n",
       "      <th>2022-02-01</th>\n",
       "      <td>-1.341</td>\n",
       "      <td>39I2D</td>\n",
       "      <td>HOLT</td>\n",
       "    </tr>\n",
       "    <tr>\n",
       "      <th>2022-02-01</th>\n",
       "      <td>0.000</td>\n",
       "      <td>EP3</td>\n",
       "      <td>ARIMA</td>\n",
       "    </tr>\n",
       "    <tr>\n",
       "      <th>2022-01-01</th>\n",
       "      <td>-0.019</td>\n",
       "      <td>3LA</td>\n",
       "      <td>ES</td>\n",
       "    </tr>\n",
       "    <tr>\n",
       "      <th>2022-03-01</th>\n",
       "      <td>-0.586</td>\n",
       "      <td>SMX</td>\n",
       "      <td>ARIMAX2</td>\n",
       "    </tr>\n",
       "    <tr>\n",
       "      <th>2022-02-01</th>\n",
       "      <td>-1.332</td>\n",
       "      <td>J1R</td>\n",
       "      <td>ES_ajTend</td>\n",
       "    </tr>\n",
       "    <tr>\n",
       "      <th>2022-01-01</th>\n",
       "      <td>-2.053</td>\n",
       "      <td>IMO</td>\n",
       "      <td>ARIMAX</td>\n",
       "    </tr>\n",
       "    <tr>\n",
       "      <th>2022-02-01</th>\n",
       "      <td>-0.130</td>\n",
       "      <td>FOE</td>\n",
       "      <td>ES</td>\n",
       "    </tr>\n",
       "    <tr>\n",
       "      <th>2022-03-01</th>\n",
       "      <td>-0.537</td>\n",
       "      <td>BE2</td>\n",
       "      <td>ARIMA</td>\n",
       "    </tr>\n",
       "    <tr>\n",
       "      <th>2022-01-01</th>\n",
       "      <td>-1.000</td>\n",
       "      <td>UGN</td>\n",
       "      <td>ES</td>\n",
       "    </tr>\n",
       "  </tbody>\n",
       "</table>\n",
       "</div>"
      ],
      "text/plain": [
       "             pred   Nodo     Metodo\n",
       "FECHA                              \n",
       "2022-01-01 -1.042    CCQ    ARIMAX2\n",
       "2022-02-01 -1.341  39I2D       HOLT\n",
       "2022-02-01  0.000    EP3      ARIMA\n",
       "2022-01-01 -0.019    3LA         ES\n",
       "2022-03-01 -0.586    SMX    ARIMAX2\n",
       "2022-02-01 -1.332    J1R  ES_ajTend\n",
       "2022-01-01 -2.053    IMO     ARIMAX\n",
       "2022-02-01 -0.130    FOE         ES\n",
       "2022-03-01 -0.537    BE2      ARIMA\n",
       "2022-01-01 -1.000    UGN         ES"
      ]
     },
     "execution_count": 238,
     "metadata": {},
     "output_type": "execute_result"
    }
   ],
   "source": [
    "finalPrediccionesFuturas.sample(10)"
   ]
  },
  {
   "cell_type": "markdown",
   "id": "a7c2cb2d",
   "metadata": {},
   "source": [
    "## MERGE"
   ]
  },
  {
   "cell_type": "code",
   "execution_count": 239,
   "id": "699ad5f0",
   "metadata": {},
   "outputs": [
    {
     "data": {
      "text/html": [
       "<div>\n",
       "<style scoped>\n",
       "    .dataframe tbody tr th:only-of-type {\n",
       "        vertical-align: middle;\n",
       "    }\n",
       "\n",
       "    .dataframe tbody tr th {\n",
       "        vertical-align: top;\n",
       "    }\n",
       "\n",
       "    .dataframe thead th {\n",
       "        text-align: right;\n",
       "    }\n",
       "</style>\n",
       "<table border=\"1\" class=\"dataframe\">\n",
       "  <thead>\n",
       "    <tr style=\"text-align: right;\">\n",
       "      <th></th>\n",
       "      <th>FECHA</th>\n",
       "      <th>pred</th>\n",
       "      <th>Nodo</th>\n",
       "      <th>Metodo</th>\n",
       "      <th>E_distrito</th>\n",
       "      <th>Regional</th>\n",
       "    </tr>\n",
       "  </thead>\n",
       "  <tbody>\n",
       "    <tr>\n",
       "      <th>0</th>\n",
       "      <td>2022-01-01</td>\n",
       "      <td>-0.624</td>\n",
       "      <td>01J</td>\n",
       "      <td>ARIMA</td>\n",
       "      <td>CORDOBA SUCRE DISTRITO 3</td>\n",
       "      <td>REGION COSTA</td>\n",
       "    </tr>\n",
       "    <tr>\n",
       "      <th>1</th>\n",
       "      <td>2022-02-01</td>\n",
       "      <td>-1.109</td>\n",
       "      <td>01J</td>\n",
       "      <td>ARIMA</td>\n",
       "      <td>CORDOBA SUCRE DISTRITO 3</td>\n",
       "      <td>REGION COSTA</td>\n",
       "    </tr>\n",
       "    <tr>\n",
       "      <th>2</th>\n",
       "      <td>2022-03-01</td>\n",
       "      <td>-1.109</td>\n",
       "      <td>01J</td>\n",
       "      <td>ARIMA</td>\n",
       "      <td>CORDOBA SUCRE DISTRITO 3</td>\n",
       "      <td>REGION COSTA</td>\n",
       "    </tr>\n",
       "    <tr>\n",
       "      <th>3</th>\n",
       "      <td>2022-01-01</td>\n",
       "      <td>-1.519</td>\n",
       "      <td>01S</td>\n",
       "      <td>HOLT</td>\n",
       "      <td>GAITANA</td>\n",
       "      <td>REGION CENTRO</td>\n",
       "    </tr>\n",
       "    <tr>\n",
       "      <th>4</th>\n",
       "      <td>2022-02-01</td>\n",
       "      <td>-1.578</td>\n",
       "      <td>01S</td>\n",
       "      <td>HOLT</td>\n",
       "      <td>GAITANA</td>\n",
       "      <td>REGION CENTRO</td>\n",
       "    </tr>\n",
       "  </tbody>\n",
       "</table>\n",
       "</div>"
      ],
      "text/plain": [
       "       FECHA   pred Nodo Metodo                E_distrito       Regional\n",
       "0 2022-01-01 -0.624  01J  ARIMA  CORDOBA SUCRE DISTRITO 3   REGION COSTA\n",
       "1 2022-02-01 -1.109  01J  ARIMA  CORDOBA SUCRE DISTRITO 3   REGION COSTA\n",
       "2 2022-03-01 -1.109  01J  ARIMA  CORDOBA SUCRE DISTRITO 3   REGION COSTA\n",
       "3 2022-01-01 -1.519  01S   HOLT                   GAITANA  REGION CENTRO\n",
       "4 2022-02-01 -1.578  01S   HOLT                   GAITANA  REGION CENTRO"
      ]
     },
     "execution_count": 239,
     "metadata": {},
     "output_type": "execute_result"
    }
   ],
   "source": [
    "resultadoFinal=finalPrediccionesFuturas.reset_index().merge(maestroNodo,left_on='Nodo',right_on='Nodo',how='left')\n",
    "resultadoFinal.head(5)"
   ]
  },
  {
   "cell_type": "code",
   "execution_count": 240,
   "id": "ac74e81e",
   "metadata": {},
   "outputs": [],
   "source": [
    "resultadoFinal.to_csv('resultadoPrediciones_CHURN.csv',sep=';',decimal='.')"
   ]
  },
  {
   "cell_type": "code",
   "execution_count": null,
   "id": "7d8f9bf2",
   "metadata": {},
   "outputs": [],
   "source": []
  },
  {
   "cell_type": "code",
   "execution_count": 241,
   "id": "62108996",
   "metadata": {
    "scrolled": true
   },
   "outputs": [
    {
     "data": {
      "text/html": [
       "<div>\n",
       "<style scoped>\n",
       "    .dataframe tbody tr th:only-of-type {\n",
       "        vertical-align: middle;\n",
       "    }\n",
       "\n",
       "    .dataframe tbody tr th {\n",
       "        vertical-align: top;\n",
       "    }\n",
       "\n",
       "    .dataframe thead th {\n",
       "        text-align: right;\n",
       "    }\n",
       "</style>\n",
       "<table border=\"1\" class=\"dataframe\">\n",
       "  <thead>\n",
       "    <tr style=\"text-align: right;\">\n",
       "      <th></th>\n",
       "      <th>pred</th>\n",
       "      <th>Nodo</th>\n",
       "      <th>Metodo</th>\n",
       "    </tr>\n",
       "  </thead>\n",
       "  <tbody>\n",
       "    <tr>\n",
       "      <th>2021-10-01</th>\n",
       "      <td>-3.547</td>\n",
       "      <td>01J</td>\n",
       "      <td>ES</td>\n",
       "    </tr>\n",
       "    <tr>\n",
       "      <th>2021-11-01</th>\n",
       "      <td>-3.547</td>\n",
       "      <td>01J</td>\n",
       "      <td>ES</td>\n",
       "    </tr>\n",
       "    <tr>\n",
       "      <th>2021-12-01</th>\n",
       "      <td>-3.547</td>\n",
       "      <td>01J</td>\n",
       "      <td>ES</td>\n",
       "    </tr>\n",
       "    <tr>\n",
       "      <th>2021-10-01</th>\n",
       "      <td>-1.787</td>\n",
       "      <td>01J</td>\n",
       "      <td>ARIMA</td>\n",
       "    </tr>\n",
       "    <tr>\n",
       "      <th>2021-11-01</th>\n",
       "      <td>-1.311</td>\n",
       "      <td>01J</td>\n",
       "      <td>ARIMA</td>\n",
       "    </tr>\n",
       "  </tbody>\n",
       "</table>\n",
       "</div>"
      ],
      "text/plain": [
       "             pred Nodo Metodo\n",
       "2021-10-01 -3.547  01J     ES\n",
       "2021-11-01 -3.547  01J     ES\n",
       "2021-12-01 -3.547  01J     ES\n",
       "2021-10-01 -1.787  01J  ARIMA\n",
       "2021-11-01 -1.311  01J  ARIMA"
      ]
     },
     "execution_count": 241,
     "metadata": {},
     "output_type": "execute_result"
    }
   ],
   "source": [
    "final.head()"
   ]
  },
  {
   "cell_type": "code",
   "execution_count": 242,
   "id": "31c3afdb",
   "metadata": {},
   "outputs": [
    {
     "data": {
      "text/plain": [
       "246468"
      ]
     },
     "execution_count": 242,
     "metadata": {},
     "output_type": "execute_result"
    }
   ],
   "source": [
    "len(final)"
   ]
  },
  {
   "cell_type": "code",
   "execution_count": 134,
   "id": "b637e5a2",
   "metadata": {},
   "outputs": [],
   "source": [
    "final.to_csv('final.csv',sep=';',decimal='.')"
   ]
  },
  {
   "cell_type": "markdown",
   "id": "ca94b97d",
   "metadata": {},
   "source": [
    "# PREDICCIÓN CONTACT POR NODO"
   ]
  },
  {
   "cell_type": "code",
   "execution_count": null,
   "id": "da76409c",
   "metadata": {},
   "outputs": [],
   "source": [
    "TablaFinalC=TablaMarClient.merge(TablaChurn,left_on=['NODO','FECHA'],right_on=['Nodo','fecha2'], how='left')"
   ]
  },
  {
   "cell_type": "code",
   "execution_count": null,
   "id": "ebd957fc",
   "metadata": {},
   "outputs": [],
   "source": [
    "TablaFinalC.head()"
   ]
  },
  {
   "cell_type": "code",
   "execution_count": null,
   "id": "82250e76",
   "metadata": {},
   "outputs": [],
   "source": [
    "TablaFinalC.isnull().sum()"
   ]
  },
  {
   "cell_type": "code",
   "execution_count": 101,
   "id": "16449808",
   "metadata": {},
   "outputs": [
    {
     "data": {
      "text/html": [
       "<div>\n",
       "<style scoped>\n",
       "    .dataframe tbody tr th:only-of-type {\n",
       "        vertical-align: middle;\n",
       "    }\n",
       "\n",
       "    .dataframe tbody tr th {\n",
       "        vertical-align: top;\n",
       "    }\n",
       "\n",
       "    .dataframe thead th {\n",
       "        text-align: right;\n",
       "    }\n",
       "</style>\n",
       "<table border=\"1\" class=\"dataframe\">\n",
       "  <thead>\n",
       "    <tr style=\"text-align: right;\">\n",
       "      <th></th>\n",
       "      <th>REGIONAL</th>\n",
       "      <th>Distrito</th>\n",
       "      <th>NODO</th>\n",
       "      <th>MARCACIONES</th>\n",
       "      <th>CLIENTES</th>\n",
       "      <th>CONTACT</th>\n",
       "      <th>MES</th>\n",
       "      <th>ANIO</th>\n",
       "      <th>DIA</th>\n",
       "      <th>FECHA1</th>\n",
       "      <th>FECHA</th>\n",
       "      <th>Regional</th>\n",
       "      <th>E_distrito</th>\n",
       "      <th>Nodo</th>\n",
       "      <th>Fecha</th>\n",
       "      <th>Value</th>\n",
       "      <th>fecha2</th>\n",
       "    </tr>\n",
       "  </thead>\n",
       "  <tbody>\n",
       "  </tbody>\n",
       "</table>\n",
       "</div>"
      ],
      "text/plain": [
       "Empty DataFrame\n",
       "Columns: [REGIONAL, Distrito, NODO, MARCACIONES, CLIENTES , CONTACT, MES, ANIO, DIA, FECHA1, FECHA, Regional, E_distrito, Nodo, Fecha, Value, fecha2]\n",
       "Index: []"
      ]
     },
     "execution_count": 101,
     "metadata": {},
     "output_type": "execute_result"
    }
   ],
   "source": [
    "TablaFinalC[TablaFinalC['Nodo'].isnull()].head(10)"
   ]
  },
  {
   "cell_type": "code",
   "execution_count": 102,
   "id": "fa64e3df",
   "metadata": {},
   "outputs": [],
   "source": [
    "Reg_Churn_NoenContact=TablaFinalC[TablaFinalC['Nodo'].isnull()]\n",
    "Reg_Churn_NoenContact.to_csv('Reg_Contact_NoenChurn.csv',sep=';',decimal='.')"
   ]
  },
  {
   "cell_type": "code",
   "execution_count": 103,
   "id": "cd395c9c",
   "metadata": {},
   "outputs": [
    {
     "data": {
      "text/plain": [
       "321874"
      ]
     },
     "execution_count": 103,
     "metadata": {},
     "output_type": "execute_result"
    }
   ],
   "source": [
    "len(TablaFinalC)"
   ]
  },
  {
   "cell_type": "code",
   "execution_count": 104,
   "id": "9102709b",
   "metadata": {},
   "outputs": [],
   "source": [
    "TablaFinalC.drop(columns=['Fecha','fecha2','ANIO','MES','DIA','FECHA1','Nodo','E_distrito','Regional'], inplace=True)"
   ]
  },
  {
   "cell_type": "code",
   "execution_count": 105,
   "id": "ddf6f2c3",
   "metadata": {},
   "outputs": [
    {
     "data": {
      "text/html": [
       "<div>\n",
       "<style scoped>\n",
       "    .dataframe tbody tr th:only-of-type {\n",
       "        vertical-align: middle;\n",
       "    }\n",
       "\n",
       "    .dataframe tbody tr th {\n",
       "        vertical-align: top;\n",
       "    }\n",
       "\n",
       "    .dataframe thead th {\n",
       "        text-align: right;\n",
       "    }\n",
       "</style>\n",
       "<table border=\"1\" class=\"dataframe\">\n",
       "  <thead>\n",
       "    <tr style=\"text-align: right;\">\n",
       "      <th></th>\n",
       "      <th>REGIONAL</th>\n",
       "      <th>Distrito</th>\n",
       "      <th>NODO</th>\n",
       "      <th>MARCACIONES</th>\n",
       "      <th>CLIENTES</th>\n",
       "      <th>CONTACT</th>\n",
       "      <th>FECHA</th>\n",
       "      <th>Value</th>\n",
       "    </tr>\n",
       "  </thead>\n",
       "  <tbody>\n",
       "    <tr>\n",
       "      <th>249798</th>\n",
       "      <td>REGION NOROCCIDENTE</td>\n",
       "      <td>MEDELLIN SURORIENTAL</td>\n",
       "      <td>PT6</td>\n",
       "      <td>6.000</td>\n",
       "      <td>68</td>\n",
       "      <td>8.824</td>\n",
       "      <td>2021-07-01</td>\n",
       "      <td>-1.471</td>\n",
       "    </tr>\n",
       "    <tr>\n",
       "      <th>233824</th>\n",
       "      <td>REGION COSTA</td>\n",
       "      <td>BARRANQUILLA 2 DISTRITO 2</td>\n",
       "      <td>L4N</td>\n",
       "      <td>4.000</td>\n",
       "      <td>76</td>\n",
       "      <td>5.263</td>\n",
       "      <td>2021-06-01</td>\n",
       "      <td>0.000</td>\n",
       "    </tr>\n",
       "    <tr>\n",
       "      <th>5899</th>\n",
       "      <td>REGION ORIENTE</td>\n",
       "      <td>DISTRITO FLORIDA 2</td>\n",
       "      <td>DST</td>\n",
       "      <td>4.000</td>\n",
       "      <td>92</td>\n",
       "      <td>4.348</td>\n",
       "      <td>2020-01-01</td>\n",
       "      <td>0.000</td>\n",
       "    </tr>\n",
       "    <tr>\n",
       "      <th>70535</th>\n",
       "      <td>REGION NOROCCIDENTE</td>\n",
       "      <td>MEDELLIN SURORIENTAL</td>\n",
       "      <td>CD3</td>\n",
       "      <td>3.000</td>\n",
       "      <td>33</td>\n",
       "      <td>9.091</td>\n",
       "      <td>2020-06-01</td>\n",
       "      <td>-3.030</td>\n",
       "    </tr>\n",
       "    <tr>\n",
       "      <th>256337</th>\n",
       "      <td>REGION CENTRO</td>\n",
       "      <td>PONTEVEDRA</td>\n",
       "      <td>8A5014</td>\n",
       "      <td>6.000</td>\n",
       "      <td>88</td>\n",
       "      <td>6.818</td>\n",
       "      <td>2021-08-01</td>\n",
       "      <td>-1.136</td>\n",
       "    </tr>\n",
       "    <tr>\n",
       "      <th>49220</th>\n",
       "      <td>REGION NOROCCIDENTE</td>\n",
       "      <td>MEDELLIN SURORIENTAL</td>\n",
       "      <td>PT2</td>\n",
       "      <td>1.000</td>\n",
       "      <td>14</td>\n",
       "      <td>7.143</td>\n",
       "      <td>2020-04-01</td>\n",
       "      <td>0.000</td>\n",
       "    </tr>\n",
       "    <tr>\n",
       "      <th>89502</th>\n",
       "      <td>REGION COSTA</td>\n",
       "      <td>BARRANQUILLA 2 DISTRITO 2</td>\n",
       "      <td>S5V</td>\n",
       "      <td>13.000</td>\n",
       "      <td>76</td>\n",
       "      <td>17.105</td>\n",
       "      <td>2020-07-01</td>\n",
       "      <td>0.000</td>\n",
       "    </tr>\n",
       "    <tr>\n",
       "      <th>117243</th>\n",
       "      <td>REGION ORIENTE</td>\n",
       "      <td>VILLAVICENCIO CATAMA</td>\n",
       "      <td>V26</td>\n",
       "      <td>24.000</td>\n",
       "      <td>263</td>\n",
       "      <td>9.125</td>\n",
       "      <td>2020-09-01</td>\n",
       "      <td>-2.281</td>\n",
       "    </tr>\n",
       "    <tr>\n",
       "      <th>262869</th>\n",
       "      <td>REGION NOROCCIDENTE</td>\n",
       "      <td>MEDELLIN SUROCCIDENTAL</td>\n",
       "      <td>ON5</td>\n",
       "      <td>8.000</td>\n",
       "      <td>302</td>\n",
       "      <td>2.649</td>\n",
       "      <td>2021-08-01</td>\n",
       "      <td>-1.656</td>\n",
       "    </tr>\n",
       "    <tr>\n",
       "      <th>106087</th>\n",
       "      <td>REGION CENTRO</td>\n",
       "      <td>GALERIAS</td>\n",
       "      <td>31A024</td>\n",
       "      <td>16.000</td>\n",
       "      <td>157</td>\n",
       "      <td>10.191</td>\n",
       "      <td>2020-09-01</td>\n",
       "      <td>0.000</td>\n",
       "    </tr>\n",
       "  </tbody>\n",
       "</table>\n",
       "</div>"
      ],
      "text/plain": [
       "                   REGIONAL                   Distrito    NODO  MARCACIONES  \\\n",
       "249798  REGION NOROCCIDENTE       MEDELLIN SURORIENTAL     PT6        6.000   \n",
       "233824         REGION COSTA  BARRANQUILLA 2 DISTRITO 2     L4N        4.000   \n",
       "5899         REGION ORIENTE         DISTRITO FLORIDA 2     DST        4.000   \n",
       "70535   REGION NOROCCIDENTE       MEDELLIN SURORIENTAL     CD3        3.000   \n",
       "256337        REGION CENTRO                 PONTEVEDRA  8A5014        6.000   \n",
       "49220   REGION NOROCCIDENTE       MEDELLIN SURORIENTAL     PT2        1.000   \n",
       "89502          REGION COSTA  BARRANQUILLA 2 DISTRITO 2     S5V       13.000   \n",
       "117243       REGION ORIENTE       VILLAVICENCIO CATAMA     V26       24.000   \n",
       "262869  REGION NOROCCIDENTE     MEDELLIN SUROCCIDENTAL     ON5        8.000   \n",
       "106087        REGION CENTRO                   GALERIAS  31A024       16.000   \n",
       "\n",
       "        CLIENTES   CONTACT       FECHA  Value  \n",
       "249798         68    8.824  2021-07-01 -1.471  \n",
       "233824         76    5.263  2021-06-01  0.000  \n",
       "5899           92    4.348  2020-01-01  0.000  \n",
       "70535          33    9.091  2020-06-01 -3.030  \n",
       "256337         88    6.818  2021-08-01 -1.136  \n",
       "49220          14    7.143  2020-04-01  0.000  \n",
       "89502          76   17.105  2020-07-01  0.000  \n",
       "117243        263    9.125  2020-09-01 -2.281  \n",
       "262869        302    2.649  2021-08-01 -1.656  \n",
       "106087        157   10.191  2020-09-01  0.000  "
      ]
     },
     "execution_count": 105,
     "metadata": {},
     "output_type": "execute_result"
    }
   ],
   "source": [
    "TablaFinalC.sample(10)"
   ]
  },
  {
   "cell_type": "code",
   "execution_count": 106,
   "id": "21d8948d",
   "metadata": {},
   "outputs": [],
   "source": [
    "# colocar la fecha como index\n",
    "TablaFinalC.set_index('FECHA',inplace=True)"
   ]
  },
  {
   "cell_type": "code",
   "execution_count": 107,
   "id": "8bc4df26",
   "metadata": {},
   "outputs": [],
   "source": [
    "TablaFinalC.index=pd.to_datetime(TablaFinalC.index)"
   ]
  },
  {
   "cell_type": "code",
   "execution_count": 108,
   "id": "15481649",
   "metadata": {},
   "outputs": [],
   "source": [
    "TablaFinalC['Value'].fillna(0,inplace=True)"
   ]
  },
  {
   "cell_type": "code",
   "execution_count": 109,
   "id": "1cdcf8e8",
   "metadata": {
    "scrolled": true
   },
   "outputs": [
    {
     "data": {
      "text/html": [
       "<div>\n",
       "<style scoped>\n",
       "    .dataframe tbody tr th:only-of-type {\n",
       "        vertical-align: middle;\n",
       "    }\n",
       "\n",
       "    .dataframe tbody tr th {\n",
       "        vertical-align: top;\n",
       "    }\n",
       "\n",
       "    .dataframe thead th {\n",
       "        text-align: right;\n",
       "    }\n",
       "</style>\n",
       "<table border=\"1\" class=\"dataframe\">\n",
       "  <thead>\n",
       "    <tr style=\"text-align: right;\">\n",
       "      <th></th>\n",
       "      <th>REGIONAL</th>\n",
       "      <th>Distrito</th>\n",
       "      <th>NODO</th>\n",
       "      <th>MARCACIONES</th>\n",
       "      <th>CLIENTES</th>\n",
       "      <th>CONTACT</th>\n",
       "      <th>Value</th>\n",
       "    </tr>\n",
       "    <tr>\n",
       "      <th>FECHA</th>\n",
       "      <th></th>\n",
       "      <th></th>\n",
       "      <th></th>\n",
       "      <th></th>\n",
       "      <th></th>\n",
       "      <th></th>\n",
       "      <th></th>\n",
       "    </tr>\n",
       "  </thead>\n",
       "  <tbody>\n",
       "    <tr>\n",
       "      <th>2021-01-01</th>\n",
       "      <td>REGION CENTRO</td>\n",
       "      <td>SAN FERNANDO</td>\n",
       "      <td>48B4D</td>\n",
       "      <td>1.000</td>\n",
       "      <td>43</td>\n",
       "      <td>2.326</td>\n",
       "      <td>-2.326</td>\n",
       "    </tr>\n",
       "    <tr>\n",
       "      <th>2021-05-01</th>\n",
       "      <td>REGION CENTRO</td>\n",
       "      <td>PONTEVEDRA</td>\n",
       "      <td>MEV</td>\n",
       "      <td>4.000</td>\n",
       "      <td>138</td>\n",
       "      <td>2.899</td>\n",
       "      <td>-1.449</td>\n",
       "    </tr>\n",
       "    <tr>\n",
       "      <th>2020-06-01</th>\n",
       "      <td>REGION OCCIDENTE</td>\n",
       "      <td>TOLIMA DISTRITO 3</td>\n",
       "      <td>DY1</td>\n",
       "      <td>26.000</td>\n",
       "      <td>309</td>\n",
       "      <td>8.414</td>\n",
       "      <td>-1.294</td>\n",
       "    </tr>\n",
       "    <tr>\n",
       "      <th>2020-09-01</th>\n",
       "      <td>REGION OCCIDENTE</td>\n",
       "      <td>TOLIMA DISTRITO 3</td>\n",
       "      <td>4MV</td>\n",
       "      <td>7.000</td>\n",
       "      <td>110</td>\n",
       "      <td>6.364</td>\n",
       "      <td>-2.727</td>\n",
       "    </tr>\n",
       "    <tr>\n",
       "      <th>2021-02-01</th>\n",
       "      <td>REGION NOROCCIDENTE</td>\n",
       "      <td>BELLO METROPOLITANO</td>\n",
       "      <td>4LC</td>\n",
       "      <td>5.000</td>\n",
       "      <td>67</td>\n",
       "      <td>7.463</td>\n",
       "      <td>0.000</td>\n",
       "    </tr>\n",
       "    <tr>\n",
       "      <th>2021-04-01</th>\n",
       "      <td>REGION OCCIDENTE</td>\n",
       "      <td>CALI SUR DISTRITO 7</td>\n",
       "      <td>RIO</td>\n",
       "      <td>9.000</td>\n",
       "      <td>70</td>\n",
       "      <td>12.857</td>\n",
       "      <td>-2.857</td>\n",
       "    </tr>\n",
       "    <tr>\n",
       "      <th>2021-08-01</th>\n",
       "      <td>REGION CENTRO</td>\n",
       "      <td>PUENTE ARANDA</td>\n",
       "      <td>5901</td>\n",
       "      <td>19.000</td>\n",
       "      <td>349</td>\n",
       "      <td>5.444</td>\n",
       "      <td>-0.860</td>\n",
       "    </tr>\n",
       "    <tr>\n",
       "      <th>2021-02-01</th>\n",
       "      <td>REGION ORIENTE</td>\n",
       "      <td>DISTRITO BGA 2</td>\n",
       "      <td>6SU</td>\n",
       "      <td>7.000</td>\n",
       "      <td>74</td>\n",
       "      <td>9.459</td>\n",
       "      <td>-1.351</td>\n",
       "    </tr>\n",
       "    <tr>\n",
       "      <th>2020-06-01</th>\n",
       "      <td>REGION CENTRO</td>\n",
       "      <td>CEDRITOS</td>\n",
       "      <td>5AI014</td>\n",
       "      <td>7.000</td>\n",
       "      <td>71</td>\n",
       "      <td>9.859</td>\n",
       "      <td>-1.408</td>\n",
       "    </tr>\n",
       "    <tr>\n",
       "      <th>2020-10-01</th>\n",
       "      <td>REGION CENTRO</td>\n",
       "      <td>BARRANCAS</td>\n",
       "      <td>5C3013</td>\n",
       "      <td>6.000</td>\n",
       "      <td>85</td>\n",
       "      <td>7.059</td>\n",
       "      <td>0.000</td>\n",
       "    </tr>\n",
       "    <tr>\n",
       "      <th>2021-06-01</th>\n",
       "      <td>REGION COSTA</td>\n",
       "      <td>MAGDALENA 1</td>\n",
       "      <td>VU3</td>\n",
       "      <td>41.000</td>\n",
       "      <td>477</td>\n",
       "      <td>8.595</td>\n",
       "      <td>-1.677</td>\n",
       "    </tr>\n",
       "    <tr>\n",
       "      <th>2020-05-01</th>\n",
       "      <td>REGION NOROCCIDENTE</td>\n",
       "      <td>PEREIRA5</td>\n",
       "      <td>CLA4D</td>\n",
       "      <td>14.000</td>\n",
       "      <td>111</td>\n",
       "      <td>12.613</td>\n",
       "      <td>0.000</td>\n",
       "    </tr>\n",
       "    <tr>\n",
       "      <th>2020-03-01</th>\n",
       "      <td>REGION COSTA</td>\n",
       "      <td>MAGDALENA 3</td>\n",
       "      <td>4CR</td>\n",
       "      <td>7.000</td>\n",
       "      <td>64</td>\n",
       "      <td>10.938</td>\n",
       "      <td>0.000</td>\n",
       "    </tr>\n",
       "    <tr>\n",
       "      <th>2021-08-01</th>\n",
       "      <td>REGION NOROCCIDENTE</td>\n",
       "      <td>BELLO NORTE</td>\n",
       "      <td>2NI</td>\n",
       "      <td>26.000</td>\n",
       "      <td>521</td>\n",
       "      <td>4.990</td>\n",
       "      <td>-2.111</td>\n",
       "    </tr>\n",
       "    <tr>\n",
       "      <th>2021-06-01</th>\n",
       "      <td>REGION CENTRO</td>\n",
       "      <td>PEPE SIERRA</td>\n",
       "      <td>1B3014</td>\n",
       "      <td>5.000</td>\n",
       "      <td>90</td>\n",
       "      <td>5.556</td>\n",
       "      <td>-2.222</td>\n",
       "    </tr>\n",
       "    <tr>\n",
       "      <th>2020-06-01</th>\n",
       "      <td>REGION CENTRO</td>\n",
       "      <td>COMPARTIR</td>\n",
       "      <td>CQT</td>\n",
       "      <td>14.000</td>\n",
       "      <td>145</td>\n",
       "      <td>9.655</td>\n",
       "      <td>-2.069</td>\n",
       "    </tr>\n",
       "    <tr>\n",
       "      <th>2020-05-01</th>\n",
       "      <td>REGION ORIENTE</td>\n",
       "      <td>DISTRITO BGA 1</td>\n",
       "      <td>GLN</td>\n",
       "      <td>7.000</td>\n",
       "      <td>73</td>\n",
       "      <td>9.589</td>\n",
       "      <td>0.000</td>\n",
       "    </tr>\n",
       "    <tr>\n",
       "      <th>2020-07-01</th>\n",
       "      <td>REGION COSTA</td>\n",
       "      <td>MAGDALENA 5</td>\n",
       "      <td>2MZ</td>\n",
       "      <td>1.000</td>\n",
       "      <td>42</td>\n",
       "      <td>2.381</td>\n",
       "      <td>0.000</td>\n",
       "    </tr>\n",
       "    <tr>\n",
       "      <th>2021-05-01</th>\n",
       "      <td>REGION CENTRO</td>\n",
       "      <td>PRADO VERANIEGO</td>\n",
       "      <td>JN13D</td>\n",
       "      <td>6.000</td>\n",
       "      <td>93</td>\n",
       "      <td>6.452</td>\n",
       "      <td>-1.075</td>\n",
       "    </tr>\n",
       "    <tr>\n",
       "      <th>2020-12-01</th>\n",
       "      <td>REGION CENTRO</td>\n",
       "      <td>SUBA RINCON</td>\n",
       "      <td>S4Y</td>\n",
       "      <td>22.000</td>\n",
       "      <td>351</td>\n",
       "      <td>6.268</td>\n",
       "      <td>-1.140</td>\n",
       "    </tr>\n",
       "  </tbody>\n",
       "</table>\n",
       "</div>"
      ],
      "text/plain": [
       "                       REGIONAL             Distrito    NODO  MARCACIONES  \\\n",
       "FECHA                                                                       \n",
       "2021-01-01        REGION CENTRO         SAN FERNANDO   48B4D        1.000   \n",
       "2021-05-01        REGION CENTRO           PONTEVEDRA     MEV        4.000   \n",
       "2020-06-01     REGION OCCIDENTE    TOLIMA DISTRITO 3     DY1       26.000   \n",
       "2020-09-01     REGION OCCIDENTE    TOLIMA DISTRITO 3     4MV        7.000   \n",
       "2021-02-01  REGION NOROCCIDENTE  BELLO METROPOLITANO     4LC        5.000   \n",
       "2021-04-01     REGION OCCIDENTE  CALI SUR DISTRITO 7     RIO        9.000   \n",
       "2021-08-01        REGION CENTRO        PUENTE ARANDA    5901       19.000   \n",
       "2021-02-01       REGION ORIENTE       DISTRITO BGA 2     6SU        7.000   \n",
       "2020-06-01        REGION CENTRO             CEDRITOS  5AI014        7.000   \n",
       "2020-10-01        REGION CENTRO            BARRANCAS  5C3013        6.000   \n",
       "2021-06-01         REGION COSTA          MAGDALENA 1     VU3       41.000   \n",
       "2020-05-01  REGION NOROCCIDENTE             PEREIRA5   CLA4D       14.000   \n",
       "2020-03-01         REGION COSTA          MAGDALENA 3     4CR        7.000   \n",
       "2021-08-01  REGION NOROCCIDENTE          BELLO NORTE     2NI       26.000   \n",
       "2021-06-01        REGION CENTRO          PEPE SIERRA  1B3014        5.000   \n",
       "2020-06-01        REGION CENTRO            COMPARTIR     CQT       14.000   \n",
       "2020-05-01       REGION ORIENTE       DISTRITO BGA 1     GLN        7.000   \n",
       "2020-07-01         REGION COSTA          MAGDALENA 5     2MZ        1.000   \n",
       "2021-05-01        REGION CENTRO      PRADO VERANIEGO   JN13D        6.000   \n",
       "2020-12-01        REGION CENTRO          SUBA RINCON     S4Y       22.000   \n",
       "\n",
       "            CLIENTES   CONTACT  Value  \n",
       "FECHA                                  \n",
       "2021-01-01         43    2.326 -2.326  \n",
       "2021-05-01        138    2.899 -1.449  \n",
       "2020-06-01        309    8.414 -1.294  \n",
       "2020-09-01        110    6.364 -2.727  \n",
       "2021-02-01         67    7.463  0.000  \n",
       "2021-04-01         70   12.857 -2.857  \n",
       "2021-08-01        349    5.444 -0.860  \n",
       "2021-02-01         74    9.459 -1.351  \n",
       "2020-06-01         71    9.859 -1.408  \n",
       "2020-10-01         85    7.059  0.000  \n",
       "2021-06-01        477    8.595 -1.677  \n",
       "2020-05-01        111   12.613  0.000  \n",
       "2020-03-01         64   10.938  0.000  \n",
       "2021-08-01        521    4.990 -2.111  \n",
       "2021-06-01         90    5.556 -2.222  \n",
       "2020-06-01        145    9.655 -2.069  \n",
       "2020-05-01         73    9.589  0.000  \n",
       "2020-07-01         42    2.381  0.000  \n",
       "2021-05-01         93    6.452 -1.075  \n",
       "2020-12-01        351    6.268 -1.140  "
      ]
     },
     "execution_count": 109,
     "metadata": {},
     "output_type": "execute_result"
    }
   ],
   "source": [
    "TablaFinalC.sample(20)"
   ]
  },
  {
   "cell_type": "markdown",
   "id": "d8ec7d38",
   "metadata": {},
   "source": [
    "### Identificación y corrección de negativos"
   ]
  },
  {
   "cell_type": "code",
   "execution_count": 110,
   "id": "451cabc0",
   "metadata": {},
   "outputs": [],
   "source": [
    "TablaFinalC['neg']=np.where(TablaFinalC['CONTACT']<0,1,0)"
   ]
  },
  {
   "cell_type": "code",
   "execution_count": 111,
   "id": "8c315da2",
   "metadata": {},
   "outputs": [
    {
     "data": {
      "text/plain": [
       "REGIONAL       0\n",
       "Distrito       0\n",
       "NODO           0\n",
       "MARCACIONES    0\n",
       "CLIENTES       0\n",
       "CONTACT        0\n",
       "Value          0\n",
       "neg            0\n",
       "dtype: int64"
      ]
     },
     "execution_count": 111,
     "metadata": {},
     "output_type": "execute_result"
    }
   ],
   "source": [
    "TablaFinalC[TablaFinalC['neg']==1].count()"
   ]
  },
  {
   "cell_type": "markdown",
   "id": "e3ce8b24",
   "metadata": {},
   "source": [
    "## Construcción de Maestro Nodos"
   ]
  },
  {
   "cell_type": "code",
   "execution_count": 112,
   "id": "953f1270",
   "metadata": {},
   "outputs": [],
   "source": [
    "maestroNodoC=TablaFinalC[['NODO','Distrito','REGIONAL']]"
   ]
  },
  {
   "cell_type": "code",
   "execution_count": 113,
   "id": "f06f4bdf",
   "metadata": {},
   "outputs": [],
   "source": [
    "# sorting by first name\n",
    "maestroNodoC.sort_index(ascending=True, inplace = True)\n",
    " \n",
    "# dropping ALL duplicate values\n",
    "maestroNodoC.drop_duplicates(subset =[\"NODO\"], keep = 'last', inplace = True)"
   ]
  },
  {
   "cell_type": "code",
   "execution_count": 114,
   "id": "232feb9a",
   "metadata": {},
   "outputs": [
    {
     "data": {
      "text/html": [
       "<div>\n",
       "<style scoped>\n",
       "    .dataframe tbody tr th:only-of-type {\n",
       "        vertical-align: middle;\n",
       "    }\n",
       "\n",
       "    .dataframe tbody tr th {\n",
       "        vertical-align: top;\n",
       "    }\n",
       "\n",
       "    .dataframe thead th {\n",
       "        text-align: right;\n",
       "    }\n",
       "</style>\n",
       "<table border=\"1\" class=\"dataframe\">\n",
       "  <thead>\n",
       "    <tr style=\"text-align: right;\">\n",
       "      <th></th>\n",
       "      <th>NODO</th>\n",
       "      <th>Distrito</th>\n",
       "      <th>REGIONAL</th>\n",
       "    </tr>\n",
       "    <tr>\n",
       "      <th>FECHA</th>\n",
       "      <th></th>\n",
       "      <th></th>\n",
       "      <th></th>\n",
       "    </tr>\n",
       "  </thead>\n",
       "  <tbody>\n",
       "    <tr>\n",
       "      <th>2020-01-01</th>\n",
       "      <td>PDV</td>\n",
       "      <td>PEREIRA5</td>\n",
       "      <td>REGION NOROCCIDENTE</td>\n",
       "    </tr>\n",
       "    <tr>\n",
       "      <th>2020-02-01</th>\n",
       "      <td>AS34A</td>\n",
       "      <td>NaN</td>\n",
       "      <td>NaN</td>\n",
       "    </tr>\n",
       "    <tr>\n",
       "      <th>2020-03-01</th>\n",
       "      <td>IAB</td>\n",
       "      <td>NaN</td>\n",
       "      <td>NaN</td>\n",
       "    </tr>\n",
       "  </tbody>\n",
       "</table>\n",
       "</div>"
      ],
      "text/plain": [
       "             NODO  Distrito             REGIONAL\n",
       "FECHA                                           \n",
       "2020-01-01    PDV  PEREIRA5  REGION NOROCCIDENTE\n",
       "2020-02-01  AS34A       NaN                  NaN\n",
       "2020-03-01    IAB       NaN                  NaN"
      ]
     },
     "execution_count": 114,
     "metadata": {},
     "output_type": "execute_result"
    }
   ],
   "source": [
    "maestroNodoC.head(3)"
   ]
  },
  {
   "cell_type": "code",
   "execution_count": 115,
   "id": "91142473",
   "metadata": {},
   "outputs": [
    {
     "data": {
      "text/html": [
       "<div>\n",
       "<style scoped>\n",
       "    .dataframe tbody tr th:only-of-type {\n",
       "        vertical-align: middle;\n",
       "    }\n",
       "\n",
       "    .dataframe tbody tr th {\n",
       "        vertical-align: top;\n",
       "    }\n",
       "\n",
       "    .dataframe thead th {\n",
       "        text-align: right;\n",
       "    }\n",
       "</style>\n",
       "<table border=\"1\" class=\"dataframe\">\n",
       "  <thead>\n",
       "    <tr style=\"text-align: right;\">\n",
       "      <th></th>\n",
       "      <th>NODO</th>\n",
       "      <th>Distrito</th>\n",
       "      <th>REGIONAL</th>\n",
       "    </tr>\n",
       "    <tr>\n",
       "      <th>FECHA</th>\n",
       "      <th></th>\n",
       "      <th></th>\n",
       "      <th></th>\n",
       "    </tr>\n",
       "  </thead>\n",
       "  <tbody>\n",
       "    <tr>\n",
       "      <th>2021-12-01</th>\n",
       "      <td>LCR14D</td>\n",
       "      <td>EL ENSUE?O</td>\n",
       "      <td>REGION CENTRO</td>\n",
       "    </tr>\n",
       "  </tbody>\n",
       "</table>\n",
       "</div>"
      ],
      "text/plain": [
       "              NODO    Distrito       REGIONAL\n",
       "FECHA                                        \n",
       "2021-12-01  LCR14D  EL ENSUE?O  REGION CENTRO"
      ]
     },
     "execution_count": 115,
     "metadata": {},
     "output_type": "execute_result"
    }
   ],
   "source": [
    "maestroNodoC[maestroNodoC['NODO']=='LCR14D']"
   ]
  },
  {
   "cell_type": "markdown",
   "id": "4c429cbe",
   "metadata": {},
   "source": [
    "##  Separación Entrenamiento y testing"
   ]
  },
  {
   "cell_type": "code",
   "execution_count": 116,
   "id": "4c86d8b9",
   "metadata": {},
   "outputs": [
    {
     "data": {
      "text/plain": [
       "Timestamp('2021-12-01 00:00:00')"
      ]
     },
     "execution_count": 116,
     "metadata": {},
     "output_type": "execute_result"
    }
   ],
   "source": [
    "fechaMaxima=max(TablaFinalC.index)\n",
    "fechaMaxima"
   ]
  },
  {
   "cell_type": "code",
   "execution_count": 117,
   "id": "5e3ed94a",
   "metadata": {},
   "outputs": [
    {
     "data": {
      "text/plain": [
       "DatetimeIndex(['2020-01-01', '2020-02-01', '2020-03-01', '2020-04-01',\n",
       "               '2020-05-01', '2020-06-01', '2020-07-01', '2020-08-01',\n",
       "               '2020-09-01', '2020-10-01', '2020-11-01', '2020-12-01',\n",
       "               '2021-01-01', '2021-02-01', '2021-03-01', '2021-04-01',\n",
       "               '2021-05-01', '2021-06-01', '2021-07-01', '2021-08-01',\n",
       "               '2021-09-01', '2021-10-01', '2021-11-01', '2021-12-01'],\n",
       "              dtype='datetime64[ns]', name='FECHA', freq=None)"
      ]
     },
     "execution_count": 117,
     "metadata": {},
     "output_type": "execute_result"
    }
   ],
   "source": [
    "TablaFinalC.index.unique()"
   ]
  },
  {
   "cell_type": "code",
   "execution_count": 118,
   "id": "1443a639",
   "metadata": {},
   "outputs": [],
   "source": [
    "fechaTrain=TablaFinalC.index.unique()[-4]\n",
    "fechaTest=TablaFinalC.index.unique()[-3]"
   ]
  },
  {
   "cell_type": "code",
   "execution_count": 119,
   "id": "c70a30b5",
   "metadata": {},
   "outputs": [
    {
     "name": "stdout",
     "output_type": "stream",
     "text": [
      "2021-09-01 00:00:00 2021-10-01 00:00:00\n"
     ]
    }
   ],
   "source": [
    "print (fechaTrain,fechaTest)"
   ]
  },
  {
   "cell_type": "markdown",
   "id": "728f659d",
   "metadata": {},
   "source": [
    "## Seleccion de Nodos\n",
    "* Nodos con información en los últimos 3 meses\n",
    "* Nodos con más de 7 registros (por entrenamiento y pruebas)"
   ]
  },
  {
   "cell_type": "code",
   "execution_count": 120,
   "id": "033e0f03",
   "metadata": {},
   "outputs": [
    {
     "data": {
      "text/plain": [
       "163881"
      ]
     },
     "execution_count": 120,
     "metadata": {},
     "output_type": "execute_result"
    }
   ],
   "source": [
    "len(TablaFinalC[TablaFinalC.index>='2021-01-01'])"
   ]
  },
  {
   "cell_type": "code",
   "execution_count": 121,
   "id": "7bbc88cf",
   "metadata": {},
   "outputs": [],
   "source": [
    "# Nodos con información en los últimos 3 meses\n",
    "ResumenC=TablaFinalC[TablaFinalC.index>='2021-01-01'].reset_index()[['FECHA','NODO']].groupby('NODO').agg(['max','count'])"
   ]
  },
  {
   "cell_type": "code",
   "execution_count": 122,
   "id": "213cc223",
   "metadata": {},
   "outputs": [
    {
     "data": {
      "text/html": [
       "<div>\n",
       "<style scoped>\n",
       "    .dataframe tbody tr th:only-of-type {\n",
       "        vertical-align: middle;\n",
       "    }\n",
       "\n",
       "    .dataframe tbody tr th {\n",
       "        vertical-align: top;\n",
       "    }\n",
       "\n",
       "    .dataframe thead tr th {\n",
       "        text-align: left;\n",
       "    }\n",
       "\n",
       "    .dataframe thead tr:last-of-type th {\n",
       "        text-align: right;\n",
       "    }\n",
       "</style>\n",
       "<table border=\"1\" class=\"dataframe\">\n",
       "  <thead>\n",
       "    <tr>\n",
       "      <th></th>\n",
       "      <th colspan=\"2\" halign=\"left\">FECHA</th>\n",
       "    </tr>\n",
       "    <tr>\n",
       "      <th></th>\n",
       "      <th>max</th>\n",
       "      <th>count</th>\n",
       "    </tr>\n",
       "    <tr>\n",
       "      <th>NODO</th>\n",
       "      <th></th>\n",
       "      <th></th>\n",
       "    </tr>\n",
       "  </thead>\n",
       "  <tbody>\n",
       "    <tr>\n",
       "      <th>01J</th>\n",
       "      <td>2021-12-01</td>\n",
       "      <td>12</td>\n",
       "    </tr>\n",
       "    <tr>\n",
       "      <th>01S</th>\n",
       "      <td>2021-12-01</td>\n",
       "      <td>12</td>\n",
       "    </tr>\n",
       "  </tbody>\n",
       "</table>\n",
       "</div>"
      ],
      "text/plain": [
       "          FECHA      \n",
       "            max count\n",
       "NODO                 \n",
       "01J  2021-12-01    12\n",
       "01S  2021-12-01    12"
      ]
     },
     "execution_count": 122,
     "metadata": {},
     "output_type": "execute_result"
    }
   ],
   "source": [
    "ResumenC.head(2)"
   ]
  },
  {
   "cell_type": "code",
   "execution_count": 123,
   "id": "c1f9af3d",
   "metadata": {},
   "outputs": [],
   "source": [
    "ResumenC.columns = ResumenC.columns.droplevel(0)"
   ]
  },
  {
   "cell_type": "code",
   "execution_count": 124,
   "id": "576ff05a",
   "metadata": {},
   "outputs": [
    {
     "data": {
      "text/plain": [
       "2021-12-01    13812\n",
       "2021-11-01       20\n",
       "2021-01-01       19\n",
       "2021-09-01       12\n",
       "2021-08-01        5\n",
       "2021-04-01        5\n",
       "2021-07-01        3\n",
       "2021-06-01        3\n",
       "2021-02-01        3\n",
       "2021-05-01        2\n",
       "2021-10-01        1\n",
       "Name: max, dtype: int64"
      ]
     },
     "execution_count": 124,
     "metadata": {},
     "output_type": "execute_result"
    }
   ],
   "source": [
    "ResumenC['max'].value_counts()"
   ]
  },
  {
   "cell_type": "code",
   "execution_count": 125,
   "id": "18f546eb",
   "metadata": {},
   "outputs": [],
   "source": [
    "ResumenC['sel']=np.where(ResumenC['max']<=fechaTest,'sinInfoReciente','nodoValido')"
   ]
  },
  {
   "cell_type": "code",
   "execution_count": 126,
   "id": "74b2b2f5",
   "metadata": {},
   "outputs": [
    {
     "data": {
      "text/plain": [
       "nodoValido         13832\n",
       "sinInfoReciente       53\n",
       "Name: sel, dtype: int64"
      ]
     },
     "execution_count": 126,
     "metadata": {},
     "output_type": "execute_result"
    }
   ],
   "source": [
    "ResumenC['sel'].value_counts()"
   ]
  },
  {
   "cell_type": "code",
   "execution_count": 127,
   "id": "96ae6898",
   "metadata": {},
   "outputs": [],
   "source": [
    "# Nodos con más de 7 registros (por entrenamiento y pruebas)"
   ]
  },
  {
   "cell_type": "code",
   "execution_count": 128,
   "id": "afcab626",
   "metadata": {},
   "outputs": [
    {
     "data": {
      "text/plain": [
       "12    13402\n",
       "8       145\n",
       "1        60\n",
       "2        49\n",
       "9        48\n",
       "7        48\n",
       "10       35\n",
       "11       29\n",
       "5        25\n",
       "4        18\n",
       "3        17\n",
       "6         9\n",
       "Name: count, dtype: int64"
      ]
     },
     "execution_count": 128,
     "metadata": {},
     "output_type": "execute_result"
    }
   ],
   "source": [
    "ResumenC['count'].value_counts()"
   ]
  },
  {
   "cell_type": "code",
   "execution_count": 129,
   "id": "2ed4d05d",
   "metadata": {},
   "outputs": [],
   "source": [
    "ResumenC['sel']=np.where(ResumenC['sel']=='nodoValido', np.where(ResumenC['count']<7,'sinRegSuf','nodoValido'),ResumenC['sel'])"
   ]
  },
  {
   "cell_type": "code",
   "execution_count": 130,
   "id": "34888f49",
   "metadata": {},
   "outputs": [
    {
     "data": {
      "text/plain": [
       "nodoValido         13695\n",
       "sinRegSuf            137\n",
       "sinInfoReciente       53\n",
       "Name: sel, dtype: int64"
      ]
     },
     "execution_count": 130,
     "metadata": {},
     "output_type": "execute_result"
    }
   ],
   "source": [
    "ResumenC['sel'].value_counts()"
   ]
  },
  {
   "cell_type": "code",
   "execution_count": 131,
   "id": "50cd720c",
   "metadata": {},
   "outputs": [
    {
     "data": {
      "text/html": [
       "<div>\n",
       "<style scoped>\n",
       "    .dataframe tbody tr th:only-of-type {\n",
       "        vertical-align: middle;\n",
       "    }\n",
       "\n",
       "    .dataframe tbody tr th {\n",
       "        vertical-align: top;\n",
       "    }\n",
       "\n",
       "    .dataframe thead th {\n",
       "        text-align: right;\n",
       "    }\n",
       "</style>\n",
       "<table border=\"1\" class=\"dataframe\">\n",
       "  <thead>\n",
       "    <tr style=\"text-align: right;\">\n",
       "      <th></th>\n",
       "      <th>max</th>\n",
       "      <th>count</th>\n",
       "      <th>sel</th>\n",
       "    </tr>\n",
       "    <tr>\n",
       "      <th>NODO</th>\n",
       "      <th></th>\n",
       "      <th></th>\n",
       "      <th></th>\n",
       "    </tr>\n",
       "  </thead>\n",
       "  <tbody>\n",
       "    <tr>\n",
       "      <th>01J</th>\n",
       "      <td>2021-12-01</td>\n",
       "      <td>12</td>\n",
       "      <td>nodoValido</td>\n",
       "    </tr>\n",
       "    <tr>\n",
       "      <th>01S</th>\n",
       "      <td>2021-12-01</td>\n",
       "      <td>12</td>\n",
       "      <td>nodoValido</td>\n",
       "    </tr>\n",
       "    <tr>\n",
       "      <th>02J</th>\n",
       "      <td>2021-12-01</td>\n",
       "      <td>12</td>\n",
       "      <td>nodoValido</td>\n",
       "    </tr>\n",
       "    <tr>\n",
       "      <th>02S</th>\n",
       "      <td>2021-12-01</td>\n",
       "      <td>12</td>\n",
       "      <td>nodoValido</td>\n",
       "    </tr>\n",
       "    <tr>\n",
       "      <th>03J</th>\n",
       "      <td>2021-12-01</td>\n",
       "      <td>12</td>\n",
       "      <td>nodoValido</td>\n",
       "    </tr>\n",
       "  </tbody>\n",
       "</table>\n",
       "</div>"
      ],
      "text/plain": [
       "            max  count         sel\n",
       "NODO                              \n",
       "01J  2021-12-01     12  nodoValido\n",
       "01S  2021-12-01     12  nodoValido\n",
       "02J  2021-12-01     12  nodoValido\n",
       "02S  2021-12-01     12  nodoValido\n",
       "03J  2021-12-01     12  nodoValido"
      ]
     },
     "execution_count": 131,
     "metadata": {},
     "output_type": "execute_result"
    }
   ],
   "source": [
    "ResumenC.head()"
   ]
  },
  {
   "cell_type": "code",
   "execution_count": 132,
   "id": "01720bb8",
   "metadata": {},
   "outputs": [],
   "source": [
    "TablaFinalC=TablaFinalC.merge(ResumenC['sel'], left_on='NODO', right_index=True,how='left')"
   ]
  },
  {
   "cell_type": "code",
   "execution_count": 133,
   "id": "c9e469c9",
   "metadata": {},
   "outputs": [
    {
     "data": {
      "text/html": [
       "<div>\n",
       "<style scoped>\n",
       "    .dataframe tbody tr th:only-of-type {\n",
       "        vertical-align: middle;\n",
       "    }\n",
       "\n",
       "    .dataframe tbody tr th {\n",
       "        vertical-align: top;\n",
       "    }\n",
       "\n",
       "    .dataframe thead th {\n",
       "        text-align: right;\n",
       "    }\n",
       "</style>\n",
       "<table border=\"1\" class=\"dataframe\">\n",
       "  <thead>\n",
       "    <tr style=\"text-align: right;\">\n",
       "      <th></th>\n",
       "      <th>REGIONAL</th>\n",
       "      <th>Distrito</th>\n",
       "      <th>NODO</th>\n",
       "      <th>MARCACIONES</th>\n",
       "      <th>CLIENTES</th>\n",
       "      <th>CONTACT</th>\n",
       "      <th>Value</th>\n",
       "      <th>neg</th>\n",
       "      <th>sel</th>\n",
       "    </tr>\n",
       "    <tr>\n",
       "      <th>FECHA</th>\n",
       "      <th></th>\n",
       "      <th></th>\n",
       "      <th></th>\n",
       "      <th></th>\n",
       "      <th></th>\n",
       "      <th></th>\n",
       "      <th></th>\n",
       "      <th></th>\n",
       "      <th></th>\n",
       "    </tr>\n",
       "  </thead>\n",
       "  <tbody>\n",
       "    <tr>\n",
       "      <th>2020-01-01</th>\n",
       "      <td>REGION CENTRO</td>\n",
       "      <td>SUBAZAR</td>\n",
       "      <td>10</td>\n",
       "      <td>4.000</td>\n",
       "      <td>86</td>\n",
       "      <td>4.651</td>\n",
       "      <td>0.000</td>\n",
       "      <td>0</td>\n",
       "      <td>nodoValido</td>\n",
       "    </tr>\n",
       "    <tr>\n",
       "      <th>2020-01-01</th>\n",
       "      <td>REGION CENTRO</td>\n",
       "      <td>BOLIVIA</td>\n",
       "      <td>11</td>\n",
       "      <td>3.000</td>\n",
       "      <td>75</td>\n",
       "      <td>4.000</td>\n",
       "      <td>0.000</td>\n",
       "      <td>0</td>\n",
       "      <td>nodoValido</td>\n",
       "    </tr>\n",
       "    <tr>\n",
       "      <th>2020-01-01</th>\n",
       "      <td>REGION CENTRO</td>\n",
       "      <td>BOLIVIA</td>\n",
       "      <td>12</td>\n",
       "      <td>16.000</td>\n",
       "      <td>310</td>\n",
       "      <td>5.161</td>\n",
       "      <td>0.000</td>\n",
       "      <td>0</td>\n",
       "      <td>nodoValido</td>\n",
       "    </tr>\n",
       "    <tr>\n",
       "      <th>2020-01-01</th>\n",
       "      <td>REGION CENTRO</td>\n",
       "      <td>IMPERIAL</td>\n",
       "      <td>13</td>\n",
       "      <td>15.000</td>\n",
       "      <td>269</td>\n",
       "      <td>5.576</td>\n",
       "      <td>0.000</td>\n",
       "      <td>0</td>\n",
       "      <td>nodoValido</td>\n",
       "    </tr>\n",
       "    <tr>\n",
       "      <th>2020-01-01</th>\n",
       "      <td>REGION CENTRO</td>\n",
       "      <td>CASTILLA</td>\n",
       "      <td>14</td>\n",
       "      <td>37.000</td>\n",
       "      <td>523</td>\n",
       "      <td>7.075</td>\n",
       "      <td>0.000</td>\n",
       "      <td>0</td>\n",
       "      <td>nodoValido</td>\n",
       "    </tr>\n",
       "  </tbody>\n",
       "</table>\n",
       "</div>"
      ],
      "text/plain": [
       "                 REGIONAL  Distrito NODO  MARCACIONES  CLIENTES   CONTACT  \\\n",
       "FECHA                                                                       \n",
       "2020-01-01  REGION CENTRO   SUBAZAR   10        4.000         86    4.651   \n",
       "2020-01-01  REGION CENTRO   BOLIVIA   11        3.000         75    4.000   \n",
       "2020-01-01  REGION CENTRO   BOLIVIA   12       16.000        310    5.161   \n",
       "2020-01-01  REGION CENTRO  IMPERIAL   13       15.000        269    5.576   \n",
       "2020-01-01  REGION CENTRO  CASTILLA   14       37.000        523    7.075   \n",
       "\n",
       "            Value  neg         sel  \n",
       "FECHA                               \n",
       "2020-01-01  0.000    0  nodoValido  \n",
       "2020-01-01  0.000    0  nodoValido  \n",
       "2020-01-01  0.000    0  nodoValido  \n",
       "2020-01-01  0.000    0  nodoValido  \n",
       "2020-01-01  0.000    0  nodoValido  "
      ]
     },
     "execution_count": 133,
     "metadata": {},
     "output_type": "execute_result"
    }
   ],
   "source": [
    "TablaFinalC.head()"
   ]
  },
  {
   "cell_type": "code",
   "execution_count": 134,
   "id": "f284073c",
   "metadata": {},
   "outputs": [
    {
     "data": {
      "text/plain": [
       "94"
      ]
     },
     "execution_count": 134,
     "metadata": {},
     "output_type": "execute_result"
    }
   ],
   "source": [
    "TablaFinalC['sel'].isnull().sum()"
   ]
  },
  {
   "cell_type": "code",
   "execution_count": 135,
   "id": "8cc3aa7e",
   "metadata": {},
   "outputs": [],
   "source": [
    "TablaFinalC['sel'].fillna('SinInfo2021',inplace=True)"
   ]
  },
  {
   "cell_type": "code",
   "execution_count": 136,
   "id": "4f03a733",
   "metadata": {},
   "outputs": [],
   "source": [
    "# guardar registros de nodos no considerados\n",
    "TablaFinalC[TablaFinalC['sel']!='nodoValido'].to_csv('NodosNoConsiderados.csv',sep=';',decimal='.')"
   ]
  },
  {
   "cell_type": "code",
   "execution_count": 137,
   "id": "ca5bcdfd",
   "metadata": {},
   "outputs": [],
   "source": [
    "TablaFinalC=TablaFinalC[TablaFinalC['sel']=='nodoValido']"
   ]
  },
  {
   "cell_type": "code",
   "execution_count": 138,
   "id": "cf0f4a6d",
   "metadata": {},
   "outputs": [
    {
     "data": {
      "text/plain": [
       "0.03827350145048562"
      ]
     },
     "execution_count": 138,
     "metadata": {},
     "output_type": "execute_result"
    }
   ],
   "source": [
    "len(TablaFinalC[TablaFinalC['CONTACT']==0])/len(TablaFinalC)"
   ]
  },
  {
   "cell_type": "code",
   "execution_count": 139,
   "id": "2b462f90",
   "metadata": {},
   "outputs": [],
   "source": [
    "TablaTrain=TablaFinalC[TablaFinalC.index <= fechaTrain]\n",
    "TablaTest=TablaFinalC[TablaFinalC.index >= fechaTest]"
   ]
  },
  {
   "cell_type": "markdown",
   "id": "57259f13",
   "metadata": {},
   "source": [
    "### Indices Entrenamiento"
   ]
  },
  {
   "cell_type": "code",
   "execution_count": 140,
   "id": "3ee70940",
   "metadata": {},
   "outputs": [
    {
     "data": {
      "text/plain": [
       "DatetimeIndex(['2021-10-01', '2021-11-01', '2021-12-01'], dtype='datetime64[ns]', name='FECHA', freq='MS')"
      ]
     },
     "execution_count": 140,
     "metadata": {},
     "output_type": "execute_result"
    }
   ],
   "source": [
    "ind = pd.date_range(TablaTrain.index.max(), periods = 4, freq ='MS', name='FECHA')[1:]\n",
    "ind"
   ]
  },
  {
   "cell_type": "code",
   "execution_count": 141,
   "id": "00f835a3",
   "metadata": {},
   "outputs": [
    {
     "data": {
      "text/plain": [
       "Timestamp('2021-12-01 00:00:00')"
      ]
     },
     "execution_count": 141,
     "metadata": {},
     "output_type": "execute_result"
    }
   ],
   "source": [
    "TablaFinalC.index.max()"
   ]
  },
  {
   "cell_type": "code",
   "execution_count": 142,
   "id": "9104165a",
   "metadata": {},
   "outputs": [
    {
     "data": {
      "text/plain": [
       "13695"
      ]
     },
     "execution_count": 142,
     "metadata": {},
     "output_type": "execute_result"
    }
   ],
   "source": [
    "numeroTotalNodos=TablaFinalC['NODO'].nunique()\n",
    "numeroTotalNodos"
   ]
  },
  {
   "cell_type": "markdown",
   "id": "a99f09ea",
   "metadata": {},
   "source": [
    "## Predicciones"
   ]
  },
  {
   "cell_type": "code",
   "execution_count": 143,
   "id": "7ac5c12d",
   "metadata": {},
   "outputs": [],
   "source": [
    "#numeroNodos=500\n",
    "numeroNodos=numeroTotalNodos"
   ]
  },
  {
   "cell_type": "code",
   "execution_count": 144,
   "id": "946804f0",
   "metadata": {},
   "outputs": [],
   "source": [
    "final = pd.DataFrame()\n",
    "finalErrores = {}\n",
    "grouped =TablaTrain[['NODO','CONTACT','Value']].groupby('NODO')\n",
    "groupedTest =TablaTest[['NODO','CONTACT','Value']].groupby('NODO')\n",
    "groupedFinal=TablaFinalC[['NODO','CONTACT','Value']].groupby('NODO')"
   ]
  },
  {
   "cell_type": "code",
   "execution_count": 145,
   "id": "ef74ed43",
   "metadata": {},
   "outputs": [],
   "source": [
    "metodos=['ES','ARIMA','HOLT','ES_ajTend','ARIMAX','ARIMAX2']"
   ]
  },
  {
   "cell_type": "code",
   "execution_count": null,
   "id": "8a4e35d9",
   "metadata": {
    "scrolled": true
   },
   "outputs": [
    {
     "name": "stdout",
     "output_type": "stream",
     "text": [
      "0 01J\n",
      "1000 2IS2D\n",
      "2000 46B014\n"
     ]
    }
   ],
   "source": [
    "i=0\n",
    "iNodo=0\n",
    "for g in grouped.groups:\n",
    "    #print(g)\n",
    "    if iNodo<numeroNodos:\n",
    "    #if  iNodo>=11000: \n",
    "        if iNodo>numeroNodos:\n",
    "            continue\n",
    "        if iNodo%1000==0:\n",
    "            print(iNodo,g)    \n",
    "        dicNodo={} \n",
    "        dicAuxMetodo={}\n",
    "        group = grouped.get_group(g) \n",
    "        groupTest = groupedTest.get_group(g) \n",
    "        for metodo in metodos:\n",
    "            #print(g,metodo)            \n",
    "            if metodo== 'ARIMA':\n",
    "                try: \n",
    "                    model=auto_arima(group['CONTACT'].values,trace=False)\n",
    "                    model.fit(group['CONTACT'])  \n",
    "                    forecast=pd.DataFrame(model.predict(n_periods = 3),index=ind)#Cambio de la cantidad de meses a predecir \"3\"\n",
    "                except:\n",
    "                    group.at[group.first_valid_index(),'CONTACT']=group.at[group.first_valid_index(),'CONTACT']+0.1\n",
    "                    model=auto_arima(group['CONTACT'].values,trace=False)\n",
    "                    model.fit(group['CONTACT'])  \n",
    "                    forecast=pd.DataFrame(model.predict(n_periods = 3),index=ind)#Cambio de la cantidad de meses a predecir \"3\"\n",
    "            elif metodo== 'ES':\n",
    "                model = SimpleExpSmoothing(group['CONTACT'].values)\n",
    "                model=model.fit(smoothing_level=.5)\n",
    "                forecast=pd.DataFrame(model.forecast(3),index=ind)\n",
    "            elif metodo== 'HOLT':\n",
    "                model = Holt(group['CONTACT'].values) \n",
    "                model = model.fit(optimized=True)\n",
    "                forecast=pd.DataFrame(model.forecast(3),index=ind)\n",
    "            elif metodo== 'ES_ajTend':\n",
    "                model = ExponentialSmoothing(group['CONTACT'].values,trend='add', seasonal=None, damped=True)\n",
    "                model= model.fit()\n",
    "                forecast=pd.DataFrame(model.forecast(3),index=ind)\n",
    "            elif metodo=='ARIMAX':            \n",
    "                model=sm.tsa.statespace.SARIMAX(group['CONTACT'].values,order=(1, 1, 1),exog=group['Value'].values,initialization='approximate_diffuse')\n",
    "                model=model.fit()\n",
    "                num_start=len(group['CONTACT'])\n",
    "                perPred=len(groupTest['Value'])\n",
    "                forecast=pd.DataFrame(model.predict(start=num_start,end=num_start+perPred-1,exog=groupTest['Value'].values,dynamic=True),index=groupTest.index)\n",
    "\n",
    "            elif metodo=='ARIMAX2':\n",
    "                model=auto_arima(group['CONTACT'].values,trace=False,exogenous=group['Value'].values.reshape(-1,1))\n",
    "                perPred=len(groupTest['Value'])\n",
    "                forecast= pd.DataFrame(model.predict(n_periods=perPred,exogenous=groupTest['Value'].values.reshape(-1,1)),index=groupTest.index)\n",
    "\n",
    "            elif metodo== 'ETS': \n",
    "                num_start=len(group['CONTACT'])\n",
    "                perPred=len(groupTest['Value'])\n",
    "                periodos = 12 if int(num_start/2)>12 else (6 if int(num_start/2)>6 else int(num_start/2))         \n",
    "\n",
    "                model = ETSModel(group['CONTACT'].astype(float),seasonal_periods=periodos ,error=\"add\",trend=\"add\",seasonal=\"add\", damped_trend=True,)\n",
    "                model = model.fit()                \n",
    "                forecast = pd.DataFrame(model.get_prediction(start=num_start, end=num_start+perPred-1).summary_frame(alpha=0.05)['mean'],index=groupTest.index) \n",
    "            forecast.columns = ['pred']  \n",
    "            forecast['NODO']=g\n",
    "            forecast['Metodo']=metodo\n",
    "            if i==0:\n",
    "                final=forecast\n",
    "            else:\n",
    "                final=final.append(forecast)     \n",
    "\n",
    "            if len(groupTest['CONTACT'])==3:\n",
    "                #print(1)\n",
    "                RMSE=mean_squared_error(groupTest['CONTACT'],forecast['pred'], squared=False)\n",
    "                MAPE=mean_absolute_percentage_error(groupTest['CONTACT'],forecast['pred'])\n",
    "            else :\n",
    "                #print(2)\n",
    "                tempTest=groupTest.copy()\n",
    "                tempTest['pred2']=forecast['pred']   \n",
    "                RMSE=mean_squared_error(tempTest['CONTACT'].values,tempTest['pred2'].values, squared=False)\n",
    "                MAPE=mean_absolute_percentage_error(tempTest['CONTACT'].values,tempTest['pred2'].values)\n",
    "            # Errores\n",
    "        ## Medicion varios errores, seleccionar el que mejor se ajuste\n",
    "        #RMSE=mean_squared_error(groupTest['Value'],forecast['pred'], squared=False)\n",
    "        #MAPE=mean_absolute_percentage_error(groupTest['Value'],forecast['pred'])    \n",
    "            dicNodo[metodo]=RMSE \n",
    "            i=i+1\n",
    "        finalErrores[g]=dicNodo\n",
    "\n",
    "    iNodo=iNodo+1"
   ]
  },
  {
   "cell_type": "code",
   "execution_count": 793,
   "id": "60051bc3",
   "metadata": {},
   "outputs": [],
   "source": [
    "dfFinalErrores=pd.DataFrame.from_dict(finalErrores,orient='index')\n",
    "dfFinalErrores.to_csv('resultado_Finalerrores_CONTACT.csv',sep=';',decimal='.')\n",
    "final.to_csv('Resultados_entren_test_CONTACT.csv',sep=';',decimal='.')"
   ]
  },
  {
   "cell_type": "code",
   "execution_count": 794,
   "id": "35c94fe8",
   "metadata": {},
   "outputs": [
    {
     "data": {
      "text/plain": [
       "14772"
      ]
     },
     "execution_count": 794,
     "metadata": {},
     "output_type": "execute_result"
    }
   ],
   "source": [
    "len(dfFinalErrores)"
   ]
  },
  {
   "cell_type": "code",
   "execution_count": 795,
   "id": "490e856a",
   "metadata": {},
   "outputs": [
    {
     "data": {
      "text/html": [
       "<div>\n",
       "<style scoped>\n",
       "    .dataframe tbody tr th:only-of-type {\n",
       "        vertical-align: middle;\n",
       "    }\n",
       "\n",
       "    .dataframe tbody tr th {\n",
       "        vertical-align: top;\n",
       "    }\n",
       "\n",
       "    .dataframe thead th {\n",
       "        text-align: right;\n",
       "    }\n",
       "</style>\n",
       "<table border=\"1\" class=\"dataframe\">\n",
       "  <thead>\n",
       "    <tr style=\"text-align: right;\">\n",
       "      <th></th>\n",
       "      <th>ES</th>\n",
       "      <th>ARIMA</th>\n",
       "      <th>HOLT</th>\n",
       "      <th>ES_ajTend</th>\n",
       "      <th>ARIMAX</th>\n",
       "      <th>ARIMAX2</th>\n",
       "    </tr>\n",
       "  </thead>\n",
       "  <tbody>\n",
       "    <tr>\n",
       "      <th>01S</th>\n",
       "      <td>4.504</td>\n",
       "      <td>4.685</td>\n",
       "      <td>4.034</td>\n",
       "      <td>4.064</td>\n",
       "      <td>8.136</td>\n",
       "      <td>8.201</td>\n",
       "    </tr>\n",
       "    <tr>\n",
       "      <th>02J</th>\n",
       "      <td>3.592</td>\n",
       "      <td>6.976</td>\n",
       "      <td>13.078</td>\n",
       "      <td>7.630</td>\n",
       "      <td>3.529</td>\n",
       "      <td>6.976</td>\n",
       "    </tr>\n",
       "    <tr>\n",
       "      <th>02S</th>\n",
       "      <td>11.889</td>\n",
       "      <td>9.361</td>\n",
       "      <td>21.968</td>\n",
       "      <td>14.844</td>\n",
       "      <td>14.938</td>\n",
       "      <td>8.339</td>\n",
       "    </tr>\n",
       "    <tr>\n",
       "      <th>03J</th>\n",
       "      <td>5.953</td>\n",
       "      <td>5.210</td>\n",
       "      <td>7.760</td>\n",
       "      <td>7.627</td>\n",
       "      <td>7.349</td>\n",
       "      <td>7.262</td>\n",
       "    </tr>\n",
       "    <tr>\n",
       "      <th>04J</th>\n",
       "      <td>20.992</td>\n",
       "      <td>20.202</td>\n",
       "      <td>35.925</td>\n",
       "      <td>25.852</td>\n",
       "      <td>29.506</td>\n",
       "      <td>32.558</td>\n",
       "    </tr>\n",
       "  </tbody>\n",
       "</table>\n",
       "</div>"
      ],
      "text/plain": [
       "        ES  ARIMA   HOLT  ES_ajTend  ARIMAX  ARIMAX2\n",
       "01S  4.504  4.685  4.034      4.064   8.136    8.201\n",
       "02J  3.592  6.976 13.078      7.630   3.529    6.976\n",
       "02S 11.889  9.361 21.968     14.844  14.938    8.339\n",
       "03J  5.953  5.210  7.760      7.627   7.349    7.262\n",
       "04J 20.992 20.202 35.925     25.852  29.506   32.558"
      ]
     },
     "execution_count": 795,
     "metadata": {},
     "output_type": "execute_result"
    }
   ],
   "source": [
    "dfFinalErrores.head()"
   ]
  },
  {
   "cell_type": "code",
   "execution_count": 796,
   "id": "683454bb",
   "metadata": {},
   "outputs": [
    {
     "data": {
      "text/html": [
       "<div>\n",
       "<style scoped>\n",
       "    .dataframe tbody tr th:only-of-type {\n",
       "        vertical-align: middle;\n",
       "    }\n",
       "\n",
       "    .dataframe tbody tr th {\n",
       "        vertical-align: top;\n",
       "    }\n",
       "\n",
       "    .dataframe thead th {\n",
       "        text-align: right;\n",
       "    }\n",
       "</style>\n",
       "<table border=\"1\" class=\"dataframe\">\n",
       "  <thead>\n",
       "    <tr style=\"text-align: right;\">\n",
       "      <th></th>\n",
       "      <th>pred</th>\n",
       "      <th>NODO</th>\n",
       "      <th>Metodo</th>\n",
       "    </tr>\n",
       "    <tr>\n",
       "      <th>FECHA</th>\n",
       "      <th></th>\n",
       "      <th></th>\n",
       "      <th></th>\n",
       "    </tr>\n",
       "  </thead>\n",
       "  <tbody>\n",
       "    <tr>\n",
       "      <th>2021-06-01</th>\n",
       "      <td>8.559</td>\n",
       "      <td>01S</td>\n",
       "      <td>ARIMAX2</td>\n",
       "    </tr>\n",
       "    <tr>\n",
       "      <th>2021-07-01</th>\n",
       "      <td>10.316</td>\n",
       "      <td>01S</td>\n",
       "      <td>ARIMAX2</td>\n",
       "    </tr>\n",
       "    <tr>\n",
       "      <th>2021-08-01</th>\n",
       "      <td>17.024</td>\n",
       "      <td>01S</td>\n",
       "      <td>ARIMAX2</td>\n",
       "    </tr>\n",
       "    <tr>\n",
       "      <th>2021-06-01</th>\n",
       "      <td>15.187</td>\n",
       "      <td>02J</td>\n",
       "      <td>ARIMAX2</td>\n",
       "    </tr>\n",
       "    <tr>\n",
       "      <th>2021-07-01</th>\n",
       "      <td>15.187</td>\n",
       "      <td>02J</td>\n",
       "      <td>ARIMAX2</td>\n",
       "    </tr>\n",
       "    <tr>\n",
       "      <th>2021-08-01</th>\n",
       "      <td>15.187</td>\n",
       "      <td>02J</td>\n",
       "      <td>ARIMAX2</td>\n",
       "    </tr>\n",
       "    <tr>\n",
       "      <th>2021-06-01</th>\n",
       "      <td>16.536</td>\n",
       "      <td>02S</td>\n",
       "      <td>ARIMAX2</td>\n",
       "    </tr>\n",
       "    <tr>\n",
       "      <th>2021-07-01</th>\n",
       "      <td>17.021</td>\n",
       "      <td>02S</td>\n",
       "      <td>ARIMAX2</td>\n",
       "    </tr>\n",
       "    <tr>\n",
       "      <th>2021-08-01</th>\n",
       "      <td>11.680</td>\n",
       "      <td>02S</td>\n",
       "      <td>ARIMAX2</td>\n",
       "    </tr>\n",
       "    <tr>\n",
       "      <th>2021-06-01</th>\n",
       "      <td>11.200</td>\n",
       "      <td>03J</td>\n",
       "      <td>ARIMAX2</td>\n",
       "    </tr>\n",
       "  </tbody>\n",
       "</table>\n",
       "</div>"
      ],
      "text/plain": [
       "             pred NODO   Metodo\n",
       "FECHA                          \n",
       "2021-06-01  8.559  01S  ARIMAX2\n",
       "2021-07-01 10.316  01S  ARIMAX2\n",
       "2021-08-01 17.024  01S  ARIMAX2\n",
       "2021-06-01 15.187  02J  ARIMAX2\n",
       "2021-07-01 15.187  02J  ARIMAX2\n",
       "2021-08-01 15.187  02J  ARIMAX2\n",
       "2021-06-01 16.536  02S  ARIMAX2\n",
       "2021-07-01 17.021  02S  ARIMAX2\n",
       "2021-08-01 11.680  02S  ARIMAX2\n",
       "2021-06-01 11.200  03J  ARIMAX2"
      ]
     },
     "execution_count": 796,
     "metadata": {},
     "output_type": "execute_result"
    }
   ],
   "source": [
    "final[final['Metodo']=='ARIMAX2'].head(10)"
   ]
  },
  {
   "cell_type": "code",
   "execution_count": 797,
   "id": "7b23a30d",
   "metadata": {},
   "outputs": [
    {
     "data": {
      "text/plain": [
       "pred      0\n",
       "NODO      0\n",
       "Metodo    0\n",
       "dtype: int64"
      ]
     },
     "execution_count": 797,
     "metadata": {},
     "output_type": "execute_result"
    }
   ],
   "source": [
    "final.isnull().sum()"
   ]
  },
  {
   "cell_type": "markdown",
   "id": "d855f345",
   "metadata": {},
   "source": [
    "## Selección mejor método por Nodo"
   ]
  },
  {
   "cell_type": "code",
   "execution_count": 798,
   "id": "1b47c939",
   "metadata": {},
   "outputs": [
    {
     "data": {
      "text/plain": [
       "['ES', 'ARIMA', 'HOLT', 'ES_ajTend', 'ARIMAX', 'ARIMAX2']"
      ]
     },
     "execution_count": 798,
     "metadata": {},
     "output_type": "execute_result"
    }
   ],
   "source": [
    "metodos"
   ]
  },
  {
   "cell_type": "code",
   "execution_count": 799,
   "id": "05ebe55b",
   "metadata": {
    "collapsed": true
   },
   "outputs": [
    {
     "data": {
      "text/html": [
       "<div>\n",
       "<style scoped>\n",
       "    .dataframe tbody tr th:only-of-type {\n",
       "        vertical-align: middle;\n",
       "    }\n",
       "\n",
       "    .dataframe tbody tr th {\n",
       "        vertical-align: top;\n",
       "    }\n",
       "\n",
       "    .dataframe thead th {\n",
       "        text-align: right;\n",
       "    }\n",
       "</style>\n",
       "<table border=\"1\" class=\"dataframe\">\n",
       "  <thead>\n",
       "    <tr style=\"text-align: right;\">\n",
       "      <th></th>\n",
       "      <th>ES</th>\n",
       "      <th>ARIMA</th>\n",
       "      <th>HOLT</th>\n",
       "      <th>ES_ajTend</th>\n",
       "      <th>ARIMAX</th>\n",
       "      <th>ARIMAX2</th>\n",
       "    </tr>\n",
       "  </thead>\n",
       "  <tbody>\n",
       "    <tr>\n",
       "      <th>01S</th>\n",
       "      <td>4.504</td>\n",
       "      <td>4.685</td>\n",
       "      <td>4.034</td>\n",
       "      <td>4.064</td>\n",
       "      <td>8.136</td>\n",
       "      <td>8.201</td>\n",
       "    </tr>\n",
       "    <tr>\n",
       "      <th>02J</th>\n",
       "      <td>3.592</td>\n",
       "      <td>6.976</td>\n",
       "      <td>13.078</td>\n",
       "      <td>7.630</td>\n",
       "      <td>3.529</td>\n",
       "      <td>6.976</td>\n",
       "    </tr>\n",
       "    <tr>\n",
       "      <th>02S</th>\n",
       "      <td>11.889</td>\n",
       "      <td>9.361</td>\n",
       "      <td>21.968</td>\n",
       "      <td>14.844</td>\n",
       "      <td>14.938</td>\n",
       "      <td>8.339</td>\n",
       "    </tr>\n",
       "    <tr>\n",
       "      <th>03J</th>\n",
       "      <td>5.953</td>\n",
       "      <td>5.210</td>\n",
       "      <td>7.760</td>\n",
       "      <td>7.627</td>\n",
       "      <td>7.349</td>\n",
       "      <td>7.262</td>\n",
       "    </tr>\n",
       "    <tr>\n",
       "      <th>04J</th>\n",
       "      <td>20.992</td>\n",
       "      <td>20.202</td>\n",
       "      <td>35.925</td>\n",
       "      <td>25.852</td>\n",
       "      <td>29.506</td>\n",
       "      <td>32.558</td>\n",
       "    </tr>\n",
       "    <tr>\n",
       "      <th>05J</th>\n",
       "      <td>3.795</td>\n",
       "      <td>3.816</td>\n",
       "      <td>3.933</td>\n",
       "      <td>3.931</td>\n",
       "      <td>5.734</td>\n",
       "      <td>7.104</td>\n",
       "    </tr>\n",
       "    <tr>\n",
       "      <th>06J</th>\n",
       "      <td>24.994</td>\n",
       "      <td>23.439</td>\n",
       "      <td>24.582</td>\n",
       "      <td>27.604</td>\n",
       "      <td>26.178</td>\n",
       "      <td>25.182</td>\n",
       "    </tr>\n",
       "    <tr>\n",
       "      <th>07J</th>\n",
       "      <td>3.889</td>\n",
       "      <td>3.294</td>\n",
       "      <td>7.028</td>\n",
       "      <td>5.724</td>\n",
       "      <td>3.858</td>\n",
       "      <td>3.090</td>\n",
       "    </tr>\n",
       "    <tr>\n",
       "      <th>09J</th>\n",
       "      <td>27.282</td>\n",
       "      <td>25.944</td>\n",
       "      <td>26.086</td>\n",
       "      <td>26.115</td>\n",
       "      <td>32.487</td>\n",
       "      <td>29.605</td>\n",
       "    </tr>\n",
       "    <tr>\n",
       "      <th>0A6</th>\n",
       "      <td>7.401</td>\n",
       "      <td>11.655</td>\n",
       "      <td>2.155</td>\n",
       "      <td>2.487</td>\n",
       "      <td>7.424</td>\n",
       "      <td>6.682</td>\n",
       "    </tr>\n",
       "  </tbody>\n",
       "</table>\n",
       "</div>"
      ],
      "text/plain": [
       "        ES  ARIMA   HOLT  ES_ajTend  ARIMAX  ARIMAX2\n",
       "01S  4.504  4.685  4.034      4.064   8.136    8.201\n",
       "02J  3.592  6.976 13.078      7.630   3.529    6.976\n",
       "02S 11.889  9.361 21.968     14.844  14.938    8.339\n",
       "03J  5.953  5.210  7.760      7.627   7.349    7.262\n",
       "04J 20.992 20.202 35.925     25.852  29.506   32.558\n",
       "05J  3.795  3.816  3.933      3.931   5.734    7.104\n",
       "06J 24.994 23.439 24.582     27.604  26.178   25.182\n",
       "07J  3.889  3.294  7.028      5.724   3.858    3.090\n",
       "09J 27.282 25.944 26.086     26.115  32.487   29.605\n",
       "0A6  7.401 11.655  2.155      2.487   7.424    6.682"
      ]
     },
     "execution_count": 799,
     "metadata": {},
     "output_type": "execute_result"
    }
   ],
   "source": [
    "dfFinalErrores=pd.DataFrame.from_dict(finalErrores,orient='index')\n",
    "dfFinalErrores.head(10)"
   ]
  },
  {
   "cell_type": "code",
   "execution_count": 800,
   "id": "30f0113f",
   "metadata": {},
   "outputs": [
    {
     "data": {
      "text/plain": [
       "[4.034109519040695,\n",
       " 3.5290828687897764,\n",
       " 8.339345504768557,\n",
       " 5.209952293566196,\n",
       " 20.201586784032084,\n",
       " 3.795459230633806,\n",
       " 23.438783945934514,\n",
       " 3.089578085835893,\n",
       " 25.94418850599432,\n",
       " 2.1549771313867807]"
      ]
     },
     "execution_count": 800,
     "metadata": {},
     "output_type": "execute_result"
    }
   ],
   "source": [
    "minError=list(dfFinalErrores.min(axis=1).values)\n",
    "minError[:10]"
   ]
  },
  {
   "cell_type": "code",
   "execution_count": 801,
   "id": "ca0857fd",
   "metadata": {},
   "outputs": [],
   "source": [
    "modeloSeleccionado=[np.nan]*len(dfFinalErrores)\n",
    "i=0\n",
    "for indx,row in dfFinalErrores.iterrows():\n",
    "    auxRow=list(row.values)\n",
    "    auxInd=auxRow.index(minError[i])\n",
    "    modeloSeleccionado[i]=metodos[auxInd]\n",
    "    #print(auxRow)\n",
    "    i=i+1"
   ]
  },
  {
   "cell_type": "code",
   "execution_count": 802,
   "id": "0ada2a72",
   "metadata": {},
   "outputs": [
    {
     "data": {
      "text/plain": [
       "['HOLT',\n",
       " 'ARIMAX',\n",
       " 'ARIMAX2',\n",
       " 'ARIMA',\n",
       " 'ARIMA',\n",
       " 'ES',\n",
       " 'ARIMA',\n",
       " 'ARIMAX2',\n",
       " 'ARIMA',\n",
       " 'HOLT']"
      ]
     },
     "execution_count": 802,
     "metadata": {},
     "output_type": "execute_result"
    }
   ],
   "source": [
    "modeloSeleccionado[:10]"
   ]
  },
  {
   "cell_type": "code",
   "execution_count": 803,
   "id": "9db9e7a3",
   "metadata": {},
   "outputs": [],
   "source": [
    "dfFinalErrores['seleccion']=modeloSeleccionado"
   ]
  },
  {
   "cell_type": "code",
   "execution_count": 804,
   "id": "2ea5f34d",
   "metadata": {},
   "outputs": [],
   "source": [
    "dfFinalErrores['errorMin']=minError"
   ]
  },
  {
   "cell_type": "code",
   "execution_count": 805,
   "id": "74ca10d0",
   "metadata": {},
   "outputs": [
    {
     "data": {
      "text/html": [
       "<div>\n",
       "<style scoped>\n",
       "    .dataframe tbody tr th:only-of-type {\n",
       "        vertical-align: middle;\n",
       "    }\n",
       "\n",
       "    .dataframe tbody tr th {\n",
       "        vertical-align: top;\n",
       "    }\n",
       "\n",
       "    .dataframe thead th {\n",
       "        text-align: right;\n",
       "    }\n",
       "</style>\n",
       "<table border=\"1\" class=\"dataframe\">\n",
       "  <thead>\n",
       "    <tr style=\"text-align: right;\">\n",
       "      <th></th>\n",
       "      <th>ES</th>\n",
       "      <th>ARIMA</th>\n",
       "      <th>HOLT</th>\n",
       "      <th>ES_ajTend</th>\n",
       "      <th>ARIMAX</th>\n",
       "      <th>ARIMAX2</th>\n",
       "      <th>seleccion</th>\n",
       "      <th>errorMin</th>\n",
       "    </tr>\n",
       "  </thead>\n",
       "  <tbody>\n",
       "    <tr>\n",
       "      <th>01S</th>\n",
       "      <td>4.504</td>\n",
       "      <td>4.685</td>\n",
       "      <td>4.034</td>\n",
       "      <td>4.064</td>\n",
       "      <td>8.136</td>\n",
       "      <td>8.201</td>\n",
       "      <td>HOLT</td>\n",
       "      <td>4.034</td>\n",
       "    </tr>\n",
       "    <tr>\n",
       "      <th>02J</th>\n",
       "      <td>3.592</td>\n",
       "      <td>6.976</td>\n",
       "      <td>13.078</td>\n",
       "      <td>7.630</td>\n",
       "      <td>3.529</td>\n",
       "      <td>6.976</td>\n",
       "      <td>ARIMAX</td>\n",
       "      <td>3.529</td>\n",
       "    </tr>\n",
       "    <tr>\n",
       "      <th>02S</th>\n",
       "      <td>11.889</td>\n",
       "      <td>9.361</td>\n",
       "      <td>21.968</td>\n",
       "      <td>14.844</td>\n",
       "      <td>14.938</td>\n",
       "      <td>8.339</td>\n",
       "      <td>ARIMAX2</td>\n",
       "      <td>8.339</td>\n",
       "    </tr>\n",
       "    <tr>\n",
       "      <th>03J</th>\n",
       "      <td>5.953</td>\n",
       "      <td>5.210</td>\n",
       "      <td>7.760</td>\n",
       "      <td>7.627</td>\n",
       "      <td>7.349</td>\n",
       "      <td>7.262</td>\n",
       "      <td>ARIMA</td>\n",
       "      <td>5.210</td>\n",
       "    </tr>\n",
       "    <tr>\n",
       "      <th>04J</th>\n",
       "      <td>20.992</td>\n",
       "      <td>20.202</td>\n",
       "      <td>35.925</td>\n",
       "      <td>25.852</td>\n",
       "      <td>29.506</td>\n",
       "      <td>32.558</td>\n",
       "      <td>ARIMA</td>\n",
       "      <td>20.202</td>\n",
       "    </tr>\n",
       "    <tr>\n",
       "      <th>05J</th>\n",
       "      <td>3.795</td>\n",
       "      <td>3.816</td>\n",
       "      <td>3.933</td>\n",
       "      <td>3.931</td>\n",
       "      <td>5.734</td>\n",
       "      <td>7.104</td>\n",
       "      <td>ES</td>\n",
       "      <td>3.795</td>\n",
       "    </tr>\n",
       "    <tr>\n",
       "      <th>06J</th>\n",
       "      <td>24.994</td>\n",
       "      <td>23.439</td>\n",
       "      <td>24.582</td>\n",
       "      <td>27.604</td>\n",
       "      <td>26.178</td>\n",
       "      <td>25.182</td>\n",
       "      <td>ARIMA</td>\n",
       "      <td>23.439</td>\n",
       "    </tr>\n",
       "    <tr>\n",
       "      <th>07J</th>\n",
       "      <td>3.889</td>\n",
       "      <td>3.294</td>\n",
       "      <td>7.028</td>\n",
       "      <td>5.724</td>\n",
       "      <td>3.858</td>\n",
       "      <td>3.090</td>\n",
       "      <td>ARIMAX2</td>\n",
       "      <td>3.090</td>\n",
       "    </tr>\n",
       "    <tr>\n",
       "      <th>09J</th>\n",
       "      <td>27.282</td>\n",
       "      <td>25.944</td>\n",
       "      <td>26.086</td>\n",
       "      <td>26.115</td>\n",
       "      <td>32.487</td>\n",
       "      <td>29.605</td>\n",
       "      <td>ARIMA</td>\n",
       "      <td>25.944</td>\n",
       "    </tr>\n",
       "    <tr>\n",
       "      <th>0A6</th>\n",
       "      <td>7.401</td>\n",
       "      <td>11.655</td>\n",
       "      <td>2.155</td>\n",
       "      <td>2.487</td>\n",
       "      <td>7.424</td>\n",
       "      <td>6.682</td>\n",
       "      <td>HOLT</td>\n",
       "      <td>2.155</td>\n",
       "    </tr>\n",
       "  </tbody>\n",
       "</table>\n",
       "</div>"
      ],
      "text/plain": [
       "        ES  ARIMA   HOLT  ES_ajTend  ARIMAX  ARIMAX2 seleccion  errorMin\n",
       "01S  4.504  4.685  4.034      4.064   8.136    8.201      HOLT     4.034\n",
       "02J  3.592  6.976 13.078      7.630   3.529    6.976    ARIMAX     3.529\n",
       "02S 11.889  9.361 21.968     14.844  14.938    8.339   ARIMAX2     8.339\n",
       "03J  5.953  5.210  7.760      7.627   7.349    7.262     ARIMA     5.210\n",
       "04J 20.992 20.202 35.925     25.852  29.506   32.558     ARIMA    20.202\n",
       "05J  3.795  3.816  3.933      3.931   5.734    7.104        ES     3.795\n",
       "06J 24.994 23.439 24.582     27.604  26.178   25.182     ARIMA    23.439\n",
       "07J  3.889  3.294  7.028      5.724   3.858    3.090   ARIMAX2     3.090\n",
       "09J 27.282 25.944 26.086     26.115  32.487   29.605     ARIMA    25.944\n",
       "0A6  7.401 11.655  2.155      2.487   7.424    6.682      HOLT     2.155"
      ]
     },
     "execution_count": 805,
     "metadata": {},
     "output_type": "execute_result"
    }
   ],
   "source": [
    "dfFinalErrores.head(10)"
   ]
  },
  {
   "cell_type": "code",
   "execution_count": 806,
   "id": "b3b13e6f",
   "metadata": {},
   "outputs": [
    {
     "data": {
      "text/plain": [
       "ES           3994\n",
       "HOLT         2791\n",
       "ARIMA        2426\n",
       "ES_ajTend    2225\n",
       "ARIMAX2      1689\n",
       "ARIMAX       1647\n",
       "Name: seleccion, dtype: int64"
      ]
     },
     "execution_count": 806,
     "metadata": {},
     "output_type": "execute_result"
    }
   ],
   "source": [
    "dfFinalErrores['seleccion'].value_counts()"
   ]
  },
  {
   "cell_type": "markdown",
   "id": "92f62951",
   "metadata": {},
   "source": [
    "## Predicción Final Contact"
   ]
  },
  {
   "cell_type": "code",
   "execution_count": 807,
   "id": "71cea5de",
   "metadata": {},
   "outputs": [
    {
     "data": {
      "text/plain": [
       "DatetimeIndex(['2021-09-01', '2021-10-01', '2021-11-01', '2021-12-01'], dtype='datetime64[ns]', name='FECHA', freq='MS')"
      ]
     },
     "execution_count": 807,
     "metadata": {},
     "output_type": "execute_result"
    }
   ],
   "source": [
    "ind_P = pd.date_range(fechaMaxima, periods = 5, freq ='MS', name='FECHA')[1:]\n",
    "ind_P"
   ]
  },
  {
   "cell_type": "code",
   "execution_count": 808,
   "id": "62c5544a",
   "metadata": {},
   "outputs": [],
   "source": [
    "finalPrediccionesFuturasC = pd.DataFrame()\n",
    "groupedPred =TablaFinalC[['NODO','CONTACT','Value']].groupby('NODO')"
   ]
  },
  {
   "cell_type": "code",
   "execution_count": 135,
   "id": "cb5ae4e9",
   "metadata": {},
   "outputs": [
    {
     "name": "stdout",
     "output_type": "stream",
     "text": [
      "0 01J\n"
     ]
    },
    {
     "ename": "KeyError",
     "evalue": "'CONTACT'",
     "output_type": "error",
     "traceback": [
      "\u001b[1;31m---------------------------------------------------------------------------\u001b[0m",
      "\u001b[1;31mKeyError\u001b[0m                                  Traceback (most recent call last)",
      "\u001b[1;32m~\\.conda\\envs\\py39\\lib\\site-packages\\pandas\\core\\indexes\\base.py\u001b[0m in \u001b[0;36mget_loc\u001b[1;34m(self, key, method, tolerance)\u001b[0m\n\u001b[0;32m   3079\u001b[0m             \u001b[1;32mtry\u001b[0m\u001b[1;33m:\u001b[0m\u001b[1;33m\u001b[0m\u001b[1;33m\u001b[0m\u001b[0m\n\u001b[1;32m-> 3080\u001b[1;33m                 \u001b[1;32mreturn\u001b[0m \u001b[0mself\u001b[0m\u001b[1;33m.\u001b[0m\u001b[0m_engine\u001b[0m\u001b[1;33m.\u001b[0m\u001b[0mget_loc\u001b[0m\u001b[1;33m(\u001b[0m\u001b[0mcasted_key\u001b[0m\u001b[1;33m)\u001b[0m\u001b[1;33m\u001b[0m\u001b[1;33m\u001b[0m\u001b[0m\n\u001b[0m\u001b[0;32m   3081\u001b[0m             \u001b[1;32mexcept\u001b[0m \u001b[0mKeyError\u001b[0m \u001b[1;32mas\u001b[0m \u001b[0merr\u001b[0m\u001b[1;33m:\u001b[0m\u001b[1;33m\u001b[0m\u001b[1;33m\u001b[0m\u001b[0m\n",
      "\u001b[1;32mpandas\\_libs\\index.pyx\u001b[0m in \u001b[0;36mpandas._libs.index.IndexEngine.get_loc\u001b[1;34m()\u001b[0m\n",
      "\u001b[1;32mpandas\\_libs\\index.pyx\u001b[0m in \u001b[0;36mpandas._libs.index.IndexEngine.get_loc\u001b[1;34m()\u001b[0m\n",
      "\u001b[1;32mpandas\\_libs\\hashtable_class_helper.pxi\u001b[0m in \u001b[0;36mpandas._libs.hashtable.PyObjectHashTable.get_item\u001b[1;34m()\u001b[0m\n",
      "\u001b[1;32mpandas\\_libs\\hashtable_class_helper.pxi\u001b[0m in \u001b[0;36mpandas._libs.hashtable.PyObjectHashTable.get_item\u001b[1;34m()\u001b[0m\n",
      "\u001b[1;31mKeyError\u001b[0m: 'CONTACT'",
      "\nThe above exception was the direct cause of the following exception:\n",
      "\u001b[1;31mKeyError\u001b[0m                                  Traceback (most recent call last)",
      "\u001b[1;32m~\\AppData\\Local\\Temp/ipykernel_11764/1081917069.py\u001b[0m in \u001b[0;36m<module>\u001b[1;34m\u001b[0m\n\u001b[0;32m     12\u001b[0m     \u001b[1;31m#forecast=model.predict(group['Value'])\u001b[0m\u001b[1;33m\u001b[0m\u001b[1;33m\u001b[0m\u001b[1;33m\u001b[0m\u001b[0m\n\u001b[0;32m     13\u001b[0m     \u001b[1;32mif\u001b[0m \u001b[0mmejorMetodo\u001b[0m\u001b[1;33m==\u001b[0m \u001b[1;34m'ARIMA'\u001b[0m\u001b[1;33m:\u001b[0m\u001b[1;33m\u001b[0m\u001b[1;33m\u001b[0m\u001b[0m\n\u001b[1;32m---> 14\u001b[1;33m         \u001b[0mmodel\u001b[0m\u001b[1;33m=\u001b[0m\u001b[0mauto_arima\u001b[0m\u001b[1;33m(\u001b[0m\u001b[0mgroup\u001b[0m\u001b[1;33m[\u001b[0m\u001b[1;34m'CONTACT'\u001b[0m\u001b[1;33m]\u001b[0m\u001b[1;33m.\u001b[0m\u001b[0mvalues\u001b[0m\u001b[1;33m,\u001b[0m\u001b[0mtrace\u001b[0m\u001b[1;33m=\u001b[0m\u001b[1;32mFalse\u001b[0m\u001b[1;33m)\u001b[0m\u001b[1;33m\u001b[0m\u001b[1;33m\u001b[0m\u001b[0m\n\u001b[0m\u001b[0;32m     15\u001b[0m         \u001b[0mmodel\u001b[0m\u001b[1;33m.\u001b[0m\u001b[0mfit\u001b[0m\u001b[1;33m(\u001b[0m\u001b[0mgroup\u001b[0m\u001b[1;33m[\u001b[0m\u001b[1;34m'CONTACT'\u001b[0m\u001b[1;33m]\u001b[0m\u001b[1;33m)\u001b[0m\u001b[1;33m\u001b[0m\u001b[1;33m\u001b[0m\u001b[0m\n\u001b[0;32m     16\u001b[0m         \u001b[0mforecast\u001b[0m\u001b[1;33m=\u001b[0m\u001b[0mpd\u001b[0m\u001b[1;33m.\u001b[0m\u001b[0mDataFrame\u001b[0m\u001b[1;33m(\u001b[0m\u001b[0mmodel\u001b[0m\u001b[1;33m.\u001b[0m\u001b[0mpredict\u001b[0m\u001b[1;33m(\u001b[0m\u001b[0mn_periods\u001b[0m \u001b[1;33m=\u001b[0m \u001b[1;36m4\u001b[0m\u001b[1;33m)\u001b[0m\u001b[1;33m,\u001b[0m\u001b[0mindex\u001b[0m\u001b[1;33m=\u001b[0m\u001b[0mind_P\u001b[0m\u001b[1;33m)\u001b[0m\u001b[1;33m\u001b[0m\u001b[1;33m\u001b[0m\u001b[0m\n",
      "\u001b[1;32m~\\.conda\\envs\\py39\\lib\\site-packages\\pandas\\core\\frame.py\u001b[0m in \u001b[0;36m__getitem__\u001b[1;34m(self, key)\u001b[0m\n\u001b[0;32m   3022\u001b[0m             \u001b[1;32mif\u001b[0m \u001b[0mself\u001b[0m\u001b[1;33m.\u001b[0m\u001b[0mcolumns\u001b[0m\u001b[1;33m.\u001b[0m\u001b[0mnlevels\u001b[0m \u001b[1;33m>\u001b[0m \u001b[1;36m1\u001b[0m\u001b[1;33m:\u001b[0m\u001b[1;33m\u001b[0m\u001b[1;33m\u001b[0m\u001b[0m\n\u001b[0;32m   3023\u001b[0m                 \u001b[1;32mreturn\u001b[0m \u001b[0mself\u001b[0m\u001b[1;33m.\u001b[0m\u001b[0m_getitem_multilevel\u001b[0m\u001b[1;33m(\u001b[0m\u001b[0mkey\u001b[0m\u001b[1;33m)\u001b[0m\u001b[1;33m\u001b[0m\u001b[1;33m\u001b[0m\u001b[0m\n\u001b[1;32m-> 3024\u001b[1;33m             \u001b[0mindexer\u001b[0m \u001b[1;33m=\u001b[0m \u001b[0mself\u001b[0m\u001b[1;33m.\u001b[0m\u001b[0mcolumns\u001b[0m\u001b[1;33m.\u001b[0m\u001b[0mget_loc\u001b[0m\u001b[1;33m(\u001b[0m\u001b[0mkey\u001b[0m\u001b[1;33m)\u001b[0m\u001b[1;33m\u001b[0m\u001b[1;33m\u001b[0m\u001b[0m\n\u001b[0m\u001b[0;32m   3025\u001b[0m             \u001b[1;32mif\u001b[0m \u001b[0mis_integer\u001b[0m\u001b[1;33m(\u001b[0m\u001b[0mindexer\u001b[0m\u001b[1;33m)\u001b[0m\u001b[1;33m:\u001b[0m\u001b[1;33m\u001b[0m\u001b[1;33m\u001b[0m\u001b[0m\n\u001b[0;32m   3026\u001b[0m                 \u001b[0mindexer\u001b[0m \u001b[1;33m=\u001b[0m \u001b[1;33m[\u001b[0m\u001b[0mindexer\u001b[0m\u001b[1;33m]\u001b[0m\u001b[1;33m\u001b[0m\u001b[1;33m\u001b[0m\u001b[0m\n",
      "\u001b[1;32m~\\.conda\\envs\\py39\\lib\\site-packages\\pandas\\core\\indexes\\base.py\u001b[0m in \u001b[0;36mget_loc\u001b[1;34m(self, key, method, tolerance)\u001b[0m\n\u001b[0;32m   3080\u001b[0m                 \u001b[1;32mreturn\u001b[0m \u001b[0mself\u001b[0m\u001b[1;33m.\u001b[0m\u001b[0m_engine\u001b[0m\u001b[1;33m.\u001b[0m\u001b[0mget_loc\u001b[0m\u001b[1;33m(\u001b[0m\u001b[0mcasted_key\u001b[0m\u001b[1;33m)\u001b[0m\u001b[1;33m\u001b[0m\u001b[1;33m\u001b[0m\u001b[0m\n\u001b[0;32m   3081\u001b[0m             \u001b[1;32mexcept\u001b[0m \u001b[0mKeyError\u001b[0m \u001b[1;32mas\u001b[0m \u001b[0merr\u001b[0m\u001b[1;33m:\u001b[0m\u001b[1;33m\u001b[0m\u001b[1;33m\u001b[0m\u001b[0m\n\u001b[1;32m-> 3082\u001b[1;33m                 \u001b[1;32mraise\u001b[0m \u001b[0mKeyError\u001b[0m\u001b[1;33m(\u001b[0m\u001b[0mkey\u001b[0m\u001b[1;33m)\u001b[0m \u001b[1;32mfrom\u001b[0m \u001b[0merr\u001b[0m\u001b[1;33m\u001b[0m\u001b[1;33m\u001b[0m\u001b[0m\n\u001b[0m\u001b[0;32m   3083\u001b[0m \u001b[1;33m\u001b[0m\u001b[0m\n\u001b[0;32m   3084\u001b[0m         \u001b[1;32mif\u001b[0m \u001b[0mtolerance\u001b[0m \u001b[1;32mis\u001b[0m \u001b[1;32mnot\u001b[0m \u001b[1;32mNone\u001b[0m\u001b[1;33m:\u001b[0m\u001b[1;33m\u001b[0m\u001b[1;33m\u001b[0m\u001b[0m\n",
      "\u001b[1;31mKeyError\u001b[0m: 'CONTACT'"
     ]
    }
   ],
   "source": [
    "i=0\n",
    "for g in groupedPred.groups:\n",
    "    if i>=numeroNodos:\n",
    "        break\n",
    "        #continue\n",
    "    if i%1000==0:\n",
    "        print(i,g)    \n",
    "    group = groupedPred.get_group(g)        \n",
    "    mejorMetodo=dfFinalErrores.loc[g,'seleccion']\n",
    "    #print(mejorMetodo)\n",
    "    #metodo=dicMetodos[g][mejorMetodo]\n",
    "    #forecast=model.predict(group['Value'])\n",
    "    if mejorMetodo== 'ARIMA':\n",
    "        model=auto_arima(group['CONTACT'].values,trace=False)\n",
    "        model.fit(group['CONTACT'])  \n",
    "        forecast=pd.DataFrame(model.predict(n_periods = 4),index=ind_P)\n",
    "    elif mejorMetodo== 'ES':\n",
    "        model = SimpleExpSmoothing(group['CONTACT'].values)\n",
    "        model=model.fit(smoothing_level=.5)\n",
    "        forecast=pd.DataFrame(model.forecast(4),index=ind_P)\n",
    "    elif mejorMetodo== 'HOLT':\n",
    "        model = Holt(group['CONTACT'].values) \n",
    "        model = model.fit(optimized=True)\n",
    "        forecast=pd.DataFrame(model.forecast(4),index=ind_P)\n",
    "    elif mejorMetodo== 'ES_ajTend':\n",
    "        model = ExponentialSmoothing(group['CONTACT'].values,trend='add', seasonal=None, damped=True)\n",
    "        model= model.fit()\n",
    "        forecast=pd.DataFrame(model.forecast(4),index=ind_P)\n",
    "    elif mejorMetodo=='ARIMAX':        \n",
    "        model=sm.tsa.statespace.SARIMAX(group['CONTACT'].values,order=(1, 1, 1),exog=group['Value'].values,initialization='approximate_diffuse')\n",
    "        model=model.fit()            \n",
    "        num_start=len(group['CONTACT'])\n",
    "        forecast=pd.DataFrame(model.predict(start=num_start,end=num_start+3,exog=group['Value'].values[-4:],dynamic=True),index=ind_P)\n",
    "        #forecast=pd.DataFrame(results.predict(n_periods = 3,dynamic=True),index=ind_P)\n",
    "    elif metodo=='ARIMAX2':\n",
    "            model=auto_arima(group['CONTACT'].values,trace=False,exogenous=group['Value'].values.reshape(-1,1))\n",
    "            forecast= pd.DataFrame(model.predict(n_periods=4,exogenous=group['Value'].values[-4:].reshape(-1,1)),index=ind_P)\n",
    "    \n",
    "    forecast.columns = ['pred']\n",
    "    forecast['NODO']=g\n",
    "    forecast['Metodo']=mejorMetodo\n",
    "\n",
    "    if i==0:\n",
    "        finalPrediccionesFuturasC=forecast\n",
    "    else:\n",
    "        finalPrediccionesFuturasC=finalPrediccionesFuturasC.append(forecast) \n",
    "    i=i+1\n",
    "        "
   ]
  },
  {
   "cell_type": "code",
   "execution_count": 810,
   "id": "8497b1c4",
   "metadata": {
    "scrolled": true
   },
   "outputs": [
    {
     "data": {
      "text/html": [
       "<div>\n",
       "<style scoped>\n",
       "    .dataframe tbody tr th:only-of-type {\n",
       "        vertical-align: middle;\n",
       "    }\n",
       "\n",
       "    .dataframe tbody tr th {\n",
       "        vertical-align: top;\n",
       "    }\n",
       "\n",
       "    .dataframe thead th {\n",
       "        text-align: right;\n",
       "    }\n",
       "</style>\n",
       "<table border=\"1\" class=\"dataframe\">\n",
       "  <thead>\n",
       "    <tr style=\"text-align: right;\">\n",
       "      <th></th>\n",
       "      <th>pred</th>\n",
       "      <th>NODO</th>\n",
       "      <th>Metodo</th>\n",
       "    </tr>\n",
       "    <tr>\n",
       "      <th>FECHA</th>\n",
       "      <th></th>\n",
       "      <th></th>\n",
       "      <th></th>\n",
       "    </tr>\n",
       "  </thead>\n",
       "  <tbody>\n",
       "    <tr>\n",
       "      <th>2021-11-01</th>\n",
       "      <td>4.791</td>\n",
       "      <td>P2B</td>\n",
       "      <td>HOLT</td>\n",
       "    </tr>\n",
       "    <tr>\n",
       "      <th>2021-09-01</th>\n",
       "      <td>12.114</td>\n",
       "      <td>MRT</td>\n",
       "      <td>ES</td>\n",
       "    </tr>\n",
       "    <tr>\n",
       "      <th>2021-10-01</th>\n",
       "      <td>31.039</td>\n",
       "      <td>DN12D</td>\n",
       "      <td>ARIMA</td>\n",
       "    </tr>\n",
       "    <tr>\n",
       "      <th>2021-11-01</th>\n",
       "      <td>5.279</td>\n",
       "      <td>TB23</td>\n",
       "      <td>HOLT</td>\n",
       "    </tr>\n",
       "    <tr>\n",
       "      <th>2021-11-01</th>\n",
       "      <td>12.218</td>\n",
       "      <td>SC23D</td>\n",
       "      <td>ES_ajTend</td>\n",
       "    </tr>\n",
       "    <tr>\n",
       "      <th>2021-11-01</th>\n",
       "      <td>14.934</td>\n",
       "      <td>IGC</td>\n",
       "      <td>ARIMAX</td>\n",
       "    </tr>\n",
       "    <tr>\n",
       "      <th>2021-12-01</th>\n",
       "      <td>18.805</td>\n",
       "      <td>B4O</td>\n",
       "      <td>ES_ajTend</td>\n",
       "    </tr>\n",
       "    <tr>\n",
       "      <th>2021-10-01</th>\n",
       "      <td>13.749</td>\n",
       "      <td>R5C</td>\n",
       "      <td>ES</td>\n",
       "    </tr>\n",
       "    <tr>\n",
       "      <th>2021-12-01</th>\n",
       "      <td>19.769</td>\n",
       "      <td>3IE</td>\n",
       "      <td>ARIMAX</td>\n",
       "    </tr>\n",
       "    <tr>\n",
       "      <th>2021-09-01</th>\n",
       "      <td>8.934</td>\n",
       "      <td>AT50</td>\n",
       "      <td>HOLT</td>\n",
       "    </tr>\n",
       "  </tbody>\n",
       "</table>\n",
       "</div>"
      ],
      "text/plain": [
       "             pred   NODO     Metodo\n",
       "FECHA                              \n",
       "2021-11-01  4.791    P2B       HOLT\n",
       "2021-09-01 12.114    MRT         ES\n",
       "2021-10-01 31.039  DN12D      ARIMA\n",
       "2021-11-01  5.279   TB23       HOLT\n",
       "2021-11-01 12.218  SC23D  ES_ajTend\n",
       "2021-11-01 14.934    IGC     ARIMAX\n",
       "2021-12-01 18.805    B4O  ES_ajTend\n",
       "2021-10-01 13.749    R5C         ES\n",
       "2021-12-01 19.769    3IE     ARIMAX\n",
       "2021-09-01  8.934   AT50       HOLT"
      ]
     },
     "execution_count": 810,
     "metadata": {},
     "output_type": "execute_result"
    }
   ],
   "source": [
    "finalPrediccionesFuturasC.sample(10)"
   ]
  },
  {
   "cell_type": "code",
   "execution_count": 811,
   "id": "00feb637",
   "metadata": {},
   "outputs": [
    {
     "data": {
      "text/html": [
       "<div>\n",
       "<style scoped>\n",
       "    .dataframe tbody tr th:only-of-type {\n",
       "        vertical-align: middle;\n",
       "    }\n",
       "\n",
       "    .dataframe tbody tr th {\n",
       "        vertical-align: top;\n",
       "    }\n",
       "\n",
       "    .dataframe thead th {\n",
       "        text-align: right;\n",
       "    }\n",
       "</style>\n",
       "<table border=\"1\" class=\"dataframe\">\n",
       "  <thead>\n",
       "    <tr style=\"text-align: right;\">\n",
       "      <th></th>\n",
       "      <th>NODO</th>\n",
       "      <th>Distrito</th>\n",
       "      <th>REGIONAL</th>\n",
       "    </tr>\n",
       "    <tr>\n",
       "      <th>FECHA</th>\n",
       "      <th></th>\n",
       "      <th></th>\n",
       "      <th></th>\n",
       "    </tr>\n",
       "  </thead>\n",
       "  <tbody>\n",
       "    <tr>\n",
       "      <th>2020-09-01</th>\n",
       "      <td>CFLU1F</td>\n",
       "      <td>CAQUETA DISTRITO 1</td>\n",
       "      <td>REGION OCCIDENTE</td>\n",
       "    </tr>\n",
       "    <tr>\n",
       "      <th>2020-09-01</th>\n",
       "      <td>CSMU1C</td>\n",
       "      <td>SOGAMOSO NORTE</td>\n",
       "      <td>REGION ORIENTE</td>\n",
       "    </tr>\n",
       "    <tr>\n",
       "      <th>2020-09-01</th>\n",
       "      <td>CSMU1B</td>\n",
       "      <td>SOGAMOSO NORTE</td>\n",
       "      <td>REGION ORIENTE</td>\n",
       "    </tr>\n",
       "    <tr>\n",
       "      <th>2020-09-01</th>\n",
       "      <td>42V</td>\n",
       "      <td>CALI SUR DISTRITO 1</td>\n",
       "      <td>REGION OCCIDENTE</td>\n",
       "    </tr>\n",
       "    <tr>\n",
       "      <th>2020-09-01</th>\n",
       "      <td>V6Q</td>\n",
       "      <td>CALI NORTE DISTRITO 6</td>\n",
       "      <td>REGION OCCIDENTE</td>\n",
       "    </tr>\n",
       "  </tbody>\n",
       "</table>\n",
       "</div>"
      ],
      "text/plain": [
       "              NODO               Distrito          REGIONAL\n",
       "FECHA                                                      \n",
       "2020-09-01  CFLU1F     CAQUETA DISTRITO 1  REGION OCCIDENTE\n",
       "2020-09-01  CSMU1C         SOGAMOSO NORTE    REGION ORIENTE\n",
       "2020-09-01  CSMU1B         SOGAMOSO NORTE    REGION ORIENTE\n",
       "2020-09-01     42V    CALI SUR DISTRITO 1  REGION OCCIDENTE\n",
       "2020-09-01     V6Q  CALI NORTE DISTRITO 6  REGION OCCIDENTE"
      ]
     },
     "execution_count": 811,
     "metadata": {},
     "output_type": "execute_result"
    }
   ],
   "source": [
    "maestroNodoC.head()"
   ]
  },
  {
   "cell_type": "code",
   "execution_count": 812,
   "id": "66cc13fe",
   "metadata": {},
   "outputs": [
    {
     "data": {
      "text/html": [
       "<div>\n",
       "<style scoped>\n",
       "    .dataframe tbody tr th:only-of-type {\n",
       "        vertical-align: middle;\n",
       "    }\n",
       "\n",
       "    .dataframe tbody tr th {\n",
       "        vertical-align: top;\n",
       "    }\n",
       "\n",
       "    .dataframe thead th {\n",
       "        text-align: right;\n",
       "    }\n",
       "</style>\n",
       "<table border=\"1\" class=\"dataframe\">\n",
       "  <thead>\n",
       "    <tr style=\"text-align: right;\">\n",
       "      <th></th>\n",
       "      <th>FECHA</th>\n",
       "      <th>pred</th>\n",
       "      <th>NODO</th>\n",
       "      <th>Metodo</th>\n",
       "      <th>Distrito</th>\n",
       "      <th>REGIONAL</th>\n",
       "    </tr>\n",
       "  </thead>\n",
       "  <tbody>\n",
       "    <tr>\n",
       "      <th>0</th>\n",
       "      <td>2021-09-01</td>\n",
       "      <td>12.996</td>\n",
       "      <td>01S</td>\n",
       "      <td>HOLT</td>\n",
       "      <td>GAITANA</td>\n",
       "      <td>REGION CENTRO</td>\n",
       "    </tr>\n",
       "    <tr>\n",
       "      <th>1</th>\n",
       "      <td>2021-10-01</td>\n",
       "      <td>12.425</td>\n",
       "      <td>01S</td>\n",
       "      <td>HOLT</td>\n",
       "      <td>GAITANA</td>\n",
       "      <td>REGION CENTRO</td>\n",
       "    </tr>\n",
       "    <tr>\n",
       "      <th>2</th>\n",
       "      <td>2021-11-01</td>\n",
       "      <td>11.853</td>\n",
       "      <td>01S</td>\n",
       "      <td>HOLT</td>\n",
       "      <td>GAITANA</td>\n",
       "      <td>REGION CENTRO</td>\n",
       "    </tr>\n",
       "    <tr>\n",
       "      <th>3</th>\n",
       "      <td>2021-12-01</td>\n",
       "      <td>11.281</td>\n",
       "      <td>01S</td>\n",
       "      <td>HOLT</td>\n",
       "      <td>GAITANA</td>\n",
       "      <td>REGION CENTRO</td>\n",
       "    </tr>\n",
       "    <tr>\n",
       "      <th>4</th>\n",
       "      <td>2021-09-01</td>\n",
       "      <td>9.022</td>\n",
       "      <td>02J</td>\n",
       "      <td>ARIMAX</td>\n",
       "      <td>NaN</td>\n",
       "      <td>NaN</td>\n",
       "    </tr>\n",
       "  </tbody>\n",
       "</table>\n",
       "</div>"
      ],
      "text/plain": [
       "       FECHA   pred NODO  Metodo Distrito       REGIONAL\n",
       "0 2021-09-01 12.996  01S    HOLT  GAITANA  REGION CENTRO\n",
       "1 2021-10-01 12.425  01S    HOLT  GAITANA  REGION CENTRO\n",
       "2 2021-11-01 11.853  01S    HOLT  GAITANA  REGION CENTRO\n",
       "3 2021-12-01 11.281  01S    HOLT  GAITANA  REGION CENTRO\n",
       "4 2021-09-01  9.022  02J  ARIMAX      NaN            NaN"
      ]
     },
     "execution_count": 812,
     "metadata": {},
     "output_type": "execute_result"
    }
   ],
   "source": [
    "resultadoFinalC=finalPrediccionesFuturasC.reset_index().merge(maestroNodoC,left_on='NODO',right_on='NODO',how='left')\n",
    "resultadoFinalC.head(5)"
   ]
  },
  {
   "cell_type": "code",
   "execution_count": 813,
   "id": "e5074dc5",
   "metadata": {},
   "outputs": [],
   "source": [
    "resultadoFinalC.to_csv('Prediciones_Contact_Rate.csv',sep=';',decimal='.')"
   ]
  },
  {
   "cell_type": "markdown",
   "id": "b751475e",
   "metadata": {},
   "source": [
    "## UNION DE RESULTADOS"
   ]
  },
  {
   "cell_type": "markdown",
   "id": "56992522",
   "metadata": {},
   "source": [
    "### Tabla final de Churn\n",
    "\n"
   ]
  },
  {
   "cell_type": "code",
   "execution_count": 814,
   "id": "594d3c8a",
   "metadata": {},
   "outputs": [],
   "source": [
    "resultadoFinalC= pd.read_csv(f'Prediciones_Contact_Rate.csv',sep=';', decimal=',').drop(columns=['Unnamed: 0'])\n",
    "resultadoFinal=pd.read_csv(f'resultadoPrediciones_CHURN.csv',sep=';', decimal=',').drop(columns=['Unnamed: 0'])"
   ]
  },
  {
   "cell_type": "code",
   "execution_count": 815,
   "id": "48de5b24",
   "metadata": {},
   "outputs": [
    {
     "data": {
      "text/html": [
       "<div>\n",
       "<style scoped>\n",
       "    .dataframe tbody tr th:only-of-type {\n",
       "        vertical-align: middle;\n",
       "    }\n",
       "\n",
       "    .dataframe tbody tr th {\n",
       "        vertical-align: top;\n",
       "    }\n",
       "\n",
       "    .dataframe thead th {\n",
       "        text-align: right;\n",
       "    }\n",
       "</style>\n",
       "<table border=\"1\" class=\"dataframe\">\n",
       "  <thead>\n",
       "    <tr style=\"text-align: right;\">\n",
       "      <th></th>\n",
       "      <th>FECHA</th>\n",
       "      <th>pred</th>\n",
       "      <th>Nodo</th>\n",
       "      <th>Metodo</th>\n",
       "      <th>E_distrito</th>\n",
       "      <th>Regional</th>\n",
       "    </tr>\n",
       "  </thead>\n",
       "  <tbody>\n",
       "    <tr>\n",
       "      <th>0</th>\n",
       "      <td>2021-11-01</td>\n",
       "      <td>-0.770</td>\n",
       "      <td>01J</td>\n",
       "      <td>ARIMAX2</td>\n",
       "      <td>CORDOBA SUCRE DISTRITO 3</td>\n",
       "      <td>REGION COSTA</td>\n",
       "    </tr>\n",
       "    <tr>\n",
       "      <th>1</th>\n",
       "      <td>2021-12-01</td>\n",
       "      <td>-1.321</td>\n",
       "      <td>01J</td>\n",
       "      <td>ARIMAX2</td>\n",
       "      <td>CORDOBA SUCRE DISTRITO 3</td>\n",
       "      <td>REGION COSTA</td>\n",
       "    </tr>\n",
       "    <tr>\n",
       "      <th>2</th>\n",
       "      <td>2022-01-01</td>\n",
       "      <td>-1.321</td>\n",
       "      <td>01J</td>\n",
       "      <td>ARIMAX2</td>\n",
       "      <td>CORDOBA SUCRE DISTRITO 3</td>\n",
       "      <td>REGION COSTA</td>\n",
       "    </tr>\n",
       "    <tr>\n",
       "      <th>3</th>\n",
       "      <td>2021-11-01</td>\n",
       "      <td>-6.267</td>\n",
       "      <td>01S</td>\n",
       "      <td>ARIMAX2</td>\n",
       "      <td>GAITANA</td>\n",
       "      <td>REGION CENTRO</td>\n",
       "    </tr>\n",
       "    <tr>\n",
       "      <th>4</th>\n",
       "      <td>2021-12-01</td>\n",
       "      <td>-0.216</td>\n",
       "      <td>01S</td>\n",
       "      <td>ARIMAX2</td>\n",
       "      <td>GAITANA</td>\n",
       "      <td>REGION CENTRO</td>\n",
       "    </tr>\n",
       "  </tbody>\n",
       "</table>\n",
       "</div>"
      ],
      "text/plain": [
       "        FECHA   pred Nodo   Metodo                E_distrito       Regional\n",
       "0  2021-11-01 -0.770  01J  ARIMAX2  CORDOBA SUCRE DISTRITO 3   REGION COSTA\n",
       "1  2021-12-01 -1.321  01J  ARIMAX2  CORDOBA SUCRE DISTRITO 3   REGION COSTA\n",
       "2  2022-01-01 -1.321  01J  ARIMAX2  CORDOBA SUCRE DISTRITO 3   REGION COSTA\n",
       "3  2021-11-01 -6.267  01S  ARIMAX2                   GAITANA  REGION CENTRO\n",
       "4  2021-12-01 -0.216  01S  ARIMAX2                   GAITANA  REGION CENTRO"
      ]
     },
     "execution_count": 815,
     "metadata": {},
     "output_type": "execute_result"
    }
   ],
   "source": [
    "resultadoFinal.head()"
   ]
  },
  {
   "cell_type": "code",
   "execution_count": 816,
   "id": "b2e3f1d7",
   "metadata": {},
   "outputs": [],
   "source": [
    "#Si es necesario \n",
    "#resultadoFinal.drop(columns)\n",
    "#resultadoFinal.drop(columns=['p10_x','p60_x','p10_y','p60_y'], inplace=True)"
   ]
  },
  {
   "cell_type": "code",
   "execution_count": 817,
   "id": "867f892f",
   "metadata": {},
   "outputs": [
    {
     "data": {
      "text/html": [
       "<div>\n",
       "<style scoped>\n",
       "    .dataframe tbody tr th:only-of-type {\n",
       "        vertical-align: middle;\n",
       "    }\n",
       "\n",
       "    .dataframe tbody tr th {\n",
       "        vertical-align: top;\n",
       "    }\n",
       "\n",
       "    .dataframe thead th {\n",
       "        text-align: right;\n",
       "    }\n",
       "</style>\n",
       "<table border=\"1\" class=\"dataframe\">\n",
       "  <thead>\n",
       "    <tr style=\"text-align: right;\">\n",
       "      <th></th>\n",
       "      <th>FECHA</th>\n",
       "      <th>pred</th>\n",
       "      <th>Nodo</th>\n",
       "      <th>Metodo</th>\n",
       "      <th>E_distrito</th>\n",
       "      <th>Regional</th>\n",
       "    </tr>\n",
       "  </thead>\n",
       "  <tbody>\n",
       "    <tr>\n",
       "      <th>0</th>\n",
       "      <td>2021-11-01</td>\n",
       "      <td>-0.770</td>\n",
       "      <td>01J</td>\n",
       "      <td>ARIMAX2</td>\n",
       "      <td>CORDOBA SUCRE DISTRITO 3</td>\n",
       "      <td>REGION COSTA</td>\n",
       "    </tr>\n",
       "    <tr>\n",
       "      <th>1</th>\n",
       "      <td>2021-12-01</td>\n",
       "      <td>-1.321</td>\n",
       "      <td>01J</td>\n",
       "      <td>ARIMAX2</td>\n",
       "      <td>CORDOBA SUCRE DISTRITO 3</td>\n",
       "      <td>REGION COSTA</td>\n",
       "    </tr>\n",
       "    <tr>\n",
       "      <th>2</th>\n",
       "      <td>2022-01-01</td>\n",
       "      <td>-1.321</td>\n",
       "      <td>01J</td>\n",
       "      <td>ARIMAX2</td>\n",
       "      <td>CORDOBA SUCRE DISTRITO 3</td>\n",
       "      <td>REGION COSTA</td>\n",
       "    </tr>\n",
       "    <tr>\n",
       "      <th>3</th>\n",
       "      <td>2021-11-01</td>\n",
       "      <td>-6.267</td>\n",
       "      <td>01S</td>\n",
       "      <td>ARIMAX2</td>\n",
       "      <td>GAITANA</td>\n",
       "      <td>REGION CENTRO</td>\n",
       "    </tr>\n",
       "    <tr>\n",
       "      <th>4</th>\n",
       "      <td>2021-12-01</td>\n",
       "      <td>-0.216</td>\n",
       "      <td>01S</td>\n",
       "      <td>ARIMAX2</td>\n",
       "      <td>GAITANA</td>\n",
       "      <td>REGION CENTRO</td>\n",
       "    </tr>\n",
       "  </tbody>\n",
       "</table>\n",
       "</div>"
      ],
      "text/plain": [
       "        FECHA   pred Nodo   Metodo                E_distrito       Regional\n",
       "0  2021-11-01 -0.770  01J  ARIMAX2  CORDOBA SUCRE DISTRITO 3   REGION COSTA\n",
       "1  2021-12-01 -1.321  01J  ARIMAX2  CORDOBA SUCRE DISTRITO 3   REGION COSTA\n",
       "2  2022-01-01 -1.321  01J  ARIMAX2  CORDOBA SUCRE DISTRITO 3   REGION COSTA\n",
       "3  2021-11-01 -6.267  01S  ARIMAX2                   GAITANA  REGION CENTRO\n",
       "4  2021-12-01 -0.216  01S  ARIMAX2                   GAITANA  REGION CENTRO"
      ]
     },
     "execution_count": 817,
     "metadata": {},
     "output_type": "execute_result"
    }
   ],
   "source": [
    "resultadoFinal.head()"
   ]
  },
  {
   "cell_type": "code",
   "execution_count": 818,
   "id": "a2a7e8d4",
   "metadata": {},
   "outputs": [],
   "source": [
    "#selcol=['pred']\n",
    "#resultadoFinal['suma']=resultadoFinal[selcol].sum(axis=1)\n",
    "#resultadoFinal.suma"
   ]
  },
  {
   "cell_type": "code",
   "execution_count": 819,
   "id": "8fbacb6c",
   "metadata": {},
   "outputs": [],
   "source": [
    "Percentiles_Regional=resultadoFinal[['pred','Regional']].groupby('Regional').quantile(0.10)\n",
    "Percentiles_Regional.columns=['p10']"
   ]
  },
  {
   "cell_type": "code",
   "execution_count": 820,
   "id": "b00895a0",
   "metadata": {
    "scrolled": true
   },
   "outputs": [
    {
     "data": {
      "text/html": [
       "<div>\n",
       "<style scoped>\n",
       "    .dataframe tbody tr th:only-of-type {\n",
       "        vertical-align: middle;\n",
       "    }\n",
       "\n",
       "    .dataframe tbody tr th {\n",
       "        vertical-align: top;\n",
       "    }\n",
       "\n",
       "    .dataframe thead th {\n",
       "        text-align: right;\n",
       "    }\n",
       "</style>\n",
       "<table border=\"1\" class=\"dataframe\">\n",
       "  <thead>\n",
       "    <tr style=\"text-align: right;\">\n",
       "      <th></th>\n",
       "      <th>p10</th>\n",
       "    </tr>\n",
       "    <tr>\n",
       "      <th>Regional</th>\n",
       "      <th></th>\n",
       "    </tr>\n",
       "  </thead>\n",
       "  <tbody>\n",
       "    <tr>\n",
       "      <th>REGION CENTRO</th>\n",
       "      <td>-18.409</td>\n",
       "    </tr>\n",
       "    <tr>\n",
       "      <th>REGION COSTA</th>\n",
       "      <td>-12.242</td>\n",
       "    </tr>\n",
       "    <tr>\n",
       "      <th>REGION NOROCCIDENTE</th>\n",
       "      <td>-14.364</td>\n",
       "    </tr>\n",
       "    <tr>\n",
       "      <th>REGION OCCIDENTE</th>\n",
       "      <td>-17.992</td>\n",
       "    </tr>\n",
       "    <tr>\n",
       "      <th>REGION ORIENTE</th>\n",
       "      <td>-13.793</td>\n",
       "    </tr>\n",
       "  </tbody>\n",
       "</table>\n",
       "</div>"
      ],
      "text/plain": [
       "                        p10\n",
       "Regional                   \n",
       "REGION CENTRO       -18.409\n",
       "REGION COSTA        -12.242\n",
       "REGION NOROCCIDENTE -14.364\n",
       "REGION OCCIDENTE    -17.992\n",
       "REGION ORIENTE      -13.793"
      ]
     },
     "execution_count": 820,
     "metadata": {},
     "output_type": "execute_result"
    }
   ],
   "source": [
    "Percentiles_Regional"
   ]
  },
  {
   "cell_type": "code",
   "execution_count": 821,
   "id": "2855ac2b",
   "metadata": {},
   "outputs": [],
   "source": [
    "Percentiles_Regional1=resultadoFinal[['pred','Regional']].groupby('Regional').quantile(0.60)\n",
    "Percentiles_Regional1.columns=['p60']"
   ]
  },
  {
   "cell_type": "code",
   "execution_count": 822,
   "id": "8ade7651",
   "metadata": {
    "scrolled": true
   },
   "outputs": [
    {
     "data": {
      "text/html": [
       "<div>\n",
       "<style scoped>\n",
       "    .dataframe tbody tr th:only-of-type {\n",
       "        vertical-align: middle;\n",
       "    }\n",
       "\n",
       "    .dataframe tbody tr th {\n",
       "        vertical-align: top;\n",
       "    }\n",
       "\n",
       "    .dataframe thead th {\n",
       "        text-align: right;\n",
       "    }\n",
       "</style>\n",
       "<table border=\"1\" class=\"dataframe\">\n",
       "  <thead>\n",
       "    <tr style=\"text-align: right;\">\n",
       "      <th></th>\n",
       "      <th>p60</th>\n",
       "    </tr>\n",
       "    <tr>\n",
       "      <th>Regional</th>\n",
       "      <th></th>\n",
       "    </tr>\n",
       "  </thead>\n",
       "  <tbody>\n",
       "    <tr>\n",
       "      <th>REGION CENTRO</th>\n",
       "      <td>-4.637</td>\n",
       "    </tr>\n",
       "    <tr>\n",
       "      <th>REGION COSTA</th>\n",
       "      <td>-1.753</td>\n",
       "    </tr>\n",
       "    <tr>\n",
       "      <th>REGION NOROCCIDENTE</th>\n",
       "      <td>-2.167</td>\n",
       "    </tr>\n",
       "    <tr>\n",
       "      <th>REGION OCCIDENTE</th>\n",
       "      <td>-4.135</td>\n",
       "    </tr>\n",
       "    <tr>\n",
       "      <th>REGION ORIENTE</th>\n",
       "      <td>-1.966</td>\n",
       "    </tr>\n",
       "  </tbody>\n",
       "</table>\n",
       "</div>"
      ],
      "text/plain": [
       "                       p60\n",
       "Regional                  \n",
       "REGION CENTRO       -4.637\n",
       "REGION COSTA        -1.753\n",
       "REGION NOROCCIDENTE -2.167\n",
       "REGION OCCIDENTE    -4.135\n",
       "REGION ORIENTE      -1.966"
      ]
     },
     "execution_count": 822,
     "metadata": {},
     "output_type": "execute_result"
    }
   ],
   "source": [
    "Percentiles_Regional1"
   ]
  },
  {
   "cell_type": "code",
   "execution_count": 823,
   "id": "8177e525",
   "metadata": {
    "scrolled": true
   },
   "outputs": [
    {
     "data": {
      "text/html": [
       "<div>\n",
       "<style scoped>\n",
       "    .dataframe tbody tr th:only-of-type {\n",
       "        vertical-align: middle;\n",
       "    }\n",
       "\n",
       "    .dataframe tbody tr th {\n",
       "        vertical-align: top;\n",
       "    }\n",
       "\n",
       "    .dataframe thead th {\n",
       "        text-align: right;\n",
       "    }\n",
       "</style>\n",
       "<table border=\"1\" class=\"dataframe\">\n",
       "  <thead>\n",
       "    <tr style=\"text-align: right;\">\n",
       "      <th></th>\n",
       "      <th>FECHA</th>\n",
       "      <th>pred</th>\n",
       "      <th>Nodo</th>\n",
       "      <th>Metodo</th>\n",
       "      <th>E_distrito</th>\n",
       "      <th>Regional</th>\n",
       "      <th>p10</th>\n",
       "      <th>p60</th>\n",
       "    </tr>\n",
       "  </thead>\n",
       "  <tbody>\n",
       "    <tr>\n",
       "      <th>0</th>\n",
       "      <td>2021-11-01</td>\n",
       "      <td>-0.770</td>\n",
       "      <td>01J</td>\n",
       "      <td>ARIMAX2</td>\n",
       "      <td>CORDOBA SUCRE DISTRITO 3</td>\n",
       "      <td>REGION COSTA</td>\n",
       "      <td>-12.242</td>\n",
       "      <td>-1.753</td>\n",
       "    </tr>\n",
       "    <tr>\n",
       "      <th>1</th>\n",
       "      <td>2021-12-01</td>\n",
       "      <td>-1.321</td>\n",
       "      <td>01J</td>\n",
       "      <td>ARIMAX2</td>\n",
       "      <td>CORDOBA SUCRE DISTRITO 3</td>\n",
       "      <td>REGION COSTA</td>\n",
       "      <td>-12.242</td>\n",
       "      <td>-1.753</td>\n",
       "    </tr>\n",
       "    <tr>\n",
       "      <th>2</th>\n",
       "      <td>2022-01-01</td>\n",
       "      <td>-1.321</td>\n",
       "      <td>01J</td>\n",
       "      <td>ARIMAX2</td>\n",
       "      <td>CORDOBA SUCRE DISTRITO 3</td>\n",
       "      <td>REGION COSTA</td>\n",
       "      <td>-12.242</td>\n",
       "      <td>-1.753</td>\n",
       "    </tr>\n",
       "    <tr>\n",
       "      <th>3</th>\n",
       "      <td>2021-11-01</td>\n",
       "      <td>-6.267</td>\n",
       "      <td>01S</td>\n",
       "      <td>ARIMAX2</td>\n",
       "      <td>GAITANA</td>\n",
       "      <td>REGION CENTRO</td>\n",
       "      <td>-18.409</td>\n",
       "      <td>-4.637</td>\n",
       "    </tr>\n",
       "    <tr>\n",
       "      <th>4</th>\n",
       "      <td>2021-12-01</td>\n",
       "      <td>-0.216</td>\n",
       "      <td>01S</td>\n",
       "      <td>ARIMAX2</td>\n",
       "      <td>GAITANA</td>\n",
       "      <td>REGION CENTRO</td>\n",
       "      <td>-18.409</td>\n",
       "      <td>-4.637</td>\n",
       "    </tr>\n",
       "  </tbody>\n",
       "</table>\n",
       "</div>"
      ],
      "text/plain": [
       "        FECHA   pred Nodo   Metodo                E_distrito       Regional  \\\n",
       "0  2021-11-01 -0.770  01J  ARIMAX2  CORDOBA SUCRE DISTRITO 3   REGION COSTA   \n",
       "1  2021-12-01 -1.321  01J  ARIMAX2  CORDOBA SUCRE DISTRITO 3   REGION COSTA   \n",
       "2  2022-01-01 -1.321  01J  ARIMAX2  CORDOBA SUCRE DISTRITO 3   REGION COSTA   \n",
       "3  2021-11-01 -6.267  01S  ARIMAX2                   GAITANA  REGION CENTRO   \n",
       "4  2021-12-01 -0.216  01S  ARIMAX2                   GAITANA  REGION CENTRO   \n",
       "\n",
       "      p10    p60  \n",
       "0 -12.242 -1.753  \n",
       "1 -12.242 -1.753  \n",
       "2 -12.242 -1.753  \n",
       "3 -18.409 -4.637  \n",
       "4 -18.409 -4.637  "
      ]
     },
     "execution_count": 823,
     "metadata": {},
     "output_type": "execute_result"
    }
   ],
   "source": [
    "resultadoFinal=resultadoFinal.merge(Percentiles_Regional, left_on='Regional', right_index=True, how='left').merge(Percentiles_Regional1, left_on='Regional', right_index=True, how='left')\n",
    "resultadoFinal.head()"
   ]
  },
  {
   "cell_type": "code",
   "execution_count": 824,
   "id": "d83c9c8b",
   "metadata": {},
   "outputs": [
    {
     "data": {
      "text/html": [
       "<div>\n",
       "<style scoped>\n",
       "    .dataframe tbody tr th:only-of-type {\n",
       "        vertical-align: middle;\n",
       "    }\n",
       "\n",
       "    .dataframe tbody tr th {\n",
       "        vertical-align: top;\n",
       "    }\n",
       "\n",
       "    .dataframe thead th {\n",
       "        text-align: right;\n",
       "    }\n",
       "</style>\n",
       "<table border=\"1\" class=\"dataframe\">\n",
       "  <thead>\n",
       "    <tr style=\"text-align: right;\">\n",
       "      <th></th>\n",
       "      <th>FECHA</th>\n",
       "      <th>pred</th>\n",
       "      <th>Nodo</th>\n",
       "      <th>Metodo</th>\n",
       "      <th>E_distrito</th>\n",
       "      <th>Regional</th>\n",
       "      <th>p10</th>\n",
       "      <th>p60</th>\n",
       "    </tr>\n",
       "  </thead>\n",
       "  <tbody>\n",
       "    <tr>\n",
       "      <th>0</th>\n",
       "      <td>2021-11-01</td>\n",
       "      <td>-0.770</td>\n",
       "      <td>01J</td>\n",
       "      <td>ARIMAX2</td>\n",
       "      <td>CORDOBA SUCRE DISTRITO 3</td>\n",
       "      <td>REGION COSTA</td>\n",
       "      <td>-12.242</td>\n",
       "      <td>-1.753</td>\n",
       "    </tr>\n",
       "    <tr>\n",
       "      <th>1</th>\n",
       "      <td>2021-12-01</td>\n",
       "      <td>-1.321</td>\n",
       "      <td>01J</td>\n",
       "      <td>ARIMAX2</td>\n",
       "      <td>CORDOBA SUCRE DISTRITO 3</td>\n",
       "      <td>REGION COSTA</td>\n",
       "      <td>-12.242</td>\n",
       "      <td>-1.753</td>\n",
       "    </tr>\n",
       "    <tr>\n",
       "      <th>2</th>\n",
       "      <td>2022-01-01</td>\n",
       "      <td>-1.321</td>\n",
       "      <td>01J</td>\n",
       "      <td>ARIMAX2</td>\n",
       "      <td>CORDOBA SUCRE DISTRITO 3</td>\n",
       "      <td>REGION COSTA</td>\n",
       "      <td>-12.242</td>\n",
       "      <td>-1.753</td>\n",
       "    </tr>\n",
       "    <tr>\n",
       "      <th>3</th>\n",
       "      <td>2021-11-01</td>\n",
       "      <td>-6.267</td>\n",
       "      <td>01S</td>\n",
       "      <td>ARIMAX2</td>\n",
       "      <td>GAITANA</td>\n",
       "      <td>REGION CENTRO</td>\n",
       "      <td>-18.409</td>\n",
       "      <td>-4.637</td>\n",
       "    </tr>\n",
       "    <tr>\n",
       "      <th>4</th>\n",
       "      <td>2021-12-01</td>\n",
       "      <td>-0.216</td>\n",
       "      <td>01S</td>\n",
       "      <td>ARIMAX2</td>\n",
       "      <td>GAITANA</td>\n",
       "      <td>REGION CENTRO</td>\n",
       "      <td>-18.409</td>\n",
       "      <td>-4.637</td>\n",
       "    </tr>\n",
       "  </tbody>\n",
       "</table>\n",
       "</div>"
      ],
      "text/plain": [
       "        FECHA   pred Nodo   Metodo                E_distrito       Regional  \\\n",
       "0  2021-11-01 -0.770  01J  ARIMAX2  CORDOBA SUCRE DISTRITO 3   REGION COSTA   \n",
       "1  2021-12-01 -1.321  01J  ARIMAX2  CORDOBA SUCRE DISTRITO 3   REGION COSTA   \n",
       "2  2022-01-01 -1.321  01J  ARIMAX2  CORDOBA SUCRE DISTRITO 3   REGION COSTA   \n",
       "3  2021-11-01 -6.267  01S  ARIMAX2                   GAITANA  REGION CENTRO   \n",
       "4  2021-12-01 -0.216  01S  ARIMAX2                   GAITANA  REGION CENTRO   \n",
       "\n",
       "      p10    p60  \n",
       "0 -12.242 -1.753  \n",
       "1 -12.242 -1.753  \n",
       "2 -12.242 -1.753  \n",
       "3 -18.409 -4.637  \n",
       "4 -18.409 -4.637  "
      ]
     },
     "execution_count": 824,
     "metadata": {},
     "output_type": "execute_result"
    }
   ],
   "source": [
    "resultadoFinal.head()"
   ]
  },
  {
   "cell_type": "code",
   "execution_count": 825,
   "id": "edd22f82",
   "metadata": {},
   "outputs": [
    {
     "data": {
      "text/html": [
       "<div>\n",
       "<style scoped>\n",
       "    .dataframe tbody tr th:only-of-type {\n",
       "        vertical-align: middle;\n",
       "    }\n",
       "\n",
       "    .dataframe tbody tr th {\n",
       "        vertical-align: top;\n",
       "    }\n",
       "\n",
       "    .dataframe thead th {\n",
       "        text-align: right;\n",
       "    }\n",
       "</style>\n",
       "<table border=\"1\" class=\"dataframe\">\n",
       "  <thead>\n",
       "    <tr style=\"text-align: right;\">\n",
       "      <th></th>\n",
       "      <th>FECHA</th>\n",
       "      <th>pred</th>\n",
       "      <th>Nodo</th>\n",
       "      <th>Metodo</th>\n",
       "      <th>E_distrito</th>\n",
       "      <th>Regional</th>\n",
       "      <th>p10</th>\n",
       "      <th>p60</th>\n",
       "      <th>tipoChurn</th>\n",
       "    </tr>\n",
       "  </thead>\n",
       "  <tbody>\n",
       "    <tr>\n",
       "      <th>0</th>\n",
       "      <td>2021-11-01</td>\n",
       "      <td>-0.770</td>\n",
       "      <td>01J</td>\n",
       "      <td>ARIMAX2</td>\n",
       "      <td>CORDOBA SUCRE DISTRITO 3</td>\n",
       "      <td>REGION COSTA</td>\n",
       "      <td>-12.242</td>\n",
       "      <td>-1.753</td>\n",
       "      <td>BUENO_CHURN</td>\n",
       "    </tr>\n",
       "    <tr>\n",
       "      <th>1</th>\n",
       "      <td>2021-12-01</td>\n",
       "      <td>-1.321</td>\n",
       "      <td>01J</td>\n",
       "      <td>ARIMAX2</td>\n",
       "      <td>CORDOBA SUCRE DISTRITO 3</td>\n",
       "      <td>REGION COSTA</td>\n",
       "      <td>-12.242</td>\n",
       "      <td>-1.753</td>\n",
       "      <td>BUENO_CHURN</td>\n",
       "    </tr>\n",
       "    <tr>\n",
       "      <th>2</th>\n",
       "      <td>2022-01-01</td>\n",
       "      <td>-1.321</td>\n",
       "      <td>01J</td>\n",
       "      <td>ARIMAX2</td>\n",
       "      <td>CORDOBA SUCRE DISTRITO 3</td>\n",
       "      <td>REGION COSTA</td>\n",
       "      <td>-12.242</td>\n",
       "      <td>-1.753</td>\n",
       "      <td>BUENO_CHURN</td>\n",
       "    </tr>\n",
       "    <tr>\n",
       "      <th>3</th>\n",
       "      <td>2021-11-01</td>\n",
       "      <td>-6.267</td>\n",
       "      <td>01S</td>\n",
       "      <td>ARIMAX2</td>\n",
       "      <td>GAITANA</td>\n",
       "      <td>REGION CENTRO</td>\n",
       "      <td>-18.409</td>\n",
       "      <td>-4.637</td>\n",
       "      <td>REGULAR_CHURN</td>\n",
       "    </tr>\n",
       "    <tr>\n",
       "      <th>4</th>\n",
       "      <td>2021-12-01</td>\n",
       "      <td>-0.216</td>\n",
       "      <td>01S</td>\n",
       "      <td>ARIMAX2</td>\n",
       "      <td>GAITANA</td>\n",
       "      <td>REGION CENTRO</td>\n",
       "      <td>-18.409</td>\n",
       "      <td>-4.637</td>\n",
       "      <td>BUENO_CHURN</td>\n",
       "    </tr>\n",
       "  </tbody>\n",
       "</table>\n",
       "</div>"
      ],
      "text/plain": [
       "        FECHA   pred Nodo   Metodo                E_distrito       Regional  \\\n",
       "0  2021-11-01 -0.770  01J  ARIMAX2  CORDOBA SUCRE DISTRITO 3   REGION COSTA   \n",
       "1  2021-12-01 -1.321  01J  ARIMAX2  CORDOBA SUCRE DISTRITO 3   REGION COSTA   \n",
       "2  2022-01-01 -1.321  01J  ARIMAX2  CORDOBA SUCRE DISTRITO 3   REGION COSTA   \n",
       "3  2021-11-01 -6.267  01S  ARIMAX2                   GAITANA  REGION CENTRO   \n",
       "4  2021-12-01 -0.216  01S  ARIMAX2                   GAITANA  REGION CENTRO   \n",
       "\n",
       "      p10    p60      tipoChurn  \n",
       "0 -12.242 -1.753    BUENO_CHURN  \n",
       "1 -12.242 -1.753    BUENO_CHURN  \n",
       "2 -12.242 -1.753    BUENO_CHURN  \n",
       "3 -18.409 -4.637  REGULAR_CHURN  \n",
       "4 -18.409 -4.637    BUENO_CHURN  "
      ]
     },
     "execution_count": 825,
     "metadata": {},
     "output_type": "execute_result"
    }
   ],
   "source": [
    "resultadoFinal['tipoChurn']=np.where(resultadoFinal['pred']<resultadoFinal['p10'],'MALO_CHURN',np.where(resultadoFinal['pred']<resultadoFinal['p60'],'REGULAR_CHURN','BUENO_CHURN'))\n",
    "resultadoFinal.head()"
   ]
  },
  {
   "cell_type": "code",
   "execution_count": 826,
   "id": "283cde17",
   "metadata": {},
   "outputs": [
    {
     "data": {
      "text/html": [
       "<div>\n",
       "<style scoped>\n",
       "    .dataframe tbody tr th:only-of-type {\n",
       "        vertical-align: middle;\n",
       "    }\n",
       "\n",
       "    .dataframe tbody tr th {\n",
       "        vertical-align: top;\n",
       "    }\n",
       "\n",
       "    .dataframe thead th {\n",
       "        text-align: right;\n",
       "    }\n",
       "</style>\n",
       "<table border=\"1\" class=\"dataframe\">\n",
       "  <thead>\n",
       "    <tr style=\"text-align: right;\">\n",
       "      <th></th>\n",
       "      <th>FECHA</th>\n",
       "      <th>pred</th>\n",
       "      <th>Nodo</th>\n",
       "      <th>Metodo</th>\n",
       "      <th>E_distrito</th>\n",
       "      <th>Regional</th>\n",
       "      <th>p10</th>\n",
       "      <th>p60</th>\n",
       "      <th>tipoChurn</th>\n",
       "    </tr>\n",
       "  </thead>\n",
       "  <tbody>\n",
       "    <tr>\n",
       "      <th>47</th>\n",
       "      <td>2022-01-01</td>\n",
       "      <td>-14.459</td>\n",
       "      <td>0AR</td>\n",
       "      <td>HOLT</td>\n",
       "      <td>MEDELLIN NORORIENTAL</td>\n",
       "      <td>REGION NOROCCIDENTE</td>\n",
       "      <td>-14.364</td>\n",
       "      <td>-2.167</td>\n",
       "      <td>MALO_CHURN</td>\n",
       "    </tr>\n",
       "    <tr>\n",
       "      <th>63</th>\n",
       "      <td>2021-11-01</td>\n",
       "      <td>-18.844</td>\n",
       "      <td>0BZ</td>\n",
       "      <td>HOLT</td>\n",
       "      <td>ROMA</td>\n",
       "      <td>REGION CENTRO</td>\n",
       "      <td>-18.409</td>\n",
       "      <td>-4.637</td>\n",
       "      <td>MALO_CHURN</td>\n",
       "    </tr>\n",
       "    <tr>\n",
       "      <th>64</th>\n",
       "      <td>2021-12-01</td>\n",
       "      <td>-19.309</td>\n",
       "      <td>0BZ</td>\n",
       "      <td>HOLT</td>\n",
       "      <td>ROMA</td>\n",
       "      <td>REGION CENTRO</td>\n",
       "      <td>-18.409</td>\n",
       "      <td>-4.637</td>\n",
       "      <td>MALO_CHURN</td>\n",
       "    </tr>\n",
       "    <tr>\n",
       "      <th>65</th>\n",
       "      <td>2022-01-01</td>\n",
       "      <td>-19.774</td>\n",
       "      <td>0BZ</td>\n",
       "      <td>HOLT</td>\n",
       "      <td>ROMA</td>\n",
       "      <td>REGION CENTRO</td>\n",
       "      <td>-18.409</td>\n",
       "      <td>-4.637</td>\n",
       "      <td>MALO_CHURN</td>\n",
       "    </tr>\n",
       "    <tr>\n",
       "      <th>90</th>\n",
       "      <td>2021-11-01</td>\n",
       "      <td>-18.287</td>\n",
       "      <td>0DB</td>\n",
       "      <td>ES</td>\n",
       "      <td>CALI SUR DISTRITO 3</td>\n",
       "      <td>REGION OCCIDENTE</td>\n",
       "      <td>-17.992</td>\n",
       "      <td>-4.135</td>\n",
       "      <td>MALO_CHURN</td>\n",
       "    </tr>\n",
       "  </tbody>\n",
       "</table>\n",
       "</div>"
      ],
      "text/plain": [
       "         FECHA    pred Nodo Metodo            E_distrito             Regional  \\\n",
       "47  2022-01-01 -14.459  0AR   HOLT  MEDELLIN NORORIENTAL  REGION NOROCCIDENTE   \n",
       "63  2021-11-01 -18.844  0BZ   HOLT                  ROMA        REGION CENTRO   \n",
       "64  2021-12-01 -19.309  0BZ   HOLT                  ROMA        REGION CENTRO   \n",
       "65  2022-01-01 -19.774  0BZ   HOLT                  ROMA        REGION CENTRO   \n",
       "90  2021-11-01 -18.287  0DB     ES   CALI SUR DISTRITO 3     REGION OCCIDENTE   \n",
       "\n",
       "       p10    p60   tipoChurn  \n",
       "47 -14.364 -2.167  MALO_CHURN  \n",
       "63 -18.409 -4.637  MALO_CHURN  \n",
       "64 -18.409 -4.637  MALO_CHURN  \n",
       "65 -18.409 -4.637  MALO_CHURN  \n",
       "90 -17.992 -4.135  MALO_CHURN  "
      ]
     },
     "execution_count": 826,
     "metadata": {},
     "output_type": "execute_result"
    }
   ],
   "source": [
    "resultadoFinal[resultadoFinal['tipoChurn']=='MALO_CHURN'].head()\n"
   ]
  },
  {
   "cell_type": "code",
   "execution_count": 827,
   "id": "2ecf9d3f",
   "metadata": {},
   "outputs": [],
   "source": [
    "#resultadoFinal.to_csv('Prediciones_CHURN_NODOS.MALOS.csv',sep=';',decimal=',')"
   ]
  },
  {
   "cell_type": "markdown",
   "id": "fb809789",
   "metadata": {},
   "source": [
    "### Tabla Final Contact"
   ]
  },
  {
   "cell_type": "code",
   "execution_count": 828,
   "id": "457b8804",
   "metadata": {},
   "outputs": [
    {
     "data": {
      "text/html": [
       "<div>\n",
       "<style scoped>\n",
       "    .dataframe tbody tr th:only-of-type {\n",
       "        vertical-align: middle;\n",
       "    }\n",
       "\n",
       "    .dataframe tbody tr th {\n",
       "        vertical-align: top;\n",
       "    }\n",
       "\n",
       "    .dataframe thead th {\n",
       "        text-align: right;\n",
       "    }\n",
       "</style>\n",
       "<table border=\"1\" class=\"dataframe\">\n",
       "  <thead>\n",
       "    <tr style=\"text-align: right;\">\n",
       "      <th></th>\n",
       "      <th>FECHA</th>\n",
       "      <th>pred</th>\n",
       "      <th>NODO</th>\n",
       "      <th>Metodo</th>\n",
       "      <th>Distrito</th>\n",
       "      <th>REGIONAL</th>\n",
       "    </tr>\n",
       "  </thead>\n",
       "  <tbody>\n",
       "    <tr>\n",
       "      <th>0</th>\n",
       "      <td>2021-09-01</td>\n",
       "      <td>12.996</td>\n",
       "      <td>01S</td>\n",
       "      <td>HOLT</td>\n",
       "      <td>GAITANA</td>\n",
       "      <td>REGION CENTRO</td>\n",
       "    </tr>\n",
       "    <tr>\n",
       "      <th>1</th>\n",
       "      <td>2021-10-01</td>\n",
       "      <td>12.425</td>\n",
       "      <td>01S</td>\n",
       "      <td>HOLT</td>\n",
       "      <td>GAITANA</td>\n",
       "      <td>REGION CENTRO</td>\n",
       "    </tr>\n",
       "    <tr>\n",
       "      <th>2</th>\n",
       "      <td>2021-11-01</td>\n",
       "      <td>11.853</td>\n",
       "      <td>01S</td>\n",
       "      <td>HOLT</td>\n",
       "      <td>GAITANA</td>\n",
       "      <td>REGION CENTRO</td>\n",
       "    </tr>\n",
       "    <tr>\n",
       "      <th>3</th>\n",
       "      <td>2021-12-01</td>\n",
       "      <td>11.281</td>\n",
       "      <td>01S</td>\n",
       "      <td>HOLT</td>\n",
       "      <td>GAITANA</td>\n",
       "      <td>REGION CENTRO</td>\n",
       "    </tr>\n",
       "    <tr>\n",
       "      <th>4</th>\n",
       "      <td>2021-09-01</td>\n",
       "      <td>9.022</td>\n",
       "      <td>02J</td>\n",
       "      <td>ARIMAX</td>\n",
       "      <td>NaN</td>\n",
       "      <td>NaN</td>\n",
       "    </tr>\n",
       "  </tbody>\n",
       "</table>\n",
       "</div>"
      ],
      "text/plain": [
       "        FECHA   pred NODO  Metodo Distrito       REGIONAL\n",
       "0  2021-09-01 12.996  01S    HOLT  GAITANA  REGION CENTRO\n",
       "1  2021-10-01 12.425  01S    HOLT  GAITANA  REGION CENTRO\n",
       "2  2021-11-01 11.853  01S    HOLT  GAITANA  REGION CENTRO\n",
       "3  2021-12-01 11.281  01S    HOLT  GAITANA  REGION CENTRO\n",
       "4  2021-09-01  9.022  02J  ARIMAX      NaN            NaN"
      ]
     },
     "execution_count": 828,
     "metadata": {},
     "output_type": "execute_result"
    }
   ],
   "source": [
    "resultadoFinalC.head()"
   ]
  },
  {
   "cell_type": "code",
   "execution_count": 829,
   "id": "07e9eaaa",
   "metadata": {},
   "outputs": [],
   "source": [
    "#resultadoFinalC.drop(columns=['p80','p30','tipoContatc','tipoContact'], inplace=True)"
   ]
  },
  {
   "cell_type": "code",
   "execution_count": 830,
   "id": "8508b5b3",
   "metadata": {},
   "outputs": [
    {
     "data": {
      "text/html": [
       "<div>\n",
       "<style scoped>\n",
       "    .dataframe tbody tr th:only-of-type {\n",
       "        vertical-align: middle;\n",
       "    }\n",
       "\n",
       "    .dataframe tbody tr th {\n",
       "        vertical-align: top;\n",
       "    }\n",
       "\n",
       "    .dataframe thead th {\n",
       "        text-align: right;\n",
       "    }\n",
       "</style>\n",
       "<table border=\"1\" class=\"dataframe\">\n",
       "  <thead>\n",
       "    <tr style=\"text-align: right;\">\n",
       "      <th></th>\n",
       "      <th>FECHA</th>\n",
       "      <th>pred</th>\n",
       "      <th>NODO</th>\n",
       "      <th>Metodo</th>\n",
       "      <th>Distrito</th>\n",
       "      <th>REGIONAL</th>\n",
       "    </tr>\n",
       "  </thead>\n",
       "  <tbody>\n",
       "    <tr>\n",
       "      <th>0</th>\n",
       "      <td>2021-09-01</td>\n",
       "      <td>12.996</td>\n",
       "      <td>01S</td>\n",
       "      <td>HOLT</td>\n",
       "      <td>GAITANA</td>\n",
       "      <td>REGION CENTRO</td>\n",
       "    </tr>\n",
       "    <tr>\n",
       "      <th>1</th>\n",
       "      <td>2021-10-01</td>\n",
       "      <td>12.425</td>\n",
       "      <td>01S</td>\n",
       "      <td>HOLT</td>\n",
       "      <td>GAITANA</td>\n",
       "      <td>REGION CENTRO</td>\n",
       "    </tr>\n",
       "    <tr>\n",
       "      <th>2</th>\n",
       "      <td>2021-11-01</td>\n",
       "      <td>11.853</td>\n",
       "      <td>01S</td>\n",
       "      <td>HOLT</td>\n",
       "      <td>GAITANA</td>\n",
       "      <td>REGION CENTRO</td>\n",
       "    </tr>\n",
       "    <tr>\n",
       "      <th>3</th>\n",
       "      <td>2021-12-01</td>\n",
       "      <td>11.281</td>\n",
       "      <td>01S</td>\n",
       "      <td>HOLT</td>\n",
       "      <td>GAITANA</td>\n",
       "      <td>REGION CENTRO</td>\n",
       "    </tr>\n",
       "    <tr>\n",
       "      <th>4</th>\n",
       "      <td>2021-09-01</td>\n",
       "      <td>9.022</td>\n",
       "      <td>02J</td>\n",
       "      <td>ARIMAX</td>\n",
       "      <td>NaN</td>\n",
       "      <td>NaN</td>\n",
       "    </tr>\n",
       "  </tbody>\n",
       "</table>\n",
       "</div>"
      ],
      "text/plain": [
       "        FECHA   pred NODO  Metodo Distrito       REGIONAL\n",
       "0  2021-09-01 12.996  01S    HOLT  GAITANA  REGION CENTRO\n",
       "1  2021-10-01 12.425  01S    HOLT  GAITANA  REGION CENTRO\n",
       "2  2021-11-01 11.853  01S    HOLT  GAITANA  REGION CENTRO\n",
       "3  2021-12-01 11.281  01S    HOLT  GAITANA  REGION CENTRO\n",
       "4  2021-09-01  9.022  02J  ARIMAX      NaN            NaN"
      ]
     },
     "execution_count": 830,
     "metadata": {},
     "output_type": "execute_result"
    }
   ],
   "source": [
    "resultadoFinalC.head()"
   ]
  },
  {
   "cell_type": "code",
   "execution_count": 831,
   "id": "aefec4fe",
   "metadata": {},
   "outputs": [],
   "source": [
    "Percentiles_Regional=resultadoFinalC[['pred','REGIONAL']].groupby('REGIONAL').quantile(0.3)\n",
    "Percentiles_Regional.columns=['p30']"
   ]
  },
  {
   "cell_type": "code",
   "execution_count": 832,
   "id": "31b10113",
   "metadata": {},
   "outputs": [
    {
     "data": {
      "text/html": [
       "<div>\n",
       "<style scoped>\n",
       "    .dataframe tbody tr th:only-of-type {\n",
       "        vertical-align: middle;\n",
       "    }\n",
       "\n",
       "    .dataframe tbody tr th {\n",
       "        vertical-align: top;\n",
       "    }\n",
       "\n",
       "    .dataframe thead th {\n",
       "        text-align: right;\n",
       "    }\n",
       "</style>\n",
       "<table border=\"1\" class=\"dataframe\">\n",
       "  <thead>\n",
       "    <tr style=\"text-align: right;\">\n",
       "      <th></th>\n",
       "      <th>p30</th>\n",
       "    </tr>\n",
       "    <tr>\n",
       "      <th>REGIONAL</th>\n",
       "      <th></th>\n",
       "    </tr>\n",
       "  </thead>\n",
       "  <tbody>\n",
       "    <tr>\n",
       "      <th>REGION CENTRO</th>\n",
       "      <td>12.635</td>\n",
       "    </tr>\n",
       "    <tr>\n",
       "      <th>REGION COSTA</th>\n",
       "      <td>10.234</td>\n",
       "    </tr>\n",
       "    <tr>\n",
       "      <th>REGION NOROCCIDENTE</th>\n",
       "      <td>8.449</td>\n",
       "    </tr>\n",
       "    <tr>\n",
       "      <th>REGION OCCIDENTE</th>\n",
       "      <td>8.249</td>\n",
       "    </tr>\n",
       "    <tr>\n",
       "      <th>REGION ORIENTE</th>\n",
       "      <td>7.419</td>\n",
       "    </tr>\n",
       "  </tbody>\n",
       "</table>\n",
       "</div>"
      ],
      "text/plain": [
       "                       p30\n",
       "REGIONAL                  \n",
       "REGION CENTRO       12.635\n",
       "REGION COSTA        10.234\n",
       "REGION NOROCCIDENTE  8.449\n",
       "REGION OCCIDENTE     8.249\n",
       "REGION ORIENTE       7.419"
      ]
     },
     "execution_count": 832,
     "metadata": {},
     "output_type": "execute_result"
    }
   ],
   "source": [
    "Percentiles_Regional"
   ]
  },
  {
   "cell_type": "code",
   "execution_count": 833,
   "id": "14e8f694",
   "metadata": {},
   "outputs": [],
   "source": [
    "Percentiles_Regional1=resultadoFinalC[['pred','REGIONAL']].groupby('REGIONAL').quantile(0.80)\n",
    "Percentiles_Regional1.columns=['p80']"
   ]
  },
  {
   "cell_type": "code",
   "execution_count": 834,
   "id": "586cbb83",
   "metadata": {},
   "outputs": [
    {
     "data": {
      "text/html": [
       "<div>\n",
       "<style scoped>\n",
       "    .dataframe tbody tr th:only-of-type {\n",
       "        vertical-align: middle;\n",
       "    }\n",
       "\n",
       "    .dataframe tbody tr th {\n",
       "        vertical-align: top;\n",
       "    }\n",
       "\n",
       "    .dataframe thead th {\n",
       "        text-align: right;\n",
       "    }\n",
       "</style>\n",
       "<table border=\"1\" class=\"dataframe\">\n",
       "  <thead>\n",
       "    <tr style=\"text-align: right;\">\n",
       "      <th></th>\n",
       "      <th>p80</th>\n",
       "    </tr>\n",
       "    <tr>\n",
       "      <th>REGIONAL</th>\n",
       "      <th></th>\n",
       "    </tr>\n",
       "  </thead>\n",
       "  <tbody>\n",
       "    <tr>\n",
       "      <th>REGION CENTRO</th>\n",
       "      <td>23.343</td>\n",
       "    </tr>\n",
       "    <tr>\n",
       "      <th>REGION COSTA</th>\n",
       "      <td>25.877</td>\n",
       "    </tr>\n",
       "    <tr>\n",
       "      <th>REGION NOROCCIDENTE</th>\n",
       "      <td>18.104</td>\n",
       "    </tr>\n",
       "    <tr>\n",
       "      <th>REGION OCCIDENTE</th>\n",
       "      <td>16.373</td>\n",
       "    </tr>\n",
       "    <tr>\n",
       "      <th>REGION ORIENTE</th>\n",
       "      <td>16.527</td>\n",
       "    </tr>\n",
       "  </tbody>\n",
       "</table>\n",
       "</div>"
      ],
      "text/plain": [
       "                       p80\n",
       "REGIONAL                  \n",
       "REGION CENTRO       23.343\n",
       "REGION COSTA        25.877\n",
       "REGION NOROCCIDENTE 18.104\n",
       "REGION OCCIDENTE    16.373\n",
       "REGION ORIENTE      16.527"
      ]
     },
     "execution_count": 834,
     "metadata": {},
     "output_type": "execute_result"
    }
   ],
   "source": [
    "Percentiles_Regional1"
   ]
  },
  {
   "cell_type": "code",
   "execution_count": 835,
   "id": "f6c8b62c",
   "metadata": {},
   "outputs": [],
   "source": [
    "resultadoFinalC=resultadoFinalC.merge(Percentiles_Regional, left_on='REGIONAL', right_index=True, how='left').merge(Percentiles_Regional1, left_on='REGIONAL', right_index=True, how='left')\n"
   ]
  },
  {
   "cell_type": "code",
   "execution_count": 836,
   "id": "564a7528",
   "metadata": {},
   "outputs": [
    {
     "data": {
      "text/html": [
       "<div>\n",
       "<style scoped>\n",
       "    .dataframe tbody tr th:only-of-type {\n",
       "        vertical-align: middle;\n",
       "    }\n",
       "\n",
       "    .dataframe tbody tr th {\n",
       "        vertical-align: top;\n",
       "    }\n",
       "\n",
       "    .dataframe thead th {\n",
       "        text-align: right;\n",
       "    }\n",
       "</style>\n",
       "<table border=\"1\" class=\"dataframe\">\n",
       "  <thead>\n",
       "    <tr style=\"text-align: right;\">\n",
       "      <th></th>\n",
       "      <th>FECHA</th>\n",
       "      <th>pred</th>\n",
       "      <th>NODO</th>\n",
       "      <th>Metodo</th>\n",
       "      <th>Distrito</th>\n",
       "      <th>REGIONAL</th>\n",
       "      <th>p30</th>\n",
       "      <th>p80</th>\n",
       "    </tr>\n",
       "  </thead>\n",
       "  <tbody>\n",
       "    <tr>\n",
       "      <th>0</th>\n",
       "      <td>2021-09-01</td>\n",
       "      <td>12.996</td>\n",
       "      <td>01S</td>\n",
       "      <td>HOLT</td>\n",
       "      <td>GAITANA</td>\n",
       "      <td>REGION CENTRO</td>\n",
       "      <td>12.635</td>\n",
       "      <td>23.343</td>\n",
       "    </tr>\n",
       "    <tr>\n",
       "      <th>1</th>\n",
       "      <td>2021-10-01</td>\n",
       "      <td>12.425</td>\n",
       "      <td>01S</td>\n",
       "      <td>HOLT</td>\n",
       "      <td>GAITANA</td>\n",
       "      <td>REGION CENTRO</td>\n",
       "      <td>12.635</td>\n",
       "      <td>23.343</td>\n",
       "    </tr>\n",
       "    <tr>\n",
       "      <th>2</th>\n",
       "      <td>2021-11-01</td>\n",
       "      <td>11.853</td>\n",
       "      <td>01S</td>\n",
       "      <td>HOLT</td>\n",
       "      <td>GAITANA</td>\n",
       "      <td>REGION CENTRO</td>\n",
       "      <td>12.635</td>\n",
       "      <td>23.343</td>\n",
       "    </tr>\n",
       "    <tr>\n",
       "      <th>3</th>\n",
       "      <td>2021-12-01</td>\n",
       "      <td>11.281</td>\n",
       "      <td>01S</td>\n",
       "      <td>HOLT</td>\n",
       "      <td>GAITANA</td>\n",
       "      <td>REGION CENTRO</td>\n",
       "      <td>12.635</td>\n",
       "      <td>23.343</td>\n",
       "    </tr>\n",
       "    <tr>\n",
       "      <th>4</th>\n",
       "      <td>2021-09-01</td>\n",
       "      <td>9.022</td>\n",
       "      <td>02J</td>\n",
       "      <td>ARIMAX</td>\n",
       "      <td>NaN</td>\n",
       "      <td>NaN</td>\n",
       "      <td>NaN</td>\n",
       "      <td>NaN</td>\n",
       "    </tr>\n",
       "  </tbody>\n",
       "</table>\n",
       "</div>"
      ],
      "text/plain": [
       "        FECHA   pred NODO  Metodo Distrito       REGIONAL    p30    p80\n",
       "0  2021-09-01 12.996  01S    HOLT  GAITANA  REGION CENTRO 12.635 23.343\n",
       "1  2021-10-01 12.425  01S    HOLT  GAITANA  REGION CENTRO 12.635 23.343\n",
       "2  2021-11-01 11.853  01S    HOLT  GAITANA  REGION CENTRO 12.635 23.343\n",
       "3  2021-12-01 11.281  01S    HOLT  GAITANA  REGION CENTRO 12.635 23.343\n",
       "4  2021-09-01  9.022  02J  ARIMAX      NaN            NaN    NaN    NaN"
      ]
     },
     "execution_count": 836,
     "metadata": {},
     "output_type": "execute_result"
    }
   ],
   "source": [
    "resultadoFinalC.head()"
   ]
  },
  {
   "cell_type": "code",
   "execution_count": 837,
   "id": "3646a928",
   "metadata": {},
   "outputs": [
    {
     "data": {
      "text/html": [
       "<div>\n",
       "<style scoped>\n",
       "    .dataframe tbody tr th:only-of-type {\n",
       "        vertical-align: middle;\n",
       "    }\n",
       "\n",
       "    .dataframe tbody tr th {\n",
       "        vertical-align: top;\n",
       "    }\n",
       "\n",
       "    .dataframe thead th {\n",
       "        text-align: right;\n",
       "    }\n",
       "</style>\n",
       "<table border=\"1\" class=\"dataframe\">\n",
       "  <thead>\n",
       "    <tr style=\"text-align: right;\">\n",
       "      <th></th>\n",
       "      <th>FECHA</th>\n",
       "      <th>pred</th>\n",
       "      <th>NODO</th>\n",
       "      <th>Metodo</th>\n",
       "      <th>Distrito</th>\n",
       "      <th>REGIONAL</th>\n",
       "      <th>p30</th>\n",
       "      <th>p80</th>\n",
       "      <th>tipoContact</th>\n",
       "    </tr>\n",
       "  </thead>\n",
       "  <tbody>\n",
       "    <tr>\n",
       "      <th>0</th>\n",
       "      <td>2021-09-01</td>\n",
       "      <td>12.996</td>\n",
       "      <td>01S</td>\n",
       "      <td>HOLT</td>\n",
       "      <td>GAITANA</td>\n",
       "      <td>REGION CENTRO</td>\n",
       "      <td>12.635</td>\n",
       "      <td>23.343</td>\n",
       "      <td>REGULAR_CONTACT</td>\n",
       "    </tr>\n",
       "    <tr>\n",
       "      <th>1</th>\n",
       "      <td>2021-10-01</td>\n",
       "      <td>12.425</td>\n",
       "      <td>01S</td>\n",
       "      <td>HOLT</td>\n",
       "      <td>GAITANA</td>\n",
       "      <td>REGION CENTRO</td>\n",
       "      <td>12.635</td>\n",
       "      <td>23.343</td>\n",
       "      <td>BUENO_CONTACT</td>\n",
       "    </tr>\n",
       "    <tr>\n",
       "      <th>2</th>\n",
       "      <td>2021-11-01</td>\n",
       "      <td>11.853</td>\n",
       "      <td>01S</td>\n",
       "      <td>HOLT</td>\n",
       "      <td>GAITANA</td>\n",
       "      <td>REGION CENTRO</td>\n",
       "      <td>12.635</td>\n",
       "      <td>23.343</td>\n",
       "      <td>BUENO_CONTACT</td>\n",
       "    </tr>\n",
       "    <tr>\n",
       "      <th>3</th>\n",
       "      <td>2021-12-01</td>\n",
       "      <td>11.281</td>\n",
       "      <td>01S</td>\n",
       "      <td>HOLT</td>\n",
       "      <td>GAITANA</td>\n",
       "      <td>REGION CENTRO</td>\n",
       "      <td>12.635</td>\n",
       "      <td>23.343</td>\n",
       "      <td>BUENO_CONTACT</td>\n",
       "    </tr>\n",
       "    <tr>\n",
       "      <th>4</th>\n",
       "      <td>2021-09-01</td>\n",
       "      <td>9.022</td>\n",
       "      <td>02J</td>\n",
       "      <td>ARIMAX</td>\n",
       "      <td>NaN</td>\n",
       "      <td>NaN</td>\n",
       "      <td>NaN</td>\n",
       "      <td>NaN</td>\n",
       "      <td>BUENO_CONTACT</td>\n",
       "    </tr>\n",
       "  </tbody>\n",
       "</table>\n",
       "</div>"
      ],
      "text/plain": [
       "        FECHA   pred NODO  Metodo Distrito       REGIONAL    p30    p80  \\\n",
       "0  2021-09-01 12.996  01S    HOLT  GAITANA  REGION CENTRO 12.635 23.343   \n",
       "1  2021-10-01 12.425  01S    HOLT  GAITANA  REGION CENTRO 12.635 23.343   \n",
       "2  2021-11-01 11.853  01S    HOLT  GAITANA  REGION CENTRO 12.635 23.343   \n",
       "3  2021-12-01 11.281  01S    HOLT  GAITANA  REGION CENTRO 12.635 23.343   \n",
       "4  2021-09-01  9.022  02J  ARIMAX      NaN            NaN    NaN    NaN   \n",
       "\n",
       "       tipoContact  \n",
       "0  REGULAR_CONTACT  \n",
       "1    BUENO_CONTACT  \n",
       "2    BUENO_CONTACT  \n",
       "3    BUENO_CONTACT  \n",
       "4    BUENO_CONTACT  "
      ]
     },
     "execution_count": 837,
     "metadata": {},
     "output_type": "execute_result"
    }
   ],
   "source": [
    "resultadoFinalC['tipoContact']=np.where(resultadoFinalC['pred']>resultadoFinalC['p80'],'MALO_CONTACT',np.where(resultadoFinalC['pred']>resultadoFinalC['p30'],'REGULAR_CONTACT','BUENO_CONTACT'))\n",
    "resultadoFinalC.head()"
   ]
  },
  {
   "cell_type": "code",
   "execution_count": 838,
   "id": "17162b06",
   "metadata": {},
   "outputs": [
    {
     "data": {
      "text/html": [
       "<div>\n",
       "<style scoped>\n",
       "    .dataframe tbody tr th:only-of-type {\n",
       "        vertical-align: middle;\n",
       "    }\n",
       "\n",
       "    .dataframe tbody tr th {\n",
       "        vertical-align: top;\n",
       "    }\n",
       "\n",
       "    .dataframe thead th {\n",
       "        text-align: right;\n",
       "    }\n",
       "</style>\n",
       "<table border=\"1\" class=\"dataframe\">\n",
       "  <thead>\n",
       "    <tr style=\"text-align: right;\">\n",
       "      <th></th>\n",
       "      <th>FECHA</th>\n",
       "      <th>pred</th>\n",
       "      <th>NODO</th>\n",
       "      <th>Metodo</th>\n",
       "      <th>Distrito</th>\n",
       "      <th>REGIONAL</th>\n",
       "      <th>p30</th>\n",
       "      <th>p80</th>\n",
       "      <th>tipoContact</th>\n",
       "    </tr>\n",
       "  </thead>\n",
       "  <tbody>\n",
       "    <tr>\n",
       "      <th>44</th>\n",
       "      <td>2021-09-01</td>\n",
       "      <td>30.848</td>\n",
       "      <td>0AL</td>\n",
       "      <td>ES</td>\n",
       "      <td>BARRANQUILLA NORTE DISTRITO 2</td>\n",
       "      <td>REGION COSTA</td>\n",
       "      <td>10.234</td>\n",
       "      <td>25.877</td>\n",
       "      <td>MALO_CONTACT</td>\n",
       "    </tr>\n",
       "    <tr>\n",
       "      <th>45</th>\n",
       "      <td>2021-10-01</td>\n",
       "      <td>30.848</td>\n",
       "      <td>0AL</td>\n",
       "      <td>ES</td>\n",
       "      <td>BARRANQUILLA NORTE DISTRITO 2</td>\n",
       "      <td>REGION COSTA</td>\n",
       "      <td>10.234</td>\n",
       "      <td>25.877</td>\n",
       "      <td>MALO_CONTACT</td>\n",
       "    </tr>\n",
       "    <tr>\n",
       "      <th>46</th>\n",
       "      <td>2021-11-01</td>\n",
       "      <td>30.848</td>\n",
       "      <td>0AL</td>\n",
       "      <td>ES</td>\n",
       "      <td>BARRANQUILLA NORTE DISTRITO 2</td>\n",
       "      <td>REGION COSTA</td>\n",
       "      <td>10.234</td>\n",
       "      <td>25.877</td>\n",
       "      <td>MALO_CONTACT</td>\n",
       "    </tr>\n",
       "    <tr>\n",
       "      <th>47</th>\n",
       "      <td>2021-12-01</td>\n",
       "      <td>30.848</td>\n",
       "      <td>0AL</td>\n",
       "      <td>ES</td>\n",
       "      <td>BARRANQUILLA NORTE DISTRITO 2</td>\n",
       "      <td>REGION COSTA</td>\n",
       "      <td>10.234</td>\n",
       "      <td>25.877</td>\n",
       "      <td>MALO_CONTACT</td>\n",
       "    </tr>\n",
       "    <tr>\n",
       "      <th>60</th>\n",
       "      <td>2021-09-01</td>\n",
       "      <td>20.832</td>\n",
       "      <td>0AS</td>\n",
       "      <td>ES</td>\n",
       "      <td>ANAPOIMA</td>\n",
       "      <td>REGION ORIENTE</td>\n",
       "      <td>7.419</td>\n",
       "      <td>16.527</td>\n",
       "      <td>MALO_CONTACT</td>\n",
       "    </tr>\n",
       "  </tbody>\n",
       "</table>\n",
       "</div>"
      ],
      "text/plain": [
       "         FECHA   pred NODO Metodo                       Distrito  \\\n",
       "44  2021-09-01 30.848  0AL     ES  BARRANQUILLA NORTE DISTRITO 2   \n",
       "45  2021-10-01 30.848  0AL     ES  BARRANQUILLA NORTE DISTRITO 2   \n",
       "46  2021-11-01 30.848  0AL     ES  BARRANQUILLA NORTE DISTRITO 2   \n",
       "47  2021-12-01 30.848  0AL     ES  BARRANQUILLA NORTE DISTRITO 2   \n",
       "60  2021-09-01 20.832  0AS     ES                       ANAPOIMA   \n",
       "\n",
       "          REGIONAL    p30    p80   tipoContact  \n",
       "44    REGION COSTA 10.234 25.877  MALO_CONTACT  \n",
       "45    REGION COSTA 10.234 25.877  MALO_CONTACT  \n",
       "46    REGION COSTA 10.234 25.877  MALO_CONTACT  \n",
       "47    REGION COSTA 10.234 25.877  MALO_CONTACT  \n",
       "60  REGION ORIENTE  7.419 16.527  MALO_CONTACT  "
      ]
     },
     "execution_count": 838,
     "metadata": {},
     "output_type": "execute_result"
    }
   ],
   "source": [
    "resultadoFinalC[resultadoFinalC['tipoContact']=='MALO_CONTACT'].head()"
   ]
  },
  {
   "cell_type": "markdown",
   "id": "56120e19",
   "metadata": {},
   "source": [
    "## MERGE FINAL"
   ]
  },
  {
   "cell_type": "code",
   "execution_count": 839,
   "id": "5c6a97b7",
   "metadata": {},
   "outputs": [],
   "source": [
    "Tabla_Nodos_Final=resultadoFinal.merge(resultadoFinalC,left_on=['Nodo','FECHA'], right_on=['NODO','FECHA'],how='outer')"
   ]
  },
  {
   "cell_type": "code",
   "execution_count": 840,
   "id": "ce5ebbd9",
   "metadata": {},
   "outputs": [
    {
     "data": {
      "text/html": [
       "<div>\n",
       "<style scoped>\n",
       "    .dataframe tbody tr th:only-of-type {\n",
       "        vertical-align: middle;\n",
       "    }\n",
       "\n",
       "    .dataframe tbody tr th {\n",
       "        vertical-align: top;\n",
       "    }\n",
       "\n",
       "    .dataframe thead th {\n",
       "        text-align: right;\n",
       "    }\n",
       "</style>\n",
       "<table border=\"1\" class=\"dataframe\">\n",
       "  <thead>\n",
       "    <tr style=\"text-align: right;\">\n",
       "      <th></th>\n",
       "      <th>FECHA</th>\n",
       "      <th>pred_x</th>\n",
       "      <th>Nodo</th>\n",
       "      <th>Metodo_x</th>\n",
       "      <th>E_distrito</th>\n",
       "      <th>Regional</th>\n",
       "      <th>p10</th>\n",
       "      <th>p60</th>\n",
       "      <th>tipoChurn</th>\n",
       "      <th>pred_y</th>\n",
       "      <th>NODO</th>\n",
       "      <th>Metodo_y</th>\n",
       "      <th>Distrito</th>\n",
       "      <th>REGIONAL</th>\n",
       "      <th>p30</th>\n",
       "      <th>p80</th>\n",
       "      <th>tipoContact</th>\n",
       "    </tr>\n",
       "  </thead>\n",
       "  <tbody>\n",
       "    <tr>\n",
       "      <th>0</th>\n",
       "      <td>2021-11-01</td>\n",
       "      <td>-0.770</td>\n",
       "      <td>01J</td>\n",
       "      <td>ARIMAX2</td>\n",
       "      <td>CORDOBA SUCRE DISTRITO 3</td>\n",
       "      <td>REGION COSTA</td>\n",
       "      <td>-12.242</td>\n",
       "      <td>-1.753</td>\n",
       "      <td>BUENO_CHURN</td>\n",
       "      <td>NaN</td>\n",
       "      <td>NaN</td>\n",
       "      <td>NaN</td>\n",
       "      <td>NaN</td>\n",
       "      <td>NaN</td>\n",
       "      <td>NaN</td>\n",
       "      <td>NaN</td>\n",
       "      <td>NaN</td>\n",
       "    </tr>\n",
       "    <tr>\n",
       "      <th>1</th>\n",
       "      <td>2021-12-01</td>\n",
       "      <td>-1.321</td>\n",
       "      <td>01J</td>\n",
       "      <td>ARIMAX2</td>\n",
       "      <td>CORDOBA SUCRE DISTRITO 3</td>\n",
       "      <td>REGION COSTA</td>\n",
       "      <td>-12.242</td>\n",
       "      <td>-1.753</td>\n",
       "      <td>BUENO_CHURN</td>\n",
       "      <td>NaN</td>\n",
       "      <td>NaN</td>\n",
       "      <td>NaN</td>\n",
       "      <td>NaN</td>\n",
       "      <td>NaN</td>\n",
       "      <td>NaN</td>\n",
       "      <td>NaN</td>\n",
       "      <td>NaN</td>\n",
       "    </tr>\n",
       "    <tr>\n",
       "      <th>2</th>\n",
       "      <td>2022-01-01</td>\n",
       "      <td>-1.321</td>\n",
       "      <td>01J</td>\n",
       "      <td>ARIMAX2</td>\n",
       "      <td>CORDOBA SUCRE DISTRITO 3</td>\n",
       "      <td>REGION COSTA</td>\n",
       "      <td>-12.242</td>\n",
       "      <td>-1.753</td>\n",
       "      <td>BUENO_CHURN</td>\n",
       "      <td>NaN</td>\n",
       "      <td>NaN</td>\n",
       "      <td>NaN</td>\n",
       "      <td>NaN</td>\n",
       "      <td>NaN</td>\n",
       "      <td>NaN</td>\n",
       "      <td>NaN</td>\n",
       "      <td>NaN</td>\n",
       "    </tr>\n",
       "    <tr>\n",
       "      <th>3</th>\n",
       "      <td>2021-11-01</td>\n",
       "      <td>-6.267</td>\n",
       "      <td>01S</td>\n",
       "      <td>ARIMAX2</td>\n",
       "      <td>GAITANA</td>\n",
       "      <td>REGION CENTRO</td>\n",
       "      <td>-18.409</td>\n",
       "      <td>-4.637</td>\n",
       "      <td>REGULAR_CHURN</td>\n",
       "      <td>11.853</td>\n",
       "      <td>01S</td>\n",
       "      <td>HOLT</td>\n",
       "      <td>GAITANA</td>\n",
       "      <td>REGION CENTRO</td>\n",
       "      <td>12.635</td>\n",
       "      <td>23.343</td>\n",
       "      <td>BUENO_CONTACT</td>\n",
       "    </tr>\n",
       "    <tr>\n",
       "      <th>4</th>\n",
       "      <td>2021-12-01</td>\n",
       "      <td>-0.216</td>\n",
       "      <td>01S</td>\n",
       "      <td>ARIMAX2</td>\n",
       "      <td>GAITANA</td>\n",
       "      <td>REGION CENTRO</td>\n",
       "      <td>-18.409</td>\n",
       "      <td>-4.637</td>\n",
       "      <td>BUENO_CHURN</td>\n",
       "      <td>11.281</td>\n",
       "      <td>01S</td>\n",
       "      <td>HOLT</td>\n",
       "      <td>GAITANA</td>\n",
       "      <td>REGION CENTRO</td>\n",
       "      <td>12.635</td>\n",
       "      <td>23.343</td>\n",
       "      <td>BUENO_CONTACT</td>\n",
       "    </tr>\n",
       "  </tbody>\n",
       "</table>\n",
       "</div>"
      ],
      "text/plain": [
       "        FECHA  pred_x Nodo Metodo_x                E_distrito       Regional  \\\n",
       "0  2021-11-01  -0.770  01J  ARIMAX2  CORDOBA SUCRE DISTRITO 3   REGION COSTA   \n",
       "1  2021-12-01  -1.321  01J  ARIMAX2  CORDOBA SUCRE DISTRITO 3   REGION COSTA   \n",
       "2  2022-01-01  -1.321  01J  ARIMAX2  CORDOBA SUCRE DISTRITO 3   REGION COSTA   \n",
       "3  2021-11-01  -6.267  01S  ARIMAX2                   GAITANA  REGION CENTRO   \n",
       "4  2021-12-01  -0.216  01S  ARIMAX2                   GAITANA  REGION CENTRO   \n",
       "\n",
       "      p10    p60      tipoChurn  pred_y NODO Metodo_y Distrito       REGIONAL  \\\n",
       "0 -12.242 -1.753    BUENO_CHURN     NaN  NaN      NaN      NaN            NaN   \n",
       "1 -12.242 -1.753    BUENO_CHURN     NaN  NaN      NaN      NaN            NaN   \n",
       "2 -12.242 -1.753    BUENO_CHURN     NaN  NaN      NaN      NaN            NaN   \n",
       "3 -18.409 -4.637  REGULAR_CHURN  11.853  01S     HOLT  GAITANA  REGION CENTRO   \n",
       "4 -18.409 -4.637    BUENO_CHURN  11.281  01S     HOLT  GAITANA  REGION CENTRO   \n",
       "\n",
       "     p30    p80    tipoContact  \n",
       "0    NaN    NaN            NaN  \n",
       "1    NaN    NaN            NaN  \n",
       "2    NaN    NaN            NaN  \n",
       "3 12.635 23.343  BUENO_CONTACT  \n",
       "4 12.635 23.343  BUENO_CONTACT  "
      ]
     },
     "execution_count": 840,
     "metadata": {},
     "output_type": "execute_result"
    }
   ],
   "source": [
    "Tabla_Nodos_Final.head()"
   ]
  },
  {
   "cell_type": "code",
   "execution_count": 841,
   "id": "154c39c1",
   "metadata": {},
   "outputs": [],
   "source": [
    "Tabla_Nodos_Final['Nodo']=np.where(Tabla_Nodos_Final['Nodo'].isnull(),Tabla_Nodos_Final['NODO'],Tabla_Nodos_Final['Nodo'])"
   ]
  },
  {
   "cell_type": "code",
   "execution_count": 842,
   "id": "f3d885fa",
   "metadata": {},
   "outputs": [
    {
     "data": {
      "text/plain": [
       "79088"
      ]
     },
     "execution_count": 842,
     "metadata": {},
     "output_type": "execute_result"
    }
   ],
   "source": [
    "len(Tabla_Nodos_Final)"
   ]
  },
  {
   "cell_type": "code",
   "execution_count": 843,
   "id": "cd0d46fd",
   "metadata": {},
   "outputs": [
    {
     "data": {
      "text/plain": [
       "FECHA         0.000\n",
       "pred_x        0.374\n",
       "Nodo          0.000\n",
       "Metodo_x      0.374\n",
       "E_distrito    0.374\n",
       "Regional      0.374\n",
       "p10           0.374\n",
       "p60           0.374\n",
       "tipoChurn     0.374\n",
       "pred_y        0.253\n",
       "NODO          0.253\n",
       "Metodo_y      0.253\n",
       "Distrito      0.267\n",
       "REGIONAL      0.267\n",
       "p30           0.267\n",
       "p80           0.267\n",
       "tipoContact   0.253\n",
       "dtype: float64"
      ]
     },
     "execution_count": 843,
     "metadata": {},
     "output_type": "execute_result"
    }
   ],
   "source": [
    "Tabla_Nodos_Final.isnull().sum()/len(Tabla_Nodos_Final)"
   ]
  },
  {
   "cell_type": "code",
   "execution_count": 844,
   "id": "b169cbb3",
   "metadata": {},
   "outputs": [],
   "source": [
    "Tabla_Nodos_Final.drop(columns=['E_distrito','Regional','NODO','Distrito','p10','p30','p60','p80','Metodo_x','Metodo_y','REGIONAL'], inplace=True)"
   ]
  },
  {
   "cell_type": "code",
   "execution_count": 845,
   "id": "4bf05828",
   "metadata": {},
   "outputs": [],
   "source": [
    "Tabla_Nodos_Final.rename(columns={'pred_x' : 'pred_Churn','pred_y' : 'pred_Contact'}, inplace=True)"
   ]
  },
  {
   "cell_type": "code",
   "execution_count": 846,
   "id": "f3531221",
   "metadata": {},
   "outputs": [
    {
     "data": {
      "text/html": [
       "<div>\n",
       "<style scoped>\n",
       "    .dataframe tbody tr th:only-of-type {\n",
       "        vertical-align: middle;\n",
       "    }\n",
       "\n",
       "    .dataframe tbody tr th {\n",
       "        vertical-align: top;\n",
       "    }\n",
       "\n",
       "    .dataframe thead th {\n",
       "        text-align: right;\n",
       "    }\n",
       "</style>\n",
       "<table border=\"1\" class=\"dataframe\">\n",
       "  <thead>\n",
       "    <tr style=\"text-align: right;\">\n",
       "      <th></th>\n",
       "      <th>FECHA</th>\n",
       "      <th>pred_Churn</th>\n",
       "      <th>Nodo</th>\n",
       "      <th>tipoChurn</th>\n",
       "      <th>pred_Contact</th>\n",
       "      <th>tipoContact</th>\n",
       "    </tr>\n",
       "  </thead>\n",
       "  <tbody>\n",
       "    <tr>\n",
       "      <th>0</th>\n",
       "      <td>2021-11-01</td>\n",
       "      <td>-0.770</td>\n",
       "      <td>01J</td>\n",
       "      <td>BUENO_CHURN</td>\n",
       "      <td>NaN</td>\n",
       "      <td>NaN</td>\n",
       "    </tr>\n",
       "    <tr>\n",
       "      <th>1</th>\n",
       "      <td>2021-12-01</td>\n",
       "      <td>-1.321</td>\n",
       "      <td>01J</td>\n",
       "      <td>BUENO_CHURN</td>\n",
       "      <td>NaN</td>\n",
       "      <td>NaN</td>\n",
       "    </tr>\n",
       "    <tr>\n",
       "      <th>2</th>\n",
       "      <td>2022-01-01</td>\n",
       "      <td>-1.321</td>\n",
       "      <td>01J</td>\n",
       "      <td>BUENO_CHURN</td>\n",
       "      <td>NaN</td>\n",
       "      <td>NaN</td>\n",
       "    </tr>\n",
       "    <tr>\n",
       "      <th>3</th>\n",
       "      <td>2021-11-01</td>\n",
       "      <td>-6.267</td>\n",
       "      <td>01S</td>\n",
       "      <td>REGULAR_CHURN</td>\n",
       "      <td>11.853</td>\n",
       "      <td>BUENO_CONTACT</td>\n",
       "    </tr>\n",
       "    <tr>\n",
       "      <th>4</th>\n",
       "      <td>2021-12-01</td>\n",
       "      <td>-0.216</td>\n",
       "      <td>01S</td>\n",
       "      <td>BUENO_CHURN</td>\n",
       "      <td>11.281</td>\n",
       "      <td>BUENO_CONTACT</td>\n",
       "    </tr>\n",
       "  </tbody>\n",
       "</table>\n",
       "</div>"
      ],
      "text/plain": [
       "        FECHA  pred_Churn Nodo      tipoChurn  pred_Contact    tipoContact\n",
       "0  2021-11-01      -0.770  01J    BUENO_CHURN           NaN            NaN\n",
       "1  2021-12-01      -1.321  01J    BUENO_CHURN           NaN            NaN\n",
       "2  2022-01-01      -1.321  01J    BUENO_CHURN           NaN            NaN\n",
       "3  2021-11-01      -6.267  01S  REGULAR_CHURN        11.853  BUENO_CONTACT\n",
       "4  2021-12-01      -0.216  01S    BUENO_CHURN        11.281  BUENO_CONTACT"
      ]
     },
     "execution_count": 846,
     "metadata": {},
     "output_type": "execute_result"
    }
   ],
   "source": [
    "Tabla_Nodos_Final.head()"
   ]
  },
  {
   "cell_type": "code",
   "execution_count": 847,
   "id": "a27b03d0",
   "metadata": {},
   "outputs": [
    {
     "data": {
      "text/plain": [
       "Index(['Nodo', 'E_distrito', 'Regional'], dtype='object')"
      ]
     },
     "execution_count": 847,
     "metadata": {},
     "output_type": "execute_result"
    }
   ],
   "source": [
    "maestroNodo.columns"
   ]
  },
  {
   "cell_type": "code",
   "execution_count": 848,
   "id": "000d103f",
   "metadata": {},
   "outputs": [],
   "source": [
    "maestroNodo.columns=['NODO','DISTRITO','REGIONAL']"
   ]
  },
  {
   "cell_type": "code",
   "execution_count": 849,
   "id": "a2d0df5f",
   "metadata": {},
   "outputs": [
    {
     "data": {
      "text/plain": [
       "Index(['NODO', 'Distrito', 'REGIONAL'], dtype='object')"
      ]
     },
     "execution_count": 849,
     "metadata": {},
     "output_type": "execute_result"
    }
   ],
   "source": [
    "maestroNodoC.columns"
   ]
  },
  {
   "cell_type": "code",
   "execution_count": 850,
   "id": "6187d385",
   "metadata": {},
   "outputs": [],
   "source": [
    "maestroNodoC.columns=['NODO','DISTRITO','REGIONAL']"
   ]
  },
  {
   "cell_type": "code",
   "execution_count": 851,
   "id": "af845f68",
   "metadata": {},
   "outputs": [],
   "source": [
    "maestrofinal=maestroNodo.append(maestroNodoC)\n"
   ]
  },
  {
   "cell_type": "code",
   "execution_count": 852,
   "id": "0f726d48",
   "metadata": {},
   "outputs": [],
   "source": [
    "maestrofinal.reset_index(drop=True,inplace=True)"
   ]
  },
  {
   "cell_type": "code",
   "execution_count": 853,
   "id": "6e741a6d",
   "metadata": {},
   "outputs": [],
   "source": [
    "maestrofinal.drop_duplicates(subset=['NODO'], keep='first',inplace=True)"
   ]
  },
  {
   "cell_type": "code",
   "execution_count": 854,
   "id": "324a7306",
   "metadata": {
    "scrolled": true
   },
   "outputs": [
    {
     "data": {
      "text/html": [
       "<div>\n",
       "<style scoped>\n",
       "    .dataframe tbody tr th:only-of-type {\n",
       "        vertical-align: middle;\n",
       "    }\n",
       "\n",
       "    .dataframe tbody tr th {\n",
       "        vertical-align: top;\n",
       "    }\n",
       "\n",
       "    .dataframe thead th {\n",
       "        text-align: right;\n",
       "    }\n",
       "</style>\n",
       "<table border=\"1\" class=\"dataframe\">\n",
       "  <thead>\n",
       "    <tr style=\"text-align: right;\">\n",
       "      <th></th>\n",
       "      <th>NODO</th>\n",
       "      <th>DISTRITO</th>\n",
       "      <th>REGIONAL</th>\n",
       "    </tr>\n",
       "  </thead>\n",
       "  <tbody>\n",
       "    <tr>\n",
       "      <th>3670</th>\n",
       "      <td>01S</td>\n",
       "      <td>GAITANA</td>\n",
       "      <td>REGION CENTRO</td>\n",
       "    </tr>\n",
       "  </tbody>\n",
       "</table>\n",
       "</div>"
      ],
      "text/plain": [
       "     NODO DISTRITO       REGIONAL\n",
       "3670  01S  GAITANA  REGION CENTRO"
      ]
     },
     "execution_count": 854,
     "metadata": {},
     "output_type": "execute_result"
    }
   ],
   "source": [
    "maestrofinal[maestrofinal['NODO']=='01S']"
   ]
  },
  {
   "cell_type": "code",
   "execution_count": 855,
   "id": "b05fbefb",
   "metadata": {},
   "outputs": [],
   "source": [
    "NodosAjustados=pd.DataFrame({\n",
    "    'NODO':['3.40E+02','3.40E+03','3.90E+02','3.90E+03','3.90E+04','3.90E+05','3.90E+07','3.90E+08','5.30E+02','5.30E+03','5.30E+04','5.30E+05','5.20E+02'],\n",
    "    'REGIONAL':['REGION CENTRO','REGION CENTRO','REGION CENTRO','REGION CENTRO','REGION CENTRO','REGION CENTRO','REGION CENTRO','REGION CENTRO','REGION CENTRO','REGION CENTRO',\n",
    "    'REGION CENTRO','REGION CENTRO','REGION CENTRO'],    \n",
    "    'DISTRITO':['GALERIAS','GALERIAS','HAYUELOS','HAYUELOS','HAYUELOS','HAYUELOS','HAYUELOS','HAYUELOS','NUEVA ZELANDA','NUEVA ZELANDA','NUEVA ZELANDA','NUEVA ZELANDA',\n",
    "            'CANTALEJO']})\n"
   ]
  },
  {
   "cell_type": "code",
   "execution_count": 856,
   "id": "02214f54",
   "metadata": {},
   "outputs": [
    {
     "name": "stdout",
     "output_type": "stream",
     "text": [
      "20160 13\n"
     ]
    }
   ],
   "source": [
    "print(len(maestrofinal), len(NodosAjustados))"
   ]
  },
  {
   "cell_type": "code",
   "execution_count": 857,
   "id": "389422b5",
   "metadata": {},
   "outputs": [],
   "source": [
    "maestrofinal=maestrofinal.append(NodosAjustados)"
   ]
  },
  {
   "cell_type": "code",
   "execution_count": 858,
   "id": "8d985a48",
   "metadata": {
    "scrolled": true
   },
   "outputs": [
    {
     "data": {
      "text/plain": [
       "(20173, 3)"
      ]
     },
     "execution_count": 858,
     "metadata": {},
     "output_type": "execute_result"
    }
   ],
   "source": [
    "maestrofinal.shape"
   ]
  },
  {
   "cell_type": "code",
   "execution_count": 859,
   "id": "600c3982",
   "metadata": {},
   "outputs": [
    {
     "data": {
      "text/html": [
       "<div>\n",
       "<style scoped>\n",
       "    .dataframe tbody tr th:only-of-type {\n",
       "        vertical-align: middle;\n",
       "    }\n",
       "\n",
       "    .dataframe tbody tr th {\n",
       "        vertical-align: top;\n",
       "    }\n",
       "\n",
       "    .dataframe thead th {\n",
       "        text-align: right;\n",
       "    }\n",
       "</style>\n",
       "<table border=\"1\" class=\"dataframe\">\n",
       "  <thead>\n",
       "    <tr style=\"text-align: right;\">\n",
       "      <th></th>\n",
       "      <th>NODO</th>\n",
       "      <th>DISTRITO</th>\n",
       "      <th>REGIONAL</th>\n",
       "    </tr>\n",
       "  </thead>\n",
       "  <tbody>\n",
       "    <tr>\n",
       "      <th>22152</th>\n",
       "      <td>3.40E+02</td>\n",
       "      <td>NaN</td>\n",
       "      <td>NaN</td>\n",
       "    </tr>\n",
       "    <tr>\n",
       "      <th>0</th>\n",
       "      <td>3.40E+02</td>\n",
       "      <td>GALERIAS</td>\n",
       "      <td>REGION CENTRO</td>\n",
       "    </tr>\n",
       "  </tbody>\n",
       "</table>\n",
       "</div>"
      ],
      "text/plain": [
       "           NODO  DISTRITO       REGIONAL\n",
       "22152  3.40E+02       NaN            NaN\n",
       "0      3.40E+02  GALERIAS  REGION CENTRO"
      ]
     },
     "execution_count": 859,
     "metadata": {},
     "output_type": "execute_result"
    }
   ],
   "source": [
    "maestrofinal[maestrofinal['NODO']=='3.40E+02']"
   ]
  },
  {
   "cell_type": "code",
   "execution_count": 860,
   "id": "5d5c7bb2",
   "metadata": {},
   "outputs": [],
   "source": [
    "maestrofinal.drop_duplicates(subset=['NODO'], keep='last',inplace=True)"
   ]
  },
  {
   "cell_type": "code",
   "execution_count": 861,
   "id": "a86ee452",
   "metadata": {},
   "outputs": [],
   "source": [
    "Tabla_Nodos_FinalV2=Tabla_Nodos_Final.copy()"
   ]
  },
  {
   "cell_type": "code",
   "execution_count": 862,
   "id": "3a073124",
   "metadata": {},
   "outputs": [],
   "source": [
    "Tabla_Nodos_FinalV2['Nodo']=Tabla_Nodos_FinalV2['Nodo'].astype(str)"
   ]
  },
  {
   "cell_type": "code",
   "execution_count": 863,
   "id": "2852d8c5",
   "metadata": {
    "scrolled": true
   },
   "outputs": [
    {
     "data": {
      "text/html": [
       "<div>\n",
       "<style scoped>\n",
       "    .dataframe tbody tr th:only-of-type {\n",
       "        vertical-align: middle;\n",
       "    }\n",
       "\n",
       "    .dataframe tbody tr th {\n",
       "        vertical-align: top;\n",
       "    }\n",
       "\n",
       "    .dataframe thead th {\n",
       "        text-align: right;\n",
       "    }\n",
       "</style>\n",
       "<table border=\"1\" class=\"dataframe\">\n",
       "  <thead>\n",
       "    <tr style=\"text-align: right;\">\n",
       "      <th></th>\n",
       "      <th>FECHA</th>\n",
       "      <th>pred_Churn</th>\n",
       "      <th>Nodo</th>\n",
       "      <th>tipoChurn</th>\n",
       "      <th>pred_Contact</th>\n",
       "      <th>tipoContact</th>\n",
       "      <th>NODO</th>\n",
       "      <th>DISTRITO</th>\n",
       "      <th>REGIONAL</th>\n",
       "    </tr>\n",
       "  </thead>\n",
       "  <tbody>\n",
       "    <tr>\n",
       "      <th>0</th>\n",
       "      <td>2021-11-01</td>\n",
       "      <td>-0.770</td>\n",
       "      <td>01J</td>\n",
       "      <td>BUENO_CHURN</td>\n",
       "      <td>NaN</td>\n",
       "      <td>NaN</td>\n",
       "      <td>01J</td>\n",
       "      <td>CORDOBA SUCRE DISTRITO 3</td>\n",
       "      <td>REGION COSTA</td>\n",
       "    </tr>\n",
       "    <tr>\n",
       "      <th>1</th>\n",
       "      <td>2021-12-01</td>\n",
       "      <td>-1.321</td>\n",
       "      <td>01J</td>\n",
       "      <td>BUENO_CHURN</td>\n",
       "      <td>NaN</td>\n",
       "      <td>NaN</td>\n",
       "      <td>01J</td>\n",
       "      <td>CORDOBA SUCRE DISTRITO 3</td>\n",
       "      <td>REGION COSTA</td>\n",
       "    </tr>\n",
       "    <tr>\n",
       "      <th>2</th>\n",
       "      <td>2022-01-01</td>\n",
       "      <td>-1.321</td>\n",
       "      <td>01J</td>\n",
       "      <td>BUENO_CHURN</td>\n",
       "      <td>NaN</td>\n",
       "      <td>NaN</td>\n",
       "      <td>01J</td>\n",
       "      <td>CORDOBA SUCRE DISTRITO 3</td>\n",
       "      <td>REGION COSTA</td>\n",
       "    </tr>\n",
       "    <tr>\n",
       "      <th>3</th>\n",
       "      <td>2021-11-01</td>\n",
       "      <td>-6.267</td>\n",
       "      <td>01S</td>\n",
       "      <td>REGULAR_CHURN</td>\n",
       "      <td>11.853</td>\n",
       "      <td>BUENO_CONTACT</td>\n",
       "      <td>01S</td>\n",
       "      <td>GAITANA</td>\n",
       "      <td>REGION CENTRO</td>\n",
       "    </tr>\n",
       "    <tr>\n",
       "      <th>4</th>\n",
       "      <td>2021-12-01</td>\n",
       "      <td>-0.216</td>\n",
       "      <td>01S</td>\n",
       "      <td>BUENO_CHURN</td>\n",
       "      <td>11.281</td>\n",
       "      <td>BUENO_CONTACT</td>\n",
       "      <td>01S</td>\n",
       "      <td>GAITANA</td>\n",
       "      <td>REGION CENTRO</td>\n",
       "    </tr>\n",
       "  </tbody>\n",
       "</table>\n",
       "</div>"
      ],
      "text/plain": [
       "        FECHA  pred_Churn Nodo      tipoChurn  pred_Contact    tipoContact  \\\n",
       "0  2021-11-01      -0.770  01J    BUENO_CHURN           NaN            NaN   \n",
       "1  2021-12-01      -1.321  01J    BUENO_CHURN           NaN            NaN   \n",
       "2  2022-01-01      -1.321  01J    BUENO_CHURN           NaN            NaN   \n",
       "3  2021-11-01      -6.267  01S  REGULAR_CHURN        11.853  BUENO_CONTACT   \n",
       "4  2021-12-01      -0.216  01S    BUENO_CHURN        11.281  BUENO_CONTACT   \n",
       "\n",
       "  NODO                  DISTRITO       REGIONAL  \n",
       "0  01J  CORDOBA SUCRE DISTRITO 3   REGION COSTA  \n",
       "1  01J  CORDOBA SUCRE DISTRITO 3   REGION COSTA  \n",
       "2  01J  CORDOBA SUCRE DISTRITO 3   REGION COSTA  \n",
       "3  01S                   GAITANA  REGION CENTRO  \n",
       "4  01S                   GAITANA  REGION CENTRO  "
      ]
     },
     "execution_count": 863,
     "metadata": {},
     "output_type": "execute_result"
    }
   ],
   "source": [
    "Tabla_Nodos_FinalV2=Tabla_Nodos_FinalV2.merge(maestrofinal,left_on=['Nodo'],right_on=['NODO'],how='left')\n",
    "Tabla_Nodos_FinalV2.head(5)"
   ]
  },
  {
   "cell_type": "code",
   "execution_count": 864,
   "id": "6372a0f4",
   "metadata": {},
   "outputs": [
    {
     "data": {
      "text/html": [
       "<div>\n",
       "<style scoped>\n",
       "    .dataframe tbody tr th:only-of-type {\n",
       "        vertical-align: middle;\n",
       "    }\n",
       "\n",
       "    .dataframe tbody tr th {\n",
       "        vertical-align: top;\n",
       "    }\n",
       "\n",
       "    .dataframe thead th {\n",
       "        text-align: right;\n",
       "    }\n",
       "</style>\n",
       "<table border=\"1\" class=\"dataframe\">\n",
       "  <thead>\n",
       "    <tr style=\"text-align: right;\">\n",
       "      <th></th>\n",
       "      <th>FECHA</th>\n",
       "      <th>pred_Churn</th>\n",
       "      <th>Nodo</th>\n",
       "      <th>tipoChurn</th>\n",
       "      <th>pred_Contact</th>\n",
       "      <th>tipoContact</th>\n",
       "      <th>NODO</th>\n",
       "      <th>DISTRITO</th>\n",
       "      <th>REGIONAL</th>\n",
       "    </tr>\n",
       "  </thead>\n",
       "  <tbody>\n",
       "  </tbody>\n",
       "</table>\n",
       "</div>"
      ],
      "text/plain": [
       "Empty DataFrame\n",
       "Columns: [FECHA, pred_Churn, Nodo, tipoChurn, pred_Contact, tipoContact, NODO, DISTRITO, REGIONAL]\n",
       "Index: []"
      ]
     },
     "execution_count": 864,
     "metadata": {},
     "output_type": "execute_result"
    }
   ],
   "source": [
    "Tabla_Nodos_FinalV2[Tabla_Nodos_FinalV2['REGIONAL'].isnull()]"
   ]
  },
  {
   "cell_type": "code",
   "execution_count": 865,
   "id": "450151c0",
   "metadata": {},
   "outputs": [
    {
     "data": {
      "text/plain": [
       "FECHA               0\n",
       "pred_Churn      29570\n",
       "Nodo                0\n",
       "tipoChurn       29570\n",
       "pred_Contact    20000\n",
       "tipoContact     20000\n",
       "NODO                0\n",
       "DISTRITO            0\n",
       "REGIONAL            0\n",
       "dtype: int64"
      ]
     },
     "execution_count": 865,
     "metadata": {},
     "output_type": "execute_result"
    }
   ],
   "source": [
    "Tabla_Nodos_FinalV2.isnull().sum()"
   ]
  },
  {
   "cell_type": "code",
   "execution_count": 866,
   "id": "588d4b5e",
   "metadata": {},
   "outputs": [],
   "source": [
    "Tabla_Nodos_FinalV2.to_csv('Resultados_Finales_V3.csv',sep=';',decimal='.')"
   ]
  },
  {
   "cell_type": "code",
   "execution_count": null,
   "id": "0a0923e7",
   "metadata": {},
   "outputs": [],
   "source": []
  }
 ],
 "metadata": {
  "kernelspec": {
   "display_name": "Python 3 (ipykernel)",
   "language": "python",
   "name": "python3"
  },
  "language_info": {
   "codemirror_mode": {
    "name": "ipython",
    "version": 3
   },
   "file_extension": ".py",
   "mimetype": "text/x-python",
   "name": "python",
   "nbconvert_exporter": "python",
   "pygments_lexer": "ipython3",
   "version": "3.8.11"
  }
 },
 "nbformat": 4,
 "nbformat_minor": 5
}
