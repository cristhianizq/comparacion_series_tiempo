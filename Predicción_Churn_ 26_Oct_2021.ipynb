{
 "cells": [
  {
   "cell_type": "markdown",
   "id": "466ade14",
   "metadata": {},
   "source": [
    "# PREDICCIÓN CHURN POR NODO"
   ]
  },
  {
   "cell_type": "markdown",
   "id": "746d5d89",
   "metadata": {},
   "source": [
    "## CONTENIDO\n",
    "\n",
    "* Carga de librerías\n",
    " * Configuraciones ambiente de trabajo\n",
    "* "
   ]
  },
  {
   "cell_type": "markdown",
   "id": "10d7b207",
   "metadata": {},
   "source": [
    "## Carga de librerías"
   ]
  },
  {
   "cell_type": "code",
   "execution_count": 2,
   "id": "ce6742bd",
   "metadata": {},
   "outputs": [],
   "source": [
    "import pandas as pd\n",
    "import numpy as np\n",
    "from pmdarima.arima import auto_arima\n",
    "from dateutil.relativedelta import relativedelta\n",
    "import matplotlib.pyplot as plt\n",
    "from sklearn.metrics import mean_absolute_percentage_error,  mean_squared_error\n",
    "from statsmodels.tsa.holtwinters import SimpleExpSmoothing, Holt,ExponentialSmoothing\n",
    "import statsmodels.api as sm\n",
    "import seaborn as sns"
   ]
  },
  {
   "cell_type": "code",
   "execution_count": 3,
   "id": "d58527f6",
   "metadata": {},
   "outputs": [
    {
     "name": "stdout",
     "output_type": "stream",
     "text": [
      "3.9.0 (default, Nov 15 2020, 08:30:55) [MSC v.1916 64 bit (AMD64)]\n"
     ]
    }
   ],
   "source": [
    "import sys\n",
    "print(sys.version)"
   ]
  },
  {
   "cell_type": "markdown",
   "id": "2bcdfbb1",
   "metadata": {},
   "source": [
    "### Configuraciones ambiente de trabajo"
   ]
  },
  {
   "cell_type": "code",
   "execution_count": 7,
   "id": "65865f8d",
   "metadata": {},
   "outputs": [
    {
     "data": {
      "text/html": [
       "<style>.container { width:95% !important; }</style>"
      ],
      "text/plain": [
       "<IPython.core.display.HTML object>"
      ]
     },
     "metadata": {},
     "output_type": "display_data"
    }
   ],
   "source": [
    "import warnings\n",
    "warnings.filterwarnings('ignore')\n",
    "pd.set_option(\"display.max_columns\", None)\n",
    "pd.set_option('display.max_rows', None)\n",
    "pd.set_option('display.float_format', lambda x: '%.3f' % x)\n",
    "np.set_printoptions(suppress=True)\n",
    "from IPython.core.display import display, HTML\n",
    "display(HTML(\"<style>.container { width:95% !important; }</style>\"))"
   ]
  },
  {
   "cell_type": "code",
   "execution_count": 8,
   "id": "3fd5cbd4",
   "metadata": {},
   "outputs": [],
   "source": [
    "TablaMarClient= pd.read_csv(f'CR_Nodos2.csv',sep=';')"
   ]
  },
  {
   "cell_type": "code",
   "execution_count": 9,
   "id": "89e9e344",
   "metadata": {},
   "outputs": [
    {
     "data": {
      "text/html": [
       "<div>\n",
       "<style scoped>\n",
       "    .dataframe tbody tr th:only-of-type {\n",
       "        vertical-align: middle;\n",
       "    }\n",
       "\n",
       "    .dataframe tbody tr th {\n",
       "        vertical-align: top;\n",
       "    }\n",
       "\n",
       "    .dataframe thead th {\n",
       "        text-align: right;\n",
       "    }\n",
       "</style>\n",
       "<table border=\"1\" class=\"dataframe\">\n",
       "  <thead>\n",
       "    <tr style=\"text-align: right;\">\n",
       "      <th></th>\n",
       "      <th>NODO</th>\n",
       "      <th>MARCACIONES</th>\n",
       "      <th>CLIENTES</th>\n",
       "      <th>CONTACT</th>\n",
       "      <th>MES</th>\n",
       "      <th>ANIO</th>\n",
       "      <th>DIA</th>\n",
       "      <th>FECHA</th>\n",
       "    </tr>\n",
       "  </thead>\n",
       "  <tbody>\n",
       "    <tr>\n",
       "      <th>0</th>\n",
       "      <td>VE2</td>\n",
       "      <td>139</td>\n",
       "      <td>286</td>\n",
       "      <td>48.600</td>\n",
       "      <td>9</td>\n",
       "      <td>2020</td>\n",
       "      <td>1</td>\n",
       "      <td>2020-09-01</td>\n",
       "    </tr>\n",
       "    <tr>\n",
       "      <th>1</th>\n",
       "      <td>CQ59</td>\n",
       "      <td>3</td>\n",
       "      <td>15</td>\n",
       "      <td>20.000</td>\n",
       "      <td>9</td>\n",
       "      <td>2020</td>\n",
       "      <td>1</td>\n",
       "      <td>2020-09-01</td>\n",
       "    </tr>\n",
       "  </tbody>\n",
       "</table>\n",
       "</div>"
      ],
      "text/plain": [
       "   NODO  MARCACIONES  CLIENTES  CONTACT  MES  ANIO  DIA       FECHA\n",
       "0   VE2          139       286   48.600    9  2020    1  2020-09-01\n",
       "1  CQ59            3        15   20.000    9  2020    1  2020-09-01"
      ]
     },
     "execution_count": 9,
     "metadata": {},
     "output_type": "execute_result"
    }
   ],
   "source": [
    "TablaMarClient.head(2)"
   ]
  },
  {
   "cell_type": "code",
   "execution_count": 10,
   "id": "412f0a40",
   "metadata": {},
   "outputs": [
    {
     "data": {
      "text/plain": [
       "186849"
      ]
     },
     "execution_count": 10,
     "metadata": {},
     "output_type": "execute_result"
    }
   ],
   "source": [
    "len(TablaMarClient)"
   ]
  },
  {
   "cell_type": "code",
   "execution_count": 11,
   "id": "87db66b0",
   "metadata": {},
   "outputs": [],
   "source": [
    "#carga de los datos\n",
    "TablaChurn=pd.read_csv(f'N3_Tomas_Rojas.csv',sep=';')"
   ]
  },
  {
   "cell_type": "code",
   "execution_count": 12,
   "id": "f5fe95ac",
   "metadata": {},
   "outputs": [
    {
     "data": {
      "text/plain": [
       "180221"
      ]
     },
     "execution_count": 12,
     "metadata": {},
     "output_type": "execute_result"
    }
   ],
   "source": [
    "len(TablaChurn)"
   ]
  },
  {
   "cell_type": "code",
   "execution_count": 13,
   "id": "06150f7c",
   "metadata": {},
   "outputs": [
    {
     "data": {
      "text/html": [
       "<div>\n",
       "<style scoped>\n",
       "    .dataframe tbody tr th:only-of-type {\n",
       "        vertical-align: middle;\n",
       "    }\n",
       "\n",
       "    .dataframe tbody tr th {\n",
       "        vertical-align: top;\n",
       "    }\n",
       "\n",
       "    .dataframe thead th {\n",
       "        text-align: right;\n",
       "    }\n",
       "</style>\n",
       "<table border=\"1\" class=\"dataframe\">\n",
       "  <thead>\n",
       "    <tr style=\"text-align: right;\">\n",
       "      <th></th>\n",
       "      <th>E_distrito</th>\n",
       "      <th>Nodo</th>\n",
       "      <th>Fecha</th>\n",
       "      <th>Value</th>\n",
       "      <th>anio</th>\n",
       "      <th>mes</th>\n",
       "      <th>dia</th>\n",
       "      <th>fecha2</th>\n",
       "    </tr>\n",
       "  </thead>\n",
       "  <tbody>\n",
       "    <tr>\n",
       "      <th>0</th>\n",
       "      <td>ACACIAS NORTE</td>\n",
       "      <td>2IA</td>\n",
       "      <td>1/1/2020</td>\n",
       "      <td>-6.000</td>\n",
       "      <td>2020.000</td>\n",
       "      <td>1.000</td>\n",
       "      <td>1.000</td>\n",
       "      <td>2020-01-01</td>\n",
       "    </tr>\n",
       "    <tr>\n",
       "      <th>1</th>\n",
       "      <td>ACACIAS NORTE</td>\n",
       "      <td>3IA</td>\n",
       "      <td>1/1/2020</td>\n",
       "      <td>-2.000</td>\n",
       "      <td>2020.000</td>\n",
       "      <td>1.000</td>\n",
       "      <td>1.000</td>\n",
       "      <td>2020-01-01</td>\n",
       "    </tr>\n",
       "    <tr>\n",
       "      <th>2</th>\n",
       "      <td>ACACIAS NORTE</td>\n",
       "      <td>AMI</td>\n",
       "      <td>1/1/2020</td>\n",
       "      <td>-8.000</td>\n",
       "      <td>2020.000</td>\n",
       "      <td>1.000</td>\n",
       "      <td>1.000</td>\n",
       "      <td>2020-01-01</td>\n",
       "    </tr>\n",
       "  </tbody>\n",
       "</table>\n",
       "</div>"
      ],
      "text/plain": [
       "      E_distrito Nodo     Fecha  Value     anio   mes   dia      fecha2\n",
       "0  ACACIAS NORTE  2IA  1/1/2020 -6.000 2020.000 1.000 1.000  2020-01-01\n",
       "1  ACACIAS NORTE  3IA  1/1/2020 -2.000 2020.000 1.000 1.000  2020-01-01\n",
       "2  ACACIAS NORTE  AMI  1/1/2020 -8.000 2020.000 1.000 1.000  2020-01-01"
      ]
     },
     "execution_count": 13,
     "metadata": {},
     "output_type": "execute_result"
    }
   ],
   "source": [
    "TablaChurn.head(3)"
   ]
  },
  {
   "cell_type": "code",
   "execution_count": 14,
   "id": "205081db",
   "metadata": {},
   "outputs": [],
   "source": [
    "TablaFinal=TablaChurn.merge(TablaMarClient,left_on=['Nodo','fecha2'],right_on=['NODO','FECHA'], how='left')"
   ]
  },
  {
   "cell_type": "code",
   "execution_count": 15,
   "id": "a5a6839a",
   "metadata": {},
   "outputs": [
    {
     "data": {
      "text/html": [
       "<div>\n",
       "<style scoped>\n",
       "    .dataframe tbody tr th:only-of-type {\n",
       "        vertical-align: middle;\n",
       "    }\n",
       "\n",
       "    .dataframe tbody tr th {\n",
       "        vertical-align: top;\n",
       "    }\n",
       "\n",
       "    .dataframe thead th {\n",
       "        text-align: right;\n",
       "    }\n",
       "</style>\n",
       "<table border=\"1\" class=\"dataframe\">\n",
       "  <thead>\n",
       "    <tr style=\"text-align: right;\">\n",
       "      <th></th>\n",
       "      <th>E_distrito</th>\n",
       "      <th>Nodo</th>\n",
       "      <th>Fecha</th>\n",
       "      <th>Value</th>\n",
       "      <th>anio</th>\n",
       "      <th>mes</th>\n",
       "      <th>dia</th>\n",
       "      <th>fecha2</th>\n",
       "      <th>NODO</th>\n",
       "      <th>MARCACIONES</th>\n",
       "      <th>CLIENTES</th>\n",
       "      <th>CONTACT</th>\n",
       "      <th>MES</th>\n",
       "      <th>ANIO</th>\n",
       "      <th>DIA</th>\n",
       "      <th>FECHA</th>\n",
       "    </tr>\n",
       "  </thead>\n",
       "  <tbody>\n",
       "    <tr>\n",
       "      <th>0</th>\n",
       "      <td>ACACIAS NORTE</td>\n",
       "      <td>2IA</td>\n",
       "      <td>1/1/2020</td>\n",
       "      <td>-6.000</td>\n",
       "      <td>2020.000</td>\n",
       "      <td>1.000</td>\n",
       "      <td>1.000</td>\n",
       "      <td>2020-01-01</td>\n",
       "      <td>NaN</td>\n",
       "      <td>NaN</td>\n",
       "      <td>NaN</td>\n",
       "      <td>NaN</td>\n",
       "      <td>NaN</td>\n",
       "      <td>NaN</td>\n",
       "      <td>NaN</td>\n",
       "      <td>NaN</td>\n",
       "    </tr>\n",
       "    <tr>\n",
       "      <th>1</th>\n",
       "      <td>ACACIAS NORTE</td>\n",
       "      <td>3IA</td>\n",
       "      <td>1/1/2020</td>\n",
       "      <td>-2.000</td>\n",
       "      <td>2020.000</td>\n",
       "      <td>1.000</td>\n",
       "      <td>1.000</td>\n",
       "      <td>2020-01-01</td>\n",
       "      <td>NaN</td>\n",
       "      <td>NaN</td>\n",
       "      <td>NaN</td>\n",
       "      <td>NaN</td>\n",
       "      <td>NaN</td>\n",
       "      <td>NaN</td>\n",
       "      <td>NaN</td>\n",
       "      <td>NaN</td>\n",
       "    </tr>\n",
       "    <tr>\n",
       "      <th>2</th>\n",
       "      <td>ACACIAS NORTE</td>\n",
       "      <td>AMI</td>\n",
       "      <td>1/1/2020</td>\n",
       "      <td>-8.000</td>\n",
       "      <td>2020.000</td>\n",
       "      <td>1.000</td>\n",
       "      <td>1.000</td>\n",
       "      <td>2020-01-01</td>\n",
       "      <td>NaN</td>\n",
       "      <td>NaN</td>\n",
       "      <td>NaN</td>\n",
       "      <td>NaN</td>\n",
       "      <td>NaN</td>\n",
       "      <td>NaN</td>\n",
       "      <td>NaN</td>\n",
       "      <td>NaN</td>\n",
       "    </tr>\n",
       "    <tr>\n",
       "      <th>3</th>\n",
       "      <td>ACACIAS NORTE</td>\n",
       "      <td>FLS</td>\n",
       "      <td>1/1/2020</td>\n",
       "      <td>-11.000</td>\n",
       "      <td>2020.000</td>\n",
       "      <td>1.000</td>\n",
       "      <td>1.000</td>\n",
       "      <td>2020-01-01</td>\n",
       "      <td>NaN</td>\n",
       "      <td>NaN</td>\n",
       "      <td>NaN</td>\n",
       "      <td>NaN</td>\n",
       "      <td>NaN</td>\n",
       "      <td>NaN</td>\n",
       "      <td>NaN</td>\n",
       "      <td>NaN</td>\n",
       "    </tr>\n",
       "    <tr>\n",
       "      <th>4</th>\n",
       "      <td>ACACIAS NORTE</td>\n",
       "      <td>IAT</td>\n",
       "      <td>1/1/2020</td>\n",
       "      <td>-14.000</td>\n",
       "      <td>2020.000</td>\n",
       "      <td>1.000</td>\n",
       "      <td>1.000</td>\n",
       "      <td>2020-01-01</td>\n",
       "      <td>NaN</td>\n",
       "      <td>NaN</td>\n",
       "      <td>NaN</td>\n",
       "      <td>NaN</td>\n",
       "      <td>NaN</td>\n",
       "      <td>NaN</td>\n",
       "      <td>NaN</td>\n",
       "      <td>NaN</td>\n",
       "    </tr>\n",
       "    <tr>\n",
       "      <th>5</th>\n",
       "      <td>ACACIAS NORTE</td>\n",
       "      <td>IIA</td>\n",
       "      <td>1/1/2020</td>\n",
       "      <td>1.000</td>\n",
       "      <td>2020.000</td>\n",
       "      <td>1.000</td>\n",
       "      <td>1.000</td>\n",
       "      <td>2020-01-01</td>\n",
       "      <td>NaN</td>\n",
       "      <td>NaN</td>\n",
       "      <td>NaN</td>\n",
       "      <td>NaN</td>\n",
       "      <td>NaN</td>\n",
       "      <td>NaN</td>\n",
       "      <td>NaN</td>\n",
       "      <td>NaN</td>\n",
       "    </tr>\n",
       "    <tr>\n",
       "      <th>6</th>\n",
       "      <td>ACACIAS NORTE</td>\n",
       "      <td>INB</td>\n",
       "      <td>1/1/2020</td>\n",
       "      <td>-7.000</td>\n",
       "      <td>2020.000</td>\n",
       "      <td>1.000</td>\n",
       "      <td>1.000</td>\n",
       "      <td>2020-01-01</td>\n",
       "      <td>NaN</td>\n",
       "      <td>NaN</td>\n",
       "      <td>NaN</td>\n",
       "      <td>NaN</td>\n",
       "      <td>NaN</td>\n",
       "      <td>NaN</td>\n",
       "      <td>NaN</td>\n",
       "      <td>NaN</td>\n",
       "    </tr>\n",
       "    <tr>\n",
       "      <th>7</th>\n",
       "      <td>ACACIAS NORTE</td>\n",
       "      <td>IND</td>\n",
       "      <td>1/1/2020</td>\n",
       "      <td>0.000</td>\n",
       "      <td>2020.000</td>\n",
       "      <td>1.000</td>\n",
       "      <td>1.000</td>\n",
       "      <td>2020-01-01</td>\n",
       "      <td>NaN</td>\n",
       "      <td>NaN</td>\n",
       "      <td>NaN</td>\n",
       "      <td>NaN</td>\n",
       "      <td>NaN</td>\n",
       "      <td>NaN</td>\n",
       "      <td>NaN</td>\n",
       "      <td>NaN</td>\n",
       "    </tr>\n",
       "    <tr>\n",
       "      <th>8</th>\n",
       "      <td>ACACIAS NORTE</td>\n",
       "      <td>INY</td>\n",
       "      <td>1/1/2020</td>\n",
       "      <td>-2.000</td>\n",
       "      <td>2020.000</td>\n",
       "      <td>1.000</td>\n",
       "      <td>1.000</td>\n",
       "      <td>2020-01-01</td>\n",
       "      <td>NaN</td>\n",
       "      <td>NaN</td>\n",
       "      <td>NaN</td>\n",
       "      <td>NaN</td>\n",
       "      <td>NaN</td>\n",
       "      <td>NaN</td>\n",
       "      <td>NaN</td>\n",
       "      <td>NaN</td>\n",
       "    </tr>\n",
       "    <tr>\n",
       "      <th>9</th>\n",
       "      <td>ACACIAS NORTE</td>\n",
       "      <td>LBY</td>\n",
       "      <td>1/1/2020</td>\n",
       "      <td>0.000</td>\n",
       "      <td>2020.000</td>\n",
       "      <td>1.000</td>\n",
       "      <td>1.000</td>\n",
       "      <td>2020-01-01</td>\n",
       "      <td>NaN</td>\n",
       "      <td>NaN</td>\n",
       "      <td>NaN</td>\n",
       "      <td>NaN</td>\n",
       "      <td>NaN</td>\n",
       "      <td>NaN</td>\n",
       "      <td>NaN</td>\n",
       "      <td>NaN</td>\n",
       "    </tr>\n",
       "  </tbody>\n",
       "</table>\n",
       "</div>"
      ],
      "text/plain": [
       "      E_distrito Nodo     Fecha   Value     anio   mes   dia      fecha2 NODO  \\\n",
       "0  ACACIAS NORTE  2IA  1/1/2020  -6.000 2020.000 1.000 1.000  2020-01-01  NaN   \n",
       "1  ACACIAS NORTE  3IA  1/1/2020  -2.000 2020.000 1.000 1.000  2020-01-01  NaN   \n",
       "2  ACACIAS NORTE  AMI  1/1/2020  -8.000 2020.000 1.000 1.000  2020-01-01  NaN   \n",
       "3  ACACIAS NORTE  FLS  1/1/2020 -11.000 2020.000 1.000 1.000  2020-01-01  NaN   \n",
       "4  ACACIAS NORTE  IAT  1/1/2020 -14.000 2020.000 1.000 1.000  2020-01-01  NaN   \n",
       "5  ACACIAS NORTE  IIA  1/1/2020   1.000 2020.000 1.000 1.000  2020-01-01  NaN   \n",
       "6  ACACIAS NORTE  INB  1/1/2020  -7.000 2020.000 1.000 1.000  2020-01-01  NaN   \n",
       "7  ACACIAS NORTE  IND  1/1/2020   0.000 2020.000 1.000 1.000  2020-01-01  NaN   \n",
       "8  ACACIAS NORTE  INY  1/1/2020  -2.000 2020.000 1.000 1.000  2020-01-01  NaN   \n",
       "9  ACACIAS NORTE  LBY  1/1/2020   0.000 2020.000 1.000 1.000  2020-01-01  NaN   \n",
       "\n",
       "   MARCACIONES  CLIENTES  CONTACT  MES  ANIO  DIA FECHA  \n",
       "0          NaN       NaN      NaN  NaN   NaN  NaN   NaN  \n",
       "1          NaN       NaN      NaN  NaN   NaN  NaN   NaN  \n",
       "2          NaN       NaN      NaN  NaN   NaN  NaN   NaN  \n",
       "3          NaN       NaN      NaN  NaN   NaN  NaN   NaN  \n",
       "4          NaN       NaN      NaN  NaN   NaN  NaN   NaN  \n",
       "5          NaN       NaN      NaN  NaN   NaN  NaN   NaN  \n",
       "6          NaN       NaN      NaN  NaN   NaN  NaN   NaN  \n",
       "7          NaN       NaN      NaN  NaN   NaN  NaN   NaN  \n",
       "8          NaN       NaN      NaN  NaN   NaN  NaN   NaN  \n",
       "9          NaN       NaN      NaN  NaN   NaN  NaN   NaN  "
      ]
     },
     "execution_count": 15,
     "metadata": {},
     "output_type": "execute_result"
    }
   ],
   "source": [
    "TablaFinal[TablaFinal['NODO'].isnull()].head(10)"
   ]
  },
  {
   "cell_type": "code",
   "execution_count": 16,
   "id": "635fee64-fa8e-4321-b379-92221722b8bd",
   "metadata": {},
   "outputs": [],
   "source": [
    "Reg_Churn_NoenContact=TablaFinal[TablaFinal['NODO'].isnull()]\n",
    "Reg_Churn_NoenContact.to_csv('Reg_Churn_NoenContact.csv')"
   ]
  },
  {
   "cell_type": "code",
   "execution_count": 17,
   "id": "a52cffee",
   "metadata": {},
   "outputs": [
    {
     "data": {
      "text/plain": [
       "180221"
      ]
     },
     "execution_count": 17,
     "metadata": {},
     "output_type": "execute_result"
    }
   ],
   "source": [
    "len(TablaFinal)"
   ]
  },
  {
   "cell_type": "code",
   "execution_count": 18,
   "id": "49f728e4",
   "metadata": {},
   "outputs": [],
   "source": [
    "TablaFinal.drop(columns=['Fecha','anio','mes','dia','ANIO','MES','DIA','FECHA','NODO'], inplace=True)"
   ]
  },
  {
   "cell_type": "code",
   "execution_count": 19,
   "id": "92c46c61",
   "metadata": {},
   "outputs": [
    {
     "data": {
      "text/html": [
       "<div>\n",
       "<style scoped>\n",
       "    .dataframe tbody tr th:only-of-type {\n",
       "        vertical-align: middle;\n",
       "    }\n",
       "\n",
       "    .dataframe tbody tr th {\n",
       "        vertical-align: top;\n",
       "    }\n",
       "\n",
       "    .dataframe thead th {\n",
       "        text-align: right;\n",
       "    }\n",
       "</style>\n",
       "<table border=\"1\" class=\"dataframe\">\n",
       "  <thead>\n",
       "    <tr style=\"text-align: right;\">\n",
       "      <th></th>\n",
       "      <th>E_distrito</th>\n",
       "      <th>Nodo</th>\n",
       "      <th>Value</th>\n",
       "      <th>fecha2</th>\n",
       "      <th>MARCACIONES</th>\n",
       "      <th>CLIENTES</th>\n",
       "      <th>CONTACT</th>\n",
       "    </tr>\n",
       "  </thead>\n",
       "  <tbody>\n",
       "    <tr>\n",
       "      <th>15504</th>\n",
       "      <td>MEDELLIN SURORIENTAL</td>\n",
       "      <td>EC4</td>\n",
       "      <td>-17.000</td>\n",
       "      <td>2020-07-01</td>\n",
       "      <td>NaN</td>\n",
       "      <td>NaN</td>\n",
       "      <td>NaN</td>\n",
       "    </tr>\n",
       "    <tr>\n",
       "      <th>5755</th>\n",
       "      <td>JAVERIANA</td>\n",
       "      <td>2B5021</td>\n",
       "      <td>-3.000</td>\n",
       "      <td>2020-03-01</td>\n",
       "      <td>NaN</td>\n",
       "      <td>NaN</td>\n",
       "      <td>NaN</td>\n",
       "    </tr>\n",
       "    <tr>\n",
       "      <th>42528</th>\n",
       "      <td>TOCANCIPA</td>\n",
       "      <td>AOP</td>\n",
       "      <td>0.000</td>\n",
       "      <td>2021-01-01</td>\n",
       "      <td>6.000</td>\n",
       "      <td>39.000</td>\n",
       "      <td>15.380</td>\n",
       "    </tr>\n",
       "    <tr>\n",
       "      <th>87321</th>\n",
       "      <td>MEDELLIN SUR FTTH</td>\n",
       "      <td>MGMD03</td>\n",
       "      <td>3.000</td>\n",
       "      <td>2021-04-01</td>\n",
       "      <td>1.000</td>\n",
       "      <td>1.000</td>\n",
       "      <td>100.000</td>\n",
       "    </tr>\n",
       "    <tr>\n",
       "      <th>115292</th>\n",
       "      <td>CHIQUINQUIRA DTH</td>\n",
       "      <td>HPAUNA</td>\n",
       "      <td>-5.000</td>\n",
       "      <td>2021-06-01</td>\n",
       "      <td>4.000</td>\n",
       "      <td>90.000</td>\n",
       "      <td>4.444</td>\n",
       "    </tr>\n",
       "    <tr>\n",
       "      <th>20742</th>\n",
       "      <td>PEPE SIERRA</td>\n",
       "      <td>4C6012</td>\n",
       "      <td>-2.000</td>\n",
       "      <td>2020-09-01</td>\n",
       "      <td>21.000</td>\n",
       "      <td>114.000</td>\n",
       "      <td>18.420</td>\n",
       "    </tr>\n",
       "    <tr>\n",
       "      <th>60373</th>\n",
       "      <td>VITERBO</td>\n",
       "      <td>VT06</td>\n",
       "      <td>0.000</td>\n",
       "      <td>2021-02-01</td>\n",
       "      <td>NaN</td>\n",
       "      <td>NaN</td>\n",
       "      <td>NaN</td>\n",
       "    </tr>\n",
       "    <tr>\n",
       "      <th>70765</th>\n",
       "      <td>MEDELLIN NOROCCIDENTAL</td>\n",
       "      <td>RMN2D</td>\n",
       "      <td>0.000</td>\n",
       "      <td>2021-03-01</td>\n",
       "      <td>9.000</td>\n",
       "      <td>67.000</td>\n",
       "      <td>13.430</td>\n",
       "    </tr>\n",
       "    <tr>\n",
       "      <th>29719</th>\n",
       "      <td>BARRANQUILLA 1 DISTRITO 4</td>\n",
       "      <td>CIE13D</td>\n",
       "      <td>-12.000</td>\n",
       "      <td>2021-01-01</td>\n",
       "      <td>58.000</td>\n",
       "      <td>184.000</td>\n",
       "      <td>31.520</td>\n",
       "    </tr>\n",
       "    <tr>\n",
       "      <th>24477</th>\n",
       "      <td>HAYUELOS</td>\n",
       "      <td>FC2</td>\n",
       "      <td>-11.000</td>\n",
       "      <td>2020-11-01</td>\n",
       "      <td>94.000</td>\n",
       "      <td>571.000</td>\n",
       "      <td>16.460</td>\n",
       "    </tr>\n",
       "  </tbody>\n",
       "</table>\n",
       "</div>"
      ],
      "text/plain": [
       "                       E_distrito    Nodo   Value      fecha2  MARCACIONES  \\\n",
       "15504        MEDELLIN SURORIENTAL     EC4 -17.000  2020-07-01          NaN   \n",
       "5755                    JAVERIANA  2B5021  -3.000  2020-03-01          NaN   \n",
       "42528                   TOCANCIPA     AOP   0.000  2021-01-01        6.000   \n",
       "87321           MEDELLIN SUR FTTH  MGMD03   3.000  2021-04-01        1.000   \n",
       "115292           CHIQUINQUIRA DTH  HPAUNA  -5.000  2021-06-01        4.000   \n",
       "20742                 PEPE SIERRA  4C6012  -2.000  2020-09-01       21.000   \n",
       "60373                     VITERBO    VT06   0.000  2021-02-01          NaN   \n",
       "70765      MEDELLIN NOROCCIDENTAL   RMN2D   0.000  2021-03-01        9.000   \n",
       "29719   BARRANQUILLA 1 DISTRITO 4  CIE13D -12.000  2021-01-01       58.000   \n",
       "24477                    HAYUELOS     FC2 -11.000  2020-11-01       94.000   \n",
       "\n",
       "        CLIENTES  CONTACT  \n",
       "15504        NaN      NaN  \n",
       "5755         NaN      NaN  \n",
       "42528     39.000   15.380  \n",
       "87321      1.000  100.000  \n",
       "115292    90.000    4.444  \n",
       "20742    114.000   18.420  \n",
       "60373        NaN      NaN  \n",
       "70765     67.000   13.430  \n",
       "29719    184.000   31.520  \n",
       "24477    571.000   16.460  "
      ]
     },
     "execution_count": 19,
     "metadata": {},
     "output_type": "execute_result"
    }
   ],
   "source": [
    "TablaFinal.sample(10)"
   ]
  },
  {
   "cell_type": "code",
   "execution_count": 20,
   "id": "41440802",
   "metadata": {},
   "outputs": [],
   "source": [
    "# colocar la fecha como index\n",
    "TablaFinal.set_index('fecha2',inplace=True)"
   ]
  },
  {
   "cell_type": "code",
   "execution_count": 21,
   "id": "475451fa",
   "metadata": {},
   "outputs": [],
   "source": [
    "TablaFinal.index=pd.to_datetime(TablaFinal.index)"
   ]
  },
  {
   "cell_type": "code",
   "execution_count": 22,
   "id": "cb36c8e6",
   "metadata": {},
   "outputs": [],
   "source": [
    "TablaFinal['MARCACIONES'].fillna(0,inplace=True)"
   ]
  },
  {
   "cell_type": "markdown",
   "id": "b821fb71-45ca-4b46-8ded-a7870a2036e6",
   "metadata": {},
   "source": [
    "#### Identificación y corrección de positivos"
   ]
  },
  {
   "cell_type": "code",
   "execution_count": 23,
   "id": "5bbb8cff-d1b7-4e0e-92e1-99d5ef36b042",
   "metadata": {},
   "outputs": [],
   "source": [
    "TablaFinal['pos']=np.where(TablaFinal['Value']>0,1,0)"
   ]
  },
  {
   "cell_type": "code",
   "execution_count": 24,
   "id": "f94271bc-a4d7-4ef9-84bb-f371b85ec7da",
   "metadata": {},
   "outputs": [
    {
     "data": {
      "text/html": [
       "<div>\n",
       "<style scoped>\n",
       "    .dataframe tbody tr th:only-of-type {\n",
       "        vertical-align: middle;\n",
       "    }\n",
       "\n",
       "    .dataframe tbody tr th {\n",
       "        vertical-align: top;\n",
       "    }\n",
       "\n",
       "    .dataframe thead th {\n",
       "        text-align: right;\n",
       "    }\n",
       "</style>\n",
       "<table border=\"1\" class=\"dataframe\">\n",
       "  <thead>\n",
       "    <tr style=\"text-align: right;\">\n",
       "      <th></th>\n",
       "      <th>E_distrito</th>\n",
       "      <th>Nodo</th>\n",
       "      <th>Value</th>\n",
       "      <th>MARCACIONES</th>\n",
       "      <th>CLIENTES</th>\n",
       "      <th>CONTACT</th>\n",
       "      <th>pos</th>\n",
       "    </tr>\n",
       "    <tr>\n",
       "      <th>fecha2</th>\n",
       "      <th></th>\n",
       "      <th></th>\n",
       "      <th></th>\n",
       "      <th></th>\n",
       "      <th></th>\n",
       "      <th></th>\n",
       "      <th></th>\n",
       "    </tr>\n",
       "  </thead>\n",
       "  <tbody>\n",
       "    <tr>\n",
       "      <th>2021-04-01</th>\n",
       "      <td>MAGDALENA 6</td>\n",
       "      <td>UVN</td>\n",
       "      <td>6.000</td>\n",
       "      <td>30.000</td>\n",
       "      <td>234.000</td>\n",
       "      <td>12.820</td>\n",
       "      <td>1</td>\n",
       "    </tr>\n",
       "    <tr>\n",
       "      <th>2021-07-01</th>\n",
       "      <td>MEDELLIN SURORIENTAL</td>\n",
       "      <td>HH2</td>\n",
       "      <td>3.000</td>\n",
       "      <td>5.000</td>\n",
       "      <td>50.000</td>\n",
       "      <td>10.000</td>\n",
       "      <td>1</td>\n",
       "    </tr>\n",
       "    <tr>\n",
       "      <th>2021-01-01</th>\n",
       "      <td>BARRANQUILLA 2 DISTRITO 4</td>\n",
       "      <td>N9H</td>\n",
       "      <td>4.000</td>\n",
       "      <td>29.000</td>\n",
       "      <td>65.000</td>\n",
       "      <td>44.610</td>\n",
       "      <td>1</td>\n",
       "    </tr>\n",
       "    <tr>\n",
       "      <th>2021-08-01</th>\n",
       "      <td>ENGATIVA</td>\n",
       "      <td>BG1</td>\n",
       "      <td>2.000</td>\n",
       "      <td>36.000</td>\n",
       "      <td>169.000</td>\n",
       "      <td>21.300</td>\n",
       "      <td>1</td>\n",
       "    </tr>\n",
       "    <tr>\n",
       "      <th>2021-03-01</th>\n",
       "      <td>COMPARTIR</td>\n",
       "      <td>UMS2</td>\n",
       "      <td>3.000</td>\n",
       "      <td>0.000</td>\n",
       "      <td>NaN</td>\n",
       "      <td>NaN</td>\n",
       "      <td>1</td>\n",
       "    </tr>\n",
       "  </tbody>\n",
       "</table>\n",
       "</div>"
      ],
      "text/plain": [
       "                           E_distrito  Nodo  Value  MARCACIONES  CLIENTES  \\\n",
       "fecha2                                                                      \n",
       "2021-04-01                MAGDALENA 6   UVN  6.000       30.000   234.000   \n",
       "2021-07-01       MEDELLIN SURORIENTAL   HH2  3.000        5.000    50.000   \n",
       "2021-01-01  BARRANQUILLA 2 DISTRITO 4   N9H  4.000       29.000    65.000   \n",
       "2021-08-01                   ENGATIVA   BG1  2.000       36.000   169.000   \n",
       "2021-03-01                  COMPARTIR  UMS2  3.000        0.000       NaN   \n",
       "\n",
       "            CONTACT  pos  \n",
       "fecha2                    \n",
       "2021-04-01   12.820    1  \n",
       "2021-07-01   10.000    1  \n",
       "2021-01-01   44.610    1  \n",
       "2021-08-01   21.300    1  \n",
       "2021-03-01      NaN    1  "
      ]
     },
     "execution_count": 24,
     "metadata": {},
     "output_type": "execute_result"
    }
   ],
   "source": [
    "TablaFinal[TablaFinal['pos']==1].sample(5)"
   ]
  },
  {
   "cell_type": "code",
   "execution_count": 25,
   "id": "c9601162-dad8-45dd-9504-59be29191510",
   "metadata": {},
   "outputs": [
    {
     "data": {
      "text/plain": [
       "0   0.928\n",
       "1   0.072\n",
       "Name: pos, dtype: float64"
      ]
     },
     "execution_count": 25,
     "metadata": {},
     "output_type": "execute_result"
    }
   ],
   "source": [
    "#num reg con positivos\n",
    "TablaFinal['pos'].value_counts()/len(TablaFinal)"
   ]
  },
  {
   "cell_type": "code",
   "execution_count": 26,
   "id": "0e16a343-6492-491f-af68-f226420d1059",
   "metadata": {},
   "outputs": [
    {
     "data": {
      "text/plain": [
       "8357"
      ]
     },
     "execution_count": 26,
     "metadata": {},
     "output_type": "execute_result"
    }
   ],
   "source": [
    "TablaFinal[TablaFinal['pos']==1]['Nodo'].nunique()"
   ]
  },
  {
   "cell_type": "code",
   "execution_count": 27,
   "id": "1197e092-7c42-43dc-887d-881f4fed3ea6",
   "metadata": {},
   "outputs": [],
   "source": [
    "#Reemplazar positivos por cero\n",
    "TablaFinal['Value']=np.where(TablaFinal['Value']>0,0,TablaFinal['Value'])"
   ]
  },
  {
   "cell_type": "markdown",
   "id": "ac17d34e-886e-463f-aa3a-c56edc958ffa",
   "metadata": {},
   "source": [
    "## Construcción de Maestro Nodos"
   ]
  },
  {
   "cell_type": "code",
   "execution_count": 28,
   "id": "965e7da4-6ba8-42d1-b6a2-a232f3046d84",
   "metadata": {},
   "outputs": [],
   "source": [
    "maestroNodo=TablaFinal[['Nodo','E_distrito', 'regional']]"
   ]
  },
  {
   "cell_type": "code",
   "execution_count": 29,
   "id": "d4921ce6-2786-4e3d-b557-3d11ea38cd0d",
   "metadata": {},
   "outputs": [],
   "source": [
    "# sorting by first name\n",
    "maestroNodo.sort_index(ascending=True, inplace = True)\n",
    " \n",
    "# dropping ALL duplicate values\n",
    "maestroNodo.drop_duplicates(subset =[\"Nodo\"], keep = 'last', inplace = True)"
   ]
  },
  {
   "cell_type": "code",
   "execution_count": 30,
   "id": "e31342de-aec2-4bd9-8ab2-ffab1b509790",
   "metadata": {},
   "outputs": [
    {
     "data": {
      "text/html": [
       "<div>\n",
       "<style scoped>\n",
       "    .dataframe tbody tr th:only-of-type {\n",
       "        vertical-align: middle;\n",
       "    }\n",
       "\n",
       "    .dataframe tbody tr th {\n",
       "        vertical-align: top;\n",
       "    }\n",
       "\n",
       "    .dataframe thead th {\n",
       "        text-align: right;\n",
       "    }\n",
       "</style>\n",
       "<table border=\"1\" class=\"dataframe\">\n",
       "  <thead>\n",
       "    <tr style=\"text-align: right;\">\n",
       "      <th></th>\n",
       "      <th>Nodo</th>\n",
       "      <th>E_distrito</th>\n",
       "    </tr>\n",
       "    <tr>\n",
       "      <th>fecha2</th>\n",
       "      <th></th>\n",
       "      <th></th>\n",
       "    </tr>\n",
       "  </thead>\n",
       "  <tbody>\n",
       "    <tr>\n",
       "      <th>2020-04-01</th>\n",
       "      <td>APW</td>\n",
       "      <td>ATAHUALPA</td>\n",
       "    </tr>\n",
       "    <tr>\n",
       "      <th>2020-04-01</th>\n",
       "      <td>PODM01</td>\n",
       "      <td>PEPE SIERRA</td>\n",
       "    </tr>\n",
       "    <tr>\n",
       "      <th>2020-08-01</th>\n",
       "      <td>4B4022</td>\n",
       "      <td>PEPE SIERRA</td>\n",
       "    </tr>\n",
       "  </tbody>\n",
       "</table>\n",
       "</div>"
      ],
      "text/plain": [
       "              Nodo   E_distrito\n",
       "fecha2                         \n",
       "2020-04-01     APW    ATAHUALPA\n",
       "2020-04-01  PODM01  PEPE SIERRA\n",
       "2020-08-01  4B4022  PEPE SIERRA"
      ]
     },
     "execution_count": 30,
     "metadata": {},
     "output_type": "execute_result"
    }
   ],
   "source": [
    "maestroNodo.head(3)"
   ]
  },
  {
   "cell_type": "code",
   "execution_count": 31,
   "id": "8debf0c4-209c-4cba-bd80-e30bca34a254",
   "metadata": {},
   "outputs": [
    {
     "data": {
      "text/html": [
       "<div>\n",
       "<style scoped>\n",
       "    .dataframe tbody tr th:only-of-type {\n",
       "        vertical-align: middle;\n",
       "    }\n",
       "\n",
       "    .dataframe tbody tr th {\n",
       "        vertical-align: top;\n",
       "    }\n",
       "\n",
       "    .dataframe thead th {\n",
       "        text-align: right;\n",
       "    }\n",
       "</style>\n",
       "<table border=\"1\" class=\"dataframe\">\n",
       "  <thead>\n",
       "    <tr style=\"text-align: right;\">\n",
       "      <th></th>\n",
       "      <th>Nodo</th>\n",
       "      <th>E_distrito</th>\n",
       "    </tr>\n",
       "    <tr>\n",
       "      <th>fecha2</th>\n",
       "      <th></th>\n",
       "      <th></th>\n",
       "    </tr>\n",
       "  </thead>\n",
       "  <tbody>\n",
       "    <tr>\n",
       "      <th>2021-09-01</th>\n",
       "      <td>0C1</td>\n",
       "      <td>CALI NORTE DISTRITO 4</td>\n",
       "    </tr>\n",
       "  </tbody>\n",
       "</table>\n",
       "</div>"
      ],
      "text/plain": [
       "           Nodo             E_distrito\n",
       "fecha2                                \n",
       "2021-09-01  0C1  CALI NORTE DISTRITO 4"
      ]
     },
     "execution_count": 31,
     "metadata": {},
     "output_type": "execute_result"
    }
   ],
   "source": [
    "maestroNodo[maestroNodo['Nodo']=='0C1']"
   ]
  },
  {
   "cell_type": "markdown",
   "id": "01cd3579",
   "metadata": {},
   "source": [
    "##  Separación Entrenamiento y testing"
   ]
  },
  {
   "cell_type": "code",
   "execution_count": 32,
   "id": "4504a273",
   "metadata": {},
   "outputs": [
    {
     "data": {
      "text/plain": [
       "Timestamp('2021-09-01 00:00:00')"
      ]
     },
     "execution_count": 32,
     "metadata": {},
     "output_type": "execute_result"
    }
   ],
   "source": [
    "fechaMaxima=max(TablaFinal.index)\n",
    "fechaMaxima"
   ]
  },
  {
   "cell_type": "code",
   "execution_count": 33,
   "id": "08dd9d0c",
   "metadata": {},
   "outputs": [
    {
     "data": {
      "text/plain": [
       "Timestamp('2021-06-01 00:00:00')"
      ]
     },
     "execution_count": 33,
     "metadata": {},
     "output_type": "execute_result"
    }
   ],
   "source": [
    "TablaFinal.index.unique()[-4]"
   ]
  },
  {
   "cell_type": "code",
   "execution_count": 34,
   "id": "a9065ce1",
   "metadata": {},
   "outputs": [],
   "source": [
    "fechaTrain=TablaFinal.index.unique()[-4]\n",
    "fechaTest=TablaFinal.index.unique()[-3]"
   ]
  },
  {
   "cell_type": "code",
   "execution_count": 35,
   "id": "458651d2",
   "metadata": {},
   "outputs": [
    {
     "name": "stdout",
     "output_type": "stream",
     "text": [
      "2021-06-01 00:00:00 2021-07-01 00:00:00\n"
     ]
    }
   ],
   "source": [
    "print (fechaTrain,fechaTest)"
   ]
  },
  {
   "cell_type": "markdown",
   "id": "11d7a65c",
   "metadata": {},
   "source": [
    "## Seleccion de Nodos\n",
    "* Nodos con información en los últimos 3 meses\n",
    "* Nodos con más de 7 registros (por entrenamiento y pruebas)"
   ]
  },
  {
   "cell_type": "code",
   "execution_count": 36,
   "id": "3a3a2703",
   "metadata": {},
   "outputs": [],
   "source": [
    "# Nodos con información en los últimos 3 meses\n",
    "Resumen=TablaFinal.reset_index()[['fecha2','Nodo']].groupby('Nodo').agg(['max','count'])"
   ]
  },
  {
   "cell_type": "code",
   "execution_count": 37,
   "id": "d0f502c8",
   "metadata": {
    "scrolled": true
   },
   "outputs": [
    {
     "data": {
      "text/html": [
       "<div>\n",
       "<style scoped>\n",
       "    .dataframe tbody tr th:only-of-type {\n",
       "        vertical-align: middle;\n",
       "    }\n",
       "\n",
       "    .dataframe tbody tr th {\n",
       "        vertical-align: top;\n",
       "    }\n",
       "\n",
       "    .dataframe thead tr th {\n",
       "        text-align: left;\n",
       "    }\n",
       "\n",
       "    .dataframe thead tr:last-of-type th {\n",
       "        text-align: right;\n",
       "    }\n",
       "</style>\n",
       "<table border=\"1\" class=\"dataframe\">\n",
       "  <thead>\n",
       "    <tr>\n",
       "      <th></th>\n",
       "      <th colspan=\"2\" halign=\"left\">fecha2</th>\n",
       "    </tr>\n",
       "    <tr>\n",
       "      <th></th>\n",
       "      <th>max</th>\n",
       "      <th>count</th>\n",
       "    </tr>\n",
       "    <tr>\n",
       "      <th>Nodo</th>\n",
       "      <th></th>\n",
       "      <th></th>\n",
       "    </tr>\n",
       "  </thead>\n",
       "  <tbody>\n",
       "    <tr>\n",
       "      <th>01J</th>\n",
       "      <td>2021-09-01</td>\n",
       "      <td>9</td>\n",
       "    </tr>\n",
       "    <tr>\n",
       "      <th>01S</th>\n",
       "      <td>2021-09-01</td>\n",
       "      <td>21</td>\n",
       "    </tr>\n",
       "  </tbody>\n",
       "</table>\n",
       "</div>"
      ],
      "text/plain": [
       "         fecha2      \n",
       "            max count\n",
       "Nodo                 \n",
       "01J  2021-09-01     9\n",
       "01S  2021-09-01    21"
      ]
     },
     "execution_count": 37,
     "metadata": {},
     "output_type": "execute_result"
    }
   ],
   "source": [
    "Resumen.head(2)"
   ]
  },
  {
   "cell_type": "code",
   "execution_count": 38,
   "id": "82730d88",
   "metadata": {},
   "outputs": [],
   "source": [
    "Resumen.columns = Resumen.columns.droplevel(0)"
   ]
  },
  {
   "cell_type": "code",
   "execution_count": 39,
   "id": "4898825c",
   "metadata": {},
   "outputs": [
    {
     "data": {
      "text/plain": [
       "2021-09-01    18465\n",
       "2021-01-01       88\n",
       "2021-03-01       20\n",
       "2021-04-01       16\n",
       "2021-05-01       11\n",
       "2021-02-01        8\n",
       "2020-04-01        2\n",
       "2020-09-01        1\n",
       "2020-08-01        1\n",
       "Name: max, dtype: int64"
      ]
     },
     "execution_count": 39,
     "metadata": {},
     "output_type": "execute_result"
    }
   ],
   "source": [
    "Resumen['max'].value_counts()"
   ]
  },
  {
   "cell_type": "code",
   "execution_count": 40,
   "id": "4a8179a3",
   "metadata": {},
   "outputs": [],
   "source": [
    "Resumen['sel']=np.where(Resumen['max']<=fechaTest,'sinInfoReciente','nodoValido')"
   ]
  },
  {
   "cell_type": "code",
   "execution_count": 41,
   "id": "c28611c0",
   "metadata": {},
   "outputs": [
    {
     "data": {
      "text/plain": [
       "nodoValido         18465\n",
       "sinInfoReciente      147\n",
       "Name: sel, dtype: int64"
      ]
     },
     "execution_count": 41,
     "metadata": {},
     "output_type": "execute_result"
    }
   ],
   "source": [
    "Resumen['sel'].value_counts()"
   ]
  },
  {
   "cell_type": "code",
   "execution_count": 42,
   "id": "fabb6064",
   "metadata": {},
   "outputs": [],
   "source": [
    "# Nodos con más de 7 registros (por entrenamiento y pruebas)"
   ]
  },
  {
   "cell_type": "code",
   "execution_count": 43,
   "id": "b454bbce",
   "metadata": {},
   "outputs": [
    {
     "data": {
      "text/plain": [
       "9     13600\n",
       "21     2302\n",
       "1       862\n",
       "2       452\n",
       "3       391\n",
       "6       249\n",
       "4       219\n",
       "7       174\n",
       "5       171\n",
       "8        98\n",
       "14       18\n",
       "15       17\n",
       "11       14\n",
       "13       12\n",
       "10        9\n",
       "20        8\n",
       "16        7\n",
       "12        4\n",
       "17        4\n",
       "18        1\n",
       "Name: count, dtype: int64"
      ]
     },
     "execution_count": 43,
     "metadata": {},
     "output_type": "execute_result"
    }
   ],
   "source": [
    "Resumen['count'].value_counts()"
   ]
  },
  {
   "cell_type": "code",
   "execution_count": 44,
   "id": "fa19f53b",
   "metadata": {},
   "outputs": [],
   "source": [
    "Resumen['sel']=np.where(Resumen['sel']=='nodoValido', np.where(Resumen['count']<7,'sinRegSuf','nodoValido'),Resumen['sel'])"
   ]
  },
  {
   "cell_type": "code",
   "execution_count": 45,
   "id": "328dd099",
   "metadata": {},
   "outputs": [
    {
     "data": {
      "text/plain": [
       "nodoValido         16264\n",
       "sinRegSuf           2201\n",
       "sinInfoReciente      147\n",
       "Name: sel, dtype: int64"
      ]
     },
     "execution_count": 45,
     "metadata": {},
     "output_type": "execute_result"
    }
   ],
   "source": [
    "Resumen['sel'].value_counts()"
   ]
  },
  {
   "cell_type": "code",
   "execution_count": 46,
   "id": "1b94b66f-06b4-4ec7-9940-9e686a5692d3",
   "metadata": {},
   "outputs": [],
   "source": [
    "def pieChart(col):\n",
    "    A = col.value_counts()\n",
    "    indices = A.index\n",
    "    plt.pie(A, labels=indices, autopct=\"%0.1f %%\")\n",
    "    plt.axis(\"equal\")\n",
    "    plt.show()    "
   ]
  },
  {
   "cell_type": "code",
   "execution_count": 47,
   "id": "a25e537a-eee7-472f-a24a-0542f5c246fe",
   "metadata": {},
   "outputs": [
    {
     "data": {
      "image/png": "[encoded data removed]",
      "text/plain": [
       "<Figure size 432x288 with 1 Axes>"
      ]
     },
     "metadata": {},
     "output_type": "display_data"
    }
   ],
   "source": [
    "pieChart(Resumen['sel'])"
   ]
  },
  {
   "cell_type": "code",
   "execution_count": 48,
   "id": "c88cae66",
   "metadata": {},
   "outputs": [
    {
     "data": {
      "text/html": [
       "<div>\n",
       "<style scoped>\n",
       "    .dataframe tbody tr th:only-of-type {\n",
       "        vertical-align: middle;\n",
       "    }\n",
       "\n",
       "    .dataframe tbody tr th {\n",
       "        vertical-align: top;\n",
       "    }\n",
       "\n",
       "    .dataframe thead th {\n",
       "        text-align: right;\n",
       "    }\n",
       "</style>\n",
       "<table border=\"1\" class=\"dataframe\">\n",
       "  <thead>\n",
       "    <tr style=\"text-align: right;\">\n",
       "      <th></th>\n",
       "      <th>max</th>\n",
       "      <th>count</th>\n",
       "      <th>sel</th>\n",
       "    </tr>\n",
       "    <tr>\n",
       "      <th>Nodo</th>\n",
       "      <th></th>\n",
       "      <th></th>\n",
       "      <th></th>\n",
       "    </tr>\n",
       "  </thead>\n",
       "  <tbody>\n",
       "    <tr>\n",
       "      <th>01J</th>\n",
       "      <td>2021-09-01</td>\n",
       "      <td>9</td>\n",
       "      <td>nodoValido</td>\n",
       "    </tr>\n",
       "    <tr>\n",
       "      <th>01S</th>\n",
       "      <td>2021-09-01</td>\n",
       "      <td>21</td>\n",
       "      <td>nodoValido</td>\n",
       "    </tr>\n",
       "    <tr>\n",
       "      <th>02J</th>\n",
       "      <td>2021-09-01</td>\n",
       "      <td>9</td>\n",
       "      <td>nodoValido</td>\n",
       "    </tr>\n",
       "    <tr>\n",
       "      <th>02S</th>\n",
       "      <td>2021-09-01</td>\n",
       "      <td>21</td>\n",
       "      <td>nodoValido</td>\n",
       "    </tr>\n",
       "    <tr>\n",
       "      <th>03J</th>\n",
       "      <td>2021-09-01</td>\n",
       "      <td>9</td>\n",
       "      <td>nodoValido</td>\n",
       "    </tr>\n",
       "  </tbody>\n",
       "</table>\n",
       "</div>"
      ],
      "text/plain": [
       "            max  count         sel\n",
       "Nodo                              \n",
       "01J  2021-09-01      9  nodoValido\n",
       "01S  2021-09-01     21  nodoValido\n",
       "02J  2021-09-01      9  nodoValido\n",
       "02S  2021-09-01     21  nodoValido\n",
       "03J  2021-09-01      9  nodoValido"
      ]
     },
     "execution_count": 48,
     "metadata": {},
     "output_type": "execute_result"
    }
   ],
   "source": [
    "Resumen.head()"
   ]
  },
  {
   "cell_type": "code",
   "execution_count": 49,
   "id": "219bf681",
   "metadata": {},
   "outputs": [],
   "source": [
    "TablaFinal=TablaFinal.merge(Resumen['sel'], left_on='Nodo', right_index=True,how='left')"
   ]
  },
  {
   "cell_type": "code",
   "execution_count": 50,
   "id": "8b5294a5-1198-4457-898c-ad2602183c76",
   "metadata": {},
   "outputs": [
    {
     "data": {
      "image/png": "[encoded data removed]",
      "text/plain": [
       "<Figure size 432x288 with 1 Axes>"
      ]
     },
     "metadata": {},
     "output_type": "display_data"
    }
   ],
   "source": [
    "pieChart(TablaFinal['sel'])"
   ]
  },
  {
   "cell_type": "code",
   "execution_count": 51,
   "id": "b5af81b7",
   "metadata": {},
   "outputs": [],
   "source": [
    "TablaFinal=TablaFinal[TablaFinal['sel']=='nodoValido']"
   ]
  },
  {
   "cell_type": "code",
   "execution_count": 52,
   "id": "bd021d02",
   "metadata": {},
   "outputs": [],
   "source": [
    "TablaTrain=TablaFinal[TablaFinal.index <= fechaTrain]\n",
    "TablaTest=TablaFinal[TablaFinal.index >= fechaTest]"
   ]
  },
  {
   "cell_type": "markdown",
   "id": "fc8e9e3c",
   "metadata": {},
   "source": [
    "### Indices Entrenamiento"
   ]
  },
  {
   "cell_type": "code",
   "execution_count": 2,
   "id": "ccba8ab9",
   "metadata": {},
   "outputs": [
    {
     "ename": "NameError",
     "evalue": "name 'pd' is not defined",
     "output_type": "error",
     "traceback": [
      "\u001b[1;31m---------------------------------------------------------------------------\u001b[0m",
      "\u001b[1;31mNameError\u001b[0m                                 Traceback (most recent call last)",
      "\u001b[1;32m<ipython-input-2-f5154177beee>\u001b[0m in \u001b[0;36m<module>\u001b[1;34m\u001b[0m\n\u001b[1;32m----> 1\u001b[1;33m \u001b[0mpd\u001b[0m\u001b[1;33m.\u001b[0m\u001b[0mdate_range\u001b[0m\u001b[1;33m(\u001b[0m\u001b[0mTablaTrain\u001b[0m\u001b[1;33m.\u001b[0m\u001b[0mindex\u001b[0m\u001b[1;33m.\u001b[0m\u001b[0mmax\u001b[0m\u001b[1;33m(\u001b[0m\u001b[1;33m)\u001b[0m\u001b[1;33m,\u001b[0m \u001b[0mperiods\u001b[0m \u001b[1;33m=\u001b[0m \u001b[1;36m4\u001b[0m\u001b[1;33m,\u001b[0m \u001b[0mfreq\u001b[0m \u001b[1;33m=\u001b[0m\u001b[1;34m'MS'\u001b[0m\u001b[1;33m,\u001b[0m \u001b[0mname\u001b[0m\u001b[1;33m=\u001b[0m\u001b[1;34m'FECHA'\u001b[0m\u001b[1;33m)\u001b[0m\u001b[1;33m[\u001b[0m\u001b[1;36m1\u001b[0m\u001b[1;33m:\u001b[0m\u001b[1;33m]\u001b[0m\u001b[1;33m\u001b[0m\u001b[1;33m\u001b[0m\u001b[0m\n\u001b[0m",
      "\u001b[1;31mNameError\u001b[0m: name 'pd' is not defined"
     ]
    }
   ],
   "source": [
    "pd.date_range(TablaTrain.index.max(), periods = 4, freq ='MS', name='FECHA')[1:]"
   ]
  },
  {
   "cell_type": "code",
   "execution_count": 53,
   "id": "e57c67fe",
   "metadata": {},
   "outputs": [
    {
     "data": {
      "text/plain": [
       "DatetimeIndex(['2021-07-01', '2021-08-01', '2021-09-01'], dtype='datetime64[ns]', name='FECHA', freq='MS')"
      ]
     },
     "execution_count": 53,
     "metadata": {},
     "output_type": "execute_result"
    }
   ],
   "source": [
    "ind = pd.date_range(TablaTrain.index.max(), periods = 4, freq ='MS', name='FECHA')[1:]\n",
    "ind"
   ]
  },
  {
   "cell_type": "code",
   "execution_count": 54,
   "id": "20996a1c",
   "metadata": {},
   "outputs": [
    {
     "data": {
      "text/plain": [
       "Timestamp('2021-09-01 00:00:00')"
      ]
     },
     "execution_count": 54,
     "metadata": {},
     "output_type": "execute_result"
    }
   ],
   "source": [
    "TablaFinal.index.max()"
   ]
  },
  {
   "cell_type": "markdown",
   "id": "a69262ae",
   "metadata": {},
   "source": [
    "## Predicciones"
   ]
  },
  {
   "cell_type": "code",
   "execution_count": 94,
   "id": "d021834c-fb81-4f61-b8ac-d6b0fbaa27c9",
   "metadata": {},
   "outputs": [],
   "source": [
    "numeroNodos=10000"
   ]
  },
  {
   "cell_type": "code",
   "execution_count": 56,
   "id": "f7138ac5",
   "metadata": {},
   "outputs": [],
   "source": [
    "final = pd.DataFrame()\n",
    "finalErrores = {}\n",
    "grouped =TablaTrain[['Nodo','Value','MARCACIONES']].groupby('Nodo')\n",
    "groupedTest =TablaTest[['Nodo','Value','MARCACIONES']].groupby('Nodo')\n",
    "groupedFinal=TablaFinal[['Nodo','Value','MARCACIONES']].groupby('Nodo')"
   ]
  },
  {
   "cell_type": "code",
   "execution_count": 64,
   "id": "a84b7318",
   "metadata": {},
   "outputs": [],
   "source": [
    "temp=groupedTest[['Value']].count()"
   ]
  },
  {
   "cell_type": "code",
   "execution_count": 66,
   "id": "357dcaa9",
   "metadata": {},
   "outputs": [
    {
     "data": {
      "text/html": [
       "<div>\n",
       "<style scoped>\n",
       "    .dataframe tbody tr th:only-of-type {\n",
       "        vertical-align: middle;\n",
       "    }\n",
       "\n",
       "    .dataframe tbody tr th {\n",
       "        vertical-align: top;\n",
       "    }\n",
       "\n",
       "    .dataframe thead th {\n",
       "        text-align: right;\n",
       "    }\n",
       "</style>\n",
       "<table border=\"1\" class=\"dataframe\">\n",
       "  <thead>\n",
       "    <tr style=\"text-align: right;\">\n",
       "      <th></th>\n",
       "      <th>Value</th>\n",
       "    </tr>\n",
       "    <tr>\n",
       "      <th>Nodo</th>\n",
       "      <th></th>\n",
       "    </tr>\n",
       "  </thead>\n",
       "  <tbody>\n",
       "    <tr>\n",
       "      <th>01J</th>\n",
       "      <td>3</td>\n",
       "    </tr>\n",
       "    <tr>\n",
       "      <th>01S</th>\n",
       "      <td>3</td>\n",
       "    </tr>\n",
       "  </tbody>\n",
       "</table>\n",
       "</div>"
      ],
      "text/plain": [
       "      Value\n",
       "Nodo       \n",
       "01J       3\n",
       "01S       3"
      ]
     },
     "execution_count": 66,
     "metadata": {},
     "output_type": "execute_result"
    }
   ],
   "source": [
    "temp.head(2)"
   ]
  },
  {
   "cell_type": "code",
   "execution_count": 67,
   "id": "e7d08935",
   "metadata": {},
   "outputs": [
    {
     "data": {
      "text/html": [
       "<div>\n",
       "<style scoped>\n",
       "    .dataframe tbody tr th:only-of-type {\n",
       "        vertical-align: middle;\n",
       "    }\n",
       "\n",
       "    .dataframe tbody tr th {\n",
       "        vertical-align: top;\n",
       "    }\n",
       "\n",
       "    .dataframe thead th {\n",
       "        text-align: right;\n",
       "    }\n",
       "</style>\n",
       "<table border=\"1\" class=\"dataframe\">\n",
       "  <thead>\n",
       "    <tr style=\"text-align: right;\">\n",
       "      <th></th>\n",
       "      <th>Value</th>\n",
       "    </tr>\n",
       "    <tr>\n",
       "      <th>Nodo</th>\n",
       "      <th></th>\n",
       "    </tr>\n",
       "  </thead>\n",
       "  <tbody>\n",
       "    <tr>\n",
       "      <th>NFI304</th>\n",
       "      <td>2</td>\n",
       "    </tr>\n",
       "  </tbody>\n",
       "</table>\n",
       "</div>"
      ],
      "text/plain": [
       "        Value\n",
       "Nodo         \n",
       "NFI304      2"
      ]
     },
     "execution_count": 67,
     "metadata": {},
     "output_type": "execute_result"
    }
   ],
   "source": [
    "temp[temp['Value']==2]"
   ]
  },
  {
   "cell_type": "code",
   "execution_count": 68,
   "id": "2ea3baa9",
   "metadata": {},
   "outputs": [
    {
     "data": {
      "text/html": [
       "<div>\n",
       "<style scoped>\n",
       "    .dataframe tbody tr th:only-of-type {\n",
       "        vertical-align: middle;\n",
       "    }\n",
       "\n",
       "    .dataframe tbody tr th {\n",
       "        vertical-align: top;\n",
       "    }\n",
       "\n",
       "    .dataframe thead th {\n",
       "        text-align: right;\n",
       "    }\n",
       "</style>\n",
       "<table border=\"1\" class=\"dataframe\">\n",
       "  <thead>\n",
       "    <tr style=\"text-align: right;\">\n",
       "      <th></th>\n",
       "      <th>E_distrito</th>\n",
       "      <th>Nodo</th>\n",
       "      <th>Value</th>\n",
       "      <th>MARCACIONES</th>\n",
       "      <th>CLIENTES</th>\n",
       "      <th>CONTACT</th>\n",
       "      <th>pos</th>\n",
       "      <th>sel</th>\n",
       "    </tr>\n",
       "    <tr>\n",
       "      <th>fecha2</th>\n",
       "      <th></th>\n",
       "      <th></th>\n",
       "      <th></th>\n",
       "      <th></th>\n",
       "      <th></th>\n",
       "      <th></th>\n",
       "      <th></th>\n",
       "      <th></th>\n",
       "    </tr>\n",
       "  </thead>\n",
       "  <tbody>\n",
       "    <tr>\n",
       "      <th>2021-01-01</th>\n",
       "      <td>20 DE JULIO</td>\n",
       "      <td>NFI304</td>\n",
       "      <td>0.000</td>\n",
       "      <td>0.000</td>\n",
       "      <td>NaN</td>\n",
       "      <td>NaN</td>\n",
       "      <td>0</td>\n",
       "      <td>nodoValido</td>\n",
       "    </tr>\n",
       "    <tr>\n",
       "      <th>2021-02-01</th>\n",
       "      <td>20 DE JULIO</td>\n",
       "      <td>NFI304</td>\n",
       "      <td>0.000</td>\n",
       "      <td>0.000</td>\n",
       "      <td>NaN</td>\n",
       "      <td>NaN</td>\n",
       "      <td>0</td>\n",
       "      <td>nodoValido</td>\n",
       "    </tr>\n",
       "    <tr>\n",
       "      <th>2021-03-01</th>\n",
       "      <td>20 DE JULIO</td>\n",
       "      <td>NFI304</td>\n",
       "      <td>0.000</td>\n",
       "      <td>0.000</td>\n",
       "      <td>NaN</td>\n",
       "      <td>NaN</td>\n",
       "      <td>0</td>\n",
       "      <td>nodoValido</td>\n",
       "    </tr>\n",
       "    <tr>\n",
       "      <th>2021-04-01</th>\n",
       "      <td>20 DE JULIO</td>\n",
       "      <td>NFI304</td>\n",
       "      <td>0.000</td>\n",
       "      <td>0.000</td>\n",
       "      <td>NaN</td>\n",
       "      <td>NaN</td>\n",
       "      <td>0</td>\n",
       "      <td>nodoValido</td>\n",
       "    </tr>\n",
       "    <tr>\n",
       "      <th>2021-05-01</th>\n",
       "      <td>20 DE JULIO</td>\n",
       "      <td>NFI304</td>\n",
       "      <td>0.000</td>\n",
       "      <td>0.000</td>\n",
       "      <td>NaN</td>\n",
       "      <td>NaN</td>\n",
       "      <td>0</td>\n",
       "      <td>nodoValido</td>\n",
       "    </tr>\n",
       "    <tr>\n",
       "      <th>2021-06-01</th>\n",
       "      <td>20 DE JULIO</td>\n",
       "      <td>NFI304</td>\n",
       "      <td>0.000</td>\n",
       "      <td>0.000</td>\n",
       "      <td>NaN</td>\n",
       "      <td>NaN</td>\n",
       "      <td>0</td>\n",
       "      <td>nodoValido</td>\n",
       "    </tr>\n",
       "  </tbody>\n",
       "</table>\n",
       "</div>"
      ],
      "text/plain": [
       "             E_distrito    Nodo  Value  MARCACIONES  CLIENTES  CONTACT  pos  \\\n",
       "fecha2                                                                        \n",
       "2021-01-01  20 DE JULIO  NFI304  0.000        0.000       NaN      NaN    0   \n",
       "2021-02-01  20 DE JULIO  NFI304  0.000        0.000       NaN      NaN    0   \n",
       "2021-03-01  20 DE JULIO  NFI304  0.000        0.000       NaN      NaN    0   \n",
       "2021-04-01  20 DE JULIO  NFI304  0.000        0.000       NaN      NaN    0   \n",
       "2021-05-01  20 DE JULIO  NFI304  0.000        0.000       NaN      NaN    0   \n",
       "2021-06-01  20 DE JULIO  NFI304  0.000        0.000       NaN      NaN    0   \n",
       "\n",
       "                   sel  \n",
       "fecha2                  \n",
       "2021-01-01  nodoValido  \n",
       "2021-02-01  nodoValido  \n",
       "2021-03-01  nodoValido  \n",
       "2021-04-01  nodoValido  \n",
       "2021-05-01  nodoValido  \n",
       "2021-06-01  nodoValido  "
      ]
     },
     "execution_count": 68,
     "metadata": {},
     "output_type": "execute_result"
    }
   ],
   "source": [
    "TablaTrain[TablaTrain['Nodo']=='NFI304']"
   ]
  },
  {
   "cell_type": "code",
   "execution_count": 69,
   "id": "da38e856",
   "metadata": {},
   "outputs": [
    {
     "data": {
      "text/html": [
       "<div>\n",
       "<style scoped>\n",
       "    .dataframe tbody tr th:only-of-type {\n",
       "        vertical-align: middle;\n",
       "    }\n",
       "\n",
       "    .dataframe tbody tr th {\n",
       "        vertical-align: top;\n",
       "    }\n",
       "\n",
       "    .dataframe thead th {\n",
       "        text-align: right;\n",
       "    }\n",
       "</style>\n",
       "<table border=\"1\" class=\"dataframe\">\n",
       "  <thead>\n",
       "    <tr style=\"text-align: right;\">\n",
       "      <th></th>\n",
       "      <th>E_distrito</th>\n",
       "      <th>Nodo</th>\n",
       "      <th>Value</th>\n",
       "      <th>MARCACIONES</th>\n",
       "      <th>CLIENTES</th>\n",
       "      <th>CONTACT</th>\n",
       "      <th>pos</th>\n",
       "      <th>sel</th>\n",
       "    </tr>\n",
       "    <tr>\n",
       "      <th>fecha2</th>\n",
       "      <th></th>\n",
       "      <th></th>\n",
       "      <th></th>\n",
       "      <th></th>\n",
       "      <th></th>\n",
       "      <th></th>\n",
       "      <th></th>\n",
       "      <th></th>\n",
       "    </tr>\n",
       "  </thead>\n",
       "  <tbody>\n",
       "    <tr>\n",
       "      <th>2021-08-01</th>\n",
       "      <td>20 DE JULIO</td>\n",
       "      <td>NFI304</td>\n",
       "      <td>0.000</td>\n",
       "      <td>0.000</td>\n",
       "      <td>NaN</td>\n",
       "      <td>NaN</td>\n",
       "      <td>0</td>\n",
       "      <td>nodoValido</td>\n",
       "    </tr>\n",
       "    <tr>\n",
       "      <th>2021-09-01</th>\n",
       "      <td>20 DE JULIO</td>\n",
       "      <td>NFI304</td>\n",
       "      <td>0.000</td>\n",
       "      <td>0.000</td>\n",
       "      <td>NaN</td>\n",
       "      <td>NaN</td>\n",
       "      <td>0</td>\n",
       "      <td>nodoValido</td>\n",
       "    </tr>\n",
       "  </tbody>\n",
       "</table>\n",
       "</div>"
      ],
      "text/plain": [
       "             E_distrito    Nodo  Value  MARCACIONES  CLIENTES  CONTACT  pos  \\\n",
       "fecha2                                                                        \n",
       "2021-08-01  20 DE JULIO  NFI304  0.000        0.000       NaN      NaN    0   \n",
       "2021-09-01  20 DE JULIO  NFI304  0.000        0.000       NaN      NaN    0   \n",
       "\n",
       "                   sel  \n",
       "fecha2                  \n",
       "2021-08-01  nodoValido  \n",
       "2021-09-01  nodoValido  "
      ]
     },
     "execution_count": 69,
     "metadata": {},
     "output_type": "execute_result"
    }
   ],
   "source": [
    "TablaTest[TablaTest['Nodo']=='NFI304']"
   ]
  },
  {
   "cell_type": "code",
   "execution_count": 70,
   "id": "64809ed4",
   "metadata": {},
   "outputs": [],
   "source": [
    "temp2=groupedTest.get_group('NFI304')"
   ]
  },
  {
   "cell_type": "code",
   "execution_count": 75,
   "id": "d81a5f3a",
   "metadata": {},
   "outputs": [
    {
     "data": {
      "text/plain": [
       "fecha2\n",
       "2021-08-01   0.000\n",
       "2021-09-01   0.000\n",
       "Name: Value, dtype: float64"
      ]
     },
     "execution_count": 75,
     "metadata": {},
     "output_type": "execute_result"
    }
   ],
   "source": [
    "temp2['Value']"
   ]
  },
  {
   "cell_type": "code",
   "execution_count": 80,
   "id": "58ebe01a",
   "metadata": {},
   "outputs": [
    {
     "data": {
      "text/plain": [
       "FECHA\n",
       "2021-07-01   -0.318\n",
       "2021-08-01   -0.397\n",
       "2021-09-01    0.000\n",
       "Freq: MS, Name: pred, dtype: float64"
      ]
     },
     "execution_count": 80,
     "metadata": {},
     "output_type": "execute_result"
    }
   ],
   "source": [
    "forecast['pred']"
   ]
  },
  {
   "cell_type": "code",
   "execution_count": 81,
   "id": "0eb510d4",
   "metadata": {},
   "outputs": [],
   "source": [
    "temp2['pred2']=forecast['pred']"
   ]
  },
  {
   "cell_type": "code",
   "execution_count": 83,
   "id": "7d66d37d",
   "metadata": {},
   "outputs": [
    {
     "data": {
      "text/plain": [
       "fecha2\n",
       "2021-08-01   -0.397\n",
       "2021-09-01    0.000\n",
       "Name: pred2, dtype: float64"
      ]
     },
     "execution_count": 83,
     "metadata": {},
     "output_type": "execute_result"
    }
   ],
   "source": [
    "temp2['pred2']"
   ]
  },
  {
   "cell_type": "code",
   "execution_count": 806,
   "id": "dafd7a0d-d9b1-44d3-8571-27e5c52e3a28",
   "metadata": {},
   "outputs": [],
   "source": [
    "group = grouped.get_group('01J')"
   ]
  },
  {
   "cell_type": "code",
   "execution_count": 809,
   "id": "99911fb1-48fb-49ed-9a23-26ceb21ea2c2",
   "metadata": {},
   "outputs": [
    {
     "data": {
      "text/plain": [
       "array([ 0.,  0.,  0.,  0., -1., -2.])"
      ]
     },
     "execution_count": 809,
     "metadata": {},
     "output_type": "execute_result"
    }
   ],
   "source": [
    "group['Value'].values"
   ]
  },
  {
   "cell_type": "code",
   "execution_count": 815,
   "id": "aaccc452-d6b2-4f44-a557-a8d8a0a08d9e",
   "metadata": {},
   "outputs": [],
   "source": [
    "model=auto_arima([-5.,0.,0.,0.,0.,0.,0.,0.,0.,0.,0.,0.,0., 0.,  0.,  0.,  0., -1., -2.],trace=False)\n",
    "#model.fit(group['Value'])  \n",
    "#forecast=pd.DataFrame(model.predict(n_periods = 3),index=ind)"
   ]
  },
  {
   "cell_type": "code",
   "execution_count": 817,
   "id": "54fdd6b0-b7fb-4c73-82ef-a7be685663ff",
   "metadata": {},
   "outputs": [],
   "source": [
    "model=auto_arima([-5,0,0,0,0,0,0,0,1,0,0,0,0,0,0,0,0,-1,-2],trace=False)"
   ]
  },
  {
   "cell_type": "code",
   "execution_count": 78,
   "id": "3ef64788",
   "metadata": {},
   "outputs": [],
   "source": [
    "metodos=['ARIMA','ES','HOLT','ES_ajTend','ARIMAX','ARIMAX2']"
   ]
  },
  {
   "cell_type": "code",
   "execution_count": 95,
   "id": "fa502880",
   "metadata": {
    "tags": []
   },
   "outputs": [
    {
     "name": "stdout",
     "output_type": "stream",
     "text": [
      "2000.0\n",
      "2010.0\n"
     ]
    },
    {
     "ename": "KeyboardInterrupt",
     "evalue": "",
     "output_type": "error",
     "traceback": [
      "\u001b[1;31m---------------------------------------------------------------------------\u001b[0m",
      "\u001b[1;31mKeyboardInterrupt\u001b[0m                         Traceback (most recent call last)",
      "\u001b[1;32m<ipython-input-95-881c69addfc3>\u001b[0m in \u001b[0;36m<module>\u001b[1;34m\u001b[0m\n\u001b[0;32m     35\u001b[0m             \u001b[0mforecast\u001b[0m\u001b[1;33m=\u001b[0m\u001b[0mpd\u001b[0m\u001b[1;33m.\u001b[0m\u001b[0mDataFrame\u001b[0m\u001b[1;33m(\u001b[0m\u001b[0mmodel\u001b[0m\u001b[1;33m.\u001b[0m\u001b[0mpredict\u001b[0m\u001b[1;33m(\u001b[0m\u001b[0mstart\u001b[0m\u001b[1;33m=\u001b[0m\u001b[0mnum_start\u001b[0m\u001b[1;33m,\u001b[0m\u001b[0mend\u001b[0m\u001b[1;33m=\u001b[0m\u001b[0mnum_start\u001b[0m\u001b[1;33m+\u001b[0m\u001b[1;36m2\u001b[0m\u001b[1;33m,\u001b[0m\u001b[0mexog\u001b[0m\u001b[1;33m=\u001b[0m\u001b[0mgroupTest\u001b[0m\u001b[1;33m[\u001b[0m\u001b[1;34m'MARCACIONES'\u001b[0m\u001b[1;33m]\u001b[0m\u001b[1;33m,\u001b[0m\u001b[0mdynamic\u001b[0m\u001b[1;33m=\u001b[0m\u001b[1;32mTrue\u001b[0m\u001b[1;33m)\u001b[0m\u001b[1;33m,\u001b[0m\u001b[0mindex\u001b[0m\u001b[1;33m=\u001b[0m\u001b[0mind\u001b[0m\u001b[1;33m)\u001b[0m\u001b[1;33m\u001b[0m\u001b[1;33m\u001b[0m\u001b[0m\n\u001b[0;32m     36\u001b[0m         \u001b[1;32melif\u001b[0m \u001b[0mmetodo\u001b[0m\u001b[1;33m==\u001b[0m\u001b[1;34m'ARIMAX2'\u001b[0m\u001b[1;33m:\u001b[0m\u001b[1;33m\u001b[0m\u001b[1;33m\u001b[0m\u001b[0m\n\u001b[1;32m---> 37\u001b[1;33m             \u001b[0mmodel\u001b[0m\u001b[1;33m=\u001b[0m\u001b[0mauto_arima\u001b[0m\u001b[1;33m(\u001b[0m\u001b[0mgroup\u001b[0m\u001b[1;33m[\u001b[0m\u001b[1;34m'Value'\u001b[0m\u001b[1;33m]\u001b[0m\u001b[1;33m,\u001b[0m\u001b[0mtrace\u001b[0m\u001b[1;33m=\u001b[0m\u001b[1;32mFalse\u001b[0m\u001b[1;33m,\u001b[0m\u001b[0mexogenous\u001b[0m\u001b[1;33m=\u001b[0m\u001b[0mgroup\u001b[0m\u001b[1;33m[\u001b[0m\u001b[1;34m'MARCACIONES'\u001b[0m\u001b[1;33m]\u001b[0m\u001b[1;33m.\u001b[0m\u001b[0mvalues\u001b[0m\u001b[1;33m.\u001b[0m\u001b[0mreshape\u001b[0m\u001b[1;33m(\u001b[0m\u001b[1;33m-\u001b[0m\u001b[1;36m1\u001b[0m\u001b[1;33m,\u001b[0m\u001b[1;36m1\u001b[0m\u001b[1;33m)\u001b[0m\u001b[1;33m)\u001b[0m\u001b[1;33m\u001b[0m\u001b[1;33m\u001b[0m\u001b[0m\n\u001b[0m\u001b[0;32m     38\u001b[0m             \u001b[0mforecast\u001b[0m\u001b[1;33m=\u001b[0m \u001b[0mpd\u001b[0m\u001b[1;33m.\u001b[0m\u001b[0mDataFrame\u001b[0m\u001b[1;33m(\u001b[0m\u001b[0mmodel\u001b[0m\u001b[1;33m.\u001b[0m\u001b[0mpredict\u001b[0m\u001b[1;33m(\u001b[0m\u001b[0mn_periods\u001b[0m\u001b[1;33m=\u001b[0m\u001b[1;36m3\u001b[0m\u001b[1;33m,\u001b[0m\u001b[0mexogenous\u001b[0m\u001b[1;33m=\u001b[0m\u001b[0mgroupTest\u001b[0m\u001b[1;33m[\u001b[0m\u001b[1;34m'MARCACIONES'\u001b[0m\u001b[1;33m]\u001b[0m\u001b[1;33m.\u001b[0m\u001b[0mvalues\u001b[0m\u001b[1;33m.\u001b[0m\u001b[0mreshape\u001b[0m\u001b[1;33m(\u001b[0m\u001b[1;33m-\u001b[0m\u001b[1;36m1\u001b[0m\u001b[1;33m,\u001b[0m\u001b[1;36m1\u001b[0m\u001b[1;33m)\u001b[0m\u001b[1;33m)\u001b[0m\u001b[1;33m,\u001b[0m\u001b[0mindex\u001b[0m\u001b[1;33m=\u001b[0m\u001b[0mind\u001b[0m\u001b[1;33m)\u001b[0m\u001b[1;33m\u001b[0m\u001b[1;33m\u001b[0m\u001b[0m\n\u001b[0;32m     39\u001b[0m         \u001b[0mforecast\u001b[0m\u001b[1;33m.\u001b[0m\u001b[0mcolumns\u001b[0m \u001b[1;33m=\u001b[0m \u001b[1;33m[\u001b[0m\u001b[1;34m'pred'\u001b[0m\u001b[1;33m]\u001b[0m\u001b[1;33m\u001b[0m\u001b[1;33m\u001b[0m\u001b[0m\n",
      "\u001b[1;32mC:\\ProgramData\\Anaconda3\\envs\\ds_sqdm_claro\\lib\\site-packages\\pmdarima\\arima\\auto.py\u001b[0m in \u001b[0;36mauto_arima\u001b[1;34m(y, X, start_p, d, start_q, max_p, max_d, max_q, start_P, D, start_Q, max_P, max_D, max_Q, max_order, m, seasonal, stationary, information_criterion, alpha, test, seasonal_test, stepwise, n_jobs, start_params, trend, method, maxiter, offset_test_args, seasonal_test_args, suppress_warnings, error_action, trace, random, random_state, n_fits, return_valid_fits, out_of_sample_size, scoring, scoring_args, with_intercept, sarimax_kwargs, **fit_args)\u001b[0m\n\u001b[0;32m    715\u001b[0m         )\n\u001b[0;32m    716\u001b[0m \u001b[1;33m\u001b[0m\u001b[0m\n\u001b[1;32m--> 717\u001b[1;33m     \u001b[0msorted_res\u001b[0m \u001b[1;33m=\u001b[0m \u001b[0msearch\u001b[0m\u001b[1;33m.\u001b[0m\u001b[0msolve\u001b[0m\u001b[1;33m(\u001b[0m\u001b[1;33m)\u001b[0m\u001b[1;33m\u001b[0m\u001b[1;33m\u001b[0m\u001b[0m\n\u001b[0m\u001b[0;32m    718\u001b[0m     \u001b[1;32mreturn\u001b[0m \u001b[0m_return_wrapper\u001b[0m\u001b[1;33m(\u001b[0m\u001b[0msorted_res\u001b[0m\u001b[1;33m,\u001b[0m \u001b[0mreturn_valid_fits\u001b[0m\u001b[1;33m,\u001b[0m \u001b[0mstart\u001b[0m\u001b[1;33m,\u001b[0m \u001b[0mtrace\u001b[0m\u001b[1;33m)\u001b[0m\u001b[1;33m\u001b[0m\u001b[1;33m\u001b[0m\u001b[0m\n\u001b[0;32m    719\u001b[0m \u001b[1;33m\u001b[0m\u001b[0m\n",
      "\u001b[1;32mC:\\ProgramData\\Anaconda3\\envs\\ds_sqdm_claro\\lib\\site-packages\\pmdarima\\arima\\_auto_solvers.py\u001b[0m in \u001b[0;36msolve\u001b[1;34m(self)\u001b[0m\n\u001b[0;32m    294\u001b[0m             \u001b[0m_p\u001b[0m \u001b[1;33m=\u001b[0m \u001b[1;36m1\u001b[0m \u001b[1;32mif\u001b[0m \u001b[0mmax_p\u001b[0m \u001b[1;33m>\u001b[0m \u001b[1;36m0\u001b[0m \u001b[1;32melse\u001b[0m \u001b[1;36m0\u001b[0m\u001b[1;33m\u001b[0m\u001b[1;33m\u001b[0m\u001b[0m\n\u001b[0;32m    295\u001b[0m             \u001b[0m_P\u001b[0m \u001b[1;33m=\u001b[0m \u001b[1;36m1\u001b[0m \u001b[1;32mif\u001b[0m \u001b[1;33m(\u001b[0m\u001b[0mm\u001b[0m \u001b[1;33m>\u001b[0m \u001b[1;36m1\u001b[0m \u001b[1;32mand\u001b[0m \u001b[0mmax_P\u001b[0m \u001b[1;33m>\u001b[0m \u001b[1;36m0\u001b[0m\u001b[1;33m)\u001b[0m \u001b[1;32melse\u001b[0m \u001b[1;36m0\u001b[0m\u001b[1;33m\u001b[0m\u001b[1;33m\u001b[0m\u001b[0m\n\u001b[1;32m--> 296\u001b[1;33m             \u001b[1;32mif\u001b[0m \u001b[0mself\u001b[0m\u001b[1;33m.\u001b[0m\u001b[0m_do_fit\u001b[0m\u001b[1;33m(\u001b[0m\u001b[1;33m(\u001b[0m\u001b[0m_p\u001b[0m\u001b[1;33m,\u001b[0m \u001b[0md\u001b[0m\u001b[1;33m,\u001b[0m \u001b[1;36m0\u001b[0m\u001b[1;33m)\u001b[0m\u001b[1;33m,\u001b[0m \u001b[1;33m(\u001b[0m\u001b[0m_P\u001b[0m\u001b[1;33m,\u001b[0m \u001b[0mD\u001b[0m\u001b[1;33m,\u001b[0m \u001b[1;36m0\u001b[0m\u001b[1;33m,\u001b[0m \u001b[0mm\u001b[0m\u001b[1;33m)\u001b[0m\u001b[1;33m)\u001b[0m\u001b[1;33m:\u001b[0m\u001b[1;33m\u001b[0m\u001b[1;33m\u001b[0m\u001b[0m\n\u001b[0m\u001b[0;32m    297\u001b[0m                 \u001b[0mp\u001b[0m \u001b[1;33m=\u001b[0m \u001b[0m_p\u001b[0m\u001b[1;33m\u001b[0m\u001b[1;33m\u001b[0m\u001b[0m\n\u001b[0;32m    298\u001b[0m                 \u001b[0mP\u001b[0m \u001b[1;33m=\u001b[0m \u001b[0m_P\u001b[0m\u001b[1;33m\u001b[0m\u001b[1;33m\u001b[0m\u001b[0m\n",
      "\u001b[1;32mC:\\ProgramData\\Anaconda3\\envs\\ds_sqdm_claro\\lib\\site-packages\\pmdarima\\arima\\_auto_solvers.py\u001b[0m in \u001b[0;36m_do_fit\u001b[1;34m(self, order, seasonal_order, constant)\u001b[0m\n\u001b[0;32m    231\u001b[0m             \u001b[0mself\u001b[0m\u001b[1;33m.\u001b[0m\u001b[0mk\u001b[0m \u001b[1;33m+=\u001b[0m \u001b[1;36m1\u001b[0m\u001b[1;33m\u001b[0m\u001b[1;33m\u001b[0m\u001b[0m\n\u001b[0;32m    232\u001b[0m \u001b[1;33m\u001b[0m\u001b[0m\n\u001b[1;32m--> 233\u001b[1;33m             fit, fit_time, new_ic = self._fit_arima(\n\u001b[0m\u001b[0;32m    234\u001b[0m                 \u001b[0morder\u001b[0m\u001b[1;33m=\u001b[0m\u001b[0morder\u001b[0m\u001b[1;33m,\u001b[0m\u001b[1;33m\u001b[0m\u001b[1;33m\u001b[0m\u001b[0m\n\u001b[0;32m    235\u001b[0m                 \u001b[0mseasonal_order\u001b[0m\u001b[1;33m=\u001b[0m\u001b[0mseasonal_order\u001b[0m\u001b[1;33m,\u001b[0m\u001b[1;33m\u001b[0m\u001b[1;33m\u001b[0m\u001b[0m\n",
      "\u001b[1;32mC:\\ProgramData\\Anaconda3\\envs\\ds_sqdm_claro\\lib\\site-packages\\pmdarima\\arima\\_auto_solvers.py\u001b[0m in \u001b[0;36m_fit_candidate_model\u001b[1;34m(y, X, order, seasonal_order, start_params, trend, method, maxiter, fit_params, suppress_warnings, trace, error_action, out_of_sample_size, scoring, scoring_args, with_intercept, information_criterion, **kwargs)\u001b[0m\n\u001b[0;32m    504\u001b[0m \u001b[1;33m\u001b[0m\u001b[0m\n\u001b[0;32m    505\u001b[0m     \u001b[1;32mtry\u001b[0m\u001b[1;33m:\u001b[0m\u001b[1;33m\u001b[0m\u001b[1;33m\u001b[0m\u001b[0m\n\u001b[1;32m--> 506\u001b[1;33m         \u001b[0mfit\u001b[0m\u001b[1;33m.\u001b[0m\u001b[0mfit\u001b[0m\u001b[1;33m(\u001b[0m\u001b[0my\u001b[0m\u001b[1;33m,\u001b[0m \u001b[0mX\u001b[0m\u001b[1;33m=\u001b[0m\u001b[0mX\u001b[0m\u001b[1;33m,\u001b[0m \u001b[1;33m**\u001b[0m\u001b[0mfit_params\u001b[0m\u001b[1;33m)\u001b[0m\u001b[1;33m\u001b[0m\u001b[1;33m\u001b[0m\u001b[0m\n\u001b[0m\u001b[0;32m    507\u001b[0m \u001b[1;33m\u001b[0m\u001b[0m\n\u001b[0;32m    508\u001b[0m     \u001b[1;31m# for non-stationarity errors or singular matrices, return None\u001b[0m\u001b[1;33m\u001b[0m\u001b[1;33m\u001b[0m\u001b[1;33m\u001b[0m\u001b[0m\n",
      "\u001b[1;32mC:\\ProgramData\\Anaconda3\\envs\\ds_sqdm_claro\\lib\\site-packages\\pmdarima\\arima\\arima.py\u001b[0m in \u001b[0;36mfit\u001b[1;34m(self, y, X, **fit_args)\u001b[0m\n\u001b[0;32m    480\u001b[0m \u001b[1;33m\u001b[0m\u001b[0m\n\u001b[0;32m    481\u001b[0m         \u001b[1;31m# Internal call\u001b[0m\u001b[1;33m\u001b[0m\u001b[1;33m\u001b[0m\u001b[1;33m\u001b[0m\u001b[0m\n\u001b[1;32m--> 482\u001b[1;33m         \u001b[0mself\u001b[0m\u001b[1;33m.\u001b[0m\u001b[0m_fit\u001b[0m\u001b[1;33m(\u001b[0m\u001b[0my\u001b[0m\u001b[1;33m,\u001b[0m \u001b[0mX\u001b[0m\u001b[1;33m,\u001b[0m \u001b[1;33m**\u001b[0m\u001b[0mfit_args\u001b[0m\u001b[1;33m)\u001b[0m\u001b[1;33m\u001b[0m\u001b[1;33m\u001b[0m\u001b[0m\n\u001b[0m\u001b[0;32m    483\u001b[0m \u001b[1;33m\u001b[0m\u001b[0m\n\u001b[0;32m    484\u001b[0m         \u001b[1;31m# now make a forecast if we're validating to compute the\u001b[0m\u001b[1;33m\u001b[0m\u001b[1;33m\u001b[0m\u001b[1;33m\u001b[0m\u001b[0m\n",
      "\u001b[1;32mC:\\ProgramData\\Anaconda3\\envs\\ds_sqdm_claro\\lib\\site-packages\\pmdarima\\arima\\arima.py\u001b[0m in \u001b[0;36m_fit\u001b[1;34m(self, y, X, **fit_args)\u001b[0m\n\u001b[0;32m    401\u001b[0m             \u001b[1;32mwith\u001b[0m \u001b[0mwarnings\u001b[0m\u001b[1;33m.\u001b[0m\u001b[0mcatch_warnings\u001b[0m\u001b[1;33m(\u001b[0m\u001b[0mrecord\u001b[0m\u001b[1;33m=\u001b[0m\u001b[1;32mFalse\u001b[0m\u001b[1;33m)\u001b[0m\u001b[1;33m:\u001b[0m\u001b[1;33m\u001b[0m\u001b[1;33m\u001b[0m\u001b[0m\n\u001b[0;32m    402\u001b[0m                 \u001b[0mwarnings\u001b[0m\u001b[1;33m.\u001b[0m\u001b[0msimplefilter\u001b[0m\u001b[1;33m(\u001b[0m\u001b[1;34m'ignore'\u001b[0m\u001b[1;33m)\u001b[0m\u001b[1;33m\u001b[0m\u001b[1;33m\u001b[0m\u001b[0m\n\u001b[1;32m--> 403\u001b[1;33m                 \u001b[0mfit\u001b[0m\u001b[1;33m,\u001b[0m \u001b[0mself\u001b[0m\u001b[1;33m.\u001b[0m\u001b[0marima_res_\u001b[0m \u001b[1;33m=\u001b[0m \u001b[0m_fit_wrapper\u001b[0m\u001b[1;33m(\u001b[0m\u001b[1;33m)\u001b[0m\u001b[1;33m\u001b[0m\u001b[1;33m\u001b[0m\u001b[0m\n\u001b[0m\u001b[0;32m    404\u001b[0m         \u001b[1;32melse\u001b[0m\u001b[1;33m:\u001b[0m\u001b[1;33m\u001b[0m\u001b[1;33m\u001b[0m\u001b[0m\n\u001b[0;32m    405\u001b[0m             \u001b[0mfit\u001b[0m\u001b[1;33m,\u001b[0m \u001b[0mself\u001b[0m\u001b[1;33m.\u001b[0m\u001b[0marima_res_\u001b[0m \u001b[1;33m=\u001b[0m \u001b[0m_fit_wrapper\u001b[0m\u001b[1;33m(\u001b[0m\u001b[1;33m)\u001b[0m\u001b[1;33m\u001b[0m\u001b[1;33m\u001b[0m\u001b[0m\n",
      "\u001b[1;32mC:\\ProgramData\\Anaconda3\\envs\\ds_sqdm_claro\\lib\\site-packages\\pmdarima\\arima\\arima.py\u001b[0m in \u001b[0;36m_fit_wrapper\u001b[1;34m()\u001b[0m\n\u001b[0;32m    391\u001b[0m             \u001b[0mdisp\u001b[0m \u001b[1;33m=\u001b[0m \u001b[0mfit_args\u001b[0m\u001b[1;33m.\u001b[0m\u001b[0mpop\u001b[0m\u001b[1;33m(\u001b[0m\u001b[1;34m\"disp\"\u001b[0m\u001b[1;33m,\u001b[0m \u001b[1;36m0\u001b[0m\u001b[1;33m)\u001b[0m\u001b[1;33m\u001b[0m\u001b[1;33m\u001b[0m\u001b[0m\n\u001b[0;32m    392\u001b[0m \u001b[1;33m\u001b[0m\u001b[0m\n\u001b[1;32m--> 393\u001b[1;33m             return arima, arima.fit(start_params=start_params,\n\u001b[0m\u001b[0;32m    394\u001b[0m                                     \u001b[0mmethod\u001b[0m\u001b[1;33m=\u001b[0m\u001b[0mmethod\u001b[0m\u001b[1;33m,\u001b[0m\u001b[1;33m\u001b[0m\u001b[1;33m\u001b[0m\u001b[0m\n\u001b[0;32m    395\u001b[0m                                     \u001b[0mmaxiter\u001b[0m\u001b[1;33m=\u001b[0m\u001b[0m_maxiter\u001b[0m\u001b[1;33m,\u001b[0m\u001b[1;33m\u001b[0m\u001b[1;33m\u001b[0m\u001b[0m\n",
      "\u001b[1;32mC:\\ProgramData\\Anaconda3\\envs\\ds_sqdm_claro\\lib\\site-packages\\statsmodels\\tsa\\statespace\\mlemodel.py\u001b[0m in \u001b[0;36mfit\u001b[1;34m(self, start_params, transformed, includes_fixed, cov_type, cov_kwds, method, maxiter, full_output, disp, callback, return_params, optim_score, optim_complex_step, optim_hessian, flags, low_memory, **kwargs)\u001b[0m\n\u001b[0;32m    688\u001b[0m                 \u001b[0mflags\u001b[0m\u001b[1;33m[\u001b[0m\u001b[1;34m'hessian_method'\u001b[0m\u001b[1;33m]\u001b[0m \u001b[1;33m=\u001b[0m \u001b[0moptim_hessian\u001b[0m\u001b[1;33m\u001b[0m\u001b[1;33m\u001b[0m\u001b[0m\n\u001b[0;32m    689\u001b[0m             \u001b[0mfargs\u001b[0m \u001b[1;33m=\u001b[0m \u001b[1;33m(\u001b[0m\u001b[0mflags\u001b[0m\u001b[1;33m,\u001b[0m\u001b[1;33m)\u001b[0m\u001b[1;33m\u001b[0m\u001b[1;33m\u001b[0m\u001b[0m\n\u001b[1;32m--> 690\u001b[1;33m             mlefit = super(MLEModel, self).fit(start_params, method=method,\n\u001b[0m\u001b[0;32m    691\u001b[0m                                                \u001b[0mfargs\u001b[0m\u001b[1;33m=\u001b[0m\u001b[0mfargs\u001b[0m\u001b[1;33m,\u001b[0m\u001b[1;33m\u001b[0m\u001b[1;33m\u001b[0m\u001b[0m\n\u001b[0;32m    692\u001b[0m                                                \u001b[0mmaxiter\u001b[0m\u001b[1;33m=\u001b[0m\u001b[0mmaxiter\u001b[0m\u001b[1;33m,\u001b[0m\u001b[1;33m\u001b[0m\u001b[1;33m\u001b[0m\u001b[0m\n",
      "\u001b[1;32mC:\\ProgramData\\Anaconda3\\envs\\ds_sqdm_claro\\lib\\site-packages\\statsmodels\\base\\model.py\u001b[0m in \u001b[0;36mfit\u001b[1;34m(self, start_params, method, maxiter, full_output, disp, fargs, callback, retall, skip_hessian, **kwargs)\u001b[0m\n\u001b[0;32m    517\u001b[0m         \u001b[0mwarn_convergence\u001b[0m \u001b[1;33m=\u001b[0m \u001b[0mkwargs\u001b[0m\u001b[1;33m.\u001b[0m\u001b[0mpop\u001b[0m\u001b[1;33m(\u001b[0m\u001b[1;34m'warn_convergence'\u001b[0m\u001b[1;33m,\u001b[0m \u001b[1;32mTrue\u001b[0m\u001b[1;33m)\u001b[0m\u001b[1;33m\u001b[0m\u001b[1;33m\u001b[0m\u001b[0m\n\u001b[0;32m    518\u001b[0m         \u001b[0moptimizer\u001b[0m \u001b[1;33m=\u001b[0m \u001b[0mOptimizer\u001b[0m\u001b[1;33m(\u001b[0m\u001b[1;33m)\u001b[0m\u001b[1;33m\u001b[0m\u001b[1;33m\u001b[0m\u001b[0m\n\u001b[1;32m--> 519\u001b[1;33m         xopt, retvals, optim_settings = optimizer._fit(f, score, start_params,\n\u001b[0m\u001b[0;32m    520\u001b[0m                                                        \u001b[0mfargs\u001b[0m\u001b[1;33m,\u001b[0m \u001b[0mkwargs\u001b[0m\u001b[1;33m,\u001b[0m\u001b[1;33m\u001b[0m\u001b[1;33m\u001b[0m\u001b[0m\n\u001b[0;32m    521\u001b[0m                                                        \u001b[0mhessian\u001b[0m\u001b[1;33m=\u001b[0m\u001b[0mhess\u001b[0m\u001b[1;33m,\u001b[0m\u001b[1;33m\u001b[0m\u001b[1;33m\u001b[0m\u001b[0m\n",
      "\u001b[1;32mC:\\ProgramData\\Anaconda3\\envs\\ds_sqdm_claro\\lib\\site-packages\\statsmodels\\base\\optimizer.py\u001b[0m in \u001b[0;36m_fit\u001b[1;34m(self, objective, gradient, start_params, fargs, kwargs, hessian, method, maxiter, full_output, disp, callback, retall)\u001b[0m\n\u001b[0;32m    222\u001b[0m \u001b[1;33m\u001b[0m\u001b[0m\n\u001b[0;32m    223\u001b[0m         \u001b[0mfunc\u001b[0m \u001b[1;33m=\u001b[0m \u001b[0mfit_funcs\u001b[0m\u001b[1;33m[\u001b[0m\u001b[0mmethod\u001b[0m\u001b[1;33m]\u001b[0m\u001b[1;33m\u001b[0m\u001b[1;33m\u001b[0m\u001b[0m\n\u001b[1;32m--> 224\u001b[1;33m         xopt, retvals = func(objective, gradient, start_params, fargs, kwargs,\n\u001b[0m\u001b[0;32m    225\u001b[0m                             \u001b[0mdisp\u001b[0m\u001b[1;33m=\u001b[0m\u001b[0mdisp\u001b[0m\u001b[1;33m,\u001b[0m \u001b[0mmaxiter\u001b[0m\u001b[1;33m=\u001b[0m\u001b[0mmaxiter\u001b[0m\u001b[1;33m,\u001b[0m \u001b[0mcallback\u001b[0m\u001b[1;33m=\u001b[0m\u001b[0mcallback\u001b[0m\u001b[1;33m,\u001b[0m\u001b[1;33m\u001b[0m\u001b[1;33m\u001b[0m\u001b[0m\n\u001b[0;32m    226\u001b[0m                             \u001b[0mretall\u001b[0m\u001b[1;33m=\u001b[0m\u001b[0mretall\u001b[0m\u001b[1;33m,\u001b[0m \u001b[0mfull_output\u001b[0m\u001b[1;33m=\u001b[0m\u001b[0mfull_output\u001b[0m\u001b[1;33m,\u001b[0m\u001b[1;33m\u001b[0m\u001b[1;33m\u001b[0m\u001b[0m\n",
      "\u001b[1;32mC:\\ProgramData\\Anaconda3\\envs\\ds_sqdm_claro\\lib\\site-packages\\statsmodels\\base\\optimizer.py\u001b[0m in \u001b[0;36m_fit_lbfgs\u001b[1;34m(f, score, start_params, fargs, kwargs, disp, maxiter, callback, retall, full_output, hess)\u001b[0m\n\u001b[0;32m    627\u001b[0m         \u001b[0mfunc\u001b[0m \u001b[1;33m=\u001b[0m \u001b[0mf\u001b[0m\u001b[1;33m\u001b[0m\u001b[1;33m\u001b[0m\u001b[0m\n\u001b[0;32m    628\u001b[0m \u001b[1;33m\u001b[0m\u001b[0m\n\u001b[1;32m--> 629\u001b[1;33m     retvals = optimize.fmin_l_bfgs_b(func, start_params, maxiter=maxiter,\n\u001b[0m\u001b[0;32m    630\u001b[0m                                      \u001b[0mcallback\u001b[0m\u001b[1;33m=\u001b[0m\u001b[0mcallback\u001b[0m\u001b[1;33m,\u001b[0m \u001b[0margs\u001b[0m\u001b[1;33m=\u001b[0m\u001b[0mfargs\u001b[0m\u001b[1;33m,\u001b[0m\u001b[1;33m\u001b[0m\u001b[1;33m\u001b[0m\u001b[0m\n\u001b[0;32m    631\u001b[0m                                      \u001b[0mbounds\u001b[0m\u001b[1;33m=\u001b[0m\u001b[0mbounds\u001b[0m\u001b[1;33m,\u001b[0m \u001b[0mdisp\u001b[0m\u001b[1;33m=\u001b[0m\u001b[0mdisp\u001b[0m\u001b[1;33m,\u001b[0m\u001b[1;33m\u001b[0m\u001b[1;33m\u001b[0m\u001b[0m\n",
      "\u001b[1;32mC:\\ProgramData\\Anaconda3\\envs\\ds_sqdm_claro\\lib\\site-packages\\scipy\\optimize\\lbfgsb.py\u001b[0m in \u001b[0;36mfmin_l_bfgs_b\u001b[1;34m(func, x0, fprime, args, approx_grad, bounds, m, factr, pgtol, epsilon, iprint, maxfun, maxiter, disp, callback, maxls)\u001b[0m\n\u001b[0;32m    195\u001b[0m             'maxls': maxls}\n\u001b[0;32m    196\u001b[0m \u001b[1;33m\u001b[0m\u001b[0m\n\u001b[1;32m--> 197\u001b[1;33m     res = _minimize_lbfgsb(fun, x0, args=args, jac=jac, bounds=bounds,\n\u001b[0m\u001b[0;32m    198\u001b[0m                            **opts)\n\u001b[0;32m    199\u001b[0m     d = {'grad': res['jac'],\n",
      "\u001b[1;32mC:\\ProgramData\\Anaconda3\\envs\\ds_sqdm_claro\\lib\\site-packages\\scipy\\optimize\\lbfgsb.py\u001b[0m in \u001b[0;36m_minimize_lbfgsb\u001b[1;34m(fun, x0, args, jac, bounds, disp, maxcor, ftol, gtol, eps, maxfun, maxiter, iprint, callback, maxls, finite_diff_rel_step, **unknown_options)\u001b[0m\n\u001b[0;32m    358\u001b[0m             \u001b[1;31m# until the completion of the current minimization iteration.\u001b[0m\u001b[1;33m\u001b[0m\u001b[1;33m\u001b[0m\u001b[1;33m\u001b[0m\u001b[0m\n\u001b[0;32m    359\u001b[0m             \u001b[1;31m# Overwrite f and g:\u001b[0m\u001b[1;33m\u001b[0m\u001b[1;33m\u001b[0m\u001b[1;33m\u001b[0m\u001b[0m\n\u001b[1;32m--> 360\u001b[1;33m             \u001b[0mf\u001b[0m\u001b[1;33m,\u001b[0m \u001b[0mg\u001b[0m \u001b[1;33m=\u001b[0m \u001b[0mfunc_and_grad\u001b[0m\u001b[1;33m(\u001b[0m\u001b[0mx\u001b[0m\u001b[1;33m)\u001b[0m\u001b[1;33m\u001b[0m\u001b[1;33m\u001b[0m\u001b[0m\n\u001b[0m\u001b[0;32m    361\u001b[0m         \u001b[1;32melif\u001b[0m \u001b[0mtask_str\u001b[0m\u001b[1;33m.\u001b[0m\u001b[0mstartswith\u001b[0m\u001b[1;33m(\u001b[0m\u001b[1;34mb'NEW_X'\u001b[0m\u001b[1;33m)\u001b[0m\u001b[1;33m:\u001b[0m\u001b[1;33m\u001b[0m\u001b[1;33m\u001b[0m\u001b[0m\n\u001b[0;32m    362\u001b[0m             \u001b[1;31m# new iteration\u001b[0m\u001b[1;33m\u001b[0m\u001b[1;33m\u001b[0m\u001b[1;33m\u001b[0m\u001b[0m\n",
      "\u001b[1;32mC:\\ProgramData\\Anaconda3\\envs\\ds_sqdm_claro\\lib\\site-packages\\scipy\\optimize\\_differentiable_functions.py\u001b[0m in \u001b[0;36mfun_and_grad\u001b[1;34m(self, x)\u001b[0m\n\u001b[0;32m    259\u001b[0m             \u001b[0mself\u001b[0m\u001b[1;33m.\u001b[0m\u001b[0m_update_x_impl\u001b[0m\u001b[1;33m(\u001b[0m\u001b[0mx\u001b[0m\u001b[1;33m)\u001b[0m\u001b[1;33m\u001b[0m\u001b[1;33m\u001b[0m\u001b[0m\n\u001b[0;32m    260\u001b[0m         \u001b[0mself\u001b[0m\u001b[1;33m.\u001b[0m\u001b[0m_update_fun\u001b[0m\u001b[1;33m(\u001b[0m\u001b[1;33m)\u001b[0m\u001b[1;33m\u001b[0m\u001b[1;33m\u001b[0m\u001b[0m\n\u001b[1;32m--> 261\u001b[1;33m         \u001b[0mself\u001b[0m\u001b[1;33m.\u001b[0m\u001b[0m_update_grad\u001b[0m\u001b[1;33m(\u001b[0m\u001b[1;33m)\u001b[0m\u001b[1;33m\u001b[0m\u001b[1;33m\u001b[0m\u001b[0m\n\u001b[0m\u001b[0;32m    262\u001b[0m         \u001b[1;32mreturn\u001b[0m \u001b[0mself\u001b[0m\u001b[1;33m.\u001b[0m\u001b[0mf\u001b[0m\u001b[1;33m,\u001b[0m \u001b[0mself\u001b[0m\u001b[1;33m.\u001b[0m\u001b[0mg\u001b[0m\u001b[1;33m\u001b[0m\u001b[1;33m\u001b[0m\u001b[0m\n\u001b[0;32m    263\u001b[0m \u001b[1;33m\u001b[0m\u001b[0m\n",
      "\u001b[1;32mC:\\ProgramData\\Anaconda3\\envs\\ds_sqdm_claro\\lib\\site-packages\\scipy\\optimize\\_differentiable_functions.py\u001b[0m in \u001b[0;36m_update_grad\u001b[1;34m(self)\u001b[0m\n\u001b[0;32m    229\u001b[0m     \u001b[1;32mdef\u001b[0m \u001b[0m_update_grad\u001b[0m\u001b[1;33m(\u001b[0m\u001b[0mself\u001b[0m\u001b[1;33m)\u001b[0m\u001b[1;33m:\u001b[0m\u001b[1;33m\u001b[0m\u001b[1;33m\u001b[0m\u001b[0m\n\u001b[0;32m    230\u001b[0m         \u001b[1;32mif\u001b[0m \u001b[1;32mnot\u001b[0m \u001b[0mself\u001b[0m\u001b[1;33m.\u001b[0m\u001b[0mg_updated\u001b[0m\u001b[1;33m:\u001b[0m\u001b[1;33m\u001b[0m\u001b[1;33m\u001b[0m\u001b[0m\n\u001b[1;32m--> 231\u001b[1;33m             \u001b[0mself\u001b[0m\u001b[1;33m.\u001b[0m\u001b[0m_update_grad_impl\u001b[0m\u001b[1;33m(\u001b[0m\u001b[1;33m)\u001b[0m\u001b[1;33m\u001b[0m\u001b[1;33m\u001b[0m\u001b[0m\n\u001b[0m\u001b[0;32m    232\u001b[0m             \u001b[0mself\u001b[0m\u001b[1;33m.\u001b[0m\u001b[0mg_updated\u001b[0m \u001b[1;33m=\u001b[0m \u001b[1;32mTrue\u001b[0m\u001b[1;33m\u001b[0m\u001b[1;33m\u001b[0m\u001b[0m\n\u001b[0;32m    233\u001b[0m \u001b[1;33m\u001b[0m\u001b[0m\n",
      "\u001b[1;32mC:\\ProgramData\\Anaconda3\\envs\\ds_sqdm_claro\\lib\\site-packages\\scipy\\optimize\\_differentiable_functions.py\u001b[0m in \u001b[0;36mupdate_grad\u001b[1;34m()\u001b[0m\n\u001b[0;32m    149\u001b[0m                 \u001b[0mself\u001b[0m\u001b[1;33m.\u001b[0m\u001b[0m_update_fun\u001b[0m\u001b[1;33m(\u001b[0m\u001b[1;33m)\u001b[0m\u001b[1;33m\u001b[0m\u001b[1;33m\u001b[0m\u001b[0m\n\u001b[0;32m    150\u001b[0m                 \u001b[0mself\u001b[0m\u001b[1;33m.\u001b[0m\u001b[0mngev\u001b[0m \u001b[1;33m+=\u001b[0m \u001b[1;36m1\u001b[0m\u001b[1;33m\u001b[0m\u001b[1;33m\u001b[0m\u001b[0m\n\u001b[1;32m--> 151\u001b[1;33m                 self.g = approx_derivative(fun_wrapped, self.x, f0=self.f,\n\u001b[0m\u001b[0;32m    152\u001b[0m                                            **finite_diff_options)\n\u001b[0;32m    153\u001b[0m \u001b[1;33m\u001b[0m\u001b[0m\n",
      "\u001b[1;32mC:\\ProgramData\\Anaconda3\\envs\\ds_sqdm_claro\\lib\\site-packages\\scipy\\optimize\\_numdiff.py\u001b[0m in \u001b[0;36mapprox_derivative\u001b[1;34m(fun, x0, method, rel_step, abs_step, f0, bounds, sparsity, as_linear_operator, args, kwargs)\u001b[0m\n\u001b[0;32m    484\u001b[0m \u001b[1;33m\u001b[0m\u001b[0m\n\u001b[0;32m    485\u001b[0m         \u001b[1;32mif\u001b[0m \u001b[0msparsity\u001b[0m \u001b[1;32mis\u001b[0m \u001b[1;32mNone\u001b[0m\u001b[1;33m:\u001b[0m\u001b[1;33m\u001b[0m\u001b[1;33m\u001b[0m\u001b[0m\n\u001b[1;32m--> 486\u001b[1;33m             return _dense_difference(fun_wrapped, x0, f0, h,\n\u001b[0m\u001b[0;32m    487\u001b[0m                                      use_one_sided, method)\n\u001b[0;32m    488\u001b[0m         \u001b[1;32melse\u001b[0m\u001b[1;33m:\u001b[0m\u001b[1;33m\u001b[0m\u001b[1;33m\u001b[0m\u001b[0m\n",
      "\u001b[1;32mC:\\ProgramData\\Anaconda3\\envs\\ds_sqdm_claro\\lib\\site-packages\\scipy\\optimize\\_numdiff.py\u001b[0m in \u001b[0;36m_dense_difference\u001b[1;34m(fun, x0, f0, h, use_one_sided, method)\u001b[0m\n\u001b[0;32m    555\u001b[0m             \u001b[0mx\u001b[0m \u001b[1;33m=\u001b[0m \u001b[0mx0\u001b[0m \u001b[1;33m+\u001b[0m \u001b[0mh_vecs\u001b[0m\u001b[1;33m[\u001b[0m\u001b[0mi\u001b[0m\u001b[1;33m]\u001b[0m\u001b[1;33m\u001b[0m\u001b[1;33m\u001b[0m\u001b[0m\n\u001b[0;32m    556\u001b[0m             \u001b[0mdx\u001b[0m \u001b[1;33m=\u001b[0m \u001b[0mx\u001b[0m\u001b[1;33m[\u001b[0m\u001b[0mi\u001b[0m\u001b[1;33m]\u001b[0m \u001b[1;33m-\u001b[0m \u001b[0mx0\u001b[0m\u001b[1;33m[\u001b[0m\u001b[0mi\u001b[0m\u001b[1;33m]\u001b[0m  \u001b[1;31m# Recompute dx as exactly representable number.\u001b[0m\u001b[1;33m\u001b[0m\u001b[1;33m\u001b[0m\u001b[0m\n\u001b[1;32m--> 557\u001b[1;33m             \u001b[0mdf\u001b[0m \u001b[1;33m=\u001b[0m \u001b[0mfun\u001b[0m\u001b[1;33m(\u001b[0m\u001b[0mx\u001b[0m\u001b[1;33m)\u001b[0m \u001b[1;33m-\u001b[0m \u001b[0mf0\u001b[0m\u001b[1;33m\u001b[0m\u001b[1;33m\u001b[0m\u001b[0m\n\u001b[0m\u001b[0;32m    558\u001b[0m         \u001b[1;32melif\u001b[0m \u001b[0mmethod\u001b[0m \u001b[1;33m==\u001b[0m \u001b[1;34m'3-point'\u001b[0m \u001b[1;32mand\u001b[0m \u001b[0muse_one_sided\u001b[0m\u001b[1;33m[\u001b[0m\u001b[0mi\u001b[0m\u001b[1;33m]\u001b[0m\u001b[1;33m:\u001b[0m\u001b[1;33m\u001b[0m\u001b[1;33m\u001b[0m\u001b[0m\n\u001b[0;32m    559\u001b[0m             \u001b[0mx1\u001b[0m \u001b[1;33m=\u001b[0m \u001b[0mx0\u001b[0m \u001b[1;33m+\u001b[0m \u001b[0mh_vecs\u001b[0m\u001b[1;33m[\u001b[0m\u001b[0mi\u001b[0m\u001b[1;33m]\u001b[0m\u001b[1;33m\u001b[0m\u001b[1;33m\u001b[0m\u001b[0m\n",
      "\u001b[1;32mC:\\ProgramData\\Anaconda3\\envs\\ds_sqdm_claro\\lib\\site-packages\\scipy\\optimize\\_numdiff.py\u001b[0m in \u001b[0;36mfun_wrapped\u001b[1;34m(x)\u001b[0m\n\u001b[0;32m    435\u001b[0m \u001b[1;33m\u001b[0m\u001b[0m\n\u001b[0;32m    436\u001b[0m     \u001b[1;32mdef\u001b[0m \u001b[0mfun_wrapped\u001b[0m\u001b[1;33m(\u001b[0m\u001b[0mx\u001b[0m\u001b[1;33m)\u001b[0m\u001b[1;33m:\u001b[0m\u001b[1;33m\u001b[0m\u001b[1;33m\u001b[0m\u001b[0m\n\u001b[1;32m--> 437\u001b[1;33m         \u001b[0mf\u001b[0m \u001b[1;33m=\u001b[0m \u001b[0mnp\u001b[0m\u001b[1;33m.\u001b[0m\u001b[0matleast_1d\u001b[0m\u001b[1;33m(\u001b[0m\u001b[0mfun\u001b[0m\u001b[1;33m(\u001b[0m\u001b[0mx\u001b[0m\u001b[1;33m,\u001b[0m \u001b[1;33m*\u001b[0m\u001b[0margs\u001b[0m\u001b[1;33m,\u001b[0m \u001b[1;33m**\u001b[0m\u001b[0mkwargs\u001b[0m\u001b[1;33m)\u001b[0m\u001b[1;33m)\u001b[0m\u001b[1;33m\u001b[0m\u001b[1;33m\u001b[0m\u001b[0m\n\u001b[0m\u001b[0;32m    438\u001b[0m         \u001b[1;32mif\u001b[0m \u001b[0mf\u001b[0m\u001b[1;33m.\u001b[0m\u001b[0mndim\u001b[0m \u001b[1;33m>\u001b[0m \u001b[1;36m1\u001b[0m\u001b[1;33m:\u001b[0m\u001b[1;33m\u001b[0m\u001b[1;33m\u001b[0m\u001b[0m\n\u001b[0;32m    439\u001b[0m             raise RuntimeError(\"`fun` return value has \"\n",
      "\u001b[1;32mC:\\ProgramData\\Anaconda3\\envs\\ds_sqdm_claro\\lib\\site-packages\\scipy\\optimize\\_differentiable_functions.py\u001b[0m in \u001b[0;36mfun_wrapped\u001b[1;34m(x)\u001b[0m\n\u001b[0;32m    128\u001b[0m         \u001b[1;32mdef\u001b[0m \u001b[0mfun_wrapped\u001b[0m\u001b[1;33m(\u001b[0m\u001b[0mx\u001b[0m\u001b[1;33m)\u001b[0m\u001b[1;33m:\u001b[0m\u001b[1;33m\u001b[0m\u001b[1;33m\u001b[0m\u001b[0m\n\u001b[0;32m    129\u001b[0m             \u001b[0mself\u001b[0m\u001b[1;33m.\u001b[0m\u001b[0mnfev\u001b[0m \u001b[1;33m+=\u001b[0m \u001b[1;36m1\u001b[0m\u001b[1;33m\u001b[0m\u001b[1;33m\u001b[0m\u001b[0m\n\u001b[1;32m--> 130\u001b[1;33m             \u001b[1;32mreturn\u001b[0m \u001b[0mfun\u001b[0m\u001b[1;33m(\u001b[0m\u001b[0mx\u001b[0m\u001b[1;33m,\u001b[0m \u001b[1;33m*\u001b[0m\u001b[0margs\u001b[0m\u001b[1;33m)\u001b[0m\u001b[1;33m\u001b[0m\u001b[1;33m\u001b[0m\u001b[0m\n\u001b[0m\u001b[0;32m    131\u001b[0m \u001b[1;33m\u001b[0m\u001b[0m\n\u001b[0;32m    132\u001b[0m         \u001b[1;32mdef\u001b[0m \u001b[0mupdate_fun\u001b[0m\u001b[1;33m(\u001b[0m\u001b[1;33m)\u001b[0m\u001b[1;33m:\u001b[0m\u001b[1;33m\u001b[0m\u001b[1;33m\u001b[0m\u001b[0m\n",
      "\u001b[1;32mC:\\ProgramData\\Anaconda3\\envs\\ds_sqdm_claro\\lib\\site-packages\\statsmodels\\base\\model.py\u001b[0m in \u001b[0;36mf\u001b[1;34m(params, *args)\u001b[0m\n\u001b[0;32m    499\u001b[0m \u001b[1;33m\u001b[0m\u001b[0m\n\u001b[0;32m    500\u001b[0m         \u001b[1;32mdef\u001b[0m \u001b[0mf\u001b[0m\u001b[1;33m(\u001b[0m\u001b[0mparams\u001b[0m\u001b[1;33m,\u001b[0m \u001b[1;33m*\u001b[0m\u001b[0margs\u001b[0m\u001b[1;33m)\u001b[0m\u001b[1;33m:\u001b[0m\u001b[1;33m\u001b[0m\u001b[1;33m\u001b[0m\u001b[0m\n\u001b[1;32m--> 501\u001b[1;33m             \u001b[1;32mreturn\u001b[0m \u001b[1;33m-\u001b[0m\u001b[0mself\u001b[0m\u001b[1;33m.\u001b[0m\u001b[0mloglike\u001b[0m\u001b[1;33m(\u001b[0m\u001b[0mparams\u001b[0m\u001b[1;33m,\u001b[0m \u001b[1;33m*\u001b[0m\u001b[0margs\u001b[0m\u001b[1;33m)\u001b[0m \u001b[1;33m/\u001b[0m \u001b[0mnobs\u001b[0m\u001b[1;33m\u001b[0m\u001b[1;33m\u001b[0m\u001b[0m\n\u001b[0m\u001b[0;32m    502\u001b[0m \u001b[1;33m\u001b[0m\u001b[0m\n\u001b[0;32m    503\u001b[0m         \u001b[1;32mif\u001b[0m \u001b[0mmethod\u001b[0m \u001b[1;33m==\u001b[0m \u001b[1;34m'newton'\u001b[0m\u001b[1;33m:\u001b[0m\u001b[1;33m\u001b[0m\u001b[1;33m\u001b[0m\u001b[0m\n",
      "\u001b[1;32mC:\\ProgramData\\Anaconda3\\envs\\ds_sqdm_claro\\lib\\site-packages\\statsmodels\\tsa\\statespace\\mlemodel.py\u001b[0m in \u001b[0;36mloglike\u001b[1;34m(self, params, *args, **kwargs)\u001b[0m\n\u001b[0;32m    915\u001b[0m             *args, **kwargs)\n\u001b[0;32m    916\u001b[0m \u001b[1;33m\u001b[0m\u001b[0m\n\u001b[1;32m--> 917\u001b[1;33m         params = self.handle_params(params, transformed=transformed,\n\u001b[0m\u001b[0;32m    918\u001b[0m                                     includes_fixed=includes_fixed)\n\u001b[0;32m    919\u001b[0m         self.update(params, transformed=True, includes_fixed=True,\n",
      "\u001b[1;32mC:\\ProgramData\\Anaconda3\\envs\\ds_sqdm_claro\\lib\\site-packages\\statsmodels\\tsa\\statespace\\mlemodel.py\u001b[0m in \u001b[0;36mhandle_params\u001b[1;34m(self, params, transformed, includes_fixed, return_jacobian)\u001b[0m\n\u001b[0;32m   1673\u001b[0m     def handle_params(self, params, transformed=True, includes_fixed=False,\n\u001b[0;32m   1674\u001b[0m                       return_jacobian=False):\n\u001b[1;32m-> 1675\u001b[1;33m         \u001b[0mparams\u001b[0m \u001b[1;33m=\u001b[0m \u001b[0mnp\u001b[0m\u001b[1;33m.\u001b[0m\u001b[0marray\u001b[0m\u001b[1;33m(\u001b[0m\u001b[0mparams\u001b[0m\u001b[1;33m,\u001b[0m \u001b[0mndmin\u001b[0m\u001b[1;33m=\u001b[0m\u001b[1;36m1\u001b[0m\u001b[1;33m)\u001b[0m\u001b[1;33m\u001b[0m\u001b[1;33m\u001b[0m\u001b[0m\n\u001b[0m\u001b[0;32m   1676\u001b[0m \u001b[1;33m\u001b[0m\u001b[0m\n\u001b[0;32m   1677\u001b[0m         \u001b[1;31m# Never want integer dtype, so convert to floats\u001b[0m\u001b[1;33m\u001b[0m\u001b[1;33m\u001b[0m\u001b[1;33m\u001b[0m\u001b[0m\n",
      "\u001b[1;31mKeyboardInterrupt\u001b[0m: "
     ]
    }
   ],
   "source": [
    "#i=2000*len(metodos)\n",
    "i=0\n",
    "for g in grouped.groups:\n",
    "    #print(g)\n",
    "    if i>=numeroNodos*len(metodos):\n",
    "    #if i<2000*len(metodos):\n",
    "        continue\n",
    "    if i/len(metodos)%10==0:\n",
    "        print(i/len(metodos))    \n",
    "    dicNodo={} \n",
    "    dicAuxMetodo={}\n",
    "    group = grouped.get_group(g) \n",
    "    groupTest = groupedTest.get_group(g) \n",
    "    for metodo in metodos:\n",
    "        #print(g,metodo)\n",
    "        if metodo== 'ARIMA':\n",
    "            model=auto_arima(group['Value'],trace=False)\n",
    "            model.fit(group['Value'])  \n",
    "            forecast=pd.DataFrame(model.predict(n_periods = 3),index=ind)\n",
    "        elif metodo== 'ES':\n",
    "            model = SimpleExpSmoothing(group['Value'])\n",
    "            model=model.fit(smoothing_level=.5)\n",
    "            forecast=pd.DataFrame(model.forecast(3),index=ind)\n",
    "        elif metodo== 'HOLT':\n",
    "            model = Holt(group['Value']) \n",
    "            model = model.fit(optimized=True)\n",
    "            forecast=pd.DataFrame(model.forecast(3),index=ind)\n",
    "        elif metodo== 'ES_ajTend':\n",
    "            model = ExponentialSmoothing(group['Value'],trend='add', seasonal=None, damped=True)\n",
    "            model= model.fit()\n",
    "            forecast=pd.DataFrame(model.forecast(3),index=ind)\n",
    "        elif metodo=='ARIMAX':            \n",
    "            model=sm.tsa.statespace.SARIMAX(group['Value'],order=(1, 1, 1),exog=group['MARCACIONES'])\n",
    "            model=model.fit()\n",
    "            num_start=len(group['Value'])\n",
    "            forecast=pd.DataFrame(model.predict(start=num_start,end=num_start+2,exog=groupTest['MARCACIONES'],dynamic=True),index=ind)\n",
    "        elif metodo=='ARIMAX2':\n",
    "            model=auto_arima(group['Value'],trace=False,exogenous=group['MARCACIONES'].values.reshape(-1,1))\n",
    "            forecast= pd.DataFrame(model.predict(n_periods=3,exogenous=groupTest['MARCACIONES'].values.reshape(-1,1)),index=ind)\n",
    "        forecast.columns = ['pred']  \n",
    "        forecast['Nodo']=g\n",
    "        forecast['Metodo']=metodo\n",
    "        if i==0:\n",
    "            final=forecast\n",
    "        else:\n",
    "            final=final.append(forecast)     \n",
    "        \n",
    "        \n",
    "        if len(tempTest['Value'])==3:\n",
    "            #print(1)\n",
    "            RMSE=mean_squared_error(groupTest['Value'],forecast['pred'], squared=False)\n",
    "            MAPE=mean_absolute_percentage_error(groupTest['Value'],forecast['pred'])\n",
    "        else :\n",
    "            #print(2)\n",
    "            tempTest=groupTest.copy()\n",
    "            tempTest['pred2']=forecast['pred']    \n",
    "            RMSE=mean_squared_error(tempTest['Value'].values,tempTest['pred2'].values, squared=False)\n",
    "            MAPE=mean_absolute_percentage_error(tempTest['Value'].values,tempTest['pred2'].values) \n",
    "        # Errores\n",
    "        ## Medicion varios errores, seleccionar el que mejor se ajuste\n",
    "        #RMSE=mean_squared_error(tempTest['Value'].values,tempTest['pred2'].values, squared=False)\n",
    "        #MAPE=mean_absolute_percentage_error(tempTest['Value'].values,tempTest['pred2'].values)    \n",
    "        #RMSE=mean_squared_error(groupTest['Value'],forecast['pred'], squared=False)\n",
    "        #MAPE=mean_absolute_percentage_error(groupTest['Value'],forecast['pred'])    \n",
    "        dicNodo[metodo]=RMSE  \n",
    "        i=i+1\n",
    "    finalErrores[g]=dicNodo\n",
    "    "
   ]
  },
  {
   "cell_type": "markdown",
   "id": "a98916a0-4fa5-445f-a46e-1e30ed0015d0",
   "metadata": {},
   "source": [
    "* Velocidad de procesamiento:  200 Nodos x Minuto"
   ]
  },
  {
   "cell_type": "code",
   "execution_count": 753,
   "id": "72e6b54f",
   "metadata": {
    "scrolled": true
   },
   "outputs": [
    {
     "data": {
      "text/html": [
       "<div>\n",
       "<style scoped>\n",
       "    .dataframe tbody tr th:only-of-type {\n",
       "        vertical-align: middle;\n",
       "    }\n",
       "\n",
       "    .dataframe tbody tr th {\n",
       "        vertical-align: top;\n",
       "    }\n",
       "\n",
       "    .dataframe thead th {\n",
       "        text-align: right;\n",
       "    }\n",
       "</style>\n",
       "<table border=\"1\" class=\"dataframe\">\n",
       "  <thead>\n",
       "    <tr style=\"text-align: right;\">\n",
       "      <th></th>\n",
       "      <th>pred</th>\n",
       "      <th>Nodo</th>\n",
       "      <th>Metodo</th>\n",
       "    </tr>\n",
       "    <tr>\n",
       "      <th>FECHA</th>\n",
       "      <th></th>\n",
       "      <th></th>\n",
       "      <th></th>\n",
       "    </tr>\n",
       "  </thead>\n",
       "  <tbody>\n",
       "    <tr>\n",
       "      <th>2021-07-01</th>\n",
       "      <td>-0.318</td>\n",
       "      <td>01J</td>\n",
       "      <td>ARIMAX2</td>\n",
       "    </tr>\n",
       "    <tr>\n",
       "      <th>2021-08-01</th>\n",
       "      <td>-0.397</td>\n",
       "      <td>01J</td>\n",
       "      <td>ARIMAX2</td>\n",
       "    </tr>\n",
       "    <tr>\n",
       "      <th>2021-09-01</th>\n",
       "      <td>0.000</td>\n",
       "      <td>01J</td>\n",
       "      <td>ARIMAX2</td>\n",
       "    </tr>\n",
       "    <tr>\n",
       "      <th>2021-07-01</th>\n",
       "      <td>-3.694</td>\n",
       "      <td>01S</td>\n",
       "      <td>ARIMAX2</td>\n",
       "    </tr>\n",
       "    <tr>\n",
       "      <th>2021-08-01</th>\n",
       "      <td>-3.510</td>\n",
       "      <td>01S</td>\n",
       "      <td>ARIMAX2</td>\n",
       "    </tr>\n",
       "    <tr>\n",
       "      <th>2021-09-01</th>\n",
       "      <td>-3.027</td>\n",
       "      <td>01S</td>\n",
       "      <td>ARIMAX2</td>\n",
       "    </tr>\n",
       "    <tr>\n",
       "      <th>2021-07-01</th>\n",
       "      <td>-0.000</td>\n",
       "      <td>02J</td>\n",
       "      <td>ARIMAX2</td>\n",
       "    </tr>\n",
       "    <tr>\n",
       "      <th>2021-08-01</th>\n",
       "      <td>-0.000</td>\n",
       "      <td>02J</td>\n",
       "      <td>ARIMAX2</td>\n",
       "    </tr>\n",
       "    <tr>\n",
       "      <th>2021-09-01</th>\n",
       "      <td>0.000</td>\n",
       "      <td>02J</td>\n",
       "      <td>ARIMAX2</td>\n",
       "    </tr>\n",
       "    <tr>\n",
       "      <th>2021-07-01</th>\n",
       "      <td>-2.690</td>\n",
       "      <td>02S</td>\n",
       "      <td>ARIMAX2</td>\n",
       "    </tr>\n",
       "  </tbody>\n",
       "</table>\n",
       "</div>"
      ],
      "text/plain": [
       "             pred Nodo   Metodo\n",
       "FECHA                          \n",
       "2021-07-01 -0.318  01J  ARIMAX2\n",
       "2021-08-01 -0.397  01J  ARIMAX2\n",
       "2021-09-01  0.000  01J  ARIMAX2\n",
       "2021-07-01 -3.694  01S  ARIMAX2\n",
       "2021-08-01 -3.510  01S  ARIMAX2\n",
       "2021-09-01 -3.027  01S  ARIMAX2\n",
       "2021-07-01 -0.000  02J  ARIMAX2\n",
       "2021-08-01 -0.000  02J  ARIMAX2\n",
       "2021-09-01  0.000  02J  ARIMAX2\n",
       "2021-07-01 -2.690  02S  ARIMAX2"
      ]
     },
     "execution_count": 753,
     "metadata": {},
     "output_type": "execute_result"
    }
   ],
   "source": [
    "final[final['Metodo']=='ARIMAX2'].head(10)"
   ]
  },
  {
   "cell_type": "code",
   "execution_count": 754,
   "id": "1b9a06be",
   "metadata": {},
   "outputs": [
    {
     "data": {
      "text/plain": [
       "pred      0\n",
       "Nodo      0\n",
       "Metodo    0\n",
       "dtype: int64"
      ]
     },
     "execution_count": 754,
     "metadata": {},
     "output_type": "execute_result"
    }
   ],
   "source": [
    "final.isnull().sum()"
   ]
  },
  {
   "cell_type": "markdown",
   "id": "a2ccc925-9d45-4a8f-a5af-c4a586a04f93",
   "metadata": {},
   "source": [
    "* No tiene nullos"
   ]
  },
  {
   "cell_type": "markdown",
   "id": "7c5a51a1",
   "metadata": {},
   "source": [
    "## Selección mejor método por Nodo"
   ]
  },
  {
   "cell_type": "code",
   "execution_count": 755,
   "id": "99f69af4",
   "metadata": {},
   "outputs": [
    {
     "data": {
      "text/plain": [
       "['ARIMA', 'ES', 'HOLT', 'ES_ajTend', 'ARIMAX', 'ARIMAX2']"
      ]
     },
     "execution_count": 755,
     "metadata": {},
     "output_type": "execute_result"
    }
   ],
   "source": [
    "metodos"
   ]
  },
  {
   "cell_type": "code",
   "execution_count": 756,
   "id": "419c726d",
   "metadata": {},
   "outputs": [
    {
     "data": {
      "text/html": [
       "<div>\n",
       "<style scoped>\n",
       "    .dataframe tbody tr th:only-of-type {\n",
       "        vertical-align: middle;\n",
       "    }\n",
       "\n",
       "    .dataframe tbody tr th {\n",
       "        vertical-align: top;\n",
       "    }\n",
       "\n",
       "    .dataframe thead th {\n",
       "        text-align: right;\n",
       "    }\n",
       "</style>\n",
       "<table border=\"1\" class=\"dataframe\">\n",
       "  <thead>\n",
       "    <tr style=\"text-align: right;\">\n",
       "      <th></th>\n",
       "      <th>ARIMA</th>\n",
       "      <th>ES</th>\n",
       "      <th>HOLT</th>\n",
       "      <th>ES_ajTend</th>\n",
       "      <th>ARIMAX</th>\n",
       "      <th>ARIMAX2</th>\n",
       "    </tr>\n",
       "  </thead>\n",
       "  <tbody>\n",
       "    <tr>\n",
       "      <th>01J</th>\n",
       "      <td>1.761</td>\n",
       "      <td>1.250</td>\n",
       "      <td>2.708</td>\n",
       "      <td>2.693</td>\n",
       "      <td>1.778</td>\n",
       "      <td>1.776</td>\n",
       "    </tr>\n",
       "    <tr>\n",
       "      <th>01S</th>\n",
       "      <td>4.396</td>\n",
       "      <td>3.886</td>\n",
       "      <td>4.447</td>\n",
       "      <td>4.394</td>\n",
       "      <td>4.891</td>\n",
       "      <td>3.052</td>\n",
       "    </tr>\n",
       "    <tr>\n",
       "      <th>02J</th>\n",
       "      <td>1.732</td>\n",
       "      <td>1.732</td>\n",
       "      <td>1.732</td>\n",
       "      <td>1.732</td>\n",
       "      <td>1.732</td>\n",
       "      <td>1.732</td>\n",
       "    </tr>\n",
       "    <tr>\n",
       "      <th>02S</th>\n",
       "      <td>5.235</td>\n",
       "      <td>5.683</td>\n",
       "      <td>4.924</td>\n",
       "      <td>5.200</td>\n",
       "      <td>5.753</td>\n",
       "      <td>6.681</td>\n",
       "    </tr>\n",
       "    <tr>\n",
       "      <th>03J</th>\n",
       "      <td>1.772</td>\n",
       "      <td>1.728</td>\n",
       "      <td>10.197</td>\n",
       "      <td>7.464</td>\n",
       "      <td>7.506</td>\n",
       "      <td>1.996</td>\n",
       "    </tr>\n",
       "    <tr>\n",
       "      <th>04J</th>\n",
       "      <td>1.732</td>\n",
       "      <td>1.500</td>\n",
       "      <td>1.818</td>\n",
       "      <td>1.803</td>\n",
       "      <td>1.907</td>\n",
       "      <td>1.803</td>\n",
       "    </tr>\n",
       "    <tr>\n",
       "      <th>05J</th>\n",
       "      <td>2.544</td>\n",
       "      <td>4.499</td>\n",
       "      <td>8.678</td>\n",
       "      <td>7.635</td>\n",
       "      <td>6.635</td>\n",
       "      <td>4.490</td>\n",
       "    </tr>\n",
       "    <tr>\n",
       "      <th>06J</th>\n",
       "      <td>2.363</td>\n",
       "      <td>1.344</td>\n",
       "      <td>1.155</td>\n",
       "      <td>0.954</td>\n",
       "      <td>6.186</td>\n",
       "      <td>3.164</td>\n",
       "    </tr>\n",
       "    <tr>\n",
       "      <th>07J</th>\n",
       "      <td>0.705</td>\n",
       "      <td>1.248</td>\n",
       "      <td>1.514</td>\n",
       "      <td>1.433</td>\n",
       "      <td>0.640</td>\n",
       "      <td>0.668</td>\n",
       "    </tr>\n",
       "    <tr>\n",
       "      <th>09J</th>\n",
       "      <td>2.082</td>\n",
       "      <td>2.054</td>\n",
       "      <td>2.237</td>\n",
       "      <td>2.233</td>\n",
       "      <td>1.974</td>\n",
       "      <td>1.975</td>\n",
       "    </tr>\n",
       "  </tbody>\n",
       "</table>\n",
       "</div>"
      ],
      "text/plain": [
       "     ARIMA    ES   HOLT  ES_ajTend  ARIMAX  ARIMAX2\n",
       "01J  1.761 1.250  2.708      2.693   1.778    1.776\n",
       "01S  4.396 3.886  4.447      4.394   4.891    3.052\n",
       "02J  1.732 1.732  1.732      1.732   1.732    1.732\n",
       "02S  5.235 5.683  4.924      5.200   5.753    6.681\n",
       "03J  1.772 1.728 10.197      7.464   7.506    1.996\n",
       "04J  1.732 1.500  1.818      1.803   1.907    1.803\n",
       "05J  2.544 4.499  8.678      7.635   6.635    4.490\n",
       "06J  2.363 1.344  1.155      0.954   6.186    3.164\n",
       "07J  0.705 1.248  1.514      1.433   0.640    0.668\n",
       "09J  2.082 2.054  2.237      2.233   1.974    1.975"
      ]
     },
     "execution_count": 756,
     "metadata": {},
     "output_type": "execute_result"
    }
   ],
   "source": [
    "dfFinalErrores=pd.DataFrame.from_dict(finalErrores,orient='index')\n",
    "dfFinalErrores.head(10)"
   ]
  },
  {
   "cell_type": "code",
   "execution_count": 757,
   "id": "5dfc9483",
   "metadata": {},
   "outputs": [
    {
     "data": {
      "text/plain": [
       "[1.2499151844992582,\n",
       " 3.0521461561038983,\n",
       " 1.732046462126798,\n",
       " 4.924032984496986,\n",
       " 1.7275610710933966,\n",
       " 1.5003666580814592,\n",
       " 2.5440562537456235,\n",
       " 0.9541010323927027,\n",
       " 0.6396623912794924,\n",
       " 1.973761222295397]"
      ]
     },
     "execution_count": 757,
     "metadata": {},
     "output_type": "execute_result"
    }
   ],
   "source": [
    "minError=list(dfFinalErrores.min(axis=1).values)\n",
    "minError[:10]"
   ]
  },
  {
   "cell_type": "code",
   "execution_count": 1,
   "id": "2dc7103d",
   "metadata": {},
   "outputs": [
    {
     "ename": "NameError",
     "evalue": "name 'np' is not defined",
     "output_type": "error",
     "traceback": [
      "\u001b[1;31m---------------------------------------------------------------------------\u001b[0m",
      "\u001b[1;31mNameError\u001b[0m                                 Traceback (most recent call last)",
      "\u001b[1;32m<ipython-input-1-50586d8d3c96>\u001b[0m in \u001b[0;36m<module>\u001b[1;34m\u001b[0m\n\u001b[1;32m----> 1\u001b[1;33m \u001b[0mmodeloSeleccionado\u001b[0m\u001b[1;33m=\u001b[0m\u001b[1;33m[\u001b[0m\u001b[0mnp\u001b[0m\u001b[1;33m.\u001b[0m\u001b[0mnan\u001b[0m\u001b[1;33m]\u001b[0m\u001b[1;33m*\u001b[0m\u001b[0mlen\u001b[0m\u001b[1;33m(\u001b[0m\u001b[0mdfFinalErrores\u001b[0m\u001b[1;33m)\u001b[0m\u001b[1;33m\u001b[0m\u001b[1;33m\u001b[0m\u001b[0m\n\u001b[0m\u001b[0;32m      2\u001b[0m \u001b[0mi\u001b[0m\u001b[1;33m=\u001b[0m\u001b[1;36m0\u001b[0m\u001b[1;33m\u001b[0m\u001b[1;33m\u001b[0m\u001b[0m\n\u001b[0;32m      3\u001b[0m \u001b[1;32mfor\u001b[0m \u001b[0mindx\u001b[0m\u001b[1;33m,\u001b[0m\u001b[0mrow\u001b[0m \u001b[1;32min\u001b[0m \u001b[0mdfFinalErrores\u001b[0m\u001b[1;33m.\u001b[0m\u001b[0miterrows\u001b[0m\u001b[1;33m(\u001b[0m\u001b[1;33m)\u001b[0m\u001b[1;33m:\u001b[0m\u001b[1;33m\u001b[0m\u001b[1;33m\u001b[0m\u001b[0m\n\u001b[0;32m      4\u001b[0m     \u001b[0mauxRow\u001b[0m\u001b[1;33m=\u001b[0m\u001b[0mlist\u001b[0m\u001b[1;33m(\u001b[0m\u001b[0mrow\u001b[0m\u001b[1;33m.\u001b[0m\u001b[0mvalues\u001b[0m\u001b[1;33m)\u001b[0m\u001b[1;33m\u001b[0m\u001b[1;33m\u001b[0m\u001b[0m\n\u001b[0;32m      5\u001b[0m     \u001b[0mauxInd\u001b[0m\u001b[1;33m=\u001b[0m\u001b[0mauxRow\u001b[0m\u001b[1;33m.\u001b[0m\u001b[0mindex\u001b[0m\u001b[1;33m(\u001b[0m\u001b[0mminError\u001b[0m\u001b[1;33m[\u001b[0m\u001b[0mi\u001b[0m\u001b[1;33m]\u001b[0m\u001b[1;33m)\u001b[0m\u001b[1;33m\u001b[0m\u001b[1;33m\u001b[0m\u001b[0m\n",
      "\u001b[1;31mNameError\u001b[0m: name 'np' is not defined"
     ]
    }
   ],
   "source": [
    "modeloSeleccionado=[np.nan]*len(dfFinalErrores)\n",
    "i=0\n",
    "for indx,row in dfFinalErrores.iterrows():\n",
    "    auxRow=list(row.values)\n",
    "    auxInd=auxRow.index(minError[i])\n",
    "    modeloSeleccionado[i]=metodos[auxInd]\n",
    "    #print(auxRow)\n",
    "    i=i+1"
   ]
  },
  {
   "cell_type": "code",
   "execution_count": 759,
   "id": "cafb2632",
   "metadata": {},
   "outputs": [
    {
     "data": {
      "text/plain": [
       "['ES',\n",
       " 'ARIMAX2',\n",
       " 'ARIMAX2',\n",
       " 'HOLT',\n",
       " 'ES',\n",
       " 'ES',\n",
       " 'ARIMA',\n",
       " 'ES_ajTend',\n",
       " 'ARIMAX',\n",
       " 'ARIMAX']"
      ]
     },
     "execution_count": 759,
     "metadata": {},
     "output_type": "execute_result"
    }
   ],
   "source": [
    "modeloSeleccionado[:10]"
   ]
  },
  {
   "cell_type": "code",
   "execution_count": 760,
   "id": "d7c256d1",
   "metadata": {},
   "outputs": [],
   "source": [
    "dfFinalErrores['seleccion']=modeloSeleccionado"
   ]
  },
  {
   "cell_type": "code",
   "execution_count": 761,
   "id": "61efe30f-0c28-42fe-acbe-f56416c2d192",
   "metadata": {},
   "outputs": [],
   "source": [
    "dfFinalErrores['errorMin']=minError"
   ]
  },
  {
   "cell_type": "code",
   "execution_count": 762,
   "id": "db47e9f5",
   "metadata": {},
   "outputs": [
    {
     "data": {
      "text/html": [
       "<div>\n",
       "<style scoped>\n",
       "    .dataframe tbody tr th:only-of-type {\n",
       "        vertical-align: middle;\n",
       "    }\n",
       "\n",
       "    .dataframe tbody tr th {\n",
       "        vertical-align: top;\n",
       "    }\n",
       "\n",
       "    .dataframe thead th {\n",
       "        text-align: right;\n",
       "    }\n",
       "</style>\n",
       "<table border=\"1\" class=\"dataframe\">\n",
       "  <thead>\n",
       "    <tr style=\"text-align: right;\">\n",
       "      <th></th>\n",
       "      <th>ARIMA</th>\n",
       "      <th>ES</th>\n",
       "      <th>HOLT</th>\n",
       "      <th>ES_ajTend</th>\n",
       "      <th>ARIMAX</th>\n",
       "      <th>ARIMAX2</th>\n",
       "      <th>seleccion</th>\n",
       "      <th>errorMin</th>\n",
       "    </tr>\n",
       "  </thead>\n",
       "  <tbody>\n",
       "    <tr>\n",
       "      <th>01J</th>\n",
       "      <td>1.761</td>\n",
       "      <td>1.250</td>\n",
       "      <td>2.708</td>\n",
       "      <td>2.693</td>\n",
       "      <td>1.778</td>\n",
       "      <td>1.776</td>\n",
       "      <td>ES</td>\n",
       "      <td>1.250</td>\n",
       "    </tr>\n",
       "    <tr>\n",
       "      <th>01S</th>\n",
       "      <td>4.396</td>\n",
       "      <td>3.886</td>\n",
       "      <td>4.447</td>\n",
       "      <td>4.394</td>\n",
       "      <td>4.891</td>\n",
       "      <td>3.052</td>\n",
       "      <td>ARIMAX2</td>\n",
       "      <td>3.052</td>\n",
       "    </tr>\n",
       "    <tr>\n",
       "      <th>02J</th>\n",
       "      <td>1.732</td>\n",
       "      <td>1.732</td>\n",
       "      <td>1.732</td>\n",
       "      <td>1.732</td>\n",
       "      <td>1.732</td>\n",
       "      <td>1.732</td>\n",
       "      <td>ARIMAX2</td>\n",
       "      <td>1.732</td>\n",
       "    </tr>\n",
       "    <tr>\n",
       "      <th>02S</th>\n",
       "      <td>5.235</td>\n",
       "      <td>5.683</td>\n",
       "      <td>4.924</td>\n",
       "      <td>5.200</td>\n",
       "      <td>5.753</td>\n",
       "      <td>6.681</td>\n",
       "      <td>HOLT</td>\n",
       "      <td>4.924</td>\n",
       "    </tr>\n",
       "    <tr>\n",
       "      <th>03J</th>\n",
       "      <td>1.772</td>\n",
       "      <td>1.728</td>\n",
       "      <td>10.197</td>\n",
       "      <td>7.464</td>\n",
       "      <td>7.506</td>\n",
       "      <td>1.996</td>\n",
       "      <td>ES</td>\n",
       "      <td>1.728</td>\n",
       "    </tr>\n",
       "    <tr>\n",
       "      <th>04J</th>\n",
       "      <td>1.732</td>\n",
       "      <td>1.500</td>\n",
       "      <td>1.818</td>\n",
       "      <td>1.803</td>\n",
       "      <td>1.907</td>\n",
       "      <td>1.803</td>\n",
       "      <td>ES</td>\n",
       "      <td>1.500</td>\n",
       "    </tr>\n",
       "    <tr>\n",
       "      <th>05J</th>\n",
       "      <td>2.544</td>\n",
       "      <td>4.499</td>\n",
       "      <td>8.678</td>\n",
       "      <td>7.635</td>\n",
       "      <td>6.635</td>\n",
       "      <td>4.490</td>\n",
       "      <td>ARIMA</td>\n",
       "      <td>2.544</td>\n",
       "    </tr>\n",
       "    <tr>\n",
       "      <th>06J</th>\n",
       "      <td>2.363</td>\n",
       "      <td>1.344</td>\n",
       "      <td>1.155</td>\n",
       "      <td>0.954</td>\n",
       "      <td>6.186</td>\n",
       "      <td>3.164</td>\n",
       "      <td>ES_ajTend</td>\n",
       "      <td>0.954</td>\n",
       "    </tr>\n",
       "    <tr>\n",
       "      <th>07J</th>\n",
       "      <td>0.705</td>\n",
       "      <td>1.248</td>\n",
       "      <td>1.514</td>\n",
       "      <td>1.433</td>\n",
       "      <td>0.640</td>\n",
       "      <td>0.668</td>\n",
       "      <td>ARIMAX</td>\n",
       "      <td>0.640</td>\n",
       "    </tr>\n",
       "    <tr>\n",
       "      <th>09J</th>\n",
       "      <td>2.082</td>\n",
       "      <td>2.054</td>\n",
       "      <td>2.237</td>\n",
       "      <td>2.233</td>\n",
       "      <td>1.974</td>\n",
       "      <td>1.975</td>\n",
       "      <td>ARIMAX</td>\n",
       "      <td>1.974</td>\n",
       "    </tr>\n",
       "  </tbody>\n",
       "</table>\n",
       "</div>"
      ],
      "text/plain": [
       "     ARIMA    ES   HOLT  ES_ajTend  ARIMAX  ARIMAX2  seleccion  errorMin\n",
       "01J  1.761 1.250  2.708      2.693   1.778    1.776         ES     1.250\n",
       "01S  4.396 3.886  4.447      4.394   4.891    3.052    ARIMAX2     3.052\n",
       "02J  1.732 1.732  1.732      1.732   1.732    1.732    ARIMAX2     1.732\n",
       "02S  5.235 5.683  4.924      5.200   5.753    6.681       HOLT     4.924\n",
       "03J  1.772 1.728 10.197      7.464   7.506    1.996         ES     1.728\n",
       "04J  1.732 1.500  1.818      1.803   1.907    1.803         ES     1.500\n",
       "05J  2.544 4.499  8.678      7.635   6.635    4.490      ARIMA     2.544\n",
       "06J  2.363 1.344  1.155      0.954   6.186    3.164  ES_ajTend     0.954\n",
       "07J  0.705 1.248  1.514      1.433   0.640    0.668     ARIMAX     0.640\n",
       "09J  2.082 2.054  2.237      2.233   1.974    1.975     ARIMAX     1.974"
      ]
     },
     "execution_count": 762,
     "metadata": {},
     "output_type": "execute_result"
    }
   ],
   "source": [
    "dfFinalErrores.head(10)"
   ]
  },
  {
   "cell_type": "code",
   "execution_count": 763,
   "id": "24bbab35-dfdd-4b16-a883-e1943a36351a",
   "metadata": {},
   "outputs": [
    {
     "data": {
      "text/plain": [
       "ARIMA        304\n",
       "ES           199\n",
       "ARIMAX       144\n",
       "ARIMAX2      133\n",
       "HOLT         120\n",
       "ES_ajTend    101\n",
       "Name: seleccion, dtype: int64"
      ]
     },
     "execution_count": 763,
     "metadata": {},
     "output_type": "execute_result"
    }
   ],
   "source": [
    "dfFinalErrores['seleccion'].value_counts()"
   ]
  },
  {
   "cell_type": "markdown",
   "id": "73de2e8a",
   "metadata": {},
   "source": [
    "## Predicción Final"
   ]
  },
  {
   "cell_type": "code",
   "execution_count": 764,
   "id": "908f0a15",
   "metadata": {},
   "outputs": [
    {
     "data": {
      "text/plain": [
       "DatetimeIndex(['2021-10-01', '2021-11-01', '2021-12-01'], dtype='datetime64[ns]', name='FECHA', freq='MS')"
      ]
     },
     "execution_count": 764,
     "metadata": {},
     "output_type": "execute_result"
    }
   ],
   "source": [
    "ind_P = pd.date_range(fechaMaxima, periods = 4, freq ='MS', name='FECHA')[1:]\n",
    "ind_P"
   ]
  },
  {
   "cell_type": "code",
   "execution_count": 765,
   "id": "80afcdce",
   "metadata": {},
   "outputs": [],
   "source": [
    "finalPrediccionesFuturas = pd.DataFrame()\n",
    "groupedPred =TablaFinal[['Nodo','Value','MARCACIONES']].groupby('Nodo')"
   ]
  },
  {
   "cell_type": "code",
   "execution_count": 766,
   "id": "cb4db24a-c02a-4e19-b909-2d7899c2f2e8",
   "metadata": {},
   "outputs": [
    {
     "data": {
      "text/plain": [
       "[4, 5, 6]"
      ]
     },
     "execution_count": 766,
     "metadata": {},
     "output_type": "execute_result"
    }
   ],
   "source": [
    "p=[1,2,3,4,5,6]\n",
    "#np.tile(p,3)\n",
    "p[-3:]\n",
    "#p.reshape(-1,1)"
   ]
  },
  {
   "cell_type": "code",
   "execution_count": 767,
   "id": "5c0cbb13",
   "metadata": {
    "scrolled": true,
    "tags": []
   },
   "outputs": [
    {
     "name": "stdout",
     "output_type": "stream",
     "text": [
      "0\n",
      "10\n",
      "20\n",
      "30\n",
      "40\n",
      "50\n",
      "60\n",
      "70\n",
      "80\n",
      "90\n",
      "100\n",
      "110\n",
      "120\n",
      "130\n",
      "140\n",
      "150\n",
      "160\n",
      "170\n",
      "180\n",
      "190\n",
      "200\n",
      "210\n",
      "220\n",
      "230\n",
      "240\n",
      "250\n",
      "260\n",
      "270\n",
      "280\n",
      "290\n",
      "300\n",
      "310\n",
      "320\n",
      "330\n",
      "340\n",
      "350\n",
      "360\n",
      "370\n",
      "380\n",
      "390\n",
      "400\n",
      "410\n",
      "420\n",
      "430\n",
      "440\n",
      "450\n",
      "460\n",
      "470\n",
      "480\n",
      "490\n",
      "500\n",
      "510\n",
      "520\n",
      "530\n",
      "540\n",
      "550\n",
      "560\n",
      "570\n",
      "580\n",
      "590\n",
      "600\n",
      "610\n",
      "620\n",
      "630\n",
      "640\n",
      "650\n",
      "660\n",
      "670\n",
      "680\n",
      "690\n",
      "700\n",
      "710\n",
      "720\n",
      "730\n",
      "740\n",
      "750\n",
      "760\n",
      "770\n",
      "780\n",
      "790\n",
      "800\n",
      "810\n",
      "820\n",
      "830\n",
      "840\n",
      "850\n",
      "860\n",
      "870\n",
      "880\n",
      "890\n",
      "900\n",
      "910\n",
      "920\n",
      "930\n",
      "940\n",
      "950\n",
      "960\n",
      "970\n",
      "980\n",
      "990\n",
      "1000\n"
     ]
    }
   ],
   "source": [
    "i=0\n",
    "for g in groupedPred.groups:\n",
    "    if i>numeroNodos:\n",
    "        continue\n",
    "    if i%10==0:\n",
    "        print(i)    \n",
    "    group = groupedPred.get_group(g)        \n",
    "    mejorMetodo=dfFinalErrores.loc[g,'seleccion']\n",
    "    #print(mejorMetodo)\n",
    "    #metodo=dicMetodos[g][mejorMetodo]\n",
    "    #forecast=model.predict(group['Value'])\n",
    "    if mejorMetodo== 'ARIMA':\n",
    "        model=auto_arima(group['Value'],trace=False)\n",
    "        model.fit(group['Value'])  \n",
    "        forecast=pd.DataFrame(model.predict(n_periods = 3),index=ind_P)\n",
    "    elif mejorMetodo== 'ES':\n",
    "        model = SimpleExpSmoothing(group['Value'])\n",
    "        model=model.fit(smoothing_level=.5)\n",
    "        forecast=pd.DataFrame(model.forecast(3),index=ind_P)\n",
    "    elif mejorMetodo== 'HOLT':\n",
    "        model = Holt(group['Value']) \n",
    "        model = model.fit(optimized=True)\n",
    "        forecast=pd.DataFrame(model.forecast(3),index=ind_P)\n",
    "    elif mejorMetodo== 'ES_ajTend':\n",
    "        model = ExponentialSmoothing(group['Value'],trend='add', seasonal=None, damped=True)\n",
    "        model= model.fit()\n",
    "        forecast=pd.DataFrame(model.forecast(3),index=ind_P)\n",
    "    elif mejorMetodo=='ARIMAX':        \n",
    "        model=sm.tsa.statespace.SARIMAX(group['Value'],order=(1, 1, 1),exog=group['MARCACIONES'])\n",
    "        model=model.fit()            \n",
    "        num_start=len(group['Value'])\n",
    "        forecast=pd.DataFrame(model.predict(start=num_start,end=num_start+2,exog=group['MARCACIONES'].values[-3:],dynamic=True),index=ind_P)\n",
    "        #forecast=pd.DataFrame(results.predict(n_periods = 3,dynamic=True),index=ind_P)\n",
    "    elif metodo=='ARIMAX2':\n",
    "            model=auto_arima(group['Value'],trace=False,exogenous=group['MARCACIONES'].values.reshape(-1,1))\n",
    "            forecast= pd.DataFrame(model.predict(n_periods=3,exogenous=group['MARCACIONES'].values[-3:].reshape(-1,1)),index=ind_P)\n",
    "    \n",
    "    forecast.columns = ['pred'] \n",
    "    forecast['Nodo']=g\n",
    "    forecast['Metodo']=mejorMetodo\n",
    "\n",
    "    if i==0:\n",
    "        finalPrediccionesFuturas=forecast\n",
    "    else:\n",
    "        finalPrediccionesFuturas=finalPrediccionesFuturas.append(forecast) \n",
    "    i=i+1\n",
    "        "
   ]
  },
  {
   "cell_type": "code",
   "execution_count": 768,
   "id": "037ac24d-a3c0-4c8f-8309-1c6cab6634de",
   "metadata": {},
   "outputs": [],
   "source": [
    "#Reemplazar positivos por cero\n",
    "finalPrediccionesFuturas['pred']=np.where(finalPrediccionesFuturas['pred']>0,0,finalPrediccionesFuturas['pred'])"
   ]
  },
  {
   "cell_type": "markdown",
   "id": "5c575812-c0d9-4ae0-ac32-d39cb6d34feb",
   "metadata": {},
   "source": [
    "*  Velocidad de procesamiento 650 por minuto"
   ]
  },
  {
   "cell_type": "code",
   "execution_count": 769,
   "id": "21cbe21b",
   "metadata": {},
   "outputs": [
    {
     "data": {
      "text/html": [
       "<div>\n",
       "<style scoped>\n",
       "    .dataframe tbody tr th:only-of-type {\n",
       "        vertical-align: middle;\n",
       "    }\n",
       "\n",
       "    .dataframe tbody tr th {\n",
       "        vertical-align: top;\n",
       "    }\n",
       "\n",
       "    .dataframe thead th {\n",
       "        text-align: right;\n",
       "    }\n",
       "</style>\n",
       "<table border=\"1\" class=\"dataframe\">\n",
       "  <thead>\n",
       "    <tr style=\"text-align: right;\">\n",
       "      <th></th>\n",
       "      <th>pred</th>\n",
       "      <th>Nodo</th>\n",
       "      <th>Metodo</th>\n",
       "    </tr>\n",
       "    <tr>\n",
       "      <th>FECHA</th>\n",
       "      <th></th>\n",
       "      <th></th>\n",
       "      <th></th>\n",
       "    </tr>\n",
       "  </thead>\n",
       "  <tbody>\n",
       "    <tr>\n",
       "      <th>2021-11-01</th>\n",
       "      <td>-1.923</td>\n",
       "      <td>20T</td>\n",
       "      <td>ARIMA</td>\n",
       "    </tr>\n",
       "    <tr>\n",
       "      <th>2021-12-01</th>\n",
       "      <td>-17.444</td>\n",
       "      <td>12D</td>\n",
       "      <td>ARIMA</td>\n",
       "    </tr>\n",
       "    <tr>\n",
       "      <th>2021-11-01</th>\n",
       "      <td>-9.668</td>\n",
       "      <td>2C4011</td>\n",
       "      <td>ES</td>\n",
       "    </tr>\n",
       "    <tr>\n",
       "      <th>2021-12-01</th>\n",
       "      <td>-1.479</td>\n",
       "      <td>1A6013</td>\n",
       "      <td>ARIMAX2</td>\n",
       "    </tr>\n",
       "    <tr>\n",
       "      <th>2021-10-01</th>\n",
       "      <td>-2.105</td>\n",
       "      <td>2A1012</td>\n",
       "      <td>HOLT</td>\n",
       "    </tr>\n",
       "    <tr>\n",
       "      <th>2021-12-01</th>\n",
       "      <td>-2.316</td>\n",
       "      <td>1A3013</td>\n",
       "      <td>ARIMAX2</td>\n",
       "    </tr>\n",
       "    <tr>\n",
       "      <th>2021-11-01</th>\n",
       "      <td>-3.305</td>\n",
       "      <td>28P</td>\n",
       "      <td>ES</td>\n",
       "    </tr>\n",
       "    <tr>\n",
       "      <th>2021-11-01</th>\n",
       "      <td>-10.544</td>\n",
       "      <td>2AE1</td>\n",
       "      <td>HOLT</td>\n",
       "    </tr>\n",
       "    <tr>\n",
       "      <th>2021-12-01</th>\n",
       "      <td>-0.000</td>\n",
       "      <td>1PO</td>\n",
       "      <td>ARIMAX2</td>\n",
       "    </tr>\n",
       "    <tr>\n",
       "      <th>2021-11-01</th>\n",
       "      <td>-0.816</td>\n",
       "      <td>103D</td>\n",
       "      <td>ES_ajTend</td>\n",
       "    </tr>\n",
       "  </tbody>\n",
       "</table>\n",
       "</div>"
      ],
      "text/plain": [
       "              pred    Nodo     Metodo\n",
       "FECHA                                \n",
       "2021-11-01  -1.923     20T      ARIMA\n",
       "2021-12-01 -17.444     12D      ARIMA\n",
       "2021-11-01  -9.668  2C4011         ES\n",
       "2021-12-01  -1.479  1A6013    ARIMAX2\n",
       "2021-10-01  -2.105  2A1012       HOLT\n",
       "2021-12-01  -2.316  1A3013    ARIMAX2\n",
       "2021-11-01  -3.305     28P         ES\n",
       "2021-11-01 -10.544    2AE1       HOLT\n",
       "2021-12-01  -0.000     1PO    ARIMAX2\n",
       "2021-11-01  -0.816    103D  ES_ajTend"
      ]
     },
     "execution_count": 769,
     "metadata": {},
     "output_type": "execute_result"
    }
   ],
   "source": [
    "finalPrediccionesFuturas.sample(10)"
   ]
  },
  {
   "cell_type": "code",
   "execution_count": 770,
   "id": "38bf49c4-c575-4a05-86f4-aa04649fdb55",
   "metadata": {},
   "outputs": [
    {
     "data": {
      "text/html": [
       "<div>\n",
       "<style scoped>\n",
       "    .dataframe tbody tr th:only-of-type {\n",
       "        vertical-align: middle;\n",
       "    }\n",
       "\n",
       "    .dataframe tbody tr th {\n",
       "        vertical-align: top;\n",
       "    }\n",
       "\n",
       "    .dataframe thead th {\n",
       "        text-align: right;\n",
       "    }\n",
       "</style>\n",
       "<table border=\"1\" class=\"dataframe\">\n",
       "  <thead>\n",
       "    <tr style=\"text-align: right;\">\n",
       "      <th></th>\n",
       "      <th>FECHA</th>\n",
       "      <th>pred</th>\n",
       "      <th>Nodo</th>\n",
       "      <th>Metodo</th>\n",
       "      <th>E_distrito</th>\n",
       "    </tr>\n",
       "  </thead>\n",
       "  <tbody>\n",
       "    <tr>\n",
       "      <th>0</th>\n",
       "      <td>2021-10-01</td>\n",
       "      <td>-1.906</td>\n",
       "      <td>01J</td>\n",
       "      <td>ES</td>\n",
       "      <td>CORDOBA SUCRE DISTRITO 3</td>\n",
       "    </tr>\n",
       "    <tr>\n",
       "      <th>1</th>\n",
       "      <td>2021-11-01</td>\n",
       "      <td>-1.906</td>\n",
       "      <td>01J</td>\n",
       "      <td>ES</td>\n",
       "      <td>CORDOBA SUCRE DISTRITO 3</td>\n",
       "    </tr>\n",
       "    <tr>\n",
       "      <th>2</th>\n",
       "      <td>2021-12-01</td>\n",
       "      <td>-1.906</td>\n",
       "      <td>01J</td>\n",
       "      <td>ES</td>\n",
       "      <td>CORDOBA SUCRE DISTRITO 3</td>\n",
       "    </tr>\n",
       "    <tr>\n",
       "      <th>3</th>\n",
       "      <td>2021-10-01</td>\n",
       "      <td>-5.125</td>\n",
       "      <td>01S</td>\n",
       "      <td>ARIMAX2</td>\n",
       "      <td>GAITANA</td>\n",
       "    </tr>\n",
       "    <tr>\n",
       "      <th>4</th>\n",
       "      <td>2021-11-01</td>\n",
       "      <td>-5.461</td>\n",
       "      <td>01S</td>\n",
       "      <td>ARIMAX2</td>\n",
       "      <td>GAITANA</td>\n",
       "    </tr>\n",
       "  </tbody>\n",
       "</table>\n",
       "</div>"
      ],
      "text/plain": [
       "       FECHA   pred Nodo   Metodo                E_distrito\n",
       "0 2021-10-01 -1.906  01J       ES  CORDOBA SUCRE DISTRITO 3\n",
       "1 2021-11-01 -1.906  01J       ES  CORDOBA SUCRE DISTRITO 3\n",
       "2 2021-12-01 -1.906  01J       ES  CORDOBA SUCRE DISTRITO 3\n",
       "3 2021-10-01 -5.125  01S  ARIMAX2                   GAITANA\n",
       "4 2021-11-01 -5.461  01S  ARIMAX2                   GAITANA"
      ]
     },
     "execution_count": 770,
     "metadata": {},
     "output_type": "execute_result"
    }
   ],
   "source": [
    "resultadoFinal=finalPrediccionesFuturas.reset_index().merge(maestroNodo,left_on='Nodo',right_on='Nodo',how='left')\n",
    "resultadoFinal.head(5)"
   ]
  },
  {
   "cell_type": "code",
   "execution_count": 771,
   "id": "66947d87-6f1a-4f15-8933-3761bbab7bce",
   "metadata": {},
   "outputs": [],
   "source": [
    "resultadoFinal.to_csv('resultadoPrediciones.csv')"
   ]
  },
  {
   "cell_type": "markdown",
   "id": "266e069b",
   "metadata": {},
   "source": [
    "## Visualizar Resultado Nodo"
   ]
  },
  {
   "cell_type": "code",
   "execution_count": 772,
   "id": "fd9c558a",
   "metadata": {},
   "outputs": [],
   "source": [
    "def visualNodo(nodo):\n",
    "    print(finalErrores[nodo])\n",
    "    dfNodo_real=TablaFinal[TablaFinal['Nodo']==nodo][['Value']]\n",
    "    dfNodo=final[final['Nodo']==nodo]\n",
    "    dfNodo= pd.pivot_table(dfNodo.reset_index(), index='FECHA', columns='Metodo', values='pred')    \n",
    "    dfNodo_real=dfNodo_real.merge(dfNodo,left_index=True, right_index=True, how='left')\n",
    "    dfPrediciciones=finalPrediccionesFuturas[finalPrediccionesFuturas['Nodo']==nodo]\n",
    "    metodoSel=dfPrediciciones['Metodo'].unique()[0]\n",
    "    dfPrediciciones.rename(columns={'pred':'pred_'+metodoSel},inplace=True)   \n",
    "    dfNodo_real.merge(dfPrediciciones[['pred_'+metodoSel]],left_index=True, right_index=True,how='outer').plot()"
   ]
  },
  {
   "cell_type": "code",
   "execution_count": 773,
   "id": "6b60286a",
   "metadata": {},
   "outputs": [
    {
     "name": "stdout",
     "output_type": "stream",
     "text": [
      "{'ARIMA': 4.396469142839345, 'ES': 3.885508778873608, 'HOLT': 4.446972344203709, 'ES_ajTend': 4.393707471967025, 'ARIMAX': 4.890938144376631, 'ARIMAX2': 3.0521461561038983}\n"
     ]
    },
    {
     "data": {
      "image/png": "[encoded data removed]",
      "text/plain": [
       "<Figure size 432x288 with 1 Axes>"
      ]
     },
     "metadata": {
      "needs_background": "light"
     },
     "output_type": "display_data"
    }
   ],
   "source": [
    "visualNodo('01S')"
   ]
  },
  {
   "cell_type": "markdown",
   "id": "950088c0-97e4-4978-8d88-69724d9b9081",
   "metadata": {},
   "source": [
    "## Descripción del Resultado"
   ]
  },
  {
   "cell_type": "code",
   "execution_count": 774,
   "id": "9a792bf8-0d51-40cd-bd7e-c8279212b0ab",
   "metadata": {},
   "outputs": [
    {
     "data": {
      "text/plain": [
       "ARIMA       304.000\n",
       "ES          199.000\n",
       "ARIMAX      144.000\n",
       "ARIMAX2     133.000\n",
       "HOLT        120.000\n",
       "ES_ajTend   101.000\n",
       "Name: Metodo, dtype: float64"
      ]
     },
     "execution_count": 774,
     "metadata": {},
     "output_type": "execute_result"
    }
   ],
   "source": [
    "finalPrediccionesFuturas['Metodo'].value_counts()/3"
   ]
  },
  {
   "cell_type": "code",
   "execution_count": 775,
   "id": "ce31cc2a-4625-40a8-8c8b-ebdd2b629539",
   "metadata": {},
   "outputs": [
    {
     "data": {
      "image/png": "[encoded data removed]",
      "text/plain": [
       "<Figure size 432x288 with 1 Axes>"
      ]
     },
     "metadata": {},
     "output_type": "display_data"
    }
   ],
   "source": [
    "pieChart(finalPrediccionesFuturas['Metodo'])"
   ]
  },
  {
   "cell_type": "code",
   "execution_count": 776,
   "id": "3f160d8f-e3d2-4593-8ff5-abe657a0ccd6",
   "metadata": {},
   "outputs": [
    {
     "data": {
      "text/plain": [
       "<AxesSubplot:>"
      ]
     },
     "execution_count": 776,
     "metadata": {},
     "output_type": "execute_result"
    },
    {
     "data": {
      "image/png": "[encoded data removed]",
      "text/plain": [
       "<Figure size 432x288 with 1 Axes>"
      ]
     },
     "metadata": {
      "needs_background": "light"
     },
     "output_type": "display_data"
    }
   ],
   "source": [
    "dfFinalErrores['errorMin'].hist()"
   ]
  },
  {
   "cell_type": "code",
   "execution_count": 777,
   "id": "a061285e-b393-445e-88ae-f5971ca62c7c",
   "metadata": {},
   "outputs": [],
   "source": [
    "maxBin=dfFinalErrores['errorMin'].max()\n",
    "bins=[0,1,2,5,10,20,maxBin]"
   ]
  },
  {
   "cell_type": "code",
   "execution_count": 778,
   "id": "68e78917-9450-4162-a36a-958fa3c1e843",
   "metadata": {},
   "outputs": [],
   "source": [
    "dfFinalErrores['binError']=pd.cut((dfFinalErrores['errorMin']),bins=np.sort(bins),right=True)"
   ]
  },
  {
   "cell_type": "code",
   "execution_count": 779,
   "id": "3ed92444-4fdd-4fc4-9a13-b3d847346739",
   "metadata": {},
   "outputs": [
    {
     "data": {
      "text/html": [
       "<div>\n",
       "<style scoped>\n",
       "    .dataframe tbody tr th:only-of-type {\n",
       "        vertical-align: middle;\n",
       "    }\n",
       "\n",
       "    .dataframe tbody tr th {\n",
       "        vertical-align: top;\n",
       "    }\n",
       "\n",
       "    .dataframe thead th {\n",
       "        text-align: right;\n",
       "    }\n",
       "</style>\n",
       "<table border=\"1\" class=\"dataframe\">\n",
       "  <thead>\n",
       "    <tr style=\"text-align: right;\">\n",
       "      <th></th>\n",
       "      <th>ARIMA</th>\n",
       "      <th>ES</th>\n",
       "      <th>HOLT</th>\n",
       "      <th>ES_ajTend</th>\n",
       "      <th>ARIMAX</th>\n",
       "      <th>ARIMAX2</th>\n",
       "      <th>seleccion</th>\n",
       "      <th>errorMin</th>\n",
       "      <th>binError</th>\n",
       "    </tr>\n",
       "  </thead>\n",
       "  <tbody>\n",
       "    <tr>\n",
       "      <th>01J</th>\n",
       "      <td>1.761</td>\n",
       "      <td>1.250</td>\n",
       "      <td>2.708</td>\n",
       "      <td>2.693</td>\n",
       "      <td>1.778</td>\n",
       "      <td>1.776</td>\n",
       "      <td>ES</td>\n",
       "      <td>1.250</td>\n",
       "      <td>(1.0, 2.0]</td>\n",
       "    </tr>\n",
       "    <tr>\n",
       "      <th>01S</th>\n",
       "      <td>4.396</td>\n",
       "      <td>3.886</td>\n",
       "      <td>4.447</td>\n",
       "      <td>4.394</td>\n",
       "      <td>4.891</td>\n",
       "      <td>3.052</td>\n",
       "      <td>ARIMAX2</td>\n",
       "      <td>3.052</td>\n",
       "      <td>(2.0, 5.0]</td>\n",
       "    </tr>\n",
       "    <tr>\n",
       "      <th>02J</th>\n",
       "      <td>1.732</td>\n",
       "      <td>1.732</td>\n",
       "      <td>1.732</td>\n",
       "      <td>1.732</td>\n",
       "      <td>1.732</td>\n",
       "      <td>1.732</td>\n",
       "      <td>ARIMAX2</td>\n",
       "      <td>1.732</td>\n",
       "      <td>(1.0, 2.0]</td>\n",
       "    </tr>\n",
       "    <tr>\n",
       "      <th>02S</th>\n",
       "      <td>5.235</td>\n",
       "      <td>5.683</td>\n",
       "      <td>4.924</td>\n",
       "      <td>5.200</td>\n",
       "      <td>5.753</td>\n",
       "      <td>6.681</td>\n",
       "      <td>HOLT</td>\n",
       "      <td>4.924</td>\n",
       "      <td>(2.0, 5.0]</td>\n",
       "    </tr>\n",
       "    <tr>\n",
       "      <th>03J</th>\n",
       "      <td>1.772</td>\n",
       "      <td>1.728</td>\n",
       "      <td>10.197</td>\n",
       "      <td>7.464</td>\n",
       "      <td>7.506</td>\n",
       "      <td>1.996</td>\n",
       "      <td>ES</td>\n",
       "      <td>1.728</td>\n",
       "      <td>(1.0, 2.0]</td>\n",
       "    </tr>\n",
       "    <tr>\n",
       "      <th>04J</th>\n",
       "      <td>1.732</td>\n",
       "      <td>1.500</td>\n",
       "      <td>1.818</td>\n",
       "      <td>1.803</td>\n",
       "      <td>1.907</td>\n",
       "      <td>1.803</td>\n",
       "      <td>ES</td>\n",
       "      <td>1.500</td>\n",
       "      <td>(1.0, 2.0]</td>\n",
       "    </tr>\n",
       "    <tr>\n",
       "      <th>05J</th>\n",
       "      <td>2.544</td>\n",
       "      <td>4.499</td>\n",
       "      <td>8.678</td>\n",
       "      <td>7.635</td>\n",
       "      <td>6.635</td>\n",
       "      <td>4.490</td>\n",
       "      <td>ARIMA</td>\n",
       "      <td>2.544</td>\n",
       "      <td>(2.0, 5.0]</td>\n",
       "    </tr>\n",
       "    <tr>\n",
       "      <th>06J</th>\n",
       "      <td>2.363</td>\n",
       "      <td>1.344</td>\n",
       "      <td>1.155</td>\n",
       "      <td>0.954</td>\n",
       "      <td>6.186</td>\n",
       "      <td>3.164</td>\n",
       "      <td>ES_ajTend</td>\n",
       "      <td>0.954</td>\n",
       "      <td>(0.0, 1.0]</td>\n",
       "    </tr>\n",
       "    <tr>\n",
       "      <th>07J</th>\n",
       "      <td>0.705</td>\n",
       "      <td>1.248</td>\n",
       "      <td>1.514</td>\n",
       "      <td>1.433</td>\n",
       "      <td>0.640</td>\n",
       "      <td>0.668</td>\n",
       "      <td>ARIMAX</td>\n",
       "      <td>0.640</td>\n",
       "      <td>(0.0, 1.0]</td>\n",
       "    </tr>\n",
       "    <tr>\n",
       "      <th>09J</th>\n",
       "      <td>2.082</td>\n",
       "      <td>2.054</td>\n",
       "      <td>2.237</td>\n",
       "      <td>2.233</td>\n",
       "      <td>1.974</td>\n",
       "      <td>1.975</td>\n",
       "      <td>ARIMAX</td>\n",
       "      <td>1.974</td>\n",
       "      <td>(1.0, 2.0]</td>\n",
       "    </tr>\n",
       "  </tbody>\n",
       "</table>\n",
       "</div>"
      ],
      "text/plain": [
       "     ARIMA    ES   HOLT  ES_ajTend  ARIMAX  ARIMAX2  seleccion  errorMin  \\\n",
       "01J  1.761 1.250  2.708      2.693   1.778    1.776         ES     1.250   \n",
       "01S  4.396 3.886  4.447      4.394   4.891    3.052    ARIMAX2     3.052   \n",
       "02J  1.732 1.732  1.732      1.732   1.732    1.732    ARIMAX2     1.732   \n",
       "02S  5.235 5.683  4.924      5.200   5.753    6.681       HOLT     4.924   \n",
       "03J  1.772 1.728 10.197      7.464   7.506    1.996         ES     1.728   \n",
       "04J  1.732 1.500  1.818      1.803   1.907    1.803         ES     1.500   \n",
       "05J  2.544 4.499  8.678      7.635   6.635    4.490      ARIMA     2.544   \n",
       "06J  2.363 1.344  1.155      0.954   6.186    3.164  ES_ajTend     0.954   \n",
       "07J  0.705 1.248  1.514      1.433   0.640    0.668     ARIMAX     0.640   \n",
       "09J  2.082 2.054  2.237      2.233   1.974    1.975     ARIMAX     1.974   \n",
       "\n",
       "       binError  \n",
       "01J  (1.0, 2.0]  \n",
       "01S  (2.0, 5.0]  \n",
       "02J  (1.0, 2.0]  \n",
       "02S  (2.0, 5.0]  \n",
       "03J  (1.0, 2.0]  \n",
       "04J  (1.0, 2.0]  \n",
       "05J  (2.0, 5.0]  \n",
       "06J  (0.0, 1.0]  \n",
       "07J  (0.0, 1.0]  \n",
       "09J  (1.0, 2.0]  "
      ]
     },
     "execution_count": 779,
     "metadata": {},
     "output_type": "execute_result"
    }
   ],
   "source": [
    "dfFinalErrores.head(10)"
   ]
  },
  {
   "cell_type": "code",
   "execution_count": 780,
   "id": "9ab97d81-28ac-4063-ab3b-415892110745",
   "metadata": {},
   "outputs": [
    {
     "data": {
      "text/plain": [
       "(2.0, 5.0]        404\n",
       "(1.0, 2.0]        242\n",
       "(5.0, 10.0]       189\n",
       "(0.0, 1.0]         84\n",
       "(10.0, 20.0]       46\n",
       "(20.0, 32.777]      9\n",
       "Name: binError, dtype: int64"
      ]
     },
     "execution_count": 780,
     "metadata": {},
     "output_type": "execute_result"
    }
   ],
   "source": [
    "dfFinalErrores['binError'].value_counts()"
   ]
  },
  {
   "cell_type": "code",
   "execution_count": 781,
   "id": "55c5f090-cd25-468e-800d-c6f2453b22c3",
   "metadata": {},
   "outputs": [
    {
     "data": {
      "text/plain": [
       "<AxesSubplot:ylabel='binError'>"
      ]
     },
     "execution_count": 781,
     "metadata": {},
     "output_type": "execute_result"
    },
    {
     "data": {
      "image/png": "[encoded data removed]",
      "text/plain": [
       "<Figure size 432x288 with 1 Axes>"
      ]
     },
     "metadata": {
      "needs_background": "light"
     },
     "output_type": "display_data"
    }
   ],
   "source": [
    "dfFinalErrores[['binError']].value_counts().sort_index(ascending=False).plot.barh()"
   ]
  },
  {
   "cell_type": "markdown",
   "id": "893049ed-9373-40e5-87d9-c1afbabec351",
   "metadata": {},
   "source": [
    "#### Analisis preducciones futuras"
   ]
  },
  {
   "cell_type": "code",
   "execution_count": 782,
   "id": "e8600c12-53b6-4317-837b-dfc910b1595d",
   "metadata": {},
   "outputs": [
    {
     "data": {
      "text/plain": [
       "<AxesSubplot:>"
      ]
     },
     "execution_count": 782,
     "metadata": {},
     "output_type": "execute_result"
    },
    {
     "data": {
      "image/png": "[encoded data removed]",
      "text/plain": [
       "<Figure size 432x288 with 1 Axes>"
      ]
     },
     "metadata": {
      "needs_background": "light"
     },
     "output_type": "display_data"
    }
   ],
   "source": [
    "finalPrediccionesFuturas['pred'].hist()"
   ]
  },
  {
   "cell_type": "code",
   "execution_count": 783,
   "id": "ae759b93-6767-4b2e-921d-275243a04851",
   "metadata": {},
   "outputs": [
    {
     "data": {
      "text/plain": [
       "count   3003.000\n",
       "mean      -7.005\n",
       "std        7.848\n",
       "min      -92.453\n",
       "25%       -9.686\n",
       "50%       -4.444\n",
       "75%       -1.945\n",
       "max        0.000\n",
       "Name: pred, dtype: float64"
      ]
     },
     "execution_count": 783,
     "metadata": {},
     "output_type": "execute_result"
    }
   ],
   "source": [
    "finalPrediccionesFuturas['pred'].describe()"
   ]
  },
  {
   "cell_type": "code",
   "execution_count": 784,
   "id": "79da4fe3-e162-44c1-965f-dd4b72cada90",
   "metadata": {},
   "outputs": [
    {
     "data": {
      "image/png": "[encoded data removed]",
      "text/plain": [
       "<Figure size 432x288 with 1 Axes>"
      ]
     },
     "metadata": {
      "needs_background": "light"
     },
     "output_type": "display_data"
    }
   ],
   "source": [
    "sns.violinplot(x=finalPrediccionesFuturas['pred']);"
   ]
  },
  {
   "cell_type": "code",
   "execution_count": 785,
   "id": "b4d14aab-9092-41cf-ba56-662cc167fb4b",
   "metadata": {},
   "outputs": [],
   "source": [
    "minBin=finalPrediccionesFuturas['pred'].min()\n",
    "bins=[minBin,-50,-30,-20,-10,-5,0,15]\n",
    "finalPrediccionesFuturas['binPred']=pd.cut((finalPrediccionesFuturas['pred']),bins=np.sort(bins),right=True)\n",
    "#finalPrediccionesFuturas['binPred']=pd.cut((finalPrediccionesFuturas['pred']),bins=5,right=True)"
   ]
  },
  {
   "cell_type": "code",
   "execution_count": 786,
   "id": "cdea3a2a-854d-45b0-9fd2-6eadb611c911",
   "metadata": {},
   "outputs": [
    {
     "data": {
      "text/plain": [
       "(-5.0, 0.0]         1601\n",
       "(-10.0, -5.0]        685\n",
       "(-20.0, -10.0]       531\n",
       "(-30.0, -20.0]       131\n",
       "(-50.0, -30.0]        47\n",
       "(-92.453, -50.0]       7\n",
       "(0.0, 15.0]            0\n",
       "Name: binPred, dtype: int64"
      ]
     },
     "execution_count": 786,
     "metadata": {},
     "output_type": "execute_result"
    }
   ],
   "source": [
    "finalPrediccionesFuturas['binPred'].value_counts()"
   ]
  },
  {
   "cell_type": "code",
   "execution_count": 787,
   "id": "d645e895-8100-44fc-894c-2f91b028539c",
   "metadata": {},
   "outputs": [
    {
     "data": {
      "image/png": "[encoded data removed]",
      "text/plain": [
       "<Figure size 432x288 with 1 Axes>"
      ]
     },
     "metadata": {},
     "output_type": "display_data"
    }
   ],
   "source": [
    "pieChart(finalPrediccionesFuturas['binPred'])"
   ]
  },
  {
   "cell_type": "code",
   "execution_count": 788,
   "id": "e2cbda92-dbb9-4fb9-bf6a-534ed395852a",
   "metadata": {},
   "outputs": [],
   "source": [
    "dfGraf=finalPrediccionesFuturas.reset_index()[['FECHA','pred','Nodo']]"
   ]
  },
  {
   "cell_type": "code",
   "execution_count": 789,
   "id": "ccd7b9bf-0659-4d72-948f-90789fdc7b09",
   "metadata": {},
   "outputs": [
    {
     "data": {
      "text/html": [
       "<div>\n",
       "<style scoped>\n",
       "    .dataframe tbody tr th:only-of-type {\n",
       "        vertical-align: middle;\n",
       "    }\n",
       "\n",
       "    .dataframe tbody tr th {\n",
       "        vertical-align: top;\n",
       "    }\n",
       "\n",
       "    .dataframe thead th {\n",
       "        text-align: right;\n",
       "    }\n",
       "</style>\n",
       "<table border=\"1\" class=\"dataframe\">\n",
       "  <thead>\n",
       "    <tr style=\"text-align: right;\">\n",
       "      <th></th>\n",
       "      <th>FECHA</th>\n",
       "      <th>pred</th>\n",
       "      <th>Nodo</th>\n",
       "    </tr>\n",
       "  </thead>\n",
       "  <tbody>\n",
       "    <tr>\n",
       "      <th>0</th>\n",
       "      <td>2021-10-01</td>\n",
       "      <td>-1.906</td>\n",
       "      <td>01J</td>\n",
       "    </tr>\n",
       "    <tr>\n",
       "      <th>1</th>\n",
       "      <td>2021-11-01</td>\n",
       "      <td>-1.906</td>\n",
       "      <td>01J</td>\n",
       "    </tr>\n",
       "    <tr>\n",
       "      <th>2</th>\n",
       "      <td>2021-12-01</td>\n",
       "      <td>-1.906</td>\n",
       "      <td>01J</td>\n",
       "    </tr>\n",
       "    <tr>\n",
       "      <th>3</th>\n",
       "      <td>2021-10-01</td>\n",
       "      <td>-5.125</td>\n",
       "      <td>01S</td>\n",
       "    </tr>\n",
       "    <tr>\n",
       "      <th>4</th>\n",
       "      <td>2021-11-01</td>\n",
       "      <td>-5.461</td>\n",
       "      <td>01S</td>\n",
       "    </tr>\n",
       "    <tr>\n",
       "      <th>5</th>\n",
       "      <td>2021-12-01</td>\n",
       "      <td>-1.673</td>\n",
       "      <td>01S</td>\n",
       "    </tr>\n",
       "    <tr>\n",
       "      <th>6</th>\n",
       "      <td>2021-10-01</td>\n",
       "      <td>-0.375</td>\n",
       "      <td>02J</td>\n",
       "    </tr>\n",
       "    <tr>\n",
       "      <th>7</th>\n",
       "      <td>2021-11-01</td>\n",
       "      <td>-0.750</td>\n",
       "      <td>02J</td>\n",
       "    </tr>\n",
       "    <tr>\n",
       "      <th>8</th>\n",
       "      <td>2021-12-01</td>\n",
       "      <td>0.000</td>\n",
       "      <td>02J</td>\n",
       "    </tr>\n",
       "    <tr>\n",
       "      <th>9</th>\n",
       "      <td>2021-10-01</td>\n",
       "      <td>-7.329</td>\n",
       "      <td>02S</td>\n",
       "    </tr>\n",
       "  </tbody>\n",
       "</table>\n",
       "</div>"
      ],
      "text/plain": [
       "        FECHA   pred Nodo\n",
       "0  2021-10-01 -1.906  01J\n",
       "1  2021-11-01 -1.906  01J\n",
       "2  2021-12-01 -1.906  01J\n",
       "3  2021-10-01 -5.125  01S\n",
       "4  2021-11-01 -5.461  01S\n",
       "5  2021-12-01 -1.673  01S\n",
       "6  2021-10-01 -0.375  02J\n",
       "7  2021-11-01 -0.750  02J\n",
       "8  2021-12-01  0.000  02J\n",
       "9  2021-10-01 -7.329  02S"
      ]
     },
     "execution_count": 789,
     "metadata": {},
     "output_type": "execute_result"
    }
   ],
   "source": [
    "dfGraf['FECHA']=dfGraf['FECHA'].astype(str)\n",
    "dfGraf.head(10)"
   ]
  },
  {
   "cell_type": "code",
   "execution_count": 790,
   "id": "56930ba5-c1fc-40df-ba97-075d761821d1",
   "metadata": {},
   "outputs": [
    {
     "data": {
      "text/plain": [
       "<AxesSubplot:xlabel='FECHA', ylabel='pred'>"
      ]
     },
     "execution_count": 790,
     "metadata": {},
     "output_type": "execute_result"
    },
    {
     "data": {
      "image/png": "[encoded data removed]",
      "text/plain": [
       "<Figure size 432x288 with 1 Axes>"
      ]
     },
     "metadata": {
      "needs_background": "light"
     },
     "output_type": "display_data"
    }
   ],
   "source": [
    "sns.violinplot(x='FECHA', y='pred', data=dfGraf, inner=\"quart\", linewidth=1)"
   ]
  },
  {
   "cell_type": "code",
   "execution_count": 791,
   "id": "05db281c-8b62-4234-9e1c-d6c45835cc47",
   "metadata": {},
   "outputs": [],
   "source": [
    "dfGraf=pd.pivot_table(dfGraf,index='Nodo',columns='FECHA',values='pred',aggfunc=np.sum)"
   ]
  },
  {
   "cell_type": "code",
   "execution_count": 792,
   "id": "55449bed-31fe-49c1-be1e-174fcfb7ca31",
   "metadata": {},
   "outputs": [
    {
     "data": {
      "text/html": [
       "<div>\n",
       "<style scoped>\n",
       "    .dataframe tbody tr th:only-of-type {\n",
       "        vertical-align: middle;\n",
       "    }\n",
       "\n",
       "    .dataframe tbody tr th {\n",
       "        vertical-align: top;\n",
       "    }\n",
       "\n",
       "    .dataframe thead th {\n",
       "        text-align: right;\n",
       "    }\n",
       "</style>\n",
       "<table border=\"1\" class=\"dataframe\">\n",
       "  <thead>\n",
       "    <tr style=\"text-align: right;\">\n",
       "      <th></th>\n",
       "      <th>count</th>\n",
       "      <th>mean</th>\n",
       "      <th>std</th>\n",
       "      <th>min</th>\n",
       "      <th>25%</th>\n",
       "      <th>50%</th>\n",
       "      <th>75%</th>\n",
       "      <th>max</th>\n",
       "    </tr>\n",
       "    <tr>\n",
       "      <th>FECHA</th>\n",
       "      <th></th>\n",
       "      <th></th>\n",
       "      <th></th>\n",
       "      <th></th>\n",
       "      <th></th>\n",
       "      <th></th>\n",
       "      <th></th>\n",
       "      <th></th>\n",
       "    </tr>\n",
       "  </thead>\n",
       "  <tbody>\n",
       "    <tr>\n",
       "      <th>2021-10-01</th>\n",
       "      <td>1001.000</td>\n",
       "      <td>-6.865</td>\n",
       "      <td>7.417</td>\n",
       "      <td>-65.500</td>\n",
       "      <td>-9.467</td>\n",
       "      <td>-4.389</td>\n",
       "      <td>-2.000</td>\n",
       "      <td>0.000</td>\n",
       "    </tr>\n",
       "    <tr>\n",
       "      <th>2021-11-01</th>\n",
       "      <td>1001.000</td>\n",
       "      <td>-7.026</td>\n",
       "      <td>7.774</td>\n",
       "      <td>-79.611</td>\n",
       "      <td>-9.668</td>\n",
       "      <td>-4.482</td>\n",
       "      <td>-2.000</td>\n",
       "      <td>0.000</td>\n",
       "    </tr>\n",
       "    <tr>\n",
       "      <th>2021-12-01</th>\n",
       "      <td>1001.000</td>\n",
       "      <td>-7.124</td>\n",
       "      <td>8.333</td>\n",
       "      <td>-92.453</td>\n",
       "      <td>-9.931</td>\n",
       "      <td>-4.444</td>\n",
       "      <td>-1.778</td>\n",
       "      <td>0.000</td>\n",
       "    </tr>\n",
       "  </tbody>\n",
       "</table>\n",
       "</div>"
      ],
      "text/plain": [
       "              count   mean   std     min    25%    50%    75%   max\n",
       "FECHA                                                              \n",
       "2021-10-01 1001.000 -6.865 7.417 -65.500 -9.467 -4.389 -2.000 0.000\n",
       "2021-11-01 1001.000 -7.026 7.774 -79.611 -9.668 -4.482 -2.000 0.000\n",
       "2021-12-01 1001.000 -7.124 8.333 -92.453 -9.931 -4.444 -1.778 0.000"
      ]
     },
     "execution_count": 792,
     "metadata": {},
     "output_type": "execute_result"
    }
   ],
   "source": [
    "dfGraf.describe().T"
   ]
  },
  {
   "cell_type": "markdown",
   "id": "c47ebc05-ac2a-41e0-8113-994429d8ddf8",
   "metadata": {},
   "source": [
    "### Resumen por nodo"
   ]
  },
  {
   "cell_type": "code",
   "execution_count": 793,
   "id": "ecfafa8f-b422-43c5-951e-4b3f7f353971",
   "metadata": {},
   "outputs": [],
   "source": [
    "ResPred=finalPrediccionesFuturas.groupby('Nodo').sum()"
   ]
  },
  {
   "cell_type": "code",
   "execution_count": 1,
   "id": "0a8b1d92",
   "metadata": {},
   "outputs": [
    {
     "ename": "NameError",
     "evalue": "name 'ResPred' is not defined",
     "output_type": "error",
     "traceback": [
      "\u001b[1;31m---------------------------------------------------------------------------\u001b[0m",
      "\u001b[1;31mNameError\u001b[0m                                 Traceback (most recent call last)",
      "\u001b[1;32m<ipython-input-1-36abc38d707b>\u001b[0m in \u001b[0;36m<module>\u001b[1;34m\u001b[0m\n\u001b[1;32m----> 1\u001b[1;33m \u001b[0mResPred\u001b[0m\u001b[1;33m\u001b[0m\u001b[1;33m\u001b[0m\u001b[0m\n\u001b[0m",
      "\u001b[1;31mNameError\u001b[0m: name 'ResPred' is not defined"
     ]
    }
   ],
   "source": [
    "ResPred"
   ]
  },
  {
   "cell_type": "code",
   "execution_count": 794,
   "id": "d4f696d5-6049-441f-b124-bbfe51dcf1b6",
   "metadata": {},
   "outputs": [],
   "source": [
    "minBin=ResPred['pred'].min()\n",
    "bins=[minBin-1,-150,-100,-50,-20,0,50]\n",
    "ResPred['binPred']=pd.cut((ResPred['pred']),bins=np.sort(bins),right=True)\n",
    "#ResPred['binPred']=pd.cut((ResPred['pred']),bins=5,right=True)"
   ]
  },
  {
   "cell_type": "code",
   "execution_count": null,
   "id": "7903eaad",
   "metadata": {},
   "outputs": [],
   "source": [
    "ResPred['binPred']=pd.cut((ResPred['pred']),bins=3,right=True)"
   ]
  },
  {
   "cell_type": "code",
   "execution_count": 795,
   "id": "3e28d988-b212-42bf-9fa8-ac19ee14dead",
   "metadata": {},
   "outputs": [
    {
     "data": {
      "text/plain": [
       "(-20.0, 0.0]          631\n",
       "(-50.0, -20.0]        274\n",
       "(-100.0, -50.0]        85\n",
       "(-150.0, -100.0]        8\n",
       "(-238.502, -150.0]      3\n",
       "(0.0, 50.0]             0\n",
       "Name: binPred, dtype: int64"
      ]
     },
     "execution_count": 795,
     "metadata": {},
     "output_type": "execute_result"
    }
   ],
   "source": [
    "ResPred['binPred'].value_counts()"
   ]
  },
  {
   "cell_type": "code",
   "execution_count": 796,
   "id": "c00d2855-c452-4f80-90f1-45d31a947764",
   "metadata": {},
   "outputs": [
    {
     "data": {
      "image/png": "[encoded data removed]",
      "text/plain": [
       "<Figure size 432x288 with 1 Axes>"
      ]
     },
     "metadata": {},
     "output_type": "display_data"
    }
   ],
   "source": [
    "pieChart(ResPred['binPred'])"
   ]
  },
  {
   "cell_type": "code",
   "execution_count": 797,
   "id": "ec68fd9e-441b-4294-a647-b7e422c8a060",
   "metadata": {},
   "outputs": [
    {
     "data": {
      "text/html": [
       "<div>\n",
       "<style scoped>\n",
       "    .dataframe tbody tr th:only-of-type {\n",
       "        vertical-align: middle;\n",
       "    }\n",
       "\n",
       "    .dataframe tbody tr th {\n",
       "        vertical-align: top;\n",
       "    }\n",
       "\n",
       "    .dataframe thead th {\n",
       "        text-align: right;\n",
       "    }\n",
       "</style>\n",
       "<table border=\"1\" class=\"dataframe\">\n",
       "  <thead>\n",
       "    <tr style=\"text-align: right;\">\n",
       "      <th></th>\n",
       "      <th>pred</th>\n",
       "      <th>binPred</th>\n",
       "    </tr>\n",
       "    <tr>\n",
       "      <th>Nodo</th>\n",
       "      <th></th>\n",
       "      <th></th>\n",
       "    </tr>\n",
       "  </thead>\n",
       "  <tbody>\n",
       "    <tr>\n",
       "      <th>01J</th>\n",
       "      <td>-5.719</td>\n",
       "      <td>(-20.0, 0.0]</td>\n",
       "    </tr>\n",
       "    <tr>\n",
       "      <th>01S</th>\n",
       "      <td>-12.260</td>\n",
       "      <td>(-20.0, 0.0]</td>\n",
       "    </tr>\n",
       "  </tbody>\n",
       "</table>\n",
       "</div>"
      ],
      "text/plain": [
       "        pred       binPred\n",
       "Nodo                      \n",
       "01J   -5.719  (-20.0, 0.0]\n",
       "01S  -12.260  (-20.0, 0.0]"
      ]
     },
     "execution_count": 797,
     "metadata": {},
     "output_type": "execute_result"
    }
   ],
   "source": [
    "ResPred.head(2)"
   ]
  },
  {
   "cell_type": "markdown",
   "id": "bc255f1a-4200-43c0-95f5-bb8c637cc103",
   "metadata": {},
   "source": [
    "#### Predicciones por distrito"
   ]
  },
  {
   "cell_type": "code",
   "execution_count": 798,
   "id": "22412fa7-27be-46bf-9e0d-246a14949d50",
   "metadata": {},
   "outputs": [
    {
     "data": {
      "text/html": [
       "<div>\n",
       "<style scoped>\n",
       "    .dataframe tbody tr th:only-of-type {\n",
       "        vertical-align: middle;\n",
       "    }\n",
       "\n",
       "    .dataframe tbody tr th {\n",
       "        vertical-align: top;\n",
       "    }\n",
       "\n",
       "    .dataframe thead th {\n",
       "        text-align: right;\n",
       "    }\n",
       "</style>\n",
       "<table border=\"1\" class=\"dataframe\">\n",
       "  <thead>\n",
       "    <tr style=\"text-align: right;\">\n",
       "      <th></th>\n",
       "      <th>pred</th>\n",
       "      <th>binPred</th>\n",
       "      <th>Nodo</th>\n",
       "      <th>E_distrito</th>\n",
       "    </tr>\n",
       "    <tr>\n",
       "      <th>fecha2</th>\n",
       "      <th></th>\n",
       "      <th></th>\n",
       "      <th></th>\n",
       "      <th></th>\n",
       "    </tr>\n",
       "  </thead>\n",
       "  <tbody>\n",
       "    <tr>\n",
       "      <th>2021-09-01</th>\n",
       "      <td>-5.719</td>\n",
       "      <td>(-20.0, 0.0]</td>\n",
       "      <td>01J</td>\n",
       "      <td>CORDOBA SUCRE DISTRITO 3</td>\n",
       "    </tr>\n",
       "    <tr>\n",
       "      <th>2021-09-01</th>\n",
       "      <td>-12.260</td>\n",
       "      <td>(-20.0, 0.0]</td>\n",
       "      <td>01S</td>\n",
       "      <td>GAITANA</td>\n",
       "    </tr>\n",
       "    <tr>\n",
       "      <th>2021-09-01</th>\n",
       "      <td>-1.125</td>\n",
       "      <td>(-20.0, 0.0]</td>\n",
       "      <td>02J</td>\n",
       "      <td>CORDOBA SUCRE DISTRITO 4</td>\n",
       "    </tr>\n",
       "    <tr>\n",
       "      <th>2021-09-01</th>\n",
       "      <td>-23.010</td>\n",
       "      <td>(-50.0, -20.0]</td>\n",
       "      <td>02S</td>\n",
       "      <td>GAITANA</td>\n",
       "    </tr>\n",
       "    <tr>\n",
       "      <th>2021-09-01</th>\n",
       "      <td>-6.991</td>\n",
       "      <td>(-20.0, 0.0]</td>\n",
       "      <td>03J</td>\n",
       "      <td>CORDOBA SUCRE DISTRITO 4</td>\n",
       "    </tr>\n",
       "  </tbody>\n",
       "</table>\n",
       "</div>"
      ],
      "text/plain": [
       "              pred         binPred Nodo                E_distrito\n",
       "fecha2                                                           \n",
       "2021-09-01  -5.719    (-20.0, 0.0]  01J  CORDOBA SUCRE DISTRITO 3\n",
       "2021-09-01 -12.260    (-20.0, 0.0]  01S                   GAITANA\n",
       "2021-09-01  -1.125    (-20.0, 0.0]  02J  CORDOBA SUCRE DISTRITO 4\n",
       "2021-09-01 -23.010  (-50.0, -20.0]  02S                   GAITANA\n",
       "2021-09-01  -6.991    (-20.0, 0.0]  03J  CORDOBA SUCRE DISTRITO 4"
      ]
     },
     "execution_count": 798,
     "metadata": {},
     "output_type": "execute_result"
    }
   ],
   "source": [
    "pt=ResPred.merge(maestroNodo,left_index=True,right_on='Nodo',how='left')\n",
    "pt.head()"
   ]
  },
  {
   "cell_type": "code",
   "execution_count": 799,
   "id": "8fe50812-c973-48cc-9cf0-036d91aac3d8",
   "metadata": {},
   "outputs": [],
   "source": [
    "pt=pd.pivot_table(pt,columns='binPred',index='E_distrito', fill_value=0)"
   ]
  },
  {
   "cell_type": "code",
   "execution_count": 800,
   "id": "b036fd7c-9fef-4a06-8582-b9f89c38feae",
   "metadata": {},
   "outputs": [
    {
     "data": {
      "text/html": [
       "<div>\n",
       "<style scoped>\n",
       "    .dataframe tbody tr th:only-of-type {\n",
       "        vertical-align: middle;\n",
       "    }\n",
       "\n",
       "    .dataframe tbody tr th {\n",
       "        vertical-align: top;\n",
       "    }\n",
       "\n",
       "    .dataframe thead tr th {\n",
       "        text-align: left;\n",
       "    }\n",
       "\n",
       "    .dataframe thead tr:last-of-type th {\n",
       "        text-align: right;\n",
       "    }\n",
       "</style>\n",
       "<table border=\"1\" class=\"dataframe\">\n",
       "  <thead>\n",
       "    <tr>\n",
       "      <th></th>\n",
       "      <th colspan=\"5\" halign=\"left\">pred</th>\n",
       "    </tr>\n",
       "    <tr>\n",
       "      <th>binPred</th>\n",
       "      <th>(-238.502, -150.0]</th>\n",
       "      <th>(-150.0, -100.0]</th>\n",
       "      <th>(-100.0, -50.0]</th>\n",
       "      <th>(-50.0, -20.0]</th>\n",
       "      <th>(-20.0, 0.0]</th>\n",
       "    </tr>\n",
       "    <tr>\n",
       "      <th>E_distrito</th>\n",
       "      <th></th>\n",
       "      <th></th>\n",
       "      <th></th>\n",
       "      <th></th>\n",
       "      <th></th>\n",
       "    </tr>\n",
       "  </thead>\n",
       "  <tbody>\n",
       "    <tr>\n",
       "      <th>20 DE JULIO</th>\n",
       "      <td>0.000</td>\n",
       "      <td>0.000</td>\n",
       "      <td>0.000</td>\n",
       "      <td>-33.648</td>\n",
       "      <td>-18.113</td>\n",
       "    </tr>\n",
       "    <tr>\n",
       "      <th>ACACIAS NORTE</th>\n",
       "      <td>0.000</td>\n",
       "      <td>0.000</td>\n",
       "      <td>0.000</td>\n",
       "      <td>0.000</td>\n",
       "      <td>-11.571</td>\n",
       "    </tr>\n",
       "    <tr>\n",
       "      <th>ALQUERIA</th>\n",
       "      <td>0.000</td>\n",
       "      <td>0.000</td>\n",
       "      <td>0.000</td>\n",
       "      <td>-47.111</td>\n",
       "      <td>-1.097</td>\n",
       "    </tr>\n",
       "    <tr>\n",
       "      <th>ANAPOIMA</th>\n",
       "      <td>0.000</td>\n",
       "      <td>0.000</td>\n",
       "      <td>0.000</td>\n",
       "      <td>0.000</td>\n",
       "      <td>-7.978</td>\n",
       "    </tr>\n",
       "    <tr>\n",
       "      <th>ANTIOQUIA NORTE 1</th>\n",
       "      <td>0.000</td>\n",
       "      <td>0.000</td>\n",
       "      <td>-69.725</td>\n",
       "      <td>-43.398</td>\n",
       "      <td>0.000</td>\n",
       "    </tr>\n",
       "    <tr>\n",
       "      <th>ANTIOQUIA SUROESTE 1</th>\n",
       "      <td>0.000</td>\n",
       "      <td>0.000</td>\n",
       "      <td>0.000</td>\n",
       "      <td>-46.333</td>\n",
       "      <td>0.000</td>\n",
       "    </tr>\n",
       "    <tr>\n",
       "      <th>ARMENIA3</th>\n",
       "      <td>0.000</td>\n",
       "      <td>0.000</td>\n",
       "      <td>0.000</td>\n",
       "      <td>-20.833</td>\n",
       "      <td>0.000</td>\n",
       "    </tr>\n",
       "    <tr>\n",
       "      <th>ARMENIA4</th>\n",
       "      <td>0.000</td>\n",
       "      <td>0.000</td>\n",
       "      <td>-74.008</td>\n",
       "      <td>-28.475</td>\n",
       "      <td>0.000</td>\n",
       "    </tr>\n",
       "    <tr>\n",
       "      <th>BARRANCABERMEJA</th>\n",
       "      <td>0.000</td>\n",
       "      <td>0.000</td>\n",
       "      <td>0.000</td>\n",
       "      <td>-25.833</td>\n",
       "      <td>0.000</td>\n",
       "    </tr>\n",
       "    <tr>\n",
       "      <th>BARRANCAS</th>\n",
       "      <td>0.000</td>\n",
       "      <td>0.000</td>\n",
       "      <td>0.000</td>\n",
       "      <td>-33.515</td>\n",
       "      <td>0.000</td>\n",
       "    </tr>\n",
       "    <tr>\n",
       "      <th>BARRANQUILLA 1 DISTRITO 2</th>\n",
       "      <td>0.000</td>\n",
       "      <td>0.000</td>\n",
       "      <td>0.000</td>\n",
       "      <td>-32.000</td>\n",
       "      <td>0.000</td>\n",
       "    </tr>\n",
       "    <tr>\n",
       "      <th>BARRANQUILLA 1 DISTRITO 3</th>\n",
       "      <td>0.000</td>\n",
       "      <td>0.000</td>\n",
       "      <td>0.000</td>\n",
       "      <td>-25.000</td>\n",
       "      <td>0.000</td>\n",
       "    </tr>\n",
       "    <tr>\n",
       "      <th>BARRANQUILLA 1 DISTRITO 5</th>\n",
       "      <td>0.000</td>\n",
       "      <td>0.000</td>\n",
       "      <td>0.000</td>\n",
       "      <td>-20.667</td>\n",
       "      <td>-6.667</td>\n",
       "    </tr>\n",
       "    <tr>\n",
       "      <th>BARRANQUILLA 2 DISTRITO 1</th>\n",
       "      <td>0.000</td>\n",
       "      <td>0.000</td>\n",
       "      <td>0.000</td>\n",
       "      <td>-32.030</td>\n",
       "      <td>-4.037</td>\n",
       "    </tr>\n",
       "    <tr>\n",
       "      <th>BARRANQUILLA 2 DISTRITO 2</th>\n",
       "      <td>0.000</td>\n",
       "      <td>0.000</td>\n",
       "      <td>0.000</td>\n",
       "      <td>0.000</td>\n",
       "      <td>-5.982</td>\n",
       "    </tr>\n",
       "    <tr>\n",
       "      <th>BARRANQUILLA 2 DISTRITO 4</th>\n",
       "      <td>-237.502</td>\n",
       "      <td>0.000</td>\n",
       "      <td>-59.354</td>\n",
       "      <td>-39.835</td>\n",
       "      <td>-10.516</td>\n",
       "    </tr>\n",
       "    <tr>\n",
       "      <th>BELLO METROPOLITANO</th>\n",
       "      <td>0.000</td>\n",
       "      <td>0.000</td>\n",
       "      <td>0.000</td>\n",
       "      <td>-25.350</td>\n",
       "      <td>-7.219</td>\n",
       "    </tr>\n",
       "    <tr>\n",
       "      <th>BELLO NORTE</th>\n",
       "      <td>0.000</td>\n",
       "      <td>0.000</td>\n",
       "      <td>-52.528</td>\n",
       "      <td>-33.264</td>\n",
       "      <td>0.000</td>\n",
       "    </tr>\n",
       "    <tr>\n",
       "      <th>BOLIVAR DISTRITO 1</th>\n",
       "      <td>0.000</td>\n",
       "      <td>0.000</td>\n",
       "      <td>0.000</td>\n",
       "      <td>-40.858</td>\n",
       "      <td>-3.677</td>\n",
       "    </tr>\n",
       "    <tr>\n",
       "      <th>BOLIVAR DISTRITO 2</th>\n",
       "      <td>0.000</td>\n",
       "      <td>0.000</td>\n",
       "      <td>0.000</td>\n",
       "      <td>-27.167</td>\n",
       "      <td>-17.771</td>\n",
       "    </tr>\n",
       "    <tr>\n",
       "      <th>BOLIVAR DISTRITO 3</th>\n",
       "      <td>0.000</td>\n",
       "      <td>0.000</td>\n",
       "      <td>-50.879</td>\n",
       "      <td>-34.000</td>\n",
       "      <td>-3.854</td>\n",
       "    </tr>\n",
       "    <tr>\n",
       "      <th>BOLIVAR DISTRITO 4</th>\n",
       "      <td>0.000</td>\n",
       "      <td>0.000</td>\n",
       "      <td>0.000</td>\n",
       "      <td>0.000</td>\n",
       "      <td>-10.966</td>\n",
       "    </tr>\n",
       "    <tr>\n",
       "      <th>BOLIVAR DISTRITO 5</th>\n",
       "      <td>0.000</td>\n",
       "      <td>0.000</td>\n",
       "      <td>0.000</td>\n",
       "      <td>-32.876</td>\n",
       "      <td>-7.593</td>\n",
       "    </tr>\n",
       "    <tr>\n",
       "      <th>BOLIVIA</th>\n",
       "      <td>0.000</td>\n",
       "      <td>-108.933</td>\n",
       "      <td>-69.600</td>\n",
       "      <td>-32.135</td>\n",
       "      <td>-10.797</td>\n",
       "    </tr>\n",
       "    <tr>\n",
       "      <th>BONAVISTA</th>\n",
       "      <td>0.000</td>\n",
       "      <td>0.000</td>\n",
       "      <td>-57.667</td>\n",
       "      <td>0.000</td>\n",
       "      <td>0.000</td>\n",
       "    </tr>\n",
       "    <tr>\n",
       "      <th>BRASIL</th>\n",
       "      <td>0.000</td>\n",
       "      <td>0.000</td>\n",
       "      <td>0.000</td>\n",
       "      <td>-33.667</td>\n",
       "      <td>-10.316</td>\n",
       "    </tr>\n",
       "    <tr>\n",
       "      <th>CALI CENTRO DISTRITO 1</th>\n",
       "      <td>0.000</td>\n",
       "      <td>0.000</td>\n",
       "      <td>-86.183</td>\n",
       "      <td>-28.465</td>\n",
       "      <td>0.000</td>\n",
       "    </tr>\n",
       "    <tr>\n",
       "      <th>CALI CENTRO DISTRITO 2</th>\n",
       "      <td>0.000</td>\n",
       "      <td>0.000</td>\n",
       "      <td>0.000</td>\n",
       "      <td>0.000</td>\n",
       "      <td>-13.862</td>\n",
       "    </tr>\n",
       "    <tr>\n",
       "      <th>CALI CENTRO DISTRITO 3</th>\n",
       "      <td>0.000</td>\n",
       "      <td>0.000</td>\n",
       "      <td>0.000</td>\n",
       "      <td>-23.123</td>\n",
       "      <td>0.000</td>\n",
       "    </tr>\n",
       "    <tr>\n",
       "      <th>CALI CENTRO DISTRITO 4</th>\n",
       "      <td>0.000</td>\n",
       "      <td>0.000</td>\n",
       "      <td>0.000</td>\n",
       "      <td>-28.777</td>\n",
       "      <td>-4.275</td>\n",
       "    </tr>\n",
       "    <tr>\n",
       "      <th>CALI CENTRO DISTRITO 5</th>\n",
       "      <td>0.000</td>\n",
       "      <td>0.000</td>\n",
       "      <td>-69.770</td>\n",
       "      <td>-38.169</td>\n",
       "      <td>0.000</td>\n",
       "    </tr>\n",
       "    <tr>\n",
       "      <th>CALI CENTRO DISTRITO 6</th>\n",
       "      <td>0.000</td>\n",
       "      <td>0.000</td>\n",
       "      <td>0.000</td>\n",
       "      <td>-33.286</td>\n",
       "      <td>-8.689</td>\n",
       "    </tr>\n",
       "    <tr>\n",
       "      <th>CALI NORTE DISTRITO 1</th>\n",
       "      <td>0.000</td>\n",
       "      <td>0.000</td>\n",
       "      <td>-95.239</td>\n",
       "      <td>-35.740</td>\n",
       "      <td>0.000</td>\n",
       "    </tr>\n",
       "    <tr>\n",
       "      <th>CALI NORTE DISTRITO 2</th>\n",
       "      <td>0.000</td>\n",
       "      <td>0.000</td>\n",
       "      <td>-61.345</td>\n",
       "      <td>-47.872</td>\n",
       "      <td>0.000</td>\n",
       "    </tr>\n",
       "    <tr>\n",
       "      <th>CALI NORTE DISTRITO 3</th>\n",
       "      <td>0.000</td>\n",
       "      <td>-120.297</td>\n",
       "      <td>-54.451</td>\n",
       "      <td>-27.969</td>\n",
       "      <td>-6.484</td>\n",
       "    </tr>\n",
       "    <tr>\n",
       "      <th>CALI NORTE DISTRITO 4</th>\n",
       "      <td>0.000</td>\n",
       "      <td>0.000</td>\n",
       "      <td>0.000</td>\n",
       "      <td>0.000</td>\n",
       "      <td>-18.051</td>\n",
       "    </tr>\n",
       "    <tr>\n",
       "      <th>CALI SUR DISTRITO 1</th>\n",
       "      <td>-153.158</td>\n",
       "      <td>0.000</td>\n",
       "      <td>0.000</td>\n",
       "      <td>-46.497</td>\n",
       "      <td>0.000</td>\n",
       "    </tr>\n",
       "    <tr>\n",
       "      <th>CALI SUR DISTRITO 2</th>\n",
       "      <td>0.000</td>\n",
       "      <td>0.000</td>\n",
       "      <td>-70.723</td>\n",
       "      <td>-41.580</td>\n",
       "      <td>-10.149</td>\n",
       "    </tr>\n",
       "    <tr>\n",
       "      <th>CALI SUR DISTRITO 3</th>\n",
       "      <td>0.000</td>\n",
       "      <td>0.000</td>\n",
       "      <td>0.000</td>\n",
       "      <td>-31.387</td>\n",
       "      <td>0.000</td>\n",
       "    </tr>\n",
       "    <tr>\n",
       "      <th>CALI SUR DISTRITO 4</th>\n",
       "      <td>0.000</td>\n",
       "      <td>0.000</td>\n",
       "      <td>0.000</td>\n",
       "      <td>-37.293</td>\n",
       "      <td>-6.330</td>\n",
       "    </tr>\n",
       "    <tr>\n",
       "      <th>CALI SUR DISTRITO 5</th>\n",
       "      <td>0.000</td>\n",
       "      <td>0.000</td>\n",
       "      <td>-60.369</td>\n",
       "      <td>-40.025</td>\n",
       "      <td>-10.802</td>\n",
       "    </tr>\n",
       "    <tr>\n",
       "      <th>CALI SUR DISTRITO 6</th>\n",
       "      <td>0.000</td>\n",
       "      <td>0.000</td>\n",
       "      <td>-53.075</td>\n",
       "      <td>-47.190</td>\n",
       "      <td>0.000</td>\n",
       "    </tr>\n",
       "    <tr>\n",
       "      <th>CANDELARIA</th>\n",
       "      <td>0.000</td>\n",
       "      <td>0.000</td>\n",
       "      <td>-56.081</td>\n",
       "      <td>-32.162</td>\n",
       "      <td>-10.104</td>\n",
       "    </tr>\n",
       "    <tr>\n",
       "      <th>CASA BLANCA</th>\n",
       "      <td>0.000</td>\n",
       "      <td>-126.650</td>\n",
       "      <td>-87.352</td>\n",
       "      <td>-34.908</td>\n",
       "      <td>-13.602</td>\n",
       "    </tr>\n",
       "    <tr>\n",
       "      <th>CASANARE 3</th>\n",
       "      <td>0.000</td>\n",
       "      <td>0.000</td>\n",
       "      <td>-62.233</td>\n",
       "      <td>0.000</td>\n",
       "      <td>0.000</td>\n",
       "    </tr>\n",
       "    <tr>\n",
       "      <th>CASTILLA</th>\n",
       "      <td>0.000</td>\n",
       "      <td>-107.153</td>\n",
       "      <td>-83.489</td>\n",
       "      <td>-26.239</td>\n",
       "      <td>-10.550</td>\n",
       "    </tr>\n",
       "    <tr>\n",
       "      <th>CAUCA DISTRITO 4</th>\n",
       "      <td>0.000</td>\n",
       "      <td>0.000</td>\n",
       "      <td>0.000</td>\n",
       "      <td>0.000</td>\n",
       "      <td>-10.002</td>\n",
       "    </tr>\n",
       "    <tr>\n",
       "      <th>CAUCA DISTRITO 5</th>\n",
       "      <td>0.000</td>\n",
       "      <td>0.000</td>\n",
       "      <td>0.000</td>\n",
       "      <td>0.000</td>\n",
       "      <td>-2.598</td>\n",
       "    </tr>\n",
       "    <tr>\n",
       "      <th>CEDRITOS</th>\n",
       "      <td>0.000</td>\n",
       "      <td>0.000</td>\n",
       "      <td>-66.968</td>\n",
       "      <td>-26.581</td>\n",
       "      <td>-8.269</td>\n",
       "    </tr>\n",
       "    <tr>\n",
       "      <th>CESAR DISTRITO 1</th>\n",
       "      <td>0.000</td>\n",
       "      <td>0.000</td>\n",
       "      <td>0.000</td>\n",
       "      <td>0.000</td>\n",
       "      <td>-18.548</td>\n",
       "    </tr>\n",
       "    <tr>\n",
       "      <th>CESAR DISTRITO 4</th>\n",
       "      <td>0.000</td>\n",
       "      <td>0.000</td>\n",
       "      <td>0.000</td>\n",
       "      <td>-38.163</td>\n",
       "      <td>0.000</td>\n",
       "    </tr>\n",
       "    <tr>\n",
       "      <th>COMPARTIR</th>\n",
       "      <td>0.000</td>\n",
       "      <td>0.000</td>\n",
       "      <td>0.000</td>\n",
       "      <td>-29.797</td>\n",
       "      <td>0.000</td>\n",
       "    </tr>\n",
       "    <tr>\n",
       "      <th>CORDOBA SUCRE DISTRITO 2</th>\n",
       "      <td>0.000</td>\n",
       "      <td>0.000</td>\n",
       "      <td>0.000</td>\n",
       "      <td>0.000</td>\n",
       "      <td>-9.223</td>\n",
       "    </tr>\n",
       "    <tr>\n",
       "      <th>CORDOBA SUCRE DISTRITO 3</th>\n",
       "      <td>0.000</td>\n",
       "      <td>0.000</td>\n",
       "      <td>0.000</td>\n",
       "      <td>-36.284</td>\n",
       "      <td>-3.742</td>\n",
       "    </tr>\n",
       "    <tr>\n",
       "      <th>CORDOBA SUCRE DISTRITO 4</th>\n",
       "      <td>0.000</td>\n",
       "      <td>0.000</td>\n",
       "      <td>0.000</td>\n",
       "      <td>0.000</td>\n",
       "      <td>-4.211</td>\n",
       "    </tr>\n",
       "    <tr>\n",
       "      <th>CORDOBA SUCRE DISTRITO 6</th>\n",
       "      <td>0.000</td>\n",
       "      <td>0.000</td>\n",
       "      <td>0.000</td>\n",
       "      <td>0.000</td>\n",
       "      <td>-7.620</td>\n",
       "    </tr>\n",
       "    <tr>\n",
       "      <th>DISTRITO BGA 1</th>\n",
       "      <td>0.000</td>\n",
       "      <td>0.000</td>\n",
       "      <td>-61.490</td>\n",
       "      <td>-39.540</td>\n",
       "      <td>-6.308</td>\n",
       "    </tr>\n",
       "    <tr>\n",
       "      <th>DISTRITO BGA 2</th>\n",
       "      <td>0.000</td>\n",
       "      <td>-135.873</td>\n",
       "      <td>0.000</td>\n",
       "      <td>-34.344</td>\n",
       "      <td>-5.594</td>\n",
       "    </tr>\n",
       "    <tr>\n",
       "      <th>DISTRITO CUCUTA 1</th>\n",
       "      <td>0.000</td>\n",
       "      <td>0.000</td>\n",
       "      <td>0.000</td>\n",
       "      <td>-21.193</td>\n",
       "      <td>-6.792</td>\n",
       "    </tr>\n",
       "    <tr>\n",
       "      <th>DISTRITO CUCUTA 2</th>\n",
       "      <td>0.000</td>\n",
       "      <td>0.000</td>\n",
       "      <td>0.000</td>\n",
       "      <td>0.000</td>\n",
       "      <td>-6.147</td>\n",
       "    </tr>\n",
       "    <tr>\n",
       "      <th>DISTRITO CUCUTA 3</th>\n",
       "      <td>0.000</td>\n",
       "      <td>0.000</td>\n",
       "      <td>0.000</td>\n",
       "      <td>-35.180</td>\n",
       "      <td>-13.552</td>\n",
       "    </tr>\n",
       "    <tr>\n",
       "      <th>DISTRITO CUCUTA 4</th>\n",
       "      <td>0.000</td>\n",
       "      <td>0.000</td>\n",
       "      <td>0.000</td>\n",
       "      <td>-33.873</td>\n",
       "      <td>-14.207</td>\n",
       "    </tr>\n",
       "    <tr>\n",
       "      <th>DISTRITO CUCUTA 5</th>\n",
       "      <td>0.000</td>\n",
       "      <td>0.000</td>\n",
       "      <td>0.000</td>\n",
       "      <td>0.000</td>\n",
       "      <td>-3.548</td>\n",
       "    </tr>\n",
       "    <tr>\n",
       "      <th>DISTRITO LOS PATIOS</th>\n",
       "      <td>0.000</td>\n",
       "      <td>0.000</td>\n",
       "      <td>0.000</td>\n",
       "      <td>-25.000</td>\n",
       "      <td>-12.279</td>\n",
       "    </tr>\n",
       "    <tr>\n",
       "      <th>DISTRITO VILLA DEL ROSARIO</th>\n",
       "      <td>0.000</td>\n",
       "      <td>0.000</td>\n",
       "      <td>0.000</td>\n",
       "      <td>-23.290</td>\n",
       "      <td>0.000</td>\n",
       "    </tr>\n",
       "    <tr>\n",
       "      <th>DOSQUEBRADAS1</th>\n",
       "      <td>0.000</td>\n",
       "      <td>0.000</td>\n",
       "      <td>0.000</td>\n",
       "      <td>-36.583</td>\n",
       "      <td>0.000</td>\n",
       "    </tr>\n",
       "    <tr>\n",
       "      <th>DUITAMA ORIENTE</th>\n",
       "      <td>0.000</td>\n",
       "      <td>0.000</td>\n",
       "      <td>-58.751</td>\n",
       "      <td>-25.999</td>\n",
       "      <td>0.000</td>\n",
       "    </tr>\n",
       "    <tr>\n",
       "      <th>EL ENSUE�O</th>\n",
       "      <td>0.000</td>\n",
       "      <td>0.000</td>\n",
       "      <td>-50.711</td>\n",
       "      <td>-44.933</td>\n",
       "      <td>0.000</td>\n",
       "    </tr>\n",
       "    <tr>\n",
       "      <th>EL MUELLE</th>\n",
       "      <td>0.000</td>\n",
       "      <td>-105.962</td>\n",
       "      <td>-61.000</td>\n",
       "      <td>-39.044</td>\n",
       "      <td>-16.675</td>\n",
       "    </tr>\n",
       "    <tr>\n",
       "      <th>ENGATIVA</th>\n",
       "      <td>0.000</td>\n",
       "      <td>0.000</td>\n",
       "      <td>-52.430</td>\n",
       "      <td>-33.770</td>\n",
       "      <td>-10.605</td>\n",
       "    </tr>\n",
       "    <tr>\n",
       "      <th>FACATATIVA</th>\n",
       "      <td>0.000</td>\n",
       "      <td>0.000</td>\n",
       "      <td>0.000</td>\n",
       "      <td>-34.669</td>\n",
       "      <td>0.000</td>\n",
       "    </tr>\n",
       "    <tr>\n",
       "      <th>FERROCARRIL</th>\n",
       "      <td>0.000</td>\n",
       "      <td>0.000</td>\n",
       "      <td>-69.237</td>\n",
       "      <td>-44.866</td>\n",
       "      <td>0.000</td>\n",
       "    </tr>\n",
       "    <tr>\n",
       "      <th>FUNZA SIBATE</th>\n",
       "      <td>0.000</td>\n",
       "      <td>0.000</td>\n",
       "      <td>0.000</td>\n",
       "      <td>-28.217</td>\n",
       "      <td>-16.556</td>\n",
       "    </tr>\n",
       "    <tr>\n",
       "      <th>FUSAGASUGA</th>\n",
       "      <td>0.000</td>\n",
       "      <td>0.000</td>\n",
       "      <td>0.000</td>\n",
       "      <td>-36.799</td>\n",
       "      <td>0.000</td>\n",
       "    </tr>\n",
       "    <tr>\n",
       "      <th>GAITANA</th>\n",
       "      <td>0.000</td>\n",
       "      <td>0.000</td>\n",
       "      <td>0.000</td>\n",
       "      <td>-23.010</td>\n",
       "      <td>-13.902</td>\n",
       "    </tr>\n",
       "    <tr>\n",
       "      <th>GIRARDOT</th>\n",
       "      <td>0.000</td>\n",
       "      <td>0.000</td>\n",
       "      <td>0.000</td>\n",
       "      <td>0.000</td>\n",
       "      <td>-7.203</td>\n",
       "    </tr>\n",
       "    <tr>\n",
       "      <th>GIRON</th>\n",
       "      <td>0.000</td>\n",
       "      <td>0.000</td>\n",
       "      <td>0.000</td>\n",
       "      <td>-26.842</td>\n",
       "      <td>-6.136</td>\n",
       "    </tr>\n",
       "    <tr>\n",
       "      <th>HUILA DISTRITO 1</th>\n",
       "      <td>0.000</td>\n",
       "      <td>0.000</td>\n",
       "      <td>0.000</td>\n",
       "      <td>-23.333</td>\n",
       "      <td>-5.754</td>\n",
       "    </tr>\n",
       "    <tr>\n",
       "      <th>HUILA DISTRITO 2</th>\n",
       "      <td>0.000</td>\n",
       "      <td>0.000</td>\n",
       "      <td>0.000</td>\n",
       "      <td>-23.667</td>\n",
       "      <td>-5.719</td>\n",
       "    </tr>\n",
       "    <tr>\n",
       "      <th>HUILA DISTRITO 3</th>\n",
       "      <td>0.000</td>\n",
       "      <td>0.000</td>\n",
       "      <td>0.000</td>\n",
       "      <td>0.000</td>\n",
       "      <td>-0.768</td>\n",
       "    </tr>\n",
       "    <tr>\n",
       "      <th>HUILA DISTRITO 4</th>\n",
       "      <td>0.000</td>\n",
       "      <td>0.000</td>\n",
       "      <td>0.000</td>\n",
       "      <td>0.000</td>\n",
       "      <td>-3.777</td>\n",
       "    </tr>\n",
       "    <tr>\n",
       "      <th>IMPERIAL</th>\n",
       "      <td>0.000</td>\n",
       "      <td>0.000</td>\n",
       "      <td>-67.245</td>\n",
       "      <td>-29.077</td>\n",
       "      <td>-13.238</td>\n",
       "    </tr>\n",
       "    <tr>\n",
       "      <th>JAVERIANA</th>\n",
       "      <td>0.000</td>\n",
       "      <td>0.000</td>\n",
       "      <td>-56.590</td>\n",
       "      <td>-26.656</td>\n",
       "      <td>-8.874</td>\n",
       "    </tr>\n",
       "    <tr>\n",
       "      <th>LA DORADA CALDAS</th>\n",
       "      <td>0.000</td>\n",
       "      <td>0.000</td>\n",
       "      <td>0.000</td>\n",
       "      <td>-45.299</td>\n",
       "      <td>-1.800</td>\n",
       "    </tr>\n",
       "    <tr>\n",
       "      <th>LA VICTORIA</th>\n",
       "      <td>0.000</td>\n",
       "      <td>0.000</td>\n",
       "      <td>0.000</td>\n",
       "      <td>0.000</td>\n",
       "      <td>-12.881</td>\n",
       "    </tr>\n",
       "    <tr>\n",
       "      <th>LAGO</th>\n",
       "      <td>0.000</td>\n",
       "      <td>0.000</td>\n",
       "      <td>-65.990</td>\n",
       "      <td>-29.778</td>\n",
       "      <td>-6.707</td>\n",
       "    </tr>\n",
       "    <tr>\n",
       "      <th>MAGDALENA 1</th>\n",
       "      <td>0.000</td>\n",
       "      <td>0.000</td>\n",
       "      <td>0.000</td>\n",
       "      <td>-41.951</td>\n",
       "      <td>-8.702</td>\n",
       "    </tr>\n",
       "    <tr>\n",
       "      <th>MAGDALENA 2</th>\n",
       "      <td>0.000</td>\n",
       "      <td>0.000</td>\n",
       "      <td>0.000</td>\n",
       "      <td>-48.333</td>\n",
       "      <td>-2.221</td>\n",
       "    </tr>\n",
       "    <tr>\n",
       "      <th>MAGDALENA 3</th>\n",
       "      <td>0.000</td>\n",
       "      <td>0.000</td>\n",
       "      <td>0.000</td>\n",
       "      <td>0.000</td>\n",
       "      <td>-5.461</td>\n",
       "    </tr>\n",
       "    <tr>\n",
       "      <th>MAGDALENA 5</th>\n",
       "      <td>0.000</td>\n",
       "      <td>0.000</td>\n",
       "      <td>0.000</td>\n",
       "      <td>0.000</td>\n",
       "      <td>-6.331</td>\n",
       "    </tr>\n",
       "    <tr>\n",
       "      <th>MAGDALENA 6</th>\n",
       "      <td>0.000</td>\n",
       "      <td>0.000</td>\n",
       "      <td>0.000</td>\n",
       "      <td>0.000</td>\n",
       "      <td>-3.374</td>\n",
       "    </tr>\n",
       "    <tr>\n",
       "      <th>MANIZALES CALDAS 1</th>\n",
       "      <td>0.000</td>\n",
       "      <td>0.000</td>\n",
       "      <td>0.000</td>\n",
       "      <td>-23.207</td>\n",
       "      <td>-13.327</td>\n",
       "    </tr>\n",
       "    <tr>\n",
       "      <th>MANIZALES CALDAS2</th>\n",
       "      <td>0.000</td>\n",
       "      <td>0.000</td>\n",
       "      <td>0.000</td>\n",
       "      <td>-20.550</td>\n",
       "      <td>0.000</td>\n",
       "    </tr>\n",
       "    <tr>\n",
       "      <th>MARICHUELA</th>\n",
       "      <td>0.000</td>\n",
       "      <td>0.000</td>\n",
       "      <td>0.000</td>\n",
       "      <td>-46.865</td>\n",
       "      <td>0.000</td>\n",
       "    </tr>\n",
       "    <tr>\n",
       "      <th>MARRUECOS</th>\n",
       "      <td>0.000</td>\n",
       "      <td>0.000</td>\n",
       "      <td>-62.645</td>\n",
       "      <td>0.000</td>\n",
       "      <td>-11.539</td>\n",
       "    </tr>\n",
       "    <tr>\n",
       "      <th>MEDELLIN CENTRO OCCIDENTE</th>\n",
       "      <td>0.000</td>\n",
       "      <td>0.000</td>\n",
       "      <td>0.000</td>\n",
       "      <td>-20.052</td>\n",
       "      <td>-11.214</td>\n",
       "    </tr>\n",
       "    <tr>\n",
       "      <th>MEDELLIN CENTRO ORIENTAL</th>\n",
       "      <td>0.000</td>\n",
       "      <td>0.000</td>\n",
       "      <td>0.000</td>\n",
       "      <td>0.000</td>\n",
       "      <td>-5.059</td>\n",
       "    </tr>\n",
       "    <tr>\n",
       "      <th>MEDELLIN GRAN ROBLEDO</th>\n",
       "      <td>0.000</td>\n",
       "      <td>0.000</td>\n",
       "      <td>-50.434</td>\n",
       "      <td>-24.843</td>\n",
       "      <td>-10.253</td>\n",
       "    </tr>\n",
       "    <tr>\n",
       "      <th>MEDELLIN GRAN ROBLEDO SUR</th>\n",
       "      <td>0.000</td>\n",
       "      <td>0.000</td>\n",
       "      <td>-59.387</td>\n",
       "      <td>-40.295</td>\n",
       "      <td>0.000</td>\n",
       "    </tr>\n",
       "    <tr>\n",
       "      <th>MEDELLIN NOROCCIDENTAL</th>\n",
       "      <td>0.000</td>\n",
       "      <td>0.000</td>\n",
       "      <td>-72.133</td>\n",
       "      <td>-37.655</td>\n",
       "      <td>0.000</td>\n",
       "    </tr>\n",
       "    <tr>\n",
       "      <th>MEDELLIN NORORIENTAL</th>\n",
       "      <td>0.000</td>\n",
       "      <td>0.000</td>\n",
       "      <td>0.000</td>\n",
       "      <td>-30.923</td>\n",
       "      <td>-14.012</td>\n",
       "    </tr>\n",
       "    <tr>\n",
       "      <th>MEDELLIN OCCIDENTE</th>\n",
       "      <td>0.000</td>\n",
       "      <td>0.000</td>\n",
       "      <td>0.000</td>\n",
       "      <td>-28.517</td>\n",
       "      <td>-19.633</td>\n",
       "    </tr>\n",
       "    <tr>\n",
       "      <th>MEDELLIN SUROCCIDENTAL</th>\n",
       "      <td>0.000</td>\n",
       "      <td>0.000</td>\n",
       "      <td>0.000</td>\n",
       "      <td>0.000</td>\n",
       "      <td>-11.834</td>\n",
       "    </tr>\n",
       "    <tr>\n",
       "      <th>MEDELLIN SURORIENTAL</th>\n",
       "      <td>0.000</td>\n",
       "      <td>0.000</td>\n",
       "      <td>0.000</td>\n",
       "      <td>0.000</td>\n",
       "      <td>-7.102</td>\n",
       "    </tr>\n",
       "    <tr>\n",
       "      <th>METROPOLITANA ENVIGADO</th>\n",
       "      <td>0.000</td>\n",
       "      <td>0.000</td>\n",
       "      <td>0.000</td>\n",
       "      <td>-26.724</td>\n",
       "      <td>-8.667</td>\n",
       "    </tr>\n",
       "    <tr>\n",
       "      <th>METROPOLITANA SABANETA</th>\n",
       "      <td>0.000</td>\n",
       "      <td>0.000</td>\n",
       "      <td>0.000</td>\n",
       "      <td>0.000</td>\n",
       "      <td>-11.776</td>\n",
       "    </tr>\n",
       "    <tr>\n",
       "      <th>MILENIO</th>\n",
       "      <td>0.000</td>\n",
       "      <td>0.000</td>\n",
       "      <td>-61.233</td>\n",
       "      <td>-39.585</td>\n",
       "      <td>-8.553</td>\n",
       "    </tr>\n",
       "    <tr>\n",
       "      <th>MOSQUERA</th>\n",
       "      <td>0.000</td>\n",
       "      <td>0.000</td>\n",
       "      <td>0.000</td>\n",
       "      <td>0.000</td>\n",
       "      <td>0.000</td>\n",
       "    </tr>\n",
       "    <tr>\n",
       "      <th>NARINO 4</th>\n",
       "      <td>0.000</td>\n",
       "      <td>0.000</td>\n",
       "      <td>0.000</td>\n",
       "      <td>0.000</td>\n",
       "      <td>-11.517</td>\n",
       "    </tr>\n",
       "    <tr>\n",
       "      <th>OLAYA</th>\n",
       "      <td>0.000</td>\n",
       "      <td>0.000</td>\n",
       "      <td>0.000</td>\n",
       "      <td>-35.636</td>\n",
       "      <td>0.000</td>\n",
       "    </tr>\n",
       "    <tr>\n",
       "      <th>PATIO BONITO</th>\n",
       "      <td>0.000</td>\n",
       "      <td>0.000</td>\n",
       "      <td>-66.399</td>\n",
       "      <td>-31.083</td>\n",
       "      <td>-12.907</td>\n",
       "    </tr>\n",
       "    <tr>\n",
       "      <th>PEPE SIERRA</th>\n",
       "      <td>0.000</td>\n",
       "      <td>0.000</td>\n",
       "      <td>0.000</td>\n",
       "      <td>-23.070</td>\n",
       "      <td>-8.879</td>\n",
       "    </tr>\n",
       "    <tr>\n",
       "      <th>PEREIRA1</th>\n",
       "      <td>0.000</td>\n",
       "      <td>0.000</td>\n",
       "      <td>0.000</td>\n",
       "      <td>0.000</td>\n",
       "      <td>-17.794</td>\n",
       "    </tr>\n",
       "    <tr>\n",
       "      <th>PIEDECUESTA</th>\n",
       "      <td>0.000</td>\n",
       "      <td>0.000</td>\n",
       "      <td>-51.900</td>\n",
       "      <td>-26.952</td>\n",
       "      <td>-13.150</td>\n",
       "    </tr>\n",
       "    <tr>\n",
       "      <th>PLAZA</th>\n",
       "      <td>0.000</td>\n",
       "      <td>0.000</td>\n",
       "      <td>0.000</td>\n",
       "      <td>-39.148</td>\n",
       "      <td>0.000</td>\n",
       "    </tr>\n",
       "    <tr>\n",
       "      <th>QUIRIGUA</th>\n",
       "      <td>0.000</td>\n",
       "      <td>0.000</td>\n",
       "      <td>-60.132</td>\n",
       "      <td>-36.896</td>\n",
       "      <td>0.000</td>\n",
       "    </tr>\n",
       "    <tr>\n",
       "      <th>RECREO</th>\n",
       "      <td>0.000</td>\n",
       "      <td>0.000</td>\n",
       "      <td>-54.752</td>\n",
       "      <td>-31.151</td>\n",
       "      <td>0.000</td>\n",
       "    </tr>\n",
       "    <tr>\n",
       "      <th>ROMA</th>\n",
       "      <td>0.000</td>\n",
       "      <td>0.000</td>\n",
       "      <td>-60.194</td>\n",
       "      <td>-35.888</td>\n",
       "      <td>0.000</td>\n",
       "    </tr>\n",
       "    <tr>\n",
       "      <th>SAN FERNANDO</th>\n",
       "      <td>0.000</td>\n",
       "      <td>0.000</td>\n",
       "      <td>-58.963</td>\n",
       "      <td>0.000</td>\n",
       "      <td>-10.333</td>\n",
       "    </tr>\n",
       "    <tr>\n",
       "      <th>SAN MATEO</th>\n",
       "      <td>0.000</td>\n",
       "      <td>0.000</td>\n",
       "      <td>-69.278</td>\n",
       "      <td>-37.976</td>\n",
       "      <td>0.000</td>\n",
       "    </tr>\n",
       "    <tr>\n",
       "      <th>SANTA BARBARA</th>\n",
       "      <td>0.000</td>\n",
       "      <td>0.000</td>\n",
       "      <td>0.000</td>\n",
       "      <td>-24.386</td>\n",
       "      <td>-7.960</td>\n",
       "    </tr>\n",
       "    <tr>\n",
       "      <th>SANTA ISABEL</th>\n",
       "      <td>0.000</td>\n",
       "      <td>0.000</td>\n",
       "      <td>-64.540</td>\n",
       "      <td>-49.536</td>\n",
       "      <td>0.000</td>\n",
       "    </tr>\n",
       "    <tr>\n",
       "      <th>SANTA ROSA DE CABAL</th>\n",
       "      <td>0.000</td>\n",
       "      <td>0.000</td>\n",
       "      <td>-55.233</td>\n",
       "      <td>0.000</td>\n",
       "      <td>0.000</td>\n",
       "    </tr>\n",
       "    <tr>\n",
       "      <th>SILVANIA</th>\n",
       "      <td>0.000</td>\n",
       "      <td>0.000</td>\n",
       "      <td>0.000</td>\n",
       "      <td>0.000</td>\n",
       "      <td>-9.755</td>\n",
       "    </tr>\n",
       "    <tr>\n",
       "      <th>SOGAMOSO SUR</th>\n",
       "      <td>0.000</td>\n",
       "      <td>0.000</td>\n",
       "      <td>0.000</td>\n",
       "      <td>-43.847</td>\n",
       "      <td>-10.800</td>\n",
       "    </tr>\n",
       "    <tr>\n",
       "      <th>SOLEDAD Y POBLACIONES DISTRITO 3</th>\n",
       "      <td>0.000</td>\n",
       "      <td>0.000</td>\n",
       "      <td>0.000</td>\n",
       "      <td>-36.221</td>\n",
       "      <td>-8.767</td>\n",
       "    </tr>\n",
       "    <tr>\n",
       "      <th>SUBAZAR</th>\n",
       "      <td>0.000</td>\n",
       "      <td>0.000</td>\n",
       "      <td>-51.611</td>\n",
       "      <td>-30.008</td>\n",
       "      <td>-12.912</td>\n",
       "    </tr>\n",
       "    <tr>\n",
       "      <th>TECHO</th>\n",
       "      <td>0.000</td>\n",
       "      <td>0.000</td>\n",
       "      <td>-99.533</td>\n",
       "      <td>-30.713</td>\n",
       "      <td>-3.439</td>\n",
       "    </tr>\n",
       "    <tr>\n",
       "      <th>TOLIMA DISTRITO 1</th>\n",
       "      <td>0.000</td>\n",
       "      <td>0.000</td>\n",
       "      <td>0.000</td>\n",
       "      <td>-31.387</td>\n",
       "      <td>-12.844</td>\n",
       "    </tr>\n",
       "    <tr>\n",
       "      <th>TOLIMA DISTRITO 2</th>\n",
       "      <td>-216.000</td>\n",
       "      <td>0.000</td>\n",
       "      <td>0.000</td>\n",
       "      <td>0.000</td>\n",
       "      <td>-7.661</td>\n",
       "    </tr>\n",
       "    <tr>\n",
       "      <th>TOLIMA DISTRITO 3</th>\n",
       "      <td>0.000</td>\n",
       "      <td>0.000</td>\n",
       "      <td>-74.290</td>\n",
       "      <td>-38.412</td>\n",
       "      <td>0.000</td>\n",
       "    </tr>\n",
       "    <tr>\n",
       "      <th>TOLIMA DISTRITO 8</th>\n",
       "      <td>0.000</td>\n",
       "      <td>0.000</td>\n",
       "      <td>0.000</td>\n",
       "      <td>0.000</td>\n",
       "      <td>0.000</td>\n",
       "    </tr>\n",
       "    <tr>\n",
       "      <th>TUNJA NORTE</th>\n",
       "      <td>0.000</td>\n",
       "      <td>0.000</td>\n",
       "      <td>0.000</td>\n",
       "      <td>0.000</td>\n",
       "      <td>-3.842</td>\n",
       "    </tr>\n",
       "    <tr>\n",
       "      <th>VALLE DISTRITO 10</th>\n",
       "      <td>0.000</td>\n",
       "      <td>0.000</td>\n",
       "      <td>-52.100</td>\n",
       "      <td>0.000</td>\n",
       "      <td>0.000</td>\n",
       "    </tr>\n",
       "    <tr>\n",
       "      <th>VALLE DISTRITO 5</th>\n",
       "      <td>0.000</td>\n",
       "      <td>0.000</td>\n",
       "      <td>0.000</td>\n",
       "      <td>-29.625</td>\n",
       "      <td>-4.126</td>\n",
       "    </tr>\n",
       "    <tr>\n",
       "      <th>VALLE DISTRITO 6</th>\n",
       "      <td>0.000</td>\n",
       "      <td>0.000</td>\n",
       "      <td>0.000</td>\n",
       "      <td>0.000</td>\n",
       "      <td>-8.334</td>\n",
       "    </tr>\n",
       "    <tr>\n",
       "      <th>VALLE DISTRITO 9</th>\n",
       "      <td>0.000</td>\n",
       "      <td>0.000</td>\n",
       "      <td>0.000</td>\n",
       "      <td>-21.701</td>\n",
       "      <td>-13.700</td>\n",
       "    </tr>\n",
       "    <tr>\n",
       "      <th>VENECIA</th>\n",
       "      <td>0.000</td>\n",
       "      <td>0.000</td>\n",
       "      <td>-52.301</td>\n",
       "      <td>0.000</td>\n",
       "      <td>-15.100</td>\n",
       "    </tr>\n",
       "    <tr>\n",
       "      <th>VERBENAL</th>\n",
       "      <td>0.000</td>\n",
       "      <td>0.000</td>\n",
       "      <td>-81.967</td>\n",
       "      <td>0.000</td>\n",
       "      <td>0.000</td>\n",
       "    </tr>\n",
       "    <tr>\n",
       "      <th>VILLAVICENCIO CATAMA</th>\n",
       "      <td>0.000</td>\n",
       "      <td>0.000</td>\n",
       "      <td>0.000</td>\n",
       "      <td>-22.558</td>\n",
       "      <td>-6.000</td>\n",
       "    </tr>\n",
       "    <tr>\n",
       "      <th>VILLAVICENCIO NORTE</th>\n",
       "      <td>0.000</td>\n",
       "      <td>0.000</td>\n",
       "      <td>0.000</td>\n",
       "      <td>-36.333</td>\n",
       "      <td>-16.333</td>\n",
       "    </tr>\n",
       "    <tr>\n",
       "      <th>VILLAVICENCIO SUR</th>\n",
       "      <td>0.000</td>\n",
       "      <td>0.000</td>\n",
       "      <td>-56.813</td>\n",
       "      <td>-35.737</td>\n",
       "      <td>-12.751</td>\n",
       "    </tr>\n",
       "    <tr>\n",
       "      <th>ZIPAQUIRA</th>\n",
       "      <td>0.000</td>\n",
       "      <td>0.000</td>\n",
       "      <td>0.000</td>\n",
       "      <td>0.000</td>\n",
       "      <td>-4.884</td>\n",
       "    </tr>\n",
       "  </tbody>\n",
       "</table>\n",
       "</div>"
      ],
      "text/plain": [
       "                                               pred                   \\\n",
       "binPred                          (-238.502, -150.0] (-150.0, -100.0]   \n",
       "E_distrito                                                             \n",
       "20 DE JULIO                                   0.000            0.000   \n",
       "ACACIAS NORTE                                 0.000            0.000   \n",
       "ALQUERIA                                      0.000            0.000   \n",
       "ANAPOIMA                                      0.000            0.000   \n",
       "ANTIOQUIA NORTE 1                             0.000            0.000   \n",
       "ANTIOQUIA SUROESTE 1                          0.000            0.000   \n",
       "ARMENIA3                                      0.000            0.000   \n",
       "ARMENIA4                                      0.000            0.000   \n",
       "BARRANCABERMEJA                               0.000            0.000   \n",
       "BARRANCAS                                     0.000            0.000   \n",
       "BARRANQUILLA 1 DISTRITO 2                     0.000            0.000   \n",
       "BARRANQUILLA 1 DISTRITO 3                     0.000            0.000   \n",
       "BARRANQUILLA 1 DISTRITO 5                     0.000            0.000   \n",
       "BARRANQUILLA 2 DISTRITO 1                     0.000            0.000   \n",
       "BARRANQUILLA 2 DISTRITO 2                     0.000            0.000   \n",
       "BARRANQUILLA 2 DISTRITO 4                  -237.502            0.000   \n",
       "BELLO METROPOLITANO                           0.000            0.000   \n",
       "BELLO NORTE                                   0.000            0.000   \n",
       "BOLIVAR DISTRITO 1                            0.000            0.000   \n",
       "BOLIVAR DISTRITO 2                            0.000            0.000   \n",
       "BOLIVAR DISTRITO 3                            0.000            0.000   \n",
       "BOLIVAR DISTRITO 4                            0.000            0.000   \n",
       "BOLIVAR DISTRITO 5                            0.000            0.000   \n",
       "BOLIVIA                                       0.000         -108.933   \n",
       "BONAVISTA                                     0.000            0.000   \n",
       "BRASIL                                        0.000            0.000   \n",
       "CALI CENTRO DISTRITO 1                        0.000            0.000   \n",
       "CALI CENTRO DISTRITO 2                        0.000            0.000   \n",
       "CALI CENTRO DISTRITO 3                        0.000            0.000   \n",
       "CALI CENTRO DISTRITO 4                        0.000            0.000   \n",
       "CALI CENTRO DISTRITO 5                        0.000            0.000   \n",
       "CALI CENTRO DISTRITO 6                        0.000            0.000   \n",
       "CALI NORTE DISTRITO 1                         0.000            0.000   \n",
       "CALI NORTE DISTRITO 2                         0.000            0.000   \n",
       "CALI NORTE DISTRITO 3                         0.000         -120.297   \n",
       "CALI NORTE DISTRITO 4                         0.000            0.000   \n",
       "CALI SUR DISTRITO 1                        -153.158            0.000   \n",
       "CALI SUR DISTRITO 2                           0.000            0.000   \n",
       "CALI SUR DISTRITO 3                           0.000            0.000   \n",
       "CALI SUR DISTRITO 4                           0.000            0.000   \n",
       "CALI SUR DISTRITO 5                           0.000            0.000   \n",
       "CALI SUR DISTRITO 6                           0.000            0.000   \n",
       "CANDELARIA                                    0.000            0.000   \n",
       "CASA BLANCA                                   0.000         -126.650   \n",
       "CASANARE 3                                    0.000            0.000   \n",
       "CASTILLA                                      0.000         -107.153   \n",
       "CAUCA DISTRITO 4                              0.000            0.000   \n",
       "CAUCA DISTRITO 5                              0.000            0.000   \n",
       "CEDRITOS                                      0.000            0.000   \n",
       "CESAR DISTRITO 1                              0.000            0.000   \n",
       "CESAR DISTRITO 4                              0.000            0.000   \n",
       "COMPARTIR                                     0.000            0.000   \n",
       "CORDOBA SUCRE DISTRITO 2                      0.000            0.000   \n",
       "CORDOBA SUCRE DISTRITO 3                      0.000            0.000   \n",
       "CORDOBA SUCRE DISTRITO 4                      0.000            0.000   \n",
       "CORDOBA SUCRE DISTRITO 6                      0.000            0.000   \n",
       "DISTRITO BGA 1                                0.000            0.000   \n",
       "DISTRITO BGA 2                                0.000         -135.873   \n",
       "DISTRITO CUCUTA 1                             0.000            0.000   \n",
       "DISTRITO CUCUTA 2                             0.000            0.000   \n",
       "DISTRITO CUCUTA 3                             0.000            0.000   \n",
       "DISTRITO CUCUTA 4                             0.000            0.000   \n",
       "DISTRITO CUCUTA 5                             0.000            0.000   \n",
       "DISTRITO LOS PATIOS                           0.000            0.000   \n",
       "DISTRITO VILLA DEL ROSARIO                    0.000            0.000   \n",
       "DOSQUEBRADAS1                                 0.000            0.000   \n",
       "DUITAMA ORIENTE                               0.000            0.000   \n",
       "EL ENSUE�O                                    0.000            0.000   \n",
       "EL MUELLE                                     0.000         -105.962   \n",
       "ENGATIVA                                      0.000            0.000   \n",
       "FACATATIVA                                    0.000            0.000   \n",
       "FERROCARRIL                                   0.000            0.000   \n",
       "FUNZA SIBATE                                  0.000            0.000   \n",
       "FUSAGASUGA                                    0.000            0.000   \n",
       "GAITANA                                       0.000            0.000   \n",
       "GIRARDOT                                      0.000            0.000   \n",
       "GIRON                                         0.000            0.000   \n",
       "HUILA DISTRITO 1                              0.000            0.000   \n",
       "HUILA DISTRITO 2                              0.000            0.000   \n",
       "HUILA DISTRITO 3                              0.000            0.000   \n",
       "HUILA DISTRITO 4                              0.000            0.000   \n",
       "IMPERIAL                                      0.000            0.000   \n",
       "JAVERIANA                                     0.000            0.000   \n",
       "LA DORADA CALDAS                              0.000            0.000   \n",
       "LA VICTORIA                                   0.000            0.000   \n",
       "LAGO                                          0.000            0.000   \n",
       "MAGDALENA 1                                   0.000            0.000   \n",
       "MAGDALENA 2                                   0.000            0.000   \n",
       "MAGDALENA 3                                   0.000            0.000   \n",
       "MAGDALENA 5                                   0.000            0.000   \n",
       "MAGDALENA 6                                   0.000            0.000   \n",
       "MANIZALES CALDAS 1                            0.000            0.000   \n",
       "MANIZALES CALDAS2                             0.000            0.000   \n",
       "MARICHUELA                                    0.000            0.000   \n",
       "MARRUECOS                                     0.000            0.000   \n",
       "MEDELLIN CENTRO OCCIDENTE                     0.000            0.000   \n",
       "MEDELLIN CENTRO ORIENTAL                      0.000            0.000   \n",
       "MEDELLIN GRAN ROBLEDO                         0.000            0.000   \n",
       "MEDELLIN GRAN ROBLEDO SUR                     0.000            0.000   \n",
       "MEDELLIN NOROCCIDENTAL                        0.000            0.000   \n",
       "MEDELLIN NORORIENTAL                          0.000            0.000   \n",
       "MEDELLIN OCCIDENTE                            0.000            0.000   \n",
       "MEDELLIN SUROCCIDENTAL                        0.000            0.000   \n",
       "MEDELLIN SURORIENTAL                          0.000            0.000   \n",
       "METROPOLITANA ENVIGADO                        0.000            0.000   \n",
       "METROPOLITANA SABANETA                        0.000            0.000   \n",
       "MILENIO                                       0.000            0.000   \n",
       "MOSQUERA                                      0.000            0.000   \n",
       "NARINO 4                                      0.000            0.000   \n",
       "OLAYA                                         0.000            0.000   \n",
       "PATIO BONITO                                  0.000            0.000   \n",
       "PEPE SIERRA                                   0.000            0.000   \n",
       "PEREIRA1                                      0.000            0.000   \n",
       "PIEDECUESTA                                   0.000            0.000   \n",
       "PLAZA                                         0.000            0.000   \n",
       "QUIRIGUA                                      0.000            0.000   \n",
       "RECREO                                        0.000            0.000   \n",
       "ROMA                                          0.000            0.000   \n",
       "SAN FERNANDO                                  0.000            0.000   \n",
       "SAN MATEO                                     0.000            0.000   \n",
       "SANTA BARBARA                                 0.000            0.000   \n",
       "SANTA ISABEL                                  0.000            0.000   \n",
       "SANTA ROSA DE CABAL                           0.000            0.000   \n",
       "SILVANIA                                      0.000            0.000   \n",
       "SOGAMOSO SUR                                  0.000            0.000   \n",
       "SOLEDAD Y POBLACIONES DISTRITO 3              0.000            0.000   \n",
       "SUBAZAR                                       0.000            0.000   \n",
       "TECHO                                         0.000            0.000   \n",
       "TOLIMA DISTRITO 1                             0.000            0.000   \n",
       "TOLIMA DISTRITO 2                          -216.000            0.000   \n",
       "TOLIMA DISTRITO 3                             0.000            0.000   \n",
       "TOLIMA DISTRITO 8                             0.000            0.000   \n",
       "TUNJA NORTE                                   0.000            0.000   \n",
       "VALLE DISTRITO 10                             0.000            0.000   \n",
       "VALLE DISTRITO 5                              0.000            0.000   \n",
       "VALLE DISTRITO 6                              0.000            0.000   \n",
       "VALLE DISTRITO 9                              0.000            0.000   \n",
       "VENECIA                                       0.000            0.000   \n",
       "VERBENAL                                      0.000            0.000   \n",
       "VILLAVICENCIO CATAMA                          0.000            0.000   \n",
       "VILLAVICENCIO NORTE                           0.000            0.000   \n",
       "VILLAVICENCIO SUR                             0.000            0.000   \n",
       "ZIPAQUIRA                                     0.000            0.000   \n",
       "\n",
       "                                                                              \n",
       "binPred                          (-100.0, -50.0] (-50.0, -20.0] (-20.0, 0.0]  \n",
       "E_distrito                                                                    \n",
       "20 DE JULIO                                0.000        -33.648      -18.113  \n",
       "ACACIAS NORTE                              0.000          0.000      -11.571  \n",
       "ALQUERIA                                   0.000        -47.111       -1.097  \n",
       "ANAPOIMA                                   0.000          0.000       -7.978  \n",
       "ANTIOQUIA NORTE 1                        -69.725        -43.398        0.000  \n",
       "ANTIOQUIA SUROESTE 1                       0.000        -46.333        0.000  \n",
       "ARMENIA3                                   0.000        -20.833        0.000  \n",
       "ARMENIA4                                 -74.008        -28.475        0.000  \n",
       "BARRANCABERMEJA                            0.000        -25.833        0.000  \n",
       "BARRANCAS                                  0.000        -33.515        0.000  \n",
       "BARRANQUILLA 1 DISTRITO 2                  0.000        -32.000        0.000  \n",
       "BARRANQUILLA 1 DISTRITO 3                  0.000        -25.000        0.000  \n",
       "BARRANQUILLA 1 DISTRITO 5                  0.000        -20.667       -6.667  \n",
       "BARRANQUILLA 2 DISTRITO 1                  0.000        -32.030       -4.037  \n",
       "BARRANQUILLA 2 DISTRITO 2                  0.000          0.000       -5.982  \n",
       "BARRANQUILLA 2 DISTRITO 4                -59.354        -39.835      -10.516  \n",
       "BELLO METROPOLITANO                        0.000        -25.350       -7.219  \n",
       "BELLO NORTE                              -52.528        -33.264        0.000  \n",
       "BOLIVAR DISTRITO 1                         0.000        -40.858       -3.677  \n",
       "BOLIVAR DISTRITO 2                         0.000        -27.167      -17.771  \n",
       "BOLIVAR DISTRITO 3                       -50.879        -34.000       -3.854  \n",
       "BOLIVAR DISTRITO 4                         0.000          0.000      -10.966  \n",
       "BOLIVAR DISTRITO 5                         0.000        -32.876       -7.593  \n",
       "BOLIVIA                                  -69.600        -32.135      -10.797  \n",
       "BONAVISTA                                -57.667          0.000        0.000  \n",
       "BRASIL                                     0.000        -33.667      -10.316  \n",
       "CALI CENTRO DISTRITO 1                   -86.183        -28.465        0.000  \n",
       "CALI CENTRO DISTRITO 2                     0.000          0.000      -13.862  \n",
       "CALI CENTRO DISTRITO 3                     0.000        -23.123        0.000  \n",
       "CALI CENTRO DISTRITO 4                     0.000        -28.777       -4.275  \n",
       "CALI CENTRO DISTRITO 5                   -69.770        -38.169        0.000  \n",
       "CALI CENTRO DISTRITO 6                     0.000        -33.286       -8.689  \n",
       "CALI NORTE DISTRITO 1                    -95.239        -35.740        0.000  \n",
       "CALI NORTE DISTRITO 2                    -61.345        -47.872        0.000  \n",
       "CALI NORTE DISTRITO 3                    -54.451        -27.969       -6.484  \n",
       "CALI NORTE DISTRITO 4                      0.000          0.000      -18.051  \n",
       "CALI SUR DISTRITO 1                        0.000        -46.497        0.000  \n",
       "CALI SUR DISTRITO 2                      -70.723        -41.580      -10.149  \n",
       "CALI SUR DISTRITO 3                        0.000        -31.387        0.000  \n",
       "CALI SUR DISTRITO 4                        0.000        -37.293       -6.330  \n",
       "CALI SUR DISTRITO 5                      -60.369        -40.025      -10.802  \n",
       "CALI SUR DISTRITO 6                      -53.075        -47.190        0.000  \n",
       "CANDELARIA                               -56.081        -32.162      -10.104  \n",
       "CASA BLANCA                              -87.352        -34.908      -13.602  \n",
       "CASANARE 3                               -62.233          0.000        0.000  \n",
       "CASTILLA                                 -83.489        -26.239      -10.550  \n",
       "CAUCA DISTRITO 4                           0.000          0.000      -10.002  \n",
       "CAUCA DISTRITO 5                           0.000          0.000       -2.598  \n",
       "CEDRITOS                                 -66.968        -26.581       -8.269  \n",
       "CESAR DISTRITO 1                           0.000          0.000      -18.548  \n",
       "CESAR DISTRITO 4                           0.000        -38.163        0.000  \n",
       "COMPARTIR                                  0.000        -29.797        0.000  \n",
       "CORDOBA SUCRE DISTRITO 2                   0.000          0.000       -9.223  \n",
       "CORDOBA SUCRE DISTRITO 3                   0.000        -36.284       -3.742  \n",
       "CORDOBA SUCRE DISTRITO 4                   0.000          0.000       -4.211  \n",
       "CORDOBA SUCRE DISTRITO 6                   0.000          0.000       -7.620  \n",
       "DISTRITO BGA 1                           -61.490        -39.540       -6.308  \n",
       "DISTRITO BGA 2                             0.000        -34.344       -5.594  \n",
       "DISTRITO CUCUTA 1                          0.000        -21.193       -6.792  \n",
       "DISTRITO CUCUTA 2                          0.000          0.000       -6.147  \n",
       "DISTRITO CUCUTA 3                          0.000        -35.180      -13.552  \n",
       "DISTRITO CUCUTA 4                          0.000        -33.873      -14.207  \n",
       "DISTRITO CUCUTA 5                          0.000          0.000       -3.548  \n",
       "DISTRITO LOS PATIOS                        0.000        -25.000      -12.279  \n",
       "DISTRITO VILLA DEL ROSARIO                 0.000        -23.290        0.000  \n",
       "DOSQUEBRADAS1                              0.000        -36.583        0.000  \n",
       "DUITAMA ORIENTE                          -58.751        -25.999        0.000  \n",
       "EL ENSUE�O                               -50.711        -44.933        0.000  \n",
       "EL MUELLE                                -61.000        -39.044      -16.675  \n",
       "ENGATIVA                                 -52.430        -33.770      -10.605  \n",
       "FACATATIVA                                 0.000        -34.669        0.000  \n",
       "FERROCARRIL                              -69.237        -44.866        0.000  \n",
       "FUNZA SIBATE                               0.000        -28.217      -16.556  \n",
       "FUSAGASUGA                                 0.000        -36.799        0.000  \n",
       "GAITANA                                    0.000        -23.010      -13.902  \n",
       "GIRARDOT                                   0.000          0.000       -7.203  \n",
       "GIRON                                      0.000        -26.842       -6.136  \n",
       "HUILA DISTRITO 1                           0.000        -23.333       -5.754  \n",
       "HUILA DISTRITO 2                           0.000        -23.667       -5.719  \n",
       "HUILA DISTRITO 3                           0.000          0.000       -0.768  \n",
       "HUILA DISTRITO 4                           0.000          0.000       -3.777  \n",
       "IMPERIAL                                 -67.245        -29.077      -13.238  \n",
       "JAVERIANA                                -56.590        -26.656       -8.874  \n",
       "LA DORADA CALDAS                           0.000        -45.299       -1.800  \n",
       "LA VICTORIA                                0.000          0.000      -12.881  \n",
       "LAGO                                     -65.990        -29.778       -6.707  \n",
       "MAGDALENA 1                                0.000        -41.951       -8.702  \n",
       "MAGDALENA 2                                0.000        -48.333       -2.221  \n",
       "MAGDALENA 3                                0.000          0.000       -5.461  \n",
       "MAGDALENA 5                                0.000          0.000       -6.331  \n",
       "MAGDALENA 6                                0.000          0.000       -3.374  \n",
       "MANIZALES CALDAS 1                         0.000        -23.207      -13.327  \n",
       "MANIZALES CALDAS2                          0.000        -20.550        0.000  \n",
       "MARICHUELA                                 0.000        -46.865        0.000  \n",
       "MARRUECOS                                -62.645          0.000      -11.539  \n",
       "MEDELLIN CENTRO OCCIDENTE                  0.000        -20.052      -11.214  \n",
       "MEDELLIN CENTRO ORIENTAL                   0.000          0.000       -5.059  \n",
       "MEDELLIN GRAN ROBLEDO                    -50.434        -24.843      -10.253  \n",
       "MEDELLIN GRAN ROBLEDO SUR                -59.387        -40.295        0.000  \n",
       "MEDELLIN NOROCCIDENTAL                   -72.133        -37.655        0.000  \n",
       "MEDELLIN NORORIENTAL                       0.000        -30.923      -14.012  \n",
       "MEDELLIN OCCIDENTE                         0.000        -28.517      -19.633  \n",
       "MEDELLIN SUROCCIDENTAL                     0.000          0.000      -11.834  \n",
       "MEDELLIN SURORIENTAL                       0.000          0.000       -7.102  \n",
       "METROPOLITANA ENVIGADO                     0.000        -26.724       -8.667  \n",
       "METROPOLITANA SABANETA                     0.000          0.000      -11.776  \n",
       "MILENIO                                  -61.233        -39.585       -8.553  \n",
       "MOSQUERA                                   0.000          0.000        0.000  \n",
       "NARINO 4                                   0.000          0.000      -11.517  \n",
       "OLAYA                                      0.000        -35.636        0.000  \n",
       "PATIO BONITO                             -66.399        -31.083      -12.907  \n",
       "PEPE SIERRA                                0.000        -23.070       -8.879  \n",
       "PEREIRA1                                   0.000          0.000      -17.794  \n",
       "PIEDECUESTA                              -51.900        -26.952      -13.150  \n",
       "PLAZA                                      0.000        -39.148        0.000  \n",
       "QUIRIGUA                                 -60.132        -36.896        0.000  \n",
       "RECREO                                   -54.752        -31.151        0.000  \n",
       "ROMA                                     -60.194        -35.888        0.000  \n",
       "SAN FERNANDO                             -58.963          0.000      -10.333  \n",
       "SAN MATEO                                -69.278        -37.976        0.000  \n",
       "SANTA BARBARA                              0.000        -24.386       -7.960  \n",
       "SANTA ISABEL                             -64.540        -49.536        0.000  \n",
       "SANTA ROSA DE CABAL                      -55.233          0.000        0.000  \n",
       "SILVANIA                                   0.000          0.000       -9.755  \n",
       "SOGAMOSO SUR                               0.000        -43.847      -10.800  \n",
       "SOLEDAD Y POBLACIONES DISTRITO 3           0.000        -36.221       -8.767  \n",
       "SUBAZAR                                  -51.611        -30.008      -12.912  \n",
       "TECHO                                    -99.533        -30.713       -3.439  \n",
       "TOLIMA DISTRITO 1                          0.000        -31.387      -12.844  \n",
       "TOLIMA DISTRITO 2                          0.000          0.000       -7.661  \n",
       "TOLIMA DISTRITO 3                        -74.290        -38.412        0.000  \n",
       "TOLIMA DISTRITO 8                          0.000          0.000        0.000  \n",
       "TUNJA NORTE                                0.000          0.000       -3.842  \n",
       "VALLE DISTRITO 10                        -52.100          0.000        0.000  \n",
       "VALLE DISTRITO 5                           0.000        -29.625       -4.126  \n",
       "VALLE DISTRITO 6                           0.000          0.000       -8.334  \n",
       "VALLE DISTRITO 9                           0.000        -21.701      -13.700  \n",
       "VENECIA                                  -52.301          0.000      -15.100  \n",
       "VERBENAL                                 -81.967          0.000        0.000  \n",
       "VILLAVICENCIO CATAMA                       0.000        -22.558       -6.000  \n",
       "VILLAVICENCIO NORTE                        0.000        -36.333      -16.333  \n",
       "VILLAVICENCIO SUR                        -56.813        -35.737      -12.751  \n",
       "ZIPAQUIRA                                  0.000          0.000       -4.884  "
      ]
     },
     "execution_count": 800,
     "metadata": {},
     "output_type": "execute_result"
    }
   ],
   "source": [
    "pt"
   ]
  },
  {
   "cell_type": "code",
   "execution_count": 801,
   "id": "c4a1232c-d145-4554-915e-e727f73579fa",
   "metadata": {},
   "outputs": [
    {
     "data": {
      "text/plain": [
       "E_distrito\n",
       "BARRANQUILLA 2 DISTRITO 4          -347.206\n",
       "CASA BLANCA                        -262.511\n",
       "CASTILLA                           -227.431\n",
       "TOLIMA DISTRITO 2                  -223.661\n",
       "EL MUELLE                          -222.681\n",
       "BOLIVIA                            -221.465\n",
       "CALI NORTE DISTRITO 3              -209.201\n",
       "CALI SUR DISTRITO 1                -199.655\n",
       "DISTRITO BGA 2                     -175.812\n",
       "TECHO                              -133.685\n",
       "CALI NORTE DISTRITO 1              -130.979\n",
       "CALI SUR DISTRITO 2                -122.452\n",
       "CALI CENTRO DISTRITO 1             -114.648\n",
       "FERROCARRIL                        -114.102\n",
       "SANTA ISABEL                       -114.077\n",
       "ANTIOQUIA NORTE 1                  -113.122\n",
       "TOLIMA DISTRITO 3                  -112.702\n",
       "CALI SUR DISTRITO 5                -111.197\n",
       "PATIO BONITO                       -110.389\n",
       "MEDELLIN NOROCCIDENTAL             -109.788\n",
       "IMPERIAL                           -109.560\n",
       "MILENIO                            -109.371\n",
       "CALI NORTE DISTRITO 2              -109.218\n",
       "CALI CENTRO DISTRITO 5             -107.938\n",
       "DISTRITO BGA 1                     -107.339\n",
       "SAN MATEO                          -107.254\n",
       "VILLAVICENCIO SUR                  -105.302\n",
       "ARMENIA4                           -102.483\n",
       "LAGO                               -102.475\n",
       "CEDRITOS                           -101.818\n",
       "CALI SUR DISTRITO 6                -100.265\n",
       "MEDELLIN GRAN ROBLEDO SUR           -99.682\n",
       "CANDELARIA                          -98.347\n",
       "QUIRIGUA                            -97.027\n",
       "ENGATIVA                            -96.805\n",
       "ROMA                                -96.082\n",
       "EL ENSUE�O                          -95.645\n",
       "SUBAZAR                             -94.530\n",
       "JAVERIANA                           -92.120\n",
       "PIEDECUESTA                         -92.002\n",
       "BOLIVAR DISTRITO 3                  -88.733\n",
       "RECREO                              -85.903\n",
       "BELLO NORTE                         -85.792\n",
       "MEDELLIN GRAN ROBLEDO               -85.530\n",
       "DUITAMA ORIENTE                     -84.750\n",
       "VERBENAL                            -81.967\n",
       "MARRUECOS                           -74.184\n",
       "SAN FERNANDO                        -69.296\n",
       "VENECIA                             -67.401\n",
       "CASANARE 3                          -62.233\n",
       "BONAVISTA                           -57.667\n",
       "SANTA ROSA DE CABAL                 -55.233\n",
       "SOGAMOSO SUR                        -54.647\n",
       "VILLAVICENCIO NORTE                 -52.667\n",
       "VALLE DISTRITO 10                   -52.100\n",
       "20 DE JULIO                         -51.761\n",
       "MAGDALENA 1                         -50.653\n",
       "MAGDALENA 2                         -50.555\n",
       "DISTRITO CUCUTA 3                   -48.732\n",
       "ALQUERIA                            -48.208\n",
       "MEDELLIN OCCIDENTE                  -48.150\n",
       "DISTRITO CUCUTA 4                   -48.080\n",
       "LA DORADA CALDAS                    -47.099\n",
       "MARICHUELA                          -46.865\n",
       "ANTIOQUIA SUROESTE 1                -46.333\n",
       "SOLEDAD Y POBLACIONES DISTRITO 3    -44.988\n",
       "BOLIVAR DISTRITO 2                  -44.938\n",
       "MEDELLIN NORORIENTAL                -44.934\n",
       "FUNZA SIBATE                        -44.773\n",
       "BOLIVAR DISTRITO 1                  -44.535\n",
       "TOLIMA DISTRITO 1                   -44.231\n",
       "BRASIL                              -43.983\n",
       "CALI SUR DISTRITO 4                 -43.623\n",
       "CALI CENTRO DISTRITO 6              -41.975\n",
       "BOLIVAR DISTRITO 5                  -40.470\n",
       "CORDOBA SUCRE DISTRITO 3            -40.026\n",
       "PLAZA                               -39.148\n",
       "CESAR DISTRITO 4                    -38.163\n",
       "DISTRITO LOS PATIOS                 -37.279\n",
       "GAITANA                             -36.912\n",
       "FUSAGASUGA                          -36.799\n",
       "DOSQUEBRADAS1                       -36.583\n",
       "MANIZALES CALDAS 1                  -36.534\n",
       "BARRANQUILLA 2 DISTRITO 1           -36.067\n",
       "OLAYA                               -35.636\n",
       "VALLE DISTRITO 9                    -35.401\n",
       "METROPOLITANA ENVIGADO              -35.391\n",
       "FACATATIVA                          -34.669\n",
       "VALLE DISTRITO 5                    -33.751\n",
       "BARRANCAS                           -33.515\n",
       "CALI CENTRO DISTRITO 4              -33.053\n",
       "GIRON                               -32.978\n",
       "BELLO METROPOLITANO                 -32.568\n",
       "SANTA BARBARA                       -32.346\n",
       "BARRANQUILLA 1 DISTRITO 2           -32.000\n",
       "PEPE SIERRA                         -31.949\n",
       "CALI SUR DISTRITO 3                 -31.387\n",
       "MEDELLIN CENTRO OCCIDENTE           -31.266\n",
       "COMPARTIR                           -29.797\n",
       "HUILA DISTRITO 2                    -29.386\n",
       "HUILA DISTRITO 1                    -29.087\n",
       "VILLAVICENCIO CATAMA                -28.558\n",
       "DISTRITO CUCUTA 1                   -27.985\n",
       "BARRANQUILLA 1 DISTRITO 5           -27.333\n",
       "BARRANCABERMEJA                     -25.833\n",
       "BARRANQUILLA 1 DISTRITO 3           -25.000\n",
       "DISTRITO VILLA DEL ROSARIO          -23.290\n",
       "CALI CENTRO DISTRITO 3              -23.123\n",
       "ARMENIA3                            -20.833\n",
       "MANIZALES CALDAS2                   -20.550\n",
       "CESAR DISTRITO 1                    -18.548\n",
       "CALI NORTE DISTRITO 4               -18.051\n",
       "PEREIRA1                            -17.794\n",
       "CALI CENTRO DISTRITO 2              -13.862\n",
       "LA VICTORIA                         -12.881\n",
       "MEDELLIN SUROCCIDENTAL              -11.834\n",
       "METROPOLITANA SABANETA              -11.776\n",
       "ACACIAS NORTE                       -11.571\n",
       "NARINO 4                            -11.517\n",
       "BOLIVAR DISTRITO 4                  -10.966\n",
       "CAUCA DISTRITO 4                    -10.002\n",
       "SILVANIA                             -9.755\n",
       "CORDOBA SUCRE DISTRITO 2             -9.223\n",
       "VALLE DISTRITO 6                     -8.334\n",
       "ANAPOIMA                             -7.978\n",
       "CORDOBA SUCRE DISTRITO 6             -7.620\n",
       "GIRARDOT                             -7.203\n",
       "MEDELLIN SURORIENTAL                 -7.102\n",
       "MAGDALENA 5                          -6.331\n",
       "DISTRITO CUCUTA 2                    -6.147\n",
       "BARRANQUILLA 2 DISTRITO 2            -5.982\n",
       "MAGDALENA 3                          -5.461\n",
       "MEDELLIN CENTRO ORIENTAL             -5.059\n",
       "ZIPAQUIRA                            -4.884\n",
       "CORDOBA SUCRE DISTRITO 4             -4.211\n",
       "TUNJA NORTE                          -3.842\n",
       "HUILA DISTRITO 4                     -3.777\n",
       "DISTRITO CUCUTA 5                    -3.548\n",
       "MAGDALENA 6                          -3.374\n",
       "CAUCA DISTRITO 5                     -2.598\n",
       "HUILA DISTRITO 3                     -0.768\n",
       "TOLIMA DISTRITO 8                     0.000\n",
       "MOSQUERA                              0.000\n",
       "dtype: float64"
      ]
     },
     "execution_count": 801,
     "metadata": {},
     "output_type": "execute_result"
    }
   ],
   "source": [
    "pt.sum(axis=1).sort_values()"
   ]
  },
  {
   "cell_type": "markdown",
   "id": "3bfe9cb9-32b8-49eb-bec8-086af4aebc24",
   "metadata": {},
   "source": [
    "##  Revisión casos atípicos\n",
    "* Mayores errores en los metodos"
   ]
  },
  {
   "cell_type": "code",
   "execution_count": 802,
   "id": "61ade81c-e79c-408a-9934-efc6b912a29c",
   "metadata": {},
   "outputs": [
    {
     "data": {
      "text/html": [
       "<div>\n",
       "<style scoped>\n",
       "    .dataframe tbody tr th:only-of-type {\n",
       "        vertical-align: middle;\n",
       "    }\n",
       "\n",
       "    .dataframe tbody tr th {\n",
       "        vertical-align: top;\n",
       "    }\n",
       "\n",
       "    .dataframe thead th {\n",
       "        text-align: right;\n",
       "    }\n",
       "</style>\n",
       "<table border=\"1\" class=\"dataframe\">\n",
       "  <thead>\n",
       "    <tr style=\"text-align: right;\">\n",
       "      <th></th>\n",
       "      <th>ARIMA</th>\n",
       "      <th>ES</th>\n",
       "      <th>HOLT</th>\n",
       "      <th>ES_ajTend</th>\n",
       "      <th>ARIMAX</th>\n",
       "      <th>ARIMAX2</th>\n",
       "      <th>seleccion</th>\n",
       "      <th>errorMin</th>\n",
       "      <th>binError</th>\n",
       "    </tr>\n",
       "  </thead>\n",
       "  <tbody>\n",
       "    <tr>\n",
       "      <th>12</th>\n",
       "      <td>26.862</td>\n",
       "      <td>25.858</td>\n",
       "      <td>21.556</td>\n",
       "      <td>23.247</td>\n",
       "      <td>29.765</td>\n",
       "      <td>30.634</td>\n",
       "      <td>HOLT</td>\n",
       "      <td>21.556</td>\n",
       "      <td>(20.0, 32.777]</td>\n",
       "    </tr>\n",
       "    <tr>\n",
       "      <th>1AP</th>\n",
       "      <td>32.572</td>\n",
       "      <td>34.257</td>\n",
       "      <td>30.639</td>\n",
       "      <td>30.244</td>\n",
       "      <td>41.287</td>\n",
       "      <td>41.495</td>\n",
       "      <td>ES_ajTend</td>\n",
       "      <td>30.244</td>\n",
       "      <td>(20.0, 32.777]</td>\n",
       "    </tr>\n",
       "    <tr>\n",
       "      <th>1BQ3B</th>\n",
       "      <td>21.354</td>\n",
       "      <td>22.620</td>\n",
       "      <td>22.648</td>\n",
       "      <td>22.620</td>\n",
       "      <td>21.573</td>\n",
       "      <td>20.512</td>\n",
       "      <td>ARIMAX2</td>\n",
       "      <td>20.512</td>\n",
       "      <td>(20.0, 32.777]</td>\n",
       "    </tr>\n",
       "    <tr>\n",
       "      <th>1MS</th>\n",
       "      <td>29.691</td>\n",
       "      <td>30.795</td>\n",
       "      <td>32.577</td>\n",
       "      <td>32.523</td>\n",
       "      <td>40.222</td>\n",
       "      <td>32.375</td>\n",
       "      <td>ARIMA</td>\n",
       "      <td>29.691</td>\n",
       "      <td>(20.0, 32.777]</td>\n",
       "    </tr>\n",
       "    <tr>\n",
       "      <th>1NV</th>\n",
       "      <td>21.794</td>\n",
       "      <td>21.882</td>\n",
       "      <td>21.838</td>\n",
       "      <td>21.947</td>\n",
       "      <td>26.582</td>\n",
       "      <td>26.790</td>\n",
       "      <td>ARIMA</td>\n",
       "      <td>21.794</td>\n",
       "      <td>(20.0, 32.777]</td>\n",
       "    </tr>\n",
       "    <tr>\n",
       "      <th>1VD</th>\n",
       "      <td>26.770</td>\n",
       "      <td>27.191</td>\n",
       "      <td>27.271</td>\n",
       "      <td>27.115</td>\n",
       "      <td>24.930</td>\n",
       "      <td>25.304</td>\n",
       "      <td>ARIMAX</td>\n",
       "      <td>24.930</td>\n",
       "      <td>(20.0, 32.777]</td>\n",
       "    </tr>\n",
       "    <tr>\n",
       "      <th>1VS</th>\n",
       "      <td>33.762</td>\n",
       "      <td>35.680</td>\n",
       "      <td>36.858</td>\n",
       "      <td>32.777</td>\n",
       "      <td>36.071</td>\n",
       "      <td>33.787</td>\n",
       "      <td>ES_ajTend</td>\n",
       "      <td>32.777</td>\n",
       "      <td>(20.0, 32.777]</td>\n",
       "    </tr>\n",
       "    <tr>\n",
       "      <th>2BQ2</th>\n",
       "      <td>23.310</td>\n",
       "      <td>23.000</td>\n",
       "      <td>21.593</td>\n",
       "      <td>21.995</td>\n",
       "      <td>23.202</td>\n",
       "      <td>23.596</td>\n",
       "      <td>HOLT</td>\n",
       "      <td>21.593</td>\n",
       "      <td>(20.0, 32.777]</td>\n",
       "    </tr>\n",
       "    <tr>\n",
       "      <th>2C0</th>\n",
       "      <td>21.965</td>\n",
       "      <td>22.623</td>\n",
       "      <td>23.836</td>\n",
       "      <td>23.759</td>\n",
       "      <td>25.002</td>\n",
       "      <td>22.424</td>\n",
       "      <td>ARIMA</td>\n",
       "      <td>21.965</td>\n",
       "      <td>(20.0, 32.777]</td>\n",
       "    </tr>\n",
       "  </tbody>\n",
       "</table>\n",
       "</div>"
      ],
      "text/plain": [
       "       ARIMA     ES   HOLT  ES_ajTend  ARIMAX  ARIMAX2  seleccion  errorMin  \\\n",
       "12    26.862 25.858 21.556     23.247  29.765   30.634       HOLT    21.556   \n",
       "1AP   32.572 34.257 30.639     30.244  41.287   41.495  ES_ajTend    30.244   \n",
       "1BQ3B 21.354 22.620 22.648     22.620  21.573   20.512    ARIMAX2    20.512   \n",
       "1MS   29.691 30.795 32.577     32.523  40.222   32.375      ARIMA    29.691   \n",
       "1NV   21.794 21.882 21.838     21.947  26.582   26.790      ARIMA    21.794   \n",
       "1VD   26.770 27.191 27.271     27.115  24.930   25.304     ARIMAX    24.930   \n",
       "1VS   33.762 35.680 36.858     32.777  36.071   33.787  ES_ajTend    32.777   \n",
       "2BQ2  23.310 23.000 21.593     21.995  23.202   23.596       HOLT    21.593   \n",
       "2C0   21.965 22.623 23.836     23.759  25.002   22.424      ARIMA    21.965   \n",
       "\n",
       "             binError  \n",
       "12     (20.0, 32.777]  \n",
       "1AP    (20.0, 32.777]  \n",
       "1BQ3B  (20.0, 32.777]  \n",
       "1MS    (20.0, 32.777]  \n",
       "1NV    (20.0, 32.777]  \n",
       "1VD    (20.0, 32.777]  \n",
       "1VS    (20.0, 32.777]  \n",
       "2BQ2   (20.0, 32.777]  \n",
       "2C0    (20.0, 32.777]  "
      ]
     },
     "execution_count": 802,
     "metadata": {},
     "output_type": "execute_result"
    }
   ],
   "source": [
    "dfFinalErrores[dfFinalErrores['errorMin']>=20]"
   ]
  },
  {
   "cell_type": "code",
   "execution_count": 803,
   "id": "b7b38329-362d-4368-8b16-5414a96c9bff",
   "metadata": {
    "tags": []
   },
   "outputs": [
    {
     "name": "stdout",
     "output_type": "stream",
     "text": [
      "12\n",
      "{'ARIMA': 26.862303202319293, 'ES': 25.85760531824659, 'HOLT': 21.5561283647001, 'ES_ajTend': 23.246616417470985, 'ARIMAX': 29.76520276790898, 'ARIMAX2': 30.63405485384329}\n",
      "1AP\n",
      "{'ARIMA': 32.57171574643661, 'ES': 34.25743311689504, 'HOLT': 30.638989821301543, 'ES_ajTend': 30.243813180575387, 'ARIMAX': 41.287448238571095, 'ARIMAX2': 41.495413085408146}\n",
      "1BQ3B\n",
      "{'ARIMA': 21.354156504062622, 'ES': 22.619657134644832, 'HOLT': 22.648309463696293, 'ES_ajTend': 22.620292916089976, 'ARIMAX': 21.573033148284193, 'ARIMAX2': 20.512139339845653}\n",
      "1MS\n",
      "{'ARIMA': 29.691469032928183, 'ES': 30.79477463166191, 'HOLT': 32.576827015497464, 'ES_ajTend': 32.52289007480876, 'ARIMAX': 40.22195631431521, 'ARIMAX2': 32.375176929819716}\n",
      "1NV\n",
      "{'ARIMA': 21.79449471770337, 'ES': 21.881668716856105, 'HOLT': 21.838451025142398, 'ES_ajTend': 21.946752852425938, 'ARIMAX': 26.582081359061572, 'ARIMAX2': 26.790067330428137}\n",
      "1VD\n",
      "{'ARIMA': 26.770080172896993, 'ES': 27.191279049020487, 'HOLT': 27.27082508170165, 'ES_ajTend': 27.114735430444544, 'ARIMAX': 24.929605634311454, 'ARIMAX2': 25.304135391768057}\n",
      "1VS\n",
      "{'ARIMA': 33.76173778512601, 'ES': 35.67970277704495, 'HOLT': 36.85840208475139, 'ES_ajTend': 32.777230480126526, 'ARIMAX': 36.071380665521254, 'ARIMAX2': 33.787200668591986}\n",
      "2BQ2\n",
      "{'ARIMA': 23.309511649396118, 'ES': 22.999607607813196, 'HOLT': 21.592523668193966, 'ES_ajTend': 21.994677606056232, 'ARIMAX': 23.201569127924703, 'ARIMAX2': 23.596423070956675}\n",
      "2C0\n",
      "{'ARIMA': 21.9652503337026, 'ES': 22.62279633778292, 'HOLT': 23.836247772433204, 'ES_ajTend': 23.75885003710751, 'ARIMAX': 25.00157240978869, 'ARIMAX2': 22.42354397534887}\n"
     ]
    },
    {
     "data": {
      "image/png": "[encoded data removed]",
      "text/plain": [
       "<Figure size 432x288 with 1 Axes>"
      ]
     },
     "metadata": {
      "needs_background": "light"
     },
     "output_type": "display_data"
    },
    {
     "data": {
      "image/png": "[encoded data removed]",
      "text/plain": [
       "<Figure size 432x288 with 1 Axes>"
      ]
     },
     "metadata": {
      "needs_background": "light"
     },
     "output_type": "display_data"
    },
    {
     "data": {
      "image/png": "[encoded data removed]",
      "text/plain": [
       "<Figure size 432x288 with 1 Axes>"
      ]
     },
     "metadata": {
      "needs_background": "light"
     },
     "output_type": "display_data"
    },
    {
     "data": {
      "image/png": "[encoded data removed]",
      "text/plain": [
       "<Figure size 432x288 with 1 Axes>"
      ]
     },
     "metadata": {
      "needs_background": "light"
     },
     "output_type": "display_data"
    },
    {
     "data": {
      "image/png": "[encoded data removed]",
      "text/plain": [
       "<Figure size 432x288 with 1 Axes>"
      ]
     },
     "metadata": {
      "needs_background": "light"
     },
     "output_type": "display_data"
    },
    {
     "data": {
      "image/png": "[encoded data removed]",
      "text/plain": [
       "<Figure size 432x288 with 1 Axes>"
      ]
     },
     "metadata": {
      "needs_background": "light"
     },
     "output_type": "display_data"
    },
    {
     "data": {
      "image/png": "[encoded data removed]",
      "text/plain": [
       "<Figure size 432x288 with 1 Axes>"
      ]
     },
     "metadata": {
      "needs_background": "light"
     },
     "output_type": "display_data"
    },
    {
     "data": {
      "image/png": "[encoded data removed]",
      "text/plain": [
       "<Figure size 432x288 with 1 Axes>"
      ]
     },
     "metadata": {
      "needs_background": "light"
     },
     "output_type": "display_data"
    },
    {
     "data": {
      "image/png": "[encoded data removed]",
      "text/plain": [
       "<Figure size 432x288 with 1 Axes>"
      ]
     },
     "metadata": {
      "needs_background": "light"
     },
     "output_type": "display_data"
    }
   ],
   "source": [
    "for key, row in dfFinalErrores[dfFinalErrores['errorMin']>=20].iterrows():\n",
    "    print(key)\n",
    "    visualNodo(key)"
   ]
  },
  {
   "cell_type": "markdown",
   "id": "d5f8f4ed-ace1-4067-9e42-c4132148027d",
   "metadata": {},
   "source": [
    "* Churn más bajos"
   ]
  },
  {
   "cell_type": "code",
   "execution_count": 804,
   "id": "633f6777-2a6d-4051-984a-e68aa302b16e",
   "metadata": {},
   "outputs": [
    {
     "data": {
      "text/html": [
       "<div>\n",
       "<style scoped>\n",
       "    .dataframe tbody tr th:only-of-type {\n",
       "        vertical-align: middle;\n",
       "    }\n",
       "\n",
       "    .dataframe tbody tr th {\n",
       "        vertical-align: top;\n",
       "    }\n",
       "\n",
       "    .dataframe thead th {\n",
       "        text-align: right;\n",
       "    }\n",
       "</style>\n",
       "<table border=\"1\" class=\"dataframe\">\n",
       "  <thead>\n",
       "    <tr style=\"text-align: right;\">\n",
       "      <th></th>\n",
       "      <th>pred</th>\n",
       "      <th>Nodo</th>\n",
       "      <th>Metodo</th>\n",
       "      <th>binPred</th>\n",
       "    </tr>\n",
       "    <tr>\n",
       "      <th>FECHA</th>\n",
       "      <th></th>\n",
       "      <th></th>\n",
       "      <th></th>\n",
       "      <th></th>\n",
       "    </tr>\n",
       "  </thead>\n",
       "  <tbody>\n",
       "    <tr>\n",
       "      <th>2021-10-01</th>\n",
       "      <td>-65.500</td>\n",
       "      <td>1LO</td>\n",
       "      <td>HOLT</td>\n",
       "      <td>(-92.453, -50.0]</td>\n",
       "    </tr>\n",
       "    <tr>\n",
       "      <th>2021-11-01</th>\n",
       "      <td>-72.000</td>\n",
       "      <td>1LO</td>\n",
       "      <td>HOLT</td>\n",
       "      <td>(-92.453, -50.0]</td>\n",
       "    </tr>\n",
       "    <tr>\n",
       "      <th>2021-12-01</th>\n",
       "      <td>-78.500</td>\n",
       "      <td>1LO</td>\n",
       "      <td>HOLT</td>\n",
       "      <td>(-92.453, -50.0]</td>\n",
       "    </tr>\n",
       "    <tr>\n",
       "      <th>2021-10-01</th>\n",
       "      <td>-50.698</td>\n",
       "      <td>1VE</td>\n",
       "      <td>ARIMA</td>\n",
       "      <td>(-92.453, -50.0]</td>\n",
       "    </tr>\n",
       "    <tr>\n",
       "      <th>2021-11-01</th>\n",
       "      <td>-53.988</td>\n",
       "      <td>1VE</td>\n",
       "      <td>ARIMA</td>\n",
       "      <td>(-92.453, -50.0]</td>\n",
       "    </tr>\n",
       "    <tr>\n",
       "      <th>2021-10-01</th>\n",
       "      <td>-65.438</td>\n",
       "      <td>1VS</td>\n",
       "      <td>ES_ajTend</td>\n",
       "      <td>(-92.453, -50.0]</td>\n",
       "    </tr>\n",
       "    <tr>\n",
       "      <th>2021-11-01</th>\n",
       "      <td>-79.611</td>\n",
       "      <td>1VS</td>\n",
       "      <td>ES_ajTend</td>\n",
       "      <td>(-92.453, -50.0]</td>\n",
       "    </tr>\n",
       "    <tr>\n",
       "      <th>2021-12-01</th>\n",
       "      <td>-92.453</td>\n",
       "      <td>1VS</td>\n",
       "      <td>ES_ajTend</td>\n",
       "      <td>NaN</td>\n",
       "    </tr>\n",
       "  </tbody>\n",
       "</table>\n",
       "</div>"
      ],
      "text/plain": [
       "              pred Nodo     Metodo           binPred\n",
       "FECHA                                               \n",
       "2021-10-01 -65.500  1LO       HOLT  (-92.453, -50.0]\n",
       "2021-11-01 -72.000  1LO       HOLT  (-92.453, -50.0]\n",
       "2021-12-01 -78.500  1LO       HOLT  (-92.453, -50.0]\n",
       "2021-10-01 -50.698  1VE      ARIMA  (-92.453, -50.0]\n",
       "2021-11-01 -53.988  1VE      ARIMA  (-92.453, -50.0]\n",
       "2021-10-01 -65.438  1VS  ES_ajTend  (-92.453, -50.0]\n",
       "2021-11-01 -79.611  1VS  ES_ajTend  (-92.453, -50.0]\n",
       "2021-12-01 -92.453  1VS  ES_ajTend               NaN"
      ]
     },
     "execution_count": 804,
     "metadata": {},
     "output_type": "execute_result"
    }
   ],
   "source": [
    "finalPrediccionesFuturas[finalPrediccionesFuturas['pred']<=-50]"
   ]
  },
  {
   "cell_type": "code",
   "execution_count": 805,
   "id": "2ad76fc4-6e77-4223-ba1c-fd0d0bbdcf18",
   "metadata": {},
   "outputs": [
    {
     "name": "stdout",
     "output_type": "stream",
     "text": [
      "12B1\n",
      "{'ARIMA': 14.032699906527856, 'ES': 41.38549432108378, 'HOLT': 71.29116932879268, 'ES_ajTend': 70.42904095351362, 'ARIMAX': 157.55471066633373, 'ARIMAX2': 44.95041970324738}\n",
      "12E\n",
      "{'ARIMA': 18.577914008006626, 'ES': 15.077062815059557, 'HOLT': 9.352473043977502, 'ES_ajTend': 9.452759554694337, 'ARIMAX': 18.69674642876359, 'ARIMAX2': 16.37391533077701}\n",
      "14\n",
      "{'ARIMA': 7.047458170621991, 'ES': 7.039573781740344, 'HOLT': 6.999528140812678, 'ES_ajTend': 7.156561784815942, 'ARIMAX': 14.982072693507567, 'ARIMAX2': 11.465221273674162}\n",
      "15C\n",
      "{'ARIMA': 17.104255480889996, 'ES': 19.536371028584, 'HOLT': 23.44397345662935, 'ES_ajTend': 23.357238229095433, 'ARIMAX': 16.48177778804793, 'ARIMAX2': 16.540755306131047}\n",
      "1AP\n",
      "{'ARIMA': 32.57171574643661, 'ES': 34.25743311689504, 'HOLT': 30.638989821301543, 'ES_ajTend': 30.243813180575387, 'ARIMAX': 41.287448238571095, 'ARIMAX2': 41.495413085408146}\n",
      "1BQ3B\n",
      "{'ARIMA': 21.354156504062622, 'ES': 22.619657134644832, 'HOLT': 22.648309463696293, 'ES_ajTend': 22.620292916089976, 'ARIMAX': 21.573033148284193, 'ARIMAX2': 20.512139339845653}\n",
      "1LO\n",
      "{'ARIMA': 20.75853238229202, 'ES': 17.980273360318208, 'HOLT': 14.567018774921818, 'ES_ajTend': 14.840064423372198, 'ARIMAX': 27.98289647816868, 'ARIMAX2': 35.2961572397354}\n",
      "1TE\n",
      "{'ARIMA': 14.387494569938157, 'ES': 12.769059827915637, 'HOLT': 11.763033429596545, 'ES_ajTend': 11.808710340145584, 'ARIMAX': 12.866013292177335, 'ARIMAX2': 18.354685331051463}\n",
      "1VE\n",
      "{'ARIMA': 19.414341777836988, 'ES': 21.260401552032953, 'HOLT': 27.24746240168085, 'ES_ajTend': 24.515840201645624, 'ARIMAX': 21.871354336162565, 'ARIMAX2': 23.6046702729174}\n",
      "1VS\n",
      "{'ARIMA': 33.76173778512601, 'ES': 35.67970277704495, 'HOLT': 36.85840208475139, 'ES_ajTend': 32.777230480126526, 'ARIMAX': 36.071380665521254, 'ARIMAX2': 33.787200668591986}\n",
      "2BQ2\n",
      "{'ARIMA': 23.309511649396118, 'ES': 22.999607607813196, 'HOLT': 21.592523668193966, 'ES_ajTend': 21.994677606056232, 'ARIMAX': 23.201569127924703, 'ARIMAX2': 23.596423070956675}\n"
     ]
    },
    {
     "data": {
      "image/png": "[encoded data removed]",
      "text/plain": [
       "<Figure size 432x288 with 1 Axes>"
      ]
     },
     "metadata": {
      "needs_background": "light"
     },
     "output_type": "display_data"
    },
    {
     "data": {
      "image/png": "[encoded data removed]",
      "text/plain": [
       "<Figure size 432x288 with 1 Axes>"
      ]
     },
     "metadata": {
      "needs_background": "light"
     },
     "output_type": "display_data"
    },
    {
     "data": {
      "image/png": "[encoded data removed]",
      "text/plain": [
       "<Figure size 432x288 with 1 Axes>"
      ]
     },
     "metadata": {
      "needs_background": "light"
     },
     "output_type": "display_data"
    },
    {
     "data": {
      "image/png": "[encoded data removed]",
      "text/plain": [
       "<Figure size 432x288 with 1 Axes>"
      ]
     },
     "metadata": {
      "needs_background": "light"
     },
     "output_type": "display_data"
    },
    {
     "data": {
      "image/png": "[encoded data removed]",
      "text/plain": [
       "<Figure size 432x288 with 1 Axes>"
      ]
     },
     "metadata": {
      "needs_background": "light"
     },
     "output_type": "display_data"
    },
    {
     "data": {
      "image/png": "[encoded data removed]",
      "text/plain": [
       "<Figure size 432x288 with 1 Axes>"
      ]
     },
     "metadata": {
      "needs_background": "light"
     },
     "output_type": "display_data"
    },
    {
     "data": {
      "image/png": "[encoded data removed]",
      "text/plain": [
       "<Figure size 432x288 with 1 Axes>"
      ]
     },
     "metadata": {
      "needs_background": "light"
     },
     "output_type": "display_data"
    },
    {
     "data": {
      "image/png": "[encoded data removed]",
      "text/plain": [
       "<Figure size 432x288 with 1 Axes>"
      ]
     },
     "metadata": {
      "needs_background": "light"
     },
     "output_type": "display_data"
    },
    {
     "data": {
      "image/png": "[encoded data removed]",
      "text/plain": [
       "<Figure size 432x288 with 1 Axes>"
      ]
     },
     "metadata": {
      "needs_background": "light"
     },
     "output_type": "display_data"
    },
    {
     "data": {
      "image/png": "[encoded data removed]",
      "text/plain": [
       "<Figure size 432x288 with 1 Axes>"
      ]
     },
     "metadata": {
      "needs_background": "light"
     },
     "output_type": "display_data"
    },
    {
     "data": {
      "image/png": "[encoded data removed]",
      "text/plain": [
       "<Figure size 432x288 with 1 Axes>"
      ]
     },
     "metadata": {
      "needs_background": "light"
     },
     "output_type": "display_data"
    }
   ],
   "source": [
    "for key, row in ResPred[ResPred['pred']<=-100].iterrows():\n",
    "    print(key)\n",
    "    visualNodo(key)"
   ]
  },
  {
   "cell_type": "markdown",
   "id": "571859f2",
   "metadata": {},
   "source": [
    "# prediccion CONTACT RATE"
   ]
  },
  {
   "cell_type": "code",
   "execution_count": null,
   "id": "b3c7838a",
   "metadata": {},
   "outputs": [],
   "source": []
  },
  {
   "cell_type": "code",
   "execution_count": null,
   "id": "5ab15652",
   "metadata": {},
   "outputs": [],
   "source": []
  },
  {
   "cell_type": "code",
   "execution_count": null,
   "id": "d0036d40",
   "metadata": {},
   "outputs": [],
   "source": []
  },
  {
   "cell_type": "code",
   "execution_count": null,
   "id": "a471a3d5",
   "metadata": {},
   "outputs": [],
   "source": []
  },
  {
   "cell_type": "code",
   "execution_count": null,
   "id": "39d78ff7",
   "metadata": {},
   "outputs": [],
   "source": []
  },
  {
   "cell_type": "code",
   "execution_count": null,
   "id": "764a5adb",
   "metadata": {},
   "outputs": [],
   "source": []
  },
  {
   "cell_type": "markdown",
   "id": "e9047480",
   "metadata": {},
   "source": [
    "# UNIFICAR RESULTADOS"
   ]
  },
  {
   "cell_type": "code",
   "execution_count": null,
   "id": "0e079c9c",
   "metadata": {},
   "outputs": [],
   "source": []
  },
  {
   "cell_type": "code",
   "execution_count": null,
   "id": "7e2275d6",
   "metadata": {},
   "outputs": [],
   "source": []
  },
  {
   "cell_type": "code",
   "execution_count": null,
   "id": "65ea5eaa",
   "metadata": {},
   "outputs": [],
   "source": []
  },
  {
   "cell_type": "code",
   "execution_count": null,
   "id": "14ec41f3",
   "metadata": {},
   "outputs": [],
   "source": []
  }
 ],
 "metadata": {
  "kernelspec": {
   "display_name": "Python 3 (ipykernel)",
   "language": "python",
   "name": "python3"
  },
  "language_info": {
   "codemirror_mode": {
    "name": "ipython",
    "version": 3
   },
   "file_extension": ".py",
   "mimetype": "text/x-python",
   "name": "python",
   "nbconvert_exporter": "python",
   "pygments_lexer": "ipython3",
   "version": "3.9.10"
  }
 },
 "nbformat": 4,
 "nbformat_minor": 5
}
