{
 "cells": [
  {
   "cell_type": "markdown",
   "id": "466ade14",
   "metadata": {},
   "source": [
    "## Chrun"
   ]
  },
  {
   "cell_type": "markdown",
   "id": "5fa2038e",
   "metadata": {},
   "source": [
    "# Plan\n",
    "* Explorar los datos\n",
    "* Cargarlos\n",
    "* Unir los datos\n",
    "* Adaptar codigo modelos\n",
    "* Validar resultados\n",
    "* Generar pronostico\n",
    "* Adaptar entregable\n",
    "\n",
    "* Correlación cruza\n",
    "* SARIMAX"
   ]
  },
  {
   "cell_type": "markdown",
   "id": "2f8e6fa7",
   "metadata": {},
   "source": [
    "###  Tener en cuenta\n",
    "* Seleccion quitar los que tienen poca información"
   ]
  },
  {
   "cell_type": "markdown",
   "id": "10d24298",
   "metadata": {},
   "source": [
    "### Pasos a seguir\n",
    "* Agregar modelos\n",
    "* Partir entre entremaiento y testing\n",
    "* Calcular Errores\n",
    "* Seleccionar mejor metodo por serie y pronosticar"
   ]
  },
  {
   "cell_type": "code",
   "execution_count": 146,
   "id": "ce6742bd",
   "metadata": {},
   "outputs": [],
   "source": [
    "#cargar librerias\n",
    "import pandas as pd\n",
    "import numpy as np\n",
    "from pmdarima.arima import auto_arima\n",
    "from dateutil.relativedelta import relativedelta\n",
    "import matplotlib.pyplot as plt\n",
    "from sklearn.metrics import mean_absolute_percentage_error,  mean_squared_error\n",
    "#from fbprophet import Prophet\n",
    "from statsmodels.tsa.holtwinters import SimpleExpSmoothing, Holt,ExponentialSmoothing\n",
    "import statsmodels.api as sm"
   ]
  },
  {
   "cell_type": "code",
   "execution_count": 101,
   "id": "bec1283b",
   "metadata": {},
   "outputs": [
    {
     "data": {
      "text/html": [
       "<style>.container { width:95% !important; }</style>"
      ],
      "text/plain": [
       "<IPython.core.display.HTML object>"
      ]
     },
     "metadata": {},
     "output_type": "display_data"
    }
   ],
   "source": [
    "import warnings\n",
    "warnings.filterwarnings('ignore')\n",
    "pd.set_option(\"display.max_columns\", None)\n",
    "pd.set_option('display.max_rows', None)\n",
    "pd.set_option('display.float_format', lambda x: '%.3f' % x)\n",
    "np.set_printoptions(suppress=True)\n",
    "from IPython.core.display import display, HTML\n",
    "display(HTML(\"<style>.container { width:95% !important; }</style>\"))"
   ]
  },
  {
   "cell_type": "code",
   "execution_count": 2,
   "id": "3fd5cbd4",
   "metadata": {},
   "outputs": [],
   "source": [
    "TablaMarClient= pd.read_csv(f'CR_Nodos2.csv',sep=';')"
   ]
  },
  {
   "cell_type": "code",
   "execution_count": 3,
   "id": "89e9e344",
   "metadata": {},
   "outputs": [
    {
     "data": {
      "text/html": [
       "<div>\n",
       "<style scoped>\n",
       "    .dataframe tbody tr th:only-of-type {\n",
       "        vertical-align: middle;\n",
       "    }\n",
       "\n",
       "    .dataframe tbody tr th {\n",
       "        vertical-align: top;\n",
       "    }\n",
       "\n",
       "    .dataframe thead th {\n",
       "        text-align: right;\n",
       "    }\n",
       "</style>\n",
       "<table border=\"1\" class=\"dataframe\">\n",
       "  <thead>\n",
       "    <tr style=\"text-align: right;\">\n",
       "      <th></th>\n",
       "      <th>NODO</th>\n",
       "      <th>MARCACIONES</th>\n",
       "      <th>CLIENTES</th>\n",
       "      <th>CONTACT</th>\n",
       "      <th>MES</th>\n",
       "      <th>ANIO</th>\n",
       "      <th>DIA</th>\n",
       "      <th>FECHA</th>\n",
       "    </tr>\n",
       "  </thead>\n",
       "  <tbody>\n",
       "    <tr>\n",
       "      <th>0</th>\n",
       "      <td>VE2</td>\n",
       "      <td>139</td>\n",
       "      <td>286</td>\n",
       "      <td>48.6</td>\n",
       "      <td>9</td>\n",
       "      <td>2020</td>\n",
       "      <td>1</td>\n",
       "      <td>2020-09-01</td>\n",
       "    </tr>\n",
       "    <tr>\n",
       "      <th>1</th>\n",
       "      <td>CQ59</td>\n",
       "      <td>3</td>\n",
       "      <td>15</td>\n",
       "      <td>20.0</td>\n",
       "      <td>9</td>\n",
       "      <td>2020</td>\n",
       "      <td>1</td>\n",
       "      <td>2020-09-01</td>\n",
       "    </tr>\n",
       "  </tbody>\n",
       "</table>\n",
       "</div>"
      ],
      "text/plain": [
       "   NODO  MARCACIONES  CLIENTES  CONTACT  MES  ANIO  DIA       FECHA\n",
       "0   VE2          139       286     48.6    9  2020    1  2020-09-01\n",
       "1  CQ59            3        15     20.0    9  2020    1  2020-09-01"
      ]
     },
     "execution_count": 3,
     "metadata": {},
     "output_type": "execute_result"
    }
   ],
   "source": [
    "TablaMarClient.head(2)"
   ]
  },
  {
   "cell_type": "code",
   "execution_count": 4,
   "id": "412f0a40",
   "metadata": {},
   "outputs": [
    {
     "data": {
      "text/plain": [
       "186849"
      ]
     },
     "execution_count": 4,
     "metadata": {},
     "output_type": "execute_result"
    }
   ],
   "source": [
    "len(TablaMarClient)"
   ]
  },
  {
   "cell_type": "code",
   "execution_count": 5,
   "id": "87db66b0",
   "metadata": {},
   "outputs": [],
   "source": [
    "#carga de los datos\n",
    "TablaChurn=pd.read_csv(f'N3_Tomas_Rojas.csv',sep=';')"
   ]
  },
  {
   "cell_type": "code",
   "execution_count": 6,
   "id": "f5fe95ac",
   "metadata": {},
   "outputs": [
    {
     "data": {
      "text/plain": [
       "180221"
      ]
     },
     "execution_count": 6,
     "metadata": {},
     "output_type": "execute_result"
    }
   ],
   "source": [
    "len(TablaChurn)"
   ]
  },
  {
   "cell_type": "code",
   "execution_count": 7,
   "id": "06150f7c",
   "metadata": {},
   "outputs": [
    {
     "data": {
      "text/html": [
       "<div>\n",
       "<style scoped>\n",
       "    .dataframe tbody tr th:only-of-type {\n",
       "        vertical-align: middle;\n",
       "    }\n",
       "\n",
       "    .dataframe tbody tr th {\n",
       "        vertical-align: top;\n",
       "    }\n",
       "\n",
       "    .dataframe thead th {\n",
       "        text-align: right;\n",
       "    }\n",
       "</style>\n",
       "<table border=\"1\" class=\"dataframe\">\n",
       "  <thead>\n",
       "    <tr style=\"text-align: right;\">\n",
       "      <th></th>\n",
       "      <th>E_distrito</th>\n",
       "      <th>Nodo</th>\n",
       "      <th>Fecha</th>\n",
       "      <th>Value</th>\n",
       "      <th>anio</th>\n",
       "      <th>mes</th>\n",
       "      <th>dia</th>\n",
       "      <th>fecha2</th>\n",
       "    </tr>\n",
       "  </thead>\n",
       "  <tbody>\n",
       "    <tr>\n",
       "      <th>0</th>\n",
       "      <td>ACACIAS NORTE</td>\n",
       "      <td>2IA</td>\n",
       "      <td>1/1/2020</td>\n",
       "      <td>-6.0</td>\n",
       "      <td>2020.0</td>\n",
       "      <td>1.0</td>\n",
       "      <td>1.0</td>\n",
       "      <td>2020-01-01</td>\n",
       "    </tr>\n",
       "    <tr>\n",
       "      <th>1</th>\n",
       "      <td>ACACIAS NORTE</td>\n",
       "      <td>3IA</td>\n",
       "      <td>1/1/2020</td>\n",
       "      <td>-2.0</td>\n",
       "      <td>2020.0</td>\n",
       "      <td>1.0</td>\n",
       "      <td>1.0</td>\n",
       "      <td>2020-01-01</td>\n",
       "    </tr>\n",
       "    <tr>\n",
       "      <th>2</th>\n",
       "      <td>ACACIAS NORTE</td>\n",
       "      <td>AMI</td>\n",
       "      <td>1/1/2020</td>\n",
       "      <td>-8.0</td>\n",
       "      <td>2020.0</td>\n",
       "      <td>1.0</td>\n",
       "      <td>1.0</td>\n",
       "      <td>2020-01-01</td>\n",
       "    </tr>\n",
       "    <tr>\n",
       "      <th>3</th>\n",
       "      <td>ACACIAS NORTE</td>\n",
       "      <td>FLS</td>\n",
       "      <td>1/1/2020</td>\n",
       "      <td>-11.0</td>\n",
       "      <td>2020.0</td>\n",
       "      <td>1.0</td>\n",
       "      <td>1.0</td>\n",
       "      <td>2020-01-01</td>\n",
       "    </tr>\n",
       "    <tr>\n",
       "      <th>4</th>\n",
       "      <td>ACACIAS NORTE</td>\n",
       "      <td>IAT</td>\n",
       "      <td>1/1/2020</td>\n",
       "      <td>-14.0</td>\n",
       "      <td>2020.0</td>\n",
       "      <td>1.0</td>\n",
       "      <td>1.0</td>\n",
       "      <td>2020-01-01</td>\n",
       "    </tr>\n",
       "    <tr>\n",
       "      <th>...</th>\n",
       "      <td>...</td>\n",
       "      <td>...</td>\n",
       "      <td>...</td>\n",
       "      <td>...</td>\n",
       "      <td>...</td>\n",
       "      <td>...</td>\n",
       "      <td>...</td>\n",
       "      <td>...</td>\n",
       "    </tr>\n",
       "    <tr>\n",
       "      <th>180216</th>\n",
       "      <td>ZIPAQUIRA DTH</td>\n",
       "      <td>HNEMOC</td>\n",
       "      <td>1/9/2021</td>\n",
       "      <td>1.0</td>\n",
       "      <td>NaN</td>\n",
       "      <td>NaN</td>\n",
       "      <td>NaN</td>\n",
       "      <td>2021-09-01</td>\n",
       "    </tr>\n",
       "    <tr>\n",
       "      <th>180217</th>\n",
       "      <td>ZIPAQUIRA DTH</td>\n",
       "      <td>HTABIO</td>\n",
       "      <td>1/9/2021</td>\n",
       "      <td>-2.0</td>\n",
       "      <td>NaN</td>\n",
       "      <td>NaN</td>\n",
       "      <td>NaN</td>\n",
       "      <td>2021-09-01</td>\n",
       "    </tr>\n",
       "    <tr>\n",
       "      <th>180218</th>\n",
       "      <td>ZIPAQUIRA DTH</td>\n",
       "      <td>HTENJO</td>\n",
       "      <td>1/9/2021</td>\n",
       "      <td>-15.0</td>\n",
       "      <td>NaN</td>\n",
       "      <td>NaN</td>\n",
       "      <td>NaN</td>\n",
       "      <td>2021-09-01</td>\n",
       "    </tr>\n",
       "    <tr>\n",
       "      <th>180219</th>\n",
       "      <td>ZIPAQUIRA DTH</td>\n",
       "      <td>HZIPAQ</td>\n",
       "      <td>1/9/2021</td>\n",
       "      <td>0.0</td>\n",
       "      <td>NaN</td>\n",
       "      <td>NaN</td>\n",
       "      <td>NaN</td>\n",
       "      <td>2021-09-01</td>\n",
       "    </tr>\n",
       "    <tr>\n",
       "      <th>180220</th>\n",
       "      <td>ZIPAQUIRA DTH</td>\n",
       "      <td>HZIPAX</td>\n",
       "      <td>1/9/2021</td>\n",
       "      <td>-2.0</td>\n",
       "      <td>NaN</td>\n",
       "      <td>NaN</td>\n",
       "      <td>NaN</td>\n",
       "      <td>2021-09-01</td>\n",
       "    </tr>\n",
       "  </tbody>\n",
       "</table>\n",
       "<p>180221 rows × 8 columns</p>\n",
       "</div>"
      ],
      "text/plain": [
       "           E_distrito    Nodo     Fecha  Value    anio  mes  dia      fecha2\n",
       "0       ACACIAS NORTE     2IA  1/1/2020   -6.0  2020.0  1.0  1.0  2020-01-01\n",
       "1       ACACIAS NORTE     3IA  1/1/2020   -2.0  2020.0  1.0  1.0  2020-01-01\n",
       "2       ACACIAS NORTE     AMI  1/1/2020   -8.0  2020.0  1.0  1.0  2020-01-01\n",
       "3       ACACIAS NORTE     FLS  1/1/2020  -11.0  2020.0  1.0  1.0  2020-01-01\n",
       "4       ACACIAS NORTE     IAT  1/1/2020  -14.0  2020.0  1.0  1.0  2020-01-01\n",
       "...               ...     ...       ...    ...     ...  ...  ...         ...\n",
       "180216  ZIPAQUIRA DTH  HNEMOC  1/9/2021    1.0     NaN  NaN  NaN  2021-09-01\n",
       "180217  ZIPAQUIRA DTH  HTABIO  1/9/2021   -2.0     NaN  NaN  NaN  2021-09-01\n",
       "180218  ZIPAQUIRA DTH  HTENJO  1/9/2021  -15.0     NaN  NaN  NaN  2021-09-01\n",
       "180219  ZIPAQUIRA DTH  HZIPAQ  1/9/2021    0.0     NaN  NaN  NaN  2021-09-01\n",
       "180220  ZIPAQUIRA DTH  HZIPAX  1/9/2021   -2.0     NaN  NaN  NaN  2021-09-01\n",
       "\n",
       "[180221 rows x 8 columns]"
      ]
     },
     "execution_count": 7,
     "metadata": {},
     "output_type": "execute_result"
    }
   ],
   "source": [
    "TablaChurn"
   ]
  },
  {
   "cell_type": "code",
   "execution_count": 8,
   "id": "205081db",
   "metadata": {},
   "outputs": [],
   "source": [
    "TablaFinal=TablaChurn.merge(TablaMarClient,left_on=['Nodo','fecha2'],right_on=['NODO','FECHA'], how='left')\n",
    "#TablaFinal=TablaChurn.merge(TablaMarClient,left_on='Nodo',right_on='NODO', how='left')"
   ]
  },
  {
   "cell_type": "code",
   "execution_count": 9,
   "id": "a5a6839a",
   "metadata": {},
   "outputs": [
    {
     "data": {
      "text/html": [
       "<div>\n",
       "<style scoped>\n",
       "    .dataframe tbody tr th:only-of-type {\n",
       "        vertical-align: middle;\n",
       "    }\n",
       "\n",
       "    .dataframe tbody tr th {\n",
       "        vertical-align: top;\n",
       "    }\n",
       "\n",
       "    .dataframe thead th {\n",
       "        text-align: right;\n",
       "    }\n",
       "</style>\n",
       "<table border=\"1\" class=\"dataframe\">\n",
       "  <thead>\n",
       "    <tr style=\"text-align: right;\">\n",
       "      <th></th>\n",
       "      <th>E_distrito</th>\n",
       "      <th>Nodo</th>\n",
       "      <th>Fecha</th>\n",
       "      <th>Value</th>\n",
       "      <th>anio</th>\n",
       "      <th>mes</th>\n",
       "      <th>dia</th>\n",
       "      <th>fecha2</th>\n",
       "      <th>NODO</th>\n",
       "      <th>MARCACIONES</th>\n",
       "      <th>CLIENTES</th>\n",
       "      <th>CONTACT</th>\n",
       "      <th>MES</th>\n",
       "      <th>ANIO</th>\n",
       "      <th>DIA</th>\n",
       "      <th>FECHA</th>\n",
       "    </tr>\n",
       "  </thead>\n",
       "  <tbody>\n",
       "    <tr>\n",
       "      <th>0</th>\n",
       "      <td>ACACIAS NORTE</td>\n",
       "      <td>2IA</td>\n",
       "      <td>1/1/2020</td>\n",
       "      <td>-6.0</td>\n",
       "      <td>2020.0</td>\n",
       "      <td>1.0</td>\n",
       "      <td>1.0</td>\n",
       "      <td>2020-01-01</td>\n",
       "      <td>NaN</td>\n",
       "      <td>NaN</td>\n",
       "      <td>NaN</td>\n",
       "      <td>NaN</td>\n",
       "      <td>NaN</td>\n",
       "      <td>NaN</td>\n",
       "      <td>NaN</td>\n",
       "      <td>NaN</td>\n",
       "    </tr>\n",
       "    <tr>\n",
       "      <th>1</th>\n",
       "      <td>ACACIAS NORTE</td>\n",
       "      <td>3IA</td>\n",
       "      <td>1/1/2020</td>\n",
       "      <td>-2.0</td>\n",
       "      <td>2020.0</td>\n",
       "      <td>1.0</td>\n",
       "      <td>1.0</td>\n",
       "      <td>2020-01-01</td>\n",
       "      <td>NaN</td>\n",
       "      <td>NaN</td>\n",
       "      <td>NaN</td>\n",
       "      <td>NaN</td>\n",
       "      <td>NaN</td>\n",
       "      <td>NaN</td>\n",
       "      <td>NaN</td>\n",
       "      <td>NaN</td>\n",
       "    </tr>\n",
       "    <tr>\n",
       "      <th>2</th>\n",
       "      <td>ACACIAS NORTE</td>\n",
       "      <td>AMI</td>\n",
       "      <td>1/1/2020</td>\n",
       "      <td>-8.0</td>\n",
       "      <td>2020.0</td>\n",
       "      <td>1.0</td>\n",
       "      <td>1.0</td>\n",
       "      <td>2020-01-01</td>\n",
       "      <td>NaN</td>\n",
       "      <td>NaN</td>\n",
       "      <td>NaN</td>\n",
       "      <td>NaN</td>\n",
       "      <td>NaN</td>\n",
       "      <td>NaN</td>\n",
       "      <td>NaN</td>\n",
       "      <td>NaN</td>\n",
       "    </tr>\n",
       "    <tr>\n",
       "      <th>3</th>\n",
       "      <td>ACACIAS NORTE</td>\n",
       "      <td>FLS</td>\n",
       "      <td>1/1/2020</td>\n",
       "      <td>-11.0</td>\n",
       "      <td>2020.0</td>\n",
       "      <td>1.0</td>\n",
       "      <td>1.0</td>\n",
       "      <td>2020-01-01</td>\n",
       "      <td>NaN</td>\n",
       "      <td>NaN</td>\n",
       "      <td>NaN</td>\n",
       "      <td>NaN</td>\n",
       "      <td>NaN</td>\n",
       "      <td>NaN</td>\n",
       "      <td>NaN</td>\n",
       "      <td>NaN</td>\n",
       "    </tr>\n",
       "    <tr>\n",
       "      <th>4</th>\n",
       "      <td>ACACIAS NORTE</td>\n",
       "      <td>IAT</td>\n",
       "      <td>1/1/2020</td>\n",
       "      <td>-14.0</td>\n",
       "      <td>2020.0</td>\n",
       "      <td>1.0</td>\n",
       "      <td>1.0</td>\n",
       "      <td>2020-01-01</td>\n",
       "      <td>NaN</td>\n",
       "      <td>NaN</td>\n",
       "      <td>NaN</td>\n",
       "      <td>NaN</td>\n",
       "      <td>NaN</td>\n",
       "      <td>NaN</td>\n",
       "      <td>NaN</td>\n",
       "      <td>NaN</td>\n",
       "    </tr>\n",
       "    <tr>\n",
       "      <th>5</th>\n",
       "      <td>ACACIAS NORTE</td>\n",
       "      <td>IIA</td>\n",
       "      <td>1/1/2020</td>\n",
       "      <td>1.0</td>\n",
       "      <td>2020.0</td>\n",
       "      <td>1.0</td>\n",
       "      <td>1.0</td>\n",
       "      <td>2020-01-01</td>\n",
       "      <td>NaN</td>\n",
       "      <td>NaN</td>\n",
       "      <td>NaN</td>\n",
       "      <td>NaN</td>\n",
       "      <td>NaN</td>\n",
       "      <td>NaN</td>\n",
       "      <td>NaN</td>\n",
       "      <td>NaN</td>\n",
       "    </tr>\n",
       "    <tr>\n",
       "      <th>6</th>\n",
       "      <td>ACACIAS NORTE</td>\n",
       "      <td>INB</td>\n",
       "      <td>1/1/2020</td>\n",
       "      <td>-7.0</td>\n",
       "      <td>2020.0</td>\n",
       "      <td>1.0</td>\n",
       "      <td>1.0</td>\n",
       "      <td>2020-01-01</td>\n",
       "      <td>NaN</td>\n",
       "      <td>NaN</td>\n",
       "      <td>NaN</td>\n",
       "      <td>NaN</td>\n",
       "      <td>NaN</td>\n",
       "      <td>NaN</td>\n",
       "      <td>NaN</td>\n",
       "      <td>NaN</td>\n",
       "    </tr>\n",
       "    <tr>\n",
       "      <th>7</th>\n",
       "      <td>ACACIAS NORTE</td>\n",
       "      <td>IND</td>\n",
       "      <td>1/1/2020</td>\n",
       "      <td>0.0</td>\n",
       "      <td>2020.0</td>\n",
       "      <td>1.0</td>\n",
       "      <td>1.0</td>\n",
       "      <td>2020-01-01</td>\n",
       "      <td>NaN</td>\n",
       "      <td>NaN</td>\n",
       "      <td>NaN</td>\n",
       "      <td>NaN</td>\n",
       "      <td>NaN</td>\n",
       "      <td>NaN</td>\n",
       "      <td>NaN</td>\n",
       "      <td>NaN</td>\n",
       "    </tr>\n",
       "    <tr>\n",
       "      <th>8</th>\n",
       "      <td>ACACIAS NORTE</td>\n",
       "      <td>INY</td>\n",
       "      <td>1/1/2020</td>\n",
       "      <td>-2.0</td>\n",
       "      <td>2020.0</td>\n",
       "      <td>1.0</td>\n",
       "      <td>1.0</td>\n",
       "      <td>2020-01-01</td>\n",
       "      <td>NaN</td>\n",
       "      <td>NaN</td>\n",
       "      <td>NaN</td>\n",
       "      <td>NaN</td>\n",
       "      <td>NaN</td>\n",
       "      <td>NaN</td>\n",
       "      <td>NaN</td>\n",
       "      <td>NaN</td>\n",
       "    </tr>\n",
       "    <tr>\n",
       "      <th>9</th>\n",
       "      <td>ACACIAS NORTE</td>\n",
       "      <td>LBY</td>\n",
       "      <td>1/1/2020</td>\n",
       "      <td>0.0</td>\n",
       "      <td>2020.0</td>\n",
       "      <td>1.0</td>\n",
       "      <td>1.0</td>\n",
       "      <td>2020-01-01</td>\n",
       "      <td>NaN</td>\n",
       "      <td>NaN</td>\n",
       "      <td>NaN</td>\n",
       "      <td>NaN</td>\n",
       "      <td>NaN</td>\n",
       "      <td>NaN</td>\n",
       "      <td>NaN</td>\n",
       "      <td>NaN</td>\n",
       "    </tr>\n",
       "  </tbody>\n",
       "</table>\n",
       "</div>"
      ],
      "text/plain": [
       "      E_distrito Nodo     Fecha  Value    anio  mes  dia      fecha2 NODO  \\\n",
       "0  ACACIAS NORTE  2IA  1/1/2020   -6.0  2020.0  1.0  1.0  2020-01-01  NaN   \n",
       "1  ACACIAS NORTE  3IA  1/1/2020   -2.0  2020.0  1.0  1.0  2020-01-01  NaN   \n",
       "2  ACACIAS NORTE  AMI  1/1/2020   -8.0  2020.0  1.0  1.0  2020-01-01  NaN   \n",
       "3  ACACIAS NORTE  FLS  1/1/2020  -11.0  2020.0  1.0  1.0  2020-01-01  NaN   \n",
       "4  ACACIAS NORTE  IAT  1/1/2020  -14.0  2020.0  1.0  1.0  2020-01-01  NaN   \n",
       "5  ACACIAS NORTE  IIA  1/1/2020    1.0  2020.0  1.0  1.0  2020-01-01  NaN   \n",
       "6  ACACIAS NORTE  INB  1/1/2020   -7.0  2020.0  1.0  1.0  2020-01-01  NaN   \n",
       "7  ACACIAS NORTE  IND  1/1/2020    0.0  2020.0  1.0  1.0  2020-01-01  NaN   \n",
       "8  ACACIAS NORTE  INY  1/1/2020   -2.0  2020.0  1.0  1.0  2020-01-01  NaN   \n",
       "9  ACACIAS NORTE  LBY  1/1/2020    0.0  2020.0  1.0  1.0  2020-01-01  NaN   \n",
       "\n",
       "   MARCACIONES  CLIENTES  CONTACT  MES  ANIO  DIA FECHA  \n",
       "0          NaN       NaN      NaN  NaN   NaN  NaN   NaN  \n",
       "1          NaN       NaN      NaN  NaN   NaN  NaN   NaN  \n",
       "2          NaN       NaN      NaN  NaN   NaN  NaN   NaN  \n",
       "3          NaN       NaN      NaN  NaN   NaN  NaN   NaN  \n",
       "4          NaN       NaN      NaN  NaN   NaN  NaN   NaN  \n",
       "5          NaN       NaN      NaN  NaN   NaN  NaN   NaN  \n",
       "6          NaN       NaN      NaN  NaN   NaN  NaN   NaN  \n",
       "7          NaN       NaN      NaN  NaN   NaN  NaN   NaN  \n",
       "8          NaN       NaN      NaN  NaN   NaN  NaN   NaN  \n",
       "9          NaN       NaN      NaN  NaN   NaN  NaN   NaN  "
      ]
     },
     "execution_count": 9,
     "metadata": {},
     "output_type": "execute_result"
    }
   ],
   "source": [
    "TablaFinal[TablaFinal['NODO'].isnull()].head(10)"
   ]
  },
  {
   "cell_type": "code",
   "execution_count": 10,
   "id": "a52cffee",
   "metadata": {},
   "outputs": [
    {
     "data": {
      "text/plain": [
       "180221"
      ]
     },
     "execution_count": 10,
     "metadata": {},
     "output_type": "execute_result"
    }
   ],
   "source": [
    "len(TablaFinal)"
   ]
  },
  {
   "cell_type": "code",
   "execution_count": 11,
   "id": "1c174486",
   "metadata": {},
   "outputs": [],
   "source": [
    "# preprocesamiento"
   ]
  },
  {
   "cell_type": "code",
   "execution_count": 12,
   "id": "49f728e4",
   "metadata": {},
   "outputs": [],
   "source": [
    "TablaFinal.drop(columns=['Fecha','anio','mes','dia','ANIO','MES','DIA','FECHA','NODO'], inplace=True)"
   ]
  },
  {
   "cell_type": "code",
   "execution_count": 13,
   "id": "92c46c61",
   "metadata": {},
   "outputs": [
    {
     "data": {
      "text/html": [
       "<div>\n",
       "<style scoped>\n",
       "    .dataframe tbody tr th:only-of-type {\n",
       "        vertical-align: middle;\n",
       "    }\n",
       "\n",
       "    .dataframe tbody tr th {\n",
       "        vertical-align: top;\n",
       "    }\n",
       "\n",
       "    .dataframe thead th {\n",
       "        text-align: right;\n",
       "    }\n",
       "</style>\n",
       "<table border=\"1\" class=\"dataframe\">\n",
       "  <thead>\n",
       "    <tr style=\"text-align: right;\">\n",
       "      <th></th>\n",
       "      <th>E_distrito</th>\n",
       "      <th>Nodo</th>\n",
       "      <th>Value</th>\n",
       "      <th>fecha2</th>\n",
       "      <th>MARCACIONES</th>\n",
       "      <th>CLIENTES</th>\n",
       "      <th>CONTACT</th>\n",
       "    </tr>\n",
       "  </thead>\n",
       "  <tbody>\n",
       "    <tr>\n",
       "      <th>22202</th>\n",
       "      <td>JAVERIANA</td>\n",
       "      <td>2C4013</td>\n",
       "      <td>-8.0</td>\n",
       "      <td>2020-10-01</td>\n",
       "      <td>25.0</td>\n",
       "      <td>114.0</td>\n",
       "      <td>21.930</td>\n",
       "    </tr>\n",
       "    <tr>\n",
       "      <th>12410</th>\n",
       "      <td>DISTRITO BGA 3</td>\n",
       "      <td>A2A</td>\n",
       "      <td>-18.0</td>\n",
       "      <td>2020-06-01</td>\n",
       "      <td>NaN</td>\n",
       "      <td>NaN</td>\n",
       "      <td>NaN</td>\n",
       "    </tr>\n",
       "    <tr>\n",
       "      <th>134113</th>\n",
       "      <td>DOSQUEBRADAS2</td>\n",
       "      <td>AAZ</td>\n",
       "      <td>-22.0</td>\n",
       "      <td>2021-07-01</td>\n",
       "      <td>62.0</td>\n",
       "      <td>478.0</td>\n",
       "      <td>12.970</td>\n",
       "    </tr>\n",
       "    <tr>\n",
       "      <th>123641</th>\n",
       "      <td>QUIRIGUA</td>\n",
       "      <td>AF14A</td>\n",
       "      <td>-1.0</td>\n",
       "      <td>2021-06-01</td>\n",
       "      <td>161.0</td>\n",
       "      <td>250.0</td>\n",
       "      <td>64.400</td>\n",
       "    </tr>\n",
       "    <tr>\n",
       "      <th>60281</th>\n",
       "      <td>VILLAVICENCIO ORIENTE</td>\n",
       "      <td>RP27</td>\n",
       "      <td>-2.0</td>\n",
       "      <td>2021-02-01</td>\n",
       "      <td>12.0</td>\n",
       "      <td>35.0</td>\n",
       "      <td>34.280</td>\n",
       "    </tr>\n",
       "    <tr>\n",
       "      <th>15639</th>\n",
       "      <td>MEDELLIN SURORIENTAL</td>\n",
       "      <td>OPA</td>\n",
       "      <td>0.0</td>\n",
       "      <td>2020-07-01</td>\n",
       "      <td>NaN</td>\n",
       "      <td>NaN</td>\n",
       "      <td>NaN</td>\n",
       "    </tr>\n",
       "    <tr>\n",
       "      <th>238</th>\n",
       "      <td>BOLIVAR DISTRITO 1</td>\n",
       "      <td>7BD</td>\n",
       "      <td>-3.0</td>\n",
       "      <td>2020-01-01</td>\n",
       "      <td>NaN</td>\n",
       "      <td>NaN</td>\n",
       "      <td>NaN</td>\n",
       "    </tr>\n",
       "    <tr>\n",
       "      <th>81860</th>\n",
       "      <td>CESAR DISTRITO 4</td>\n",
       "      <td>VTE</td>\n",
       "      <td>-14.0</td>\n",
       "      <td>2021-04-01</td>\n",
       "      <td>91.0</td>\n",
       "      <td>544.0</td>\n",
       "      <td>16.720</td>\n",
       "    </tr>\n",
       "    <tr>\n",
       "      <th>150296</th>\n",
       "      <td>CORDOBA SUCRE DISTRITO 13</td>\n",
       "      <td>HSAHAX</td>\n",
       "      <td>-6.0</td>\n",
       "      <td>2021-08-01</td>\n",
       "      <td>53.0</td>\n",
       "      <td>894.0</td>\n",
       "      <td>5.928</td>\n",
       "    </tr>\n",
       "    <tr>\n",
       "      <th>149705</th>\n",
       "      <td>CHIQUINQUIRA DTH</td>\n",
       "      <td>HTOGUI</td>\n",
       "      <td>0.0</td>\n",
       "      <td>2021-08-01</td>\n",
       "      <td>6.0</td>\n",
       "      <td>46.0</td>\n",
       "      <td>13.040</td>\n",
       "    </tr>\n",
       "  </tbody>\n",
       "</table>\n",
       "</div>"
      ],
      "text/plain": [
       "                       E_distrito    Nodo  Value      fecha2  MARCACIONES  \\\n",
       "22202                   JAVERIANA  2C4013   -8.0  2020-10-01         25.0   \n",
       "12410              DISTRITO BGA 3     A2A  -18.0  2020-06-01          NaN   \n",
       "134113              DOSQUEBRADAS2     AAZ  -22.0  2021-07-01         62.0   \n",
       "123641                   QUIRIGUA   AF14A   -1.0  2021-06-01        161.0   \n",
       "60281       VILLAVICENCIO ORIENTE    RP27   -2.0  2021-02-01         12.0   \n",
       "15639        MEDELLIN SURORIENTAL     OPA    0.0  2020-07-01          NaN   \n",
       "238            BOLIVAR DISTRITO 1     7BD   -3.0  2020-01-01          NaN   \n",
       "81860            CESAR DISTRITO 4     VTE  -14.0  2021-04-01         91.0   \n",
       "150296  CORDOBA SUCRE DISTRITO 13  HSAHAX   -6.0  2021-08-01         53.0   \n",
       "149705           CHIQUINQUIRA DTH  HTOGUI    0.0  2021-08-01          6.0   \n",
       "\n",
       "        CLIENTES  CONTACT  \n",
       "22202      114.0   21.930  \n",
       "12410        NaN      NaN  \n",
       "134113     478.0   12.970  \n",
       "123641     250.0   64.400  \n",
       "60281       35.0   34.280  \n",
       "15639        NaN      NaN  \n",
       "238          NaN      NaN  \n",
       "81860      544.0   16.720  \n",
       "150296     894.0    5.928  \n",
       "149705      46.0   13.040  "
      ]
     },
     "execution_count": 13,
     "metadata": {},
     "output_type": "execute_result"
    }
   ],
   "source": [
    "TablaFinal.sample(10)"
   ]
  },
  {
   "cell_type": "code",
   "execution_count": 14,
   "id": "41440802",
   "metadata": {},
   "outputs": [],
   "source": [
    "# colocar la fecha como index\n",
    "TablaFinal.set_index('fecha2',inplace=True)"
   ]
  },
  {
   "cell_type": "code",
   "execution_count": 15,
   "id": "475451fa",
   "metadata": {},
   "outputs": [],
   "source": [
    "TablaFinal.index=pd.to_datetime(TablaFinal.index)"
   ]
  },
  {
   "cell_type": "markdown",
   "id": "01cd3579",
   "metadata": {},
   "source": [
    "###  separación Entrenamiento y testing"
   ]
  },
  {
   "cell_type": "code",
   "execution_count": 71,
   "id": "4504a273",
   "metadata": {},
   "outputs": [
    {
     "data": {
      "text/plain": [
       "Timestamp('2021-09-01 00:00:00')"
      ]
     },
     "execution_count": 71,
     "metadata": {},
     "output_type": "execute_result"
    }
   ],
   "source": [
    "fechaMaxima=max(TablaFinal.index)\n",
    "fechaMaxima"
   ]
  },
  {
   "cell_type": "code",
   "execution_count": 72,
   "id": "08dd9d0c",
   "metadata": {},
   "outputs": [
    {
     "data": {
      "text/plain": [
       "Timestamp('2021-06-01 00:00:00')"
      ]
     },
     "execution_count": 72,
     "metadata": {},
     "output_type": "execute_result"
    }
   ],
   "source": [
    "TablaFinal.index.unique()[-4]"
   ]
  },
  {
   "cell_type": "code",
   "execution_count": 73,
   "id": "a9065ce1",
   "metadata": {},
   "outputs": [],
   "source": [
    "fechaTrain=TablaFinal.index.unique()[-4]\n",
    "fechaTest=TablaFinal.index.unique()[-3]"
   ]
  },
  {
   "cell_type": "code",
   "execution_count": 74,
   "id": "d488bbee",
   "metadata": {},
   "outputs": [
    {
     "name": "stdout",
     "output_type": "stream",
     "text": [
      "2021-06-01 00:00:00 2021-07-01 00:00:00\n"
     ]
    }
   ],
   "source": [
    "print (fechaTrain,fechaTest)"
   ]
  },
  {
   "cell_type": "markdown",
   "id": "11d7a65c",
   "metadata": {},
   "source": [
    "### Seleccion de Nodos\n",
    "* Nodos con información en los últimos 3 meses\n",
    "* Nodos con más de 7 registros (por entrenamiento y pruebas)"
   ]
  },
  {
   "cell_type": "code",
   "execution_count": 19,
   "id": "3a3a2703",
   "metadata": {},
   "outputs": [],
   "source": [
    "# Nodos con información en los últimos 3 meses\n",
    "Resumen=TablaFinal.reset_index()[['fecha2','Nodo']].groupby('Nodo').agg(['max','count'])"
   ]
  },
  {
   "cell_type": "code",
   "execution_count": 20,
   "id": "d0f502c8",
   "metadata": {
    "scrolled": true
   },
   "outputs": [
    {
     "data": {
      "text/html": [
       "<div>\n",
       "<style scoped>\n",
       "    .dataframe tbody tr th:only-of-type {\n",
       "        vertical-align: middle;\n",
       "    }\n",
       "\n",
       "    .dataframe tbody tr th {\n",
       "        vertical-align: top;\n",
       "    }\n",
       "\n",
       "    .dataframe thead tr th {\n",
       "        text-align: left;\n",
       "    }\n",
       "\n",
       "    .dataframe thead tr:last-of-type th {\n",
       "        text-align: right;\n",
       "    }\n",
       "</style>\n",
       "<table border=\"1\" class=\"dataframe\">\n",
       "  <thead>\n",
       "    <tr>\n",
       "      <th></th>\n",
       "      <th colspan=\"2\" halign=\"left\">fecha2</th>\n",
       "    </tr>\n",
       "    <tr>\n",
       "      <th></th>\n",
       "      <th>max</th>\n",
       "      <th>count</th>\n",
       "    </tr>\n",
       "    <tr>\n",
       "      <th>Nodo</th>\n",
       "      <th></th>\n",
       "      <th></th>\n",
       "    </tr>\n",
       "  </thead>\n",
       "  <tbody>\n",
       "    <tr>\n",
       "      <th>01J</th>\n",
       "      <td>2021-09-01</td>\n",
       "      <td>9</td>\n",
       "    </tr>\n",
       "    <tr>\n",
       "      <th>01S</th>\n",
       "      <td>2021-09-01</td>\n",
       "      <td>21</td>\n",
       "    </tr>\n",
       "  </tbody>\n",
       "</table>\n",
       "</div>"
      ],
      "text/plain": [
       "         fecha2      \n",
       "            max count\n",
       "Nodo                 \n",
       "01J  2021-09-01     9\n",
       "01S  2021-09-01    21"
      ]
     },
     "execution_count": 20,
     "metadata": {},
     "output_type": "execute_result"
    }
   ],
   "source": [
    "Resumen.head(2)"
   ]
  },
  {
   "cell_type": "code",
   "execution_count": 21,
   "id": "82730d88",
   "metadata": {},
   "outputs": [],
   "source": [
    "Resumen.columns = Resumen.columns.droplevel(0)"
   ]
  },
  {
   "cell_type": "code",
   "execution_count": 22,
   "id": "4898825c",
   "metadata": {},
   "outputs": [
    {
     "data": {
      "text/plain": [
       "2021-09-01    18465\n",
       "2021-01-01       88\n",
       "2021-03-01       20\n",
       "2021-04-01       16\n",
       "2021-05-01       11\n",
       "2021-02-01        8\n",
       "2020-04-01        2\n",
       "2020-09-01        1\n",
       "2020-08-01        1\n",
       "Name: max, dtype: int64"
      ]
     },
     "execution_count": 22,
     "metadata": {},
     "output_type": "execute_result"
    }
   ],
   "source": [
    "Resumen['max'].value_counts()"
   ]
  },
  {
   "cell_type": "code",
   "execution_count": 23,
   "id": "4a8179a3",
   "metadata": {},
   "outputs": [],
   "source": [
    "Resumen['sel']=np.where(Resumen['max']<=fechaTest,'sinInfoReciente','nodoValido')"
   ]
  },
  {
   "cell_type": "code",
   "execution_count": 24,
   "id": "c28611c0",
   "metadata": {},
   "outputs": [
    {
     "data": {
      "text/plain": [
       "nodoValido         18465\n",
       "sinInfoReciente      147\n",
       "Name: sel, dtype: int64"
      ]
     },
     "execution_count": 24,
     "metadata": {},
     "output_type": "execute_result"
    }
   ],
   "source": [
    "Resumen['sel'].value_counts()"
   ]
  },
  {
   "cell_type": "code",
   "execution_count": 25,
   "id": "fabb6064",
   "metadata": {},
   "outputs": [],
   "source": [
    "# Nodos con más de 7 registros (por entrenamiento y pruebas)"
   ]
  },
  {
   "cell_type": "code",
   "execution_count": 26,
   "id": "b454bbce",
   "metadata": {},
   "outputs": [
    {
     "data": {
      "text/plain": [
       "9     13600\n",
       "21     2302\n",
       "1       862\n",
       "2       452\n",
       "3       391\n",
       "6       249\n",
       "4       219\n",
       "7       174\n",
       "5       171\n",
       "8        98\n",
       "14       18\n",
       "15       17\n",
       "11       14\n",
       "13       12\n",
       "10        9\n",
       "20        8\n",
       "16        7\n",
       "12        4\n",
       "17        4\n",
       "18        1\n",
       "Name: count, dtype: int64"
      ]
     },
     "execution_count": 26,
     "metadata": {},
     "output_type": "execute_result"
    }
   ],
   "source": [
    "Resumen['count'].value_counts()"
   ]
  },
  {
   "cell_type": "code",
   "execution_count": 27,
   "id": "fa19f53b",
   "metadata": {},
   "outputs": [],
   "source": [
    "Resumen['sel']=np.where(Resumen['sel']=='nodoValido', np.where(Resumen['count']<7,'sinRegSuf','nodoValido'),Resumen['sel'])"
   ]
  },
  {
   "cell_type": "code",
   "execution_count": 28,
   "id": "328dd099",
   "metadata": {},
   "outputs": [
    {
     "data": {
      "text/plain": [
       "nodoValido         16264\n",
       "sinRegSuf           2201\n",
       "sinInfoReciente      147\n",
       "Name: sel, dtype: int64"
      ]
     },
     "execution_count": 28,
     "metadata": {},
     "output_type": "execute_result"
    }
   ],
   "source": [
    "Resumen['sel'].value_counts()"
   ]
  },
  {
   "cell_type": "code",
   "execution_count": 29,
   "id": "1f08ab58",
   "metadata": {
    "scrolled": true
   },
   "outputs": [
    {
     "data": {
      "image/png": "[encoded data removed]",
      "text/plain": [
       "<Figure size 432x288 with 1 Axes>"
      ]
     },
     "metadata": {},
     "output_type": "display_data"
    }
   ],
   "source": [
    "A = Resumen['sel'].value_counts()\n",
    "indices = A.index\n",
    "plt.pie(A, labels=indices, autopct=\"%0.1f %%\")\n",
    "plt.axis(\"equal\")\n",
    "plt.show()"
   ]
  },
  {
   "cell_type": "code",
   "execution_count": 30,
   "id": "c88cae66",
   "metadata": {},
   "outputs": [
    {
     "data": {
      "text/html": [
       "<div>\n",
       "<style scoped>\n",
       "    .dataframe tbody tr th:only-of-type {\n",
       "        vertical-align: middle;\n",
       "    }\n",
       "\n",
       "    .dataframe tbody tr th {\n",
       "        vertical-align: top;\n",
       "    }\n",
       "\n",
       "    .dataframe thead th {\n",
       "        text-align: right;\n",
       "    }\n",
       "</style>\n",
       "<table border=\"1\" class=\"dataframe\">\n",
       "  <thead>\n",
       "    <tr style=\"text-align: right;\">\n",
       "      <th></th>\n",
       "      <th>max</th>\n",
       "      <th>count</th>\n",
       "      <th>sel</th>\n",
       "    </tr>\n",
       "    <tr>\n",
       "      <th>Nodo</th>\n",
       "      <th></th>\n",
       "      <th></th>\n",
       "      <th></th>\n",
       "    </tr>\n",
       "  </thead>\n",
       "  <tbody>\n",
       "    <tr>\n",
       "      <th>01J</th>\n",
       "      <td>2021-09-01</td>\n",
       "      <td>9</td>\n",
       "      <td>nodoValido</td>\n",
       "    </tr>\n",
       "    <tr>\n",
       "      <th>01S</th>\n",
       "      <td>2021-09-01</td>\n",
       "      <td>21</td>\n",
       "      <td>nodoValido</td>\n",
       "    </tr>\n",
       "    <tr>\n",
       "      <th>02J</th>\n",
       "      <td>2021-09-01</td>\n",
       "      <td>9</td>\n",
       "      <td>nodoValido</td>\n",
       "    </tr>\n",
       "    <tr>\n",
       "      <th>02S</th>\n",
       "      <td>2021-09-01</td>\n",
       "      <td>21</td>\n",
       "      <td>nodoValido</td>\n",
       "    </tr>\n",
       "    <tr>\n",
       "      <th>03J</th>\n",
       "      <td>2021-09-01</td>\n",
       "      <td>9</td>\n",
       "      <td>nodoValido</td>\n",
       "    </tr>\n",
       "  </tbody>\n",
       "</table>\n",
       "</div>"
      ],
      "text/plain": [
       "            max  count         sel\n",
       "Nodo                              \n",
       "01J  2021-09-01      9  nodoValido\n",
       "01S  2021-09-01     21  nodoValido\n",
       "02J  2021-09-01      9  nodoValido\n",
       "02S  2021-09-01     21  nodoValido\n",
       "03J  2021-09-01      9  nodoValido"
      ]
     },
     "execution_count": 30,
     "metadata": {},
     "output_type": "execute_result"
    }
   ],
   "source": [
    "Resumen.head()"
   ]
  },
  {
   "cell_type": "code",
   "execution_count": 31,
   "id": "219bf681",
   "metadata": {},
   "outputs": [],
   "source": [
    "TablaFinal=TablaFinal.merge(Resumen['sel'], left_on='Nodo', right_index=True,how='left')"
   ]
  },
  {
   "cell_type": "code",
   "execution_count": 32,
   "id": "11a8a9e6",
   "metadata": {
    "scrolled": true
   },
   "outputs": [
    {
     "data": {
      "image/png": "[encoded data removed]",
      "text/plain": [
       "<Figure size 432x288 with 1 Axes>"
      ]
     },
     "metadata": {},
     "output_type": "display_data"
    }
   ],
   "source": [
    "A = TablaFinal['sel'].value_counts()\n",
    "indices = A.index\n",
    "plt.pie(A, labels=indices, autopct=\"%0.1f %%\")\n",
    "plt.axis(\"equal\")\n",
    "plt.show()"
   ]
  },
  {
   "cell_type": "code",
   "execution_count": 33,
   "id": "b5af81b7",
   "metadata": {},
   "outputs": [],
   "source": [
    "TablaFinal=TablaFinal[TablaFinal['sel']=='nodoValido']"
   ]
  },
  {
   "cell_type": "code",
   "execution_count": 75,
   "id": "bd021d02",
   "metadata": {},
   "outputs": [],
   "source": [
    "TablaTrain=TablaFinal[TablaFinal.index <= fechaTrain]\n",
    "TablaTest=TablaFinal[TablaFinal.index >= fechaTest]"
   ]
  },
  {
   "cell_type": "markdown",
   "id": "fc8e9e3c",
   "metadata": {},
   "source": [
    "### indices"
   ]
  },
  {
   "cell_type": "code",
   "execution_count": 76,
   "id": "e57c67fe",
   "metadata": {},
   "outputs": [
    {
     "data": {
      "text/plain": [
       "DatetimeIndex(['2021-07-01', '2021-08-01', '2021-09-01'], dtype='datetime64[ns]', name='FEC_MUESTRA', freq='MS')"
      ]
     },
     "execution_count": 76,
     "metadata": {},
     "output_type": "execute_result"
    }
   ],
   "source": [
    "#ind = pd.date_range(TablaFinal.index.max()+ relativedelta(months=1), periods = 4, freq ='M', name='FEC_MUESTRA')[1:]\n",
    "ind = pd.date_range(TablaTrain.index.max(), periods = 4, freq ='MS', name='FECHA')[1:]\n",
    "ind"
   ]
  },
  {
   "cell_type": "code",
   "execution_count": 77,
   "id": "20996a1c",
   "metadata": {},
   "outputs": [
    {
     "data": {
      "text/plain": [
       "Timestamp('2021-09-01 00:00:00')"
      ]
     },
     "execution_count": 77,
     "metadata": {},
     "output_type": "execute_result"
    }
   ],
   "source": [
    "TablaFinal.index.max()"
   ]
  },
  {
   "cell_type": "markdown",
   "id": "a69262ae",
   "metadata": {},
   "source": [
    "#### Predicciones"
   ]
  },
  {
   "cell_type": "code",
   "execution_count": 78,
   "id": "f7138ac5",
   "metadata": {},
   "outputs": [],
   "source": [
    "final = pd.DataFrame()\n",
    "finalErrores = {}\n",
    "grouped =TablaTrain[['Nodo','Value']].groupby('Nodo')\n",
    "groupedTest =TablaTest[['Nodo','Value']].groupby('Nodo')"
   ]
  },
  {
   "cell_type": "code",
   "execution_count": 94,
   "id": "1b422409",
   "metadata": {},
   "outputs": [],
   "source": [
    "metodos=['ARIMA','ES','HOLT','ES_ajTend']"
   ]
  },
  {
   "cell_type": "code",
   "execution_count": 96,
   "id": "fa502880",
   "metadata": {
    "scrolled": false
   },
   "outputs": [
    {
     "name": "stdout",
     "output_type": "stream",
     "text": [
      "0\n",
      "20\n"
     ]
    }
   ],
   "source": [
    "i=0\n",
    "for g in grouped.groups:\n",
    "    if i>=30:\n",
    "        continue\n",
    "    if i%10==0:\n",
    "        print(i)    \n",
    "    dicNodo={}    \n",
    "    group = grouped.get_group(g) \n",
    "    groupTest = groupedTest.get_group(g) \n",
    "    for metodo in metodos:\n",
    "        dicMetodo={}  \n",
    "        \n",
    "        if metodo== 'ARIMA':\n",
    "            model=auto_arima(group['Value'],trace=False)\n",
    "            model.fit(group['Value'])  \n",
    "            forecast=pd.DataFrame(model.predict(n_periods = 3),index=ind)\n",
    "        elif metodo== 'ES':\n",
    "            model = SimpleExpSmoothing(group['Value'])\n",
    "            #model.fit(smoothing_level=.5)\n",
    "            forecast=pd.DataFrame(model.fit(smoothing_level=.5).forecast(3),index=ind)\n",
    "        elif metodo== 'HOLT':\n",
    "            model = Holt(group['Value'])            \n",
    "            forecast=pd.DataFrame(model.fit(optimized=True).forecast(3),index=ind)\n",
    "        elif metodo== 'ES_ajTend':\n",
    "            model = ExponentialSmoothing(group['Value'],trend='add', seasonal=None, damped=True)\n",
    "            forecast=pd.DataFrame(model.fit().forecast(3),index=ind)\n",
    "        elif metodo=='ARIMAX'\n",
    "            #model=sm.tsa.statespace.SARIMAX(group['Value'],order=(1, 1, 1),seasonal_order=(1,1,1,12))\n",
    "            model=sm.tsa.statespace.SARIMAX(group['Value'],order=(1, 1, 1),exog=)\n",
    "            results=model.fit()\n",
    "        #print(g)\n",
    "        #print(forecast)\n",
    "        forecast.columns = ['pred']  \n",
    "        forecast['Nodo']=g\n",
    "        forecast['Metodo']=metodo\n",
    "        if i==0:\n",
    "            final=forecast\n",
    "        else:\n",
    "            final=final.append(forecast)      \n",
    "\n",
    "        # Errores\n",
    "        dicMetodo['RMSE']=mean_squared_error(groupTest['Value'],forecast['pred'], squared=False)\n",
    "        dicMetodo['MAPE']=mean_absolute_percentage_error(groupTest['Value'],forecast['pred'])    \n",
    "        dicNodo[metodo]=dicMetodo    \n",
    "        finalErrores[g]=dicNodo\n",
    "        \n",
    "        i=i+1\n",
    "   "
   ]
  },
  {
   "cell_type": "code",
   "execution_count": 97,
   "id": "72e6b54f",
   "metadata": {
    "scrolled": true
   },
   "outputs": [
    {
     "data": {
      "text/html": [
       "<div>\n",
       "<style scoped>\n",
       "    .dataframe tbody tr th:only-of-type {\n",
       "        vertical-align: middle;\n",
       "    }\n",
       "\n",
       "    .dataframe tbody tr th {\n",
       "        vertical-align: top;\n",
       "    }\n",
       "\n",
       "    .dataframe thead th {\n",
       "        text-align: right;\n",
       "    }\n",
       "</style>\n",
       "<table border=\"1\" class=\"dataframe\">\n",
       "  <thead>\n",
       "    <tr style=\"text-align: right;\">\n",
       "      <th></th>\n",
       "      <th>pred</th>\n",
       "      <th>Nodo</th>\n",
       "      <th>Metodo</th>\n",
       "    </tr>\n",
       "    <tr>\n",
       "      <th>FEC_MUESTRA</th>\n",
       "      <th></th>\n",
       "      <th></th>\n",
       "      <th></th>\n",
       "    </tr>\n",
       "  </thead>\n",
       "  <tbody>\n",
       "    <tr>\n",
       "      <th>2021-07-01</th>\n",
       "      <td>-2.289786</td>\n",
       "      <td>01J</td>\n",
       "      <td>ARIMA</td>\n",
       "    </tr>\n",
       "    <tr>\n",
       "      <th>2021-08-01</th>\n",
       "      <td>-1.927255</td>\n",
       "      <td>01J</td>\n",
       "      <td>ARIMA</td>\n",
       "    </tr>\n",
       "    <tr>\n",
       "      <th>2021-09-01</th>\n",
       "      <td>-1.211110</td>\n",
       "      <td>01J</td>\n",
       "      <td>ARIMA</td>\n",
       "    </tr>\n",
       "    <tr>\n",
       "      <th>2021-07-01</th>\n",
       "      <td>-1.251282</td>\n",
       "      <td>01J</td>\n",
       "      <td>ES</td>\n",
       "    </tr>\n",
       "    <tr>\n",
       "      <th>2021-08-01</th>\n",
       "      <td>-1.251282</td>\n",
       "      <td>01J</td>\n",
       "      <td>ES</td>\n",
       "    </tr>\n",
       "    <tr>\n",
       "      <th>...</th>\n",
       "      <td>...</td>\n",
       "      <td>...</td>\n",
       "      <td>...</td>\n",
       "    </tr>\n",
       "    <tr>\n",
       "      <th>2021-08-01</th>\n",
       "      <td>0.000001</td>\n",
       "      <td>06J</td>\n",
       "      <td>HOLT</td>\n",
       "    </tr>\n",
       "    <tr>\n",
       "      <th>2021-09-01</th>\n",
       "      <td>0.000002</td>\n",
       "      <td>06J</td>\n",
       "      <td>HOLT</td>\n",
       "    </tr>\n",
       "    <tr>\n",
       "      <th>2021-07-01</th>\n",
       "      <td>-0.338102</td>\n",
       "      <td>06J</td>\n",
       "      <td>ES_ajTend</td>\n",
       "    </tr>\n",
       "    <tr>\n",
       "      <th>2021-08-01</th>\n",
       "      <td>-0.608583</td>\n",
       "      <td>06J</td>\n",
       "      <td>ES_ajTend</td>\n",
       "    </tr>\n",
       "    <tr>\n",
       "      <th>2021-09-01</th>\n",
       "      <td>-0.824968</td>\n",
       "      <td>06J</td>\n",
       "      <td>ES_ajTend</td>\n",
       "    </tr>\n",
       "  </tbody>\n",
       "</table>\n",
       "<p>96 rows × 3 columns</p>\n",
       "</div>"
      ],
      "text/plain": [
       "                 pred Nodo     Metodo\n",
       "FEC_MUESTRA                          \n",
       "2021-07-01  -2.289786  01J      ARIMA\n",
       "2021-08-01  -1.927255  01J      ARIMA\n",
       "2021-09-01  -1.211110  01J      ARIMA\n",
       "2021-07-01  -1.251282  01J         ES\n",
       "2021-08-01  -1.251282  01J         ES\n",
       "...               ...  ...        ...\n",
       "2021-08-01   0.000001  06J       HOLT\n",
       "2021-09-01   0.000002  06J       HOLT\n",
       "2021-07-01  -0.338102  06J  ES_ajTend\n",
       "2021-08-01  -0.608583  06J  ES_ajTend\n",
       "2021-09-01  -0.824968  06J  ES_ajTend\n",
       "\n",
       "[96 rows x 3 columns]"
      ]
     },
     "execution_count": 97,
     "metadata": {},
     "output_type": "execute_result"
    }
   ],
   "source": [
    "final"
   ]
  },
  {
   "cell_type": "code",
   "execution_count": 144,
   "id": "a3b39f64",
   "metadata": {},
   "outputs": [
    {
     "data": {
      "text/html": [
       "<div>\n",
       "<style scoped>\n",
       "    .dataframe tbody tr th:only-of-type {\n",
       "        vertical-align: middle;\n",
       "    }\n",
       "\n",
       "    .dataframe tbody tr th {\n",
       "        vertical-align: top;\n",
       "    }\n",
       "\n",
       "    .dataframe thead th {\n",
       "        text-align: right;\n",
       "    }\n",
       "</style>\n",
       "<table border=\"1\" class=\"dataframe\">\n",
       "  <thead>\n",
       "    <tr style=\"text-align: right;\">\n",
       "      <th></th>\n",
       "      <th>pred</th>\n",
       "      <th>Nodo</th>\n",
       "      <th>Metodo</th>\n",
       "    </tr>\n",
       "    <tr>\n",
       "      <th>FEC_MUESTRA</th>\n",
       "      <th></th>\n",
       "      <th></th>\n",
       "      <th></th>\n",
       "    </tr>\n",
       "  </thead>\n",
       "  <tbody>\n",
       "  </tbody>\n",
       "</table>\n",
       "</div>"
      ],
      "text/plain": [
       "Empty DataFrame\n",
       "Columns: [pred, Nodo, Metodo]\n",
       "Index: []"
      ]
     },
     "execution_count": 144,
     "metadata": {},
     "output_type": "execute_result"
    }
   ],
   "source": [
    "final[final['pred'].isnull()]"
   ]
  },
  {
   "cell_type": "code",
   "execution_count": 145,
   "id": "1f87d8f4",
   "metadata": {},
   "outputs": [],
   "source": [
    "##### No tiene nullos"
   ]
  },
  {
   "cell_type": "markdown",
   "id": "71dde06d",
   "metadata": {},
   "source": [
    "## Visualizar Resultado Nodo"
   ]
  },
  {
   "cell_type": "code",
   "execution_count": 131,
   "id": "6164e413",
   "metadata": {},
   "outputs": [],
   "source": [
    "nodo='06J'"
   ]
  },
  {
   "cell_type": "code",
   "execution_count": 132,
   "id": "057576c8",
   "metadata": {},
   "outputs": [
    {
     "data": {
      "text/plain": [
       "{'ARIMA': {'RMSE': 2.362907813126305, 'MAPE': 8506799296144272.0},\n",
       " 'ES': {'RMSE': 1.3442902053229226, 'MAPE': 4878624651285841.0},\n",
       " 'HOLT': {'RMSE': 1.1547013197887268, 'MAPE': 4063567208.0051017},\n",
       " 'ES_ajTend': {'RMSE': 0.9541010323927027, 'MAPE': 1745999634506790.2}}"
      ]
     },
     "execution_count": 132,
     "metadata": {},
     "output_type": "execute_result"
    }
   ],
   "source": [
    "finalErrores[nodo]"
   ]
  },
  {
   "cell_type": "code",
   "execution_count": 133,
   "id": "d09f6ec5",
   "metadata": {},
   "outputs": [],
   "source": [
    "dfNodo_real=TablaFinal[TablaFinal['Nodo']==nodo][['Value']]"
   ]
  },
  {
   "cell_type": "code",
   "execution_count": 134,
   "id": "0643439a",
   "metadata": {
    "collapsed": true
   },
   "outputs": [
    {
     "data": {
      "text/html": [
       "<div>\n",
       "<style scoped>\n",
       "    .dataframe tbody tr th:only-of-type {\n",
       "        vertical-align: middle;\n",
       "    }\n",
       "\n",
       "    .dataframe tbody tr th {\n",
       "        vertical-align: top;\n",
       "    }\n",
       "\n",
       "    .dataframe thead th {\n",
       "        text-align: right;\n",
       "    }\n",
       "</style>\n",
       "<table border=\"1\" class=\"dataframe\">\n",
       "  <thead>\n",
       "    <tr style=\"text-align: right;\">\n",
       "      <th></th>\n",
       "      <th>Value</th>\n",
       "    </tr>\n",
       "    <tr>\n",
       "      <th>fecha2</th>\n",
       "      <th></th>\n",
       "    </tr>\n",
       "  </thead>\n",
       "  <tbody>\n",
       "    <tr>\n",
       "      <th>2021-01-01</th>\n",
       "      <td>0.000</td>\n",
       "    </tr>\n",
       "    <tr>\n",
       "      <th>2021-02-01</th>\n",
       "      <td>-3.000</td>\n",
       "    </tr>\n",
       "    <tr>\n",
       "      <th>2021-03-01</th>\n",
       "      <td>-6.000</td>\n",
       "    </tr>\n",
       "    <tr>\n",
       "      <th>2021-04-01</th>\n",
       "      <td>-7.000</td>\n",
       "    </tr>\n",
       "    <tr>\n",
       "      <th>2021-05-01</th>\n",
       "      <td>-1.000</td>\n",
       "    </tr>\n",
       "    <tr>\n",
       "      <th>2021-06-01</th>\n",
       "      <td>0.000</td>\n",
       "    </tr>\n",
       "    <tr>\n",
       "      <th>2021-07-01</th>\n",
       "      <td>0.000</td>\n",
       "    </tr>\n",
       "    <tr>\n",
       "      <th>2021-08-01</th>\n",
       "      <td>-2.000</td>\n",
       "    </tr>\n",
       "    <tr>\n",
       "      <th>2021-09-01</th>\n",
       "      <td>0.000</td>\n",
       "    </tr>\n",
       "  </tbody>\n",
       "</table>\n",
       "</div>"
      ],
      "text/plain": [
       "            Value\n",
       "fecha2           \n",
       "2021-01-01  0.000\n",
       "2021-02-01 -3.000\n",
       "2021-03-01 -6.000\n",
       "2021-04-01 -7.000\n",
       "2021-05-01 -1.000\n",
       "2021-06-01  0.000\n",
       "2021-07-01  0.000\n",
       "2021-08-01 -2.000\n",
       "2021-09-01  0.000"
      ]
     },
     "execution_count": 134,
     "metadata": {},
     "output_type": "execute_result"
    }
   ],
   "source": [
    "dfNodo_real"
   ]
  },
  {
   "cell_type": "code",
   "execution_count": 135,
   "id": "84e2e660",
   "metadata": {
    "scrolled": false
   },
   "outputs": [],
   "source": [
    "dfNodo=final[final['Nodo']==nodo]"
   ]
  },
  {
   "cell_type": "code",
   "execution_count": 136,
   "id": "4f7f5b9f",
   "metadata": {},
   "outputs": [
    {
     "data": {
      "text/html": [
       "<div>\n",
       "<style scoped>\n",
       "    .dataframe tbody tr th:only-of-type {\n",
       "        vertical-align: middle;\n",
       "    }\n",
       "\n",
       "    .dataframe tbody tr th {\n",
       "        vertical-align: top;\n",
       "    }\n",
       "\n",
       "    .dataframe thead th {\n",
       "        text-align: right;\n",
       "    }\n",
       "</style>\n",
       "<table border=\"1\" class=\"dataframe\">\n",
       "  <thead>\n",
       "    <tr style=\"text-align: right;\">\n",
       "      <th></th>\n",
       "      <th>pred</th>\n",
       "      <th>Nodo</th>\n",
       "      <th>Metodo</th>\n",
       "    </tr>\n",
       "    <tr>\n",
       "      <th>FEC_MUESTRA</th>\n",
       "      <th></th>\n",
       "      <th></th>\n",
       "      <th></th>\n",
       "    </tr>\n",
       "  </thead>\n",
       "  <tbody>\n",
       "    <tr>\n",
       "      <th>2021-07-01</th>\n",
       "      <td>-2.833</td>\n",
       "      <td>06J</td>\n",
       "      <td>ARIMA</td>\n",
       "    </tr>\n",
       "    <tr>\n",
       "      <th>2021-08-01</th>\n",
       "      <td>-2.833</td>\n",
       "      <td>06J</td>\n",
       "      <td>ARIMA</td>\n",
       "    </tr>\n",
       "    <tr>\n",
       "      <th>2021-09-01</th>\n",
       "      <td>-2.833</td>\n",
       "      <td>06J</td>\n",
       "      <td>ARIMA</td>\n",
       "    </tr>\n",
       "    <tr>\n",
       "      <th>2021-07-01</th>\n",
       "      <td>-1.625</td>\n",
       "      <td>06J</td>\n",
       "      <td>ES</td>\n",
       "    </tr>\n",
       "    <tr>\n",
       "      <th>2021-08-01</th>\n",
       "      <td>-1.625</td>\n",
       "      <td>06J</td>\n",
       "      <td>ES</td>\n",
       "    </tr>\n",
       "    <tr>\n",
       "      <th>2021-09-01</th>\n",
       "      <td>-1.625</td>\n",
       "      <td>06J</td>\n",
       "      <td>ES</td>\n",
       "    </tr>\n",
       "    <tr>\n",
       "      <th>2021-07-01</th>\n",
       "      <td>0.000</td>\n",
       "      <td>06J</td>\n",
       "      <td>HOLT</td>\n",
       "    </tr>\n",
       "    <tr>\n",
       "      <th>2021-08-01</th>\n",
       "      <td>0.000</td>\n",
       "      <td>06J</td>\n",
       "      <td>HOLT</td>\n",
       "    </tr>\n",
       "    <tr>\n",
       "      <th>2021-09-01</th>\n",
       "      <td>0.000</td>\n",
       "      <td>06J</td>\n",
       "      <td>HOLT</td>\n",
       "    </tr>\n",
       "    <tr>\n",
       "      <th>2021-07-01</th>\n",
       "      <td>-0.338</td>\n",
       "      <td>06J</td>\n",
       "      <td>ES_ajTend</td>\n",
       "    </tr>\n",
       "    <tr>\n",
       "      <th>2021-08-01</th>\n",
       "      <td>-0.609</td>\n",
       "      <td>06J</td>\n",
       "      <td>ES_ajTend</td>\n",
       "    </tr>\n",
       "    <tr>\n",
       "      <th>2021-09-01</th>\n",
       "      <td>-0.825</td>\n",
       "      <td>06J</td>\n",
       "      <td>ES_ajTend</td>\n",
       "    </tr>\n",
       "  </tbody>\n",
       "</table>\n",
       "</div>"
      ],
      "text/plain": [
       "              pred Nodo     Metodo\n",
       "FEC_MUESTRA                       \n",
       "2021-07-01  -2.833  06J      ARIMA\n",
       "2021-08-01  -2.833  06J      ARIMA\n",
       "2021-09-01  -2.833  06J      ARIMA\n",
       "2021-07-01  -1.625  06J         ES\n",
       "2021-08-01  -1.625  06J         ES\n",
       "2021-09-01  -1.625  06J         ES\n",
       "2021-07-01   0.000  06J       HOLT\n",
       "2021-08-01   0.000  06J       HOLT\n",
       "2021-09-01   0.000  06J       HOLT\n",
       "2021-07-01  -0.338  06J  ES_ajTend\n",
       "2021-08-01  -0.609  06J  ES_ajTend\n",
       "2021-09-01  -0.825  06J  ES_ajTend"
      ]
     },
     "execution_count": 136,
     "metadata": {},
     "output_type": "execute_result"
    }
   ],
   "source": [
    "dfNodo"
   ]
  },
  {
   "cell_type": "code",
   "execution_count": 137,
   "id": "da44ed3a",
   "metadata": {},
   "outputs": [],
   "source": [
    "dfNodo= pd.pivot_table(dfNodo.reset_index(), index='FEC_MUESTRA', columns='Metodo', values='pred')"
   ]
  },
  {
   "cell_type": "code",
   "execution_count": 138,
   "id": "c97885dd",
   "metadata": {},
   "outputs": [
    {
     "data": {
      "text/html": [
       "<div>\n",
       "<style scoped>\n",
       "    .dataframe tbody tr th:only-of-type {\n",
       "        vertical-align: middle;\n",
       "    }\n",
       "\n",
       "    .dataframe tbody tr th {\n",
       "        vertical-align: top;\n",
       "    }\n",
       "\n",
       "    .dataframe thead th {\n",
       "        text-align: right;\n",
       "    }\n",
       "</style>\n",
       "<table border=\"1\" class=\"dataframe\">\n",
       "  <thead>\n",
       "    <tr style=\"text-align: right;\">\n",
       "      <th>Metodo</th>\n",
       "      <th>ARIMA</th>\n",
       "      <th>ES</th>\n",
       "      <th>ES_ajTend</th>\n",
       "      <th>HOLT</th>\n",
       "    </tr>\n",
       "    <tr>\n",
       "      <th>FEC_MUESTRA</th>\n",
       "      <th></th>\n",
       "      <th></th>\n",
       "      <th></th>\n",
       "      <th></th>\n",
       "    </tr>\n",
       "  </thead>\n",
       "  <tbody>\n",
       "    <tr>\n",
       "      <th>2021-07-01</th>\n",
       "      <td>-2.833</td>\n",
       "      <td>-1.625</td>\n",
       "      <td>-0.338</td>\n",
       "      <td>0.000</td>\n",
       "    </tr>\n",
       "    <tr>\n",
       "      <th>2021-08-01</th>\n",
       "      <td>-2.833</td>\n",
       "      <td>-1.625</td>\n",
       "      <td>-0.609</td>\n",
       "      <td>0.000</td>\n",
       "    </tr>\n",
       "    <tr>\n",
       "      <th>2021-09-01</th>\n",
       "      <td>-2.833</td>\n",
       "      <td>-1.625</td>\n",
       "      <td>-0.825</td>\n",
       "      <td>0.000</td>\n",
       "    </tr>\n",
       "  </tbody>\n",
       "</table>\n",
       "</div>"
      ],
      "text/plain": [
       "Metodo       ARIMA     ES  ES_ajTend  HOLT\n",
       "FEC_MUESTRA                               \n",
       "2021-07-01  -2.833 -1.625     -0.338 0.000\n",
       "2021-08-01  -2.833 -1.625     -0.609 0.000\n",
       "2021-09-01  -2.833 -1.625     -0.825 0.000"
      ]
     },
     "execution_count": 138,
     "metadata": {},
     "output_type": "execute_result"
    }
   ],
   "source": [
    "dfNodo"
   ]
  },
  {
   "cell_type": "code",
   "execution_count": 139,
   "id": "6df8eb99",
   "metadata": {},
   "outputs": [
    {
     "data": {
      "text/html": [
       "<div>\n",
       "<style scoped>\n",
       "    .dataframe tbody tr th:only-of-type {\n",
       "        vertical-align: middle;\n",
       "    }\n",
       "\n",
       "    .dataframe tbody tr th {\n",
       "        vertical-align: top;\n",
       "    }\n",
       "\n",
       "    .dataframe thead th {\n",
       "        text-align: right;\n",
       "    }\n",
       "</style>\n",
       "<table border=\"1\" class=\"dataframe\">\n",
       "  <thead>\n",
       "    <tr style=\"text-align: right;\">\n",
       "      <th></th>\n",
       "      <th>Value</th>\n",
       "      <th>ARIMA</th>\n",
       "      <th>ES</th>\n",
       "      <th>ES_ajTend</th>\n",
       "      <th>HOLT</th>\n",
       "    </tr>\n",
       "    <tr>\n",
       "      <th>fecha2</th>\n",
       "      <th></th>\n",
       "      <th></th>\n",
       "      <th></th>\n",
       "      <th></th>\n",
       "      <th></th>\n",
       "    </tr>\n",
       "  </thead>\n",
       "  <tbody>\n",
       "    <tr>\n",
       "      <th>2021-01-01</th>\n",
       "      <td>0.000</td>\n",
       "      <td>NaN</td>\n",
       "      <td>NaN</td>\n",
       "      <td>NaN</td>\n",
       "      <td>NaN</td>\n",
       "    </tr>\n",
       "    <tr>\n",
       "      <th>2021-02-01</th>\n",
       "      <td>-3.000</td>\n",
       "      <td>NaN</td>\n",
       "      <td>NaN</td>\n",
       "      <td>NaN</td>\n",
       "      <td>NaN</td>\n",
       "    </tr>\n",
       "    <tr>\n",
       "      <th>2021-03-01</th>\n",
       "      <td>-6.000</td>\n",
       "      <td>NaN</td>\n",
       "      <td>NaN</td>\n",
       "      <td>NaN</td>\n",
       "      <td>NaN</td>\n",
       "    </tr>\n",
       "    <tr>\n",
       "      <th>2021-04-01</th>\n",
       "      <td>-7.000</td>\n",
       "      <td>NaN</td>\n",
       "      <td>NaN</td>\n",
       "      <td>NaN</td>\n",
       "      <td>NaN</td>\n",
       "    </tr>\n",
       "    <tr>\n",
       "      <th>2021-05-01</th>\n",
       "      <td>-1.000</td>\n",
       "      <td>NaN</td>\n",
       "      <td>NaN</td>\n",
       "      <td>NaN</td>\n",
       "      <td>NaN</td>\n",
       "    </tr>\n",
       "    <tr>\n",
       "      <th>2021-06-01</th>\n",
       "      <td>0.000</td>\n",
       "      <td>NaN</td>\n",
       "      <td>NaN</td>\n",
       "      <td>NaN</td>\n",
       "      <td>NaN</td>\n",
       "    </tr>\n",
       "    <tr>\n",
       "      <th>2021-07-01</th>\n",
       "      <td>0.000</td>\n",
       "      <td>-2.833</td>\n",
       "      <td>-1.625</td>\n",
       "      <td>-0.338</td>\n",
       "      <td>0.000</td>\n",
       "    </tr>\n",
       "    <tr>\n",
       "      <th>2021-08-01</th>\n",
       "      <td>-2.000</td>\n",
       "      <td>-2.833</td>\n",
       "      <td>-1.625</td>\n",
       "      <td>-0.609</td>\n",
       "      <td>0.000</td>\n",
       "    </tr>\n",
       "    <tr>\n",
       "      <th>2021-09-01</th>\n",
       "      <td>0.000</td>\n",
       "      <td>-2.833</td>\n",
       "      <td>-1.625</td>\n",
       "      <td>-0.825</td>\n",
       "      <td>0.000</td>\n",
       "    </tr>\n",
       "  </tbody>\n",
       "</table>\n",
       "</div>"
      ],
      "text/plain": [
       "            Value  ARIMA     ES  ES_ajTend  HOLT\n",
       "fecha2                                          \n",
       "2021-01-01  0.000    NaN    NaN        NaN   NaN\n",
       "2021-02-01 -3.000    NaN    NaN        NaN   NaN\n",
       "2021-03-01 -6.000    NaN    NaN        NaN   NaN\n",
       "2021-04-01 -7.000    NaN    NaN        NaN   NaN\n",
       "2021-05-01 -1.000    NaN    NaN        NaN   NaN\n",
       "2021-06-01  0.000    NaN    NaN        NaN   NaN\n",
       "2021-07-01  0.000 -2.833 -1.625     -0.338 0.000\n",
       "2021-08-01 -2.000 -2.833 -1.625     -0.609 0.000\n",
       "2021-09-01  0.000 -2.833 -1.625     -0.825 0.000"
      ]
     },
     "execution_count": 139,
     "metadata": {},
     "output_type": "execute_result"
    }
   ],
   "source": [
    "dfNodo_real.merge(dfNodo,left_index=True, right_index=True, how='left')"
   ]
  },
  {
   "cell_type": "code",
   "execution_count": 140,
   "id": "ba09f08c",
   "metadata": {},
   "outputs": [
    {
     "data": {
      "text/plain": [
       "<AxesSubplot:xlabel='fecha2'>"
      ]
     },
     "execution_count": 140,
     "metadata": {},
     "output_type": "execute_result"
    },
    {
     "data": {
      "image/png": "[encoded data removed]",
      "text/plain": [
       "<Figure size 432x288 with 1 Axes>"
      ]
     },
     "metadata": {
      "needs_background": "light"
     },
     "output_type": "display_data"
    }
   ],
   "source": [
    "dfNodo_real.merge(dfNodo,left_index=True, right_index=True, how='left').plot()"
   ]
  },
  {
   "cell_type": "code",
   "execution_count": null,
   "id": "06f8fcb4",
   "metadata": {},
   "outputs": [],
   "source": [
    "##  revisar nodos en nan"
   ]
  }
 ],
 "metadata": {
  "kernelspec": {
   "display_name": "Python 3",
   "language": "python",
   "name": "python3"
  },
  "language_info": {
   "codemirror_mode": {
    "name": "ipython",
    "version": 3
   },
   "file_extension": ".py",
   "mimetype": "text/x-python",
   "name": "python",
   "nbconvert_exporter": "python",
   "pygments_lexer": "ipython3",
   "version": "3.9.0"
  }
 },
 "nbformat": 4,
 "nbformat_minor": 5
}
